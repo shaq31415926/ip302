{
 "cells": [
  {
   "cell_type": "code",
   "execution_count": 1,
   "id": "76af832e",
   "metadata": {},
   "outputs": [],
   "source": [
    "import pandas as pd\n",
    "import numpy as np\n",
    "\n",
    "import seaborn as sns\n",
    "import matplotlib.pyplot as plt\n",
    "\n",
    "from sklearn.preprocessing import StandardScaler\n",
    "from sklearn.model_selection import train_test_split\n",
    "from sklearn.linear_model import LinearRegression\n",
    "from sklearn.metrics import r2_score, mean_absolute_error, mean_squared_error"
   ]
  },
  {
   "cell_type": "markdown",
   "id": "b0a0df71",
   "metadata": {},
   "source": [
    "### Examining the Data"
   ]
  },
  {
   "cell_type": "code",
   "execution_count": 2,
   "id": "4043752c",
   "metadata": {},
   "outputs": [],
   "source": [
    "# Let's start with reading the data \n",
    "\n",
    "users_data = pd.read_pickle(\"../data/users_data_final.pkl\")"
   ]
  },
  {
   "cell_type": "code",
   "execution_count": 3,
   "id": "10e4ad51",
   "metadata": {},
   "outputs": [
    {
     "data": {
      "text/html": [
       "<div>\n",
       "<style scoped>\n",
       "    .dataframe tbody tr th:only-of-type {\n",
       "        vertical-align: middle;\n",
       "    }\n",
       "\n",
       "    .dataframe tbody tr th {\n",
       "        vertical-align: top;\n",
       "    }\n",
       "\n",
       "    .dataframe thead th {\n",
       "        text-align: right;\n",
       "    }\n",
       "</style>\n",
       "<table border=\"1\" class=\"dataframe\">\n",
       "  <thead>\n",
       "    <tr style=\"text-align: right;\">\n",
       "      <th></th>\n",
       "      <th>user_id</th>\n",
       "      <th>number_transactions</th>\n",
       "      <th>total_amount_usd</th>\n",
       "      <th>age</th>\n",
       "      <th>job</th>\n",
       "      <th>marital</th>\n",
       "      <th>education</th>\n",
       "      <th>default</th>\n",
       "      <th>housing</th>\n",
       "      <th>loan</th>\n",
       "      <th>contact</th>\n",
       "      <th>duration</th>\n",
       "      <th>campaign</th>\n",
       "      <th>pdays</th>\n",
       "      <th>previous</th>\n",
       "      <th>poutcome</th>\n",
       "      <th>term_deposit</th>\n",
       "      <th>date_joined</th>\n",
       "      <th>device</th>\n",
       "    </tr>\n",
       "  </thead>\n",
       "  <tbody>\n",
       "    <tr>\n",
       "      <th>0</th>\n",
       "      <td>9231c446-cb16-4b2b-a7f7-ddfc8b25aaf6</td>\n",
       "      <td>3.0</td>\n",
       "      <td>2143.0</td>\n",
       "      <td>58</td>\n",
       "      <td>management</td>\n",
       "      <td>married</td>\n",
       "      <td>tertiary</td>\n",
       "      <td>False</td>\n",
       "      <td>True</td>\n",
       "      <td>False</td>\n",
       "      <td>None</td>\n",
       "      <td>261</td>\n",
       "      <td>1</td>\n",
       "      <td>-1</td>\n",
       "      <td>0</td>\n",
       "      <td>None</td>\n",
       "      <td>False</td>\n",
       "      <td>1998-08-23</td>\n",
       "      <td>mobile</td>\n",
       "    </tr>\n",
       "    <tr>\n",
       "      <th>1</th>\n",
       "      <td>bb92765a-08de-4963-b432-496524b39157</td>\n",
       "      <td>NaN</td>\n",
       "      <td>NaN</td>\n",
       "      <td>44</td>\n",
       "      <td>technician</td>\n",
       "      <td>single</td>\n",
       "      <td>secondary</td>\n",
       "      <td>False</td>\n",
       "      <td>True</td>\n",
       "      <td>False</td>\n",
       "      <td>None</td>\n",
       "      <td>151</td>\n",
       "      <td>1</td>\n",
       "      <td>-1</td>\n",
       "      <td>0</td>\n",
       "      <td>None</td>\n",
       "      <td>False</td>\n",
       "      <td>2008-07-15</td>\n",
       "      <td>desktop</td>\n",
       "    </tr>\n",
       "    <tr>\n",
       "      <th>2</th>\n",
       "      <td>573de577-49ef-42b9-83da-d3cfb817b5c1</td>\n",
       "      <td>2.0</td>\n",
       "      <td>2.0</td>\n",
       "      <td>33</td>\n",
       "      <td>entrepreneur</td>\n",
       "      <td>married</td>\n",
       "      <td>secondary</td>\n",
       "      <td>False</td>\n",
       "      <td>True</td>\n",
       "      <td>True</td>\n",
       "      <td>None</td>\n",
       "      <td>76</td>\n",
       "      <td>1</td>\n",
       "      <td>-1</td>\n",
       "      <td>0</td>\n",
       "      <td>None</td>\n",
       "      <td>False</td>\n",
       "      <td>2002-06-04</td>\n",
       "      <td>mobile</td>\n",
       "    </tr>\n",
       "  </tbody>\n",
       "</table>\n",
       "</div>"
      ],
      "text/plain": [
       "                                user_id  number_transactions  \\\n",
       "0  9231c446-cb16-4b2b-a7f7-ddfc8b25aaf6                  3.0   \n",
       "1  bb92765a-08de-4963-b432-496524b39157                  NaN   \n",
       "2  573de577-49ef-42b9-83da-d3cfb817b5c1                  2.0   \n",
       "\n",
       "   total_amount_usd  age           job  marital  education  default  housing  \\\n",
       "0            2143.0   58    management  married   tertiary    False     True   \n",
       "1               NaN   44    technician   single  secondary    False     True   \n",
       "2               2.0   33  entrepreneur  married  secondary    False     True   \n",
       "\n",
       "    loan contact  duration  campaign  pdays  previous poutcome  term_deposit  \\\n",
       "0  False    None       261         1     -1         0     None         False   \n",
       "1  False    None       151         1     -1         0     None         False   \n",
       "2   True    None        76         1     -1         0     None         False   \n",
       "\n",
       "  date_joined   device  \n",
       "0  1998-08-23   mobile  \n",
       "1  2008-07-15  desktop  \n",
       "2  2002-06-04   mobile  "
      ]
     },
     "execution_count": 3,
     "metadata": {},
     "output_type": "execute_result"
    }
   ],
   "source": [
    "# look at a preview of the data\n",
    "\n",
    "users_data.head(n = 3)"
   ]
  },
  {
   "cell_type": "code",
   "execution_count": 4,
   "id": "e5433956",
   "metadata": {},
   "outputs": [
    {
     "data": {
      "text/plain": [
       "(45209, 19)"
      ]
     },
     "execution_count": 4,
     "metadata": {},
     "output_type": "execute_result"
    }
   ],
   "source": [
    "# look at the shape of the data (rows, columns)\n",
    "\n",
    "users_data.shape"
   ]
  },
  {
   "cell_type": "code",
   "execution_count": 5,
   "id": "54ee5951",
   "metadata": {},
   "outputs": [
    {
     "name": "stdout",
     "output_type": "stream",
     "text": [
      "<class 'pandas.core.frame.DataFrame'>\n",
      "Int64Index: 45209 entries, 0 to 45215\n",
      "Data columns (total 19 columns):\n",
      " #   Column               Non-Null Count  Dtype         \n",
      "---  ------               --------------  -----         \n",
      " 0   user_id              45209 non-null  object        \n",
      " 1   number_transactions  35210 non-null  float64       \n",
      " 2   total_amount_usd     35210 non-null  float64       \n",
      " 3   age                  45209 non-null  int64         \n",
      " 4   job                  44921 non-null  object        \n",
      " 5   marital              45209 non-null  object        \n",
      " 6   education            43352 non-null  object        \n",
      " 7   default              45209 non-null  bool          \n",
      " 8   housing              45209 non-null  bool          \n",
      " 9   loan                 45209 non-null  bool          \n",
      " 10  contact              32191 non-null  object        \n",
      " 11  duration             45209 non-null  int64         \n",
      " 12  campaign             45209 non-null  int64         \n",
      " 13  pdays                45209 non-null  int64         \n",
      " 14  previous             45209 non-null  int64         \n",
      " 15  poutcome             8252 non-null   object        \n",
      " 16  term_deposit         45209 non-null  bool          \n",
      " 17  date_joined          45179 non-null  datetime64[ns]\n",
      " 18  device               45115 non-null  object        \n",
      "dtypes: bool(4), datetime64[ns](1), float64(2), int64(5), object(7)\n",
      "memory usage: 5.7+ MB\n"
     ]
    }
   ],
   "source": [
    "users_data.info()"
   ]
  },
  {
   "cell_type": "markdown",
   "id": "1bc778b1",
   "metadata": {},
   "source": [
    "### Feature Engineering: Handling Missing Data"
   ]
  },
  {
   "cell_type": "code",
   "execution_count": 6,
   "id": "5841efc1",
   "metadata": {},
   "outputs": [],
   "source": [
    "# identify missing values\n",
    "\n",
    "def identify_missing_data(df):\n",
    "    \"\"\"\n",
    "    This function is used to identify missing data\n",
    "    \n",
    "    @param df pandas DataFrame\n",
    "    \n",
    "    @return a DataFrame with the percentage of missing data for every feature and the data types\n",
    "    \"\"\"\n",
    "    \n",
    "    percent_missing = df.isnull().mean()\n",
    "    \n",
    "    missing_value_df = pd.DataFrame(percent_missing).reset_index() # convert to DataFrame\n",
    "    missing_value_df = missing_value_df.rename(columns = {\"index\" : \"feature\",\n",
    "                                                                0 : \"percent_missing\"}) # rename columns\n",
    "\n",
    "    missing_value_df = missing_value_df.sort_values(by = ['percent_missing'], ascending = False) # sort the values\n",
    "    \n",
    "    data_types_df = pd.DataFrame(df.dtypes).reset_index().rename(columns = {\"index\" : \"feature\",\n",
    "                                                                0 : \"data_type\"}) # rename columns\n",
    "    \n",
    "    missing_value_df = missing_value_df.merge(data_types_df, on = \"feature\") # join the dataframe with datatype\n",
    "    \n",
    "    missing_value_df.percent_missing = round(missing_value_df.percent_missing*100, 2) # format the percent_missing\n",
    "    \n",
    "    return missing_value_df\n",
    "\n"
   ]
  },
  {
   "cell_type": "code",
   "execution_count": 7,
   "id": "462a78a7",
   "metadata": {},
   "outputs": [
    {
     "data": {
      "text/html": [
       "<div>\n",
       "<style scoped>\n",
       "    .dataframe tbody tr th:only-of-type {\n",
       "        vertical-align: middle;\n",
       "    }\n",
       "\n",
       "    .dataframe tbody tr th {\n",
       "        vertical-align: top;\n",
       "    }\n",
       "\n",
       "    .dataframe thead th {\n",
       "        text-align: right;\n",
       "    }\n",
       "</style>\n",
       "<table border=\"1\" class=\"dataframe\">\n",
       "  <thead>\n",
       "    <tr style=\"text-align: right;\">\n",
       "      <th></th>\n",
       "      <th>feature</th>\n",
       "      <th>percent_missing</th>\n",
       "      <th>data_type</th>\n",
       "    </tr>\n",
       "  </thead>\n",
       "  <tbody>\n",
       "    <tr>\n",
       "      <th>0</th>\n",
       "      <td>poutcome</td>\n",
       "      <td>81.75</td>\n",
       "      <td>object</td>\n",
       "    </tr>\n",
       "    <tr>\n",
       "      <th>1</th>\n",
       "      <td>contact</td>\n",
       "      <td>28.80</td>\n",
       "      <td>object</td>\n",
       "    </tr>\n",
       "    <tr>\n",
       "      <th>2</th>\n",
       "      <td>total_amount_usd</td>\n",
       "      <td>22.12</td>\n",
       "      <td>float64</td>\n",
       "    </tr>\n",
       "    <tr>\n",
       "      <th>3</th>\n",
       "      <td>number_transactions</td>\n",
       "      <td>22.12</td>\n",
       "      <td>float64</td>\n",
       "    </tr>\n",
       "    <tr>\n",
       "      <th>4</th>\n",
       "      <td>education</td>\n",
       "      <td>4.11</td>\n",
       "      <td>object</td>\n",
       "    </tr>\n",
       "    <tr>\n",
       "      <th>5</th>\n",
       "      <td>job</td>\n",
       "      <td>0.64</td>\n",
       "      <td>object</td>\n",
       "    </tr>\n",
       "    <tr>\n",
       "      <th>6</th>\n",
       "      <td>device</td>\n",
       "      <td>0.21</td>\n",
       "      <td>object</td>\n",
       "    </tr>\n",
       "    <tr>\n",
       "      <th>7</th>\n",
       "      <td>date_joined</td>\n",
       "      <td>0.07</td>\n",
       "      <td>datetime64[ns]</td>\n",
       "    </tr>\n",
       "    <tr>\n",
       "      <th>8</th>\n",
       "      <td>campaign</td>\n",
       "      <td>0.00</td>\n",
       "      <td>int64</td>\n",
       "    </tr>\n",
       "    <tr>\n",
       "      <th>9</th>\n",
       "      <td>term_deposit</td>\n",
       "      <td>0.00</td>\n",
       "      <td>bool</td>\n",
       "    </tr>\n",
       "    <tr>\n",
       "      <th>10</th>\n",
       "      <td>previous</td>\n",
       "      <td>0.00</td>\n",
       "      <td>int64</td>\n",
       "    </tr>\n",
       "    <tr>\n",
       "      <th>11</th>\n",
       "      <td>pdays</td>\n",
       "      <td>0.00</td>\n",
       "      <td>int64</td>\n",
       "    </tr>\n",
       "    <tr>\n",
       "      <th>12</th>\n",
       "      <td>user_id</td>\n",
       "      <td>0.00</td>\n",
       "      <td>object</td>\n",
       "    </tr>\n",
       "    <tr>\n",
       "      <th>13</th>\n",
       "      <td>duration</td>\n",
       "      <td>0.00</td>\n",
       "      <td>int64</td>\n",
       "    </tr>\n",
       "    <tr>\n",
       "      <th>14</th>\n",
       "      <td>housing</td>\n",
       "      <td>0.00</td>\n",
       "      <td>bool</td>\n",
       "    </tr>\n",
       "    <tr>\n",
       "      <th>15</th>\n",
       "      <td>default</td>\n",
       "      <td>0.00</td>\n",
       "      <td>bool</td>\n",
       "    </tr>\n",
       "    <tr>\n",
       "      <th>16</th>\n",
       "      <td>marital</td>\n",
       "      <td>0.00</td>\n",
       "      <td>object</td>\n",
       "    </tr>\n",
       "    <tr>\n",
       "      <th>17</th>\n",
       "      <td>age</td>\n",
       "      <td>0.00</td>\n",
       "      <td>int64</td>\n",
       "    </tr>\n",
       "    <tr>\n",
       "      <th>18</th>\n",
       "      <td>loan</td>\n",
       "      <td>0.00</td>\n",
       "      <td>bool</td>\n",
       "    </tr>\n",
       "  </tbody>\n",
       "</table>\n",
       "</div>"
      ],
      "text/plain": [
       "                feature  percent_missing       data_type\n",
       "0              poutcome            81.75          object\n",
       "1               contact            28.80          object\n",
       "2      total_amount_usd            22.12         float64\n",
       "3   number_transactions            22.12         float64\n",
       "4             education             4.11          object\n",
       "5                   job             0.64          object\n",
       "6                device             0.21          object\n",
       "7           date_joined             0.07  datetime64[ns]\n",
       "8              campaign             0.00           int64\n",
       "9          term_deposit             0.00            bool\n",
       "10             previous             0.00           int64\n",
       "11                pdays             0.00           int64\n",
       "12              user_id             0.00          object\n",
       "13             duration             0.00           int64\n",
       "14              housing             0.00            bool\n",
       "15              default             0.00            bool\n",
       "16              marital             0.00          object\n",
       "17                  age             0.00           int64\n",
       "18                 loan             0.00            bool"
      ]
     },
     "execution_count": 7,
     "metadata": {},
     "output_type": "execute_result"
    }
   ],
   "source": [
    "missing_value_df = identify_missing_data(users_data)\n",
    "missing_value_df"
   ]
  },
  {
   "cell_type": "code",
   "execution_count": 8,
   "id": "b96721b7",
   "metadata": {},
   "outputs": [
    {
     "data": {
      "text/plain": [
       "['poutcome']"
      ]
     },
     "execution_count": 8,
     "metadata": {},
     "output_type": "execute_result"
    }
   ],
   "source": [
    "# identify variables that have more than a threshold amount of missing data\n",
    "\n",
    "threshold = 40\n",
    "\n",
    "feature_to_drop = list(missing_value_df[missing_value_df.percent_missing > threshold].feature)\n",
    "feature_to_drop"
   ]
  },
  {
   "cell_type": "code",
   "execution_count": 9,
   "id": "59dff231",
   "metadata": {},
   "outputs": [],
   "source": [
    "# drop pouctome as it is missing 82% data\n",
    "\n",
    "users_data.drop(feature_to_drop, axis = 1, inplace = True)"
   ]
  },
  {
   "cell_type": "code",
   "execution_count": 10,
   "id": "5ab3c4da",
   "metadata": {},
   "outputs": [
    {
     "data": {
      "text/html": [
       "<div>\n",
       "<style scoped>\n",
       "    .dataframe tbody tr th:only-of-type {\n",
       "        vertical-align: middle;\n",
       "    }\n",
       "\n",
       "    .dataframe tbody tr th {\n",
       "        vertical-align: top;\n",
       "    }\n",
       "\n",
       "    .dataframe thead th {\n",
       "        text-align: right;\n",
       "    }\n",
       "</style>\n",
       "<table border=\"1\" class=\"dataframe\">\n",
       "  <thead>\n",
       "    <tr style=\"text-align: right;\">\n",
       "      <th></th>\n",
       "      <th>feature</th>\n",
       "      <th>percent_missing</th>\n",
       "      <th>data_type</th>\n",
       "    </tr>\n",
       "  </thead>\n",
       "  <tbody>\n",
       "    <tr>\n",
       "      <th>0</th>\n",
       "      <td>contact</td>\n",
       "      <td>28.80</td>\n",
       "      <td>object</td>\n",
       "    </tr>\n",
       "    <tr>\n",
       "      <th>1</th>\n",
       "      <td>total_amount_usd</td>\n",
       "      <td>22.12</td>\n",
       "      <td>float64</td>\n",
       "    </tr>\n",
       "    <tr>\n",
       "      <th>2</th>\n",
       "      <td>number_transactions</td>\n",
       "      <td>22.12</td>\n",
       "      <td>float64</td>\n",
       "    </tr>\n",
       "    <tr>\n",
       "      <th>3</th>\n",
       "      <td>education</td>\n",
       "      <td>4.11</td>\n",
       "      <td>object</td>\n",
       "    </tr>\n",
       "    <tr>\n",
       "      <th>4</th>\n",
       "      <td>job</td>\n",
       "      <td>0.64</td>\n",
       "      <td>object</td>\n",
       "    </tr>\n",
       "    <tr>\n",
       "      <th>5</th>\n",
       "      <td>device</td>\n",
       "      <td>0.21</td>\n",
       "      <td>object</td>\n",
       "    </tr>\n",
       "    <tr>\n",
       "      <th>6</th>\n",
       "      <td>date_joined</td>\n",
       "      <td>0.07</td>\n",
       "      <td>datetime64[ns]</td>\n",
       "    </tr>\n",
       "    <tr>\n",
       "      <th>7</th>\n",
       "      <td>campaign</td>\n",
       "      <td>0.00</td>\n",
       "      <td>int64</td>\n",
       "    </tr>\n",
       "    <tr>\n",
       "      <th>8</th>\n",
       "      <td>term_deposit</td>\n",
       "      <td>0.00</td>\n",
       "      <td>bool</td>\n",
       "    </tr>\n",
       "    <tr>\n",
       "      <th>9</th>\n",
       "      <td>previous</td>\n",
       "      <td>0.00</td>\n",
       "      <td>int64</td>\n",
       "    </tr>\n",
       "    <tr>\n",
       "      <th>10</th>\n",
       "      <td>pdays</td>\n",
       "      <td>0.00</td>\n",
       "      <td>int64</td>\n",
       "    </tr>\n",
       "    <tr>\n",
       "      <th>11</th>\n",
       "      <td>user_id</td>\n",
       "      <td>0.00</td>\n",
       "      <td>object</td>\n",
       "    </tr>\n",
       "    <tr>\n",
       "      <th>12</th>\n",
       "      <td>duration</td>\n",
       "      <td>0.00</td>\n",
       "      <td>int64</td>\n",
       "    </tr>\n",
       "    <tr>\n",
       "      <th>13</th>\n",
       "      <td>housing</td>\n",
       "      <td>0.00</td>\n",
       "      <td>bool</td>\n",
       "    </tr>\n",
       "    <tr>\n",
       "      <th>14</th>\n",
       "      <td>default</td>\n",
       "      <td>0.00</td>\n",
       "      <td>bool</td>\n",
       "    </tr>\n",
       "    <tr>\n",
       "      <th>15</th>\n",
       "      <td>marital</td>\n",
       "      <td>0.00</td>\n",
       "      <td>object</td>\n",
       "    </tr>\n",
       "    <tr>\n",
       "      <th>16</th>\n",
       "      <td>age</td>\n",
       "      <td>0.00</td>\n",
       "      <td>int64</td>\n",
       "    </tr>\n",
       "    <tr>\n",
       "      <th>17</th>\n",
       "      <td>loan</td>\n",
       "      <td>0.00</td>\n",
       "      <td>bool</td>\n",
       "    </tr>\n",
       "  </tbody>\n",
       "</table>\n",
       "</div>"
      ],
      "text/plain": [
       "                feature  percent_missing       data_type\n",
       "0               contact            28.80          object\n",
       "1      total_amount_usd            22.12         float64\n",
       "2   number_transactions            22.12         float64\n",
       "3             education             4.11          object\n",
       "4                   job             0.64          object\n",
       "5                device             0.21          object\n",
       "6           date_joined             0.07  datetime64[ns]\n",
       "7              campaign             0.00           int64\n",
       "8          term_deposit             0.00            bool\n",
       "9              previous             0.00           int64\n",
       "10                pdays             0.00           int64\n",
       "11              user_id             0.00          object\n",
       "12             duration             0.00           int64\n",
       "13              housing             0.00            bool\n",
       "14              default             0.00            bool\n",
       "15              marital             0.00          object\n",
       "16                  age             0.00           int64\n",
       "17                 loan             0.00            bool"
      ]
     },
     "execution_count": 10,
     "metadata": {},
     "output_type": "execute_result"
    }
   ],
   "source": [
    "# check dropped\n",
    "\n",
    "missing_value_df = identify_missing_data(users_data)\n",
    "missing_value_df"
   ]
  },
  {
   "cell_type": "code",
   "execution_count": 11,
   "id": "633d4605",
   "metadata": {},
   "outputs": [
    {
     "data": {
      "text/plain": [
       "['contact', 'education', 'job', 'device']"
      ]
     },
     "execution_count": 11,
     "metadata": {},
     "output_type": "execute_result"
    }
   ],
   "source": [
    "# identify variables that are categorical and have missing data\n",
    "\n",
    "categorical_features_w_missing_values = list(missing_value_df[(missing_value_df.percent_missing > 0) &\n",
    "                (missing_value_df.data_type == 'object')].feature)\n",
    "\n",
    "categorical_features_w_missing_values "
   ]
  },
  {
   "cell_type": "code",
   "execution_count": 12,
   "id": "31115f3d",
   "metadata": {},
   "outputs": [],
   "source": [
    "# Option 1 \n",
    "\n",
    "users_data.contact.fillna(\"Unknown\", inplace = True)\n",
    "users_data.education.fillna(\"Unknown\", inplace = True)\n",
    "users_data.job.fillna(\"Unknown\", inplace = True)\n",
    "users_data.device.fillna(\"Unknown\", inplace = True)"
   ]
  },
  {
   "cell_type": "code",
   "execution_count": 13,
   "id": "f251b6fb",
   "metadata": {},
   "outputs": [
    {
     "name": "stdout",
     "output_type": "stream",
     "text": [
      "contact\n",
      "education\n",
      "job\n",
      "device\n"
     ]
    }
   ],
   "source": [
    "# Option 2 - use loops\n",
    "\n",
    "# replace missing categorical values with \"Unknown\"\n",
    "\n",
    "for i in categorical_features_w_missing_values :\n",
    "    print(i)\n",
    "    users_data[i].fillna(\"Unknown\", inplace = True)"
   ]
  },
  {
   "cell_type": "code",
   "execution_count": 14,
   "id": "78a82e77",
   "metadata": {},
   "outputs": [
    {
     "data": {
      "text/html": [
       "<div>\n",
       "<style scoped>\n",
       "    .dataframe tbody tr th:only-of-type {\n",
       "        vertical-align: middle;\n",
       "    }\n",
       "\n",
       "    .dataframe tbody tr th {\n",
       "        vertical-align: top;\n",
       "    }\n",
       "\n",
       "    .dataframe thead th {\n",
       "        text-align: right;\n",
       "    }\n",
       "</style>\n",
       "<table border=\"1\" class=\"dataframe\">\n",
       "  <thead>\n",
       "    <tr style=\"text-align: right;\">\n",
       "      <th></th>\n",
       "      <th>feature</th>\n",
       "      <th>percent_missing</th>\n",
       "      <th>data_type</th>\n",
       "    </tr>\n",
       "  </thead>\n",
       "  <tbody>\n",
       "    <tr>\n",
       "      <th>0</th>\n",
       "      <td>total_amount_usd</td>\n",
       "      <td>22.12</td>\n",
       "      <td>float64</td>\n",
       "    </tr>\n",
       "    <tr>\n",
       "      <th>1</th>\n",
       "      <td>number_transactions</td>\n",
       "      <td>22.12</td>\n",
       "      <td>float64</td>\n",
       "    </tr>\n",
       "    <tr>\n",
       "      <th>2</th>\n",
       "      <td>date_joined</td>\n",
       "      <td>0.07</td>\n",
       "      <td>datetime64[ns]</td>\n",
       "    </tr>\n",
       "  </tbody>\n",
       "</table>\n",
       "</div>"
      ],
      "text/plain": [
       "               feature  percent_missing       data_type\n",
       "0     total_amount_usd            22.12         float64\n",
       "1  number_transactions            22.12         float64\n",
       "2          date_joined             0.07  datetime64[ns]"
      ]
     },
     "execution_count": 14,
     "metadata": {},
     "output_type": "execute_result"
    }
   ],
   "source": [
    "# check missing values that are left\n",
    "\n",
    "missing_value_df = identify_missing_data(users_data)\n",
    "missing_value_df[(missing_value_df.percent_missing > 0)]"
   ]
  },
  {
   "cell_type": "code",
   "execution_count": 15,
   "id": "6e90d166",
   "metadata": {},
   "outputs": [],
   "source": [
    "# replace missing numerical values with 0\n",
    "\n",
    "users_data['number_transactions'].fillna(0, inplace = True)\n",
    "users_data['total_amount_usd'].fillna(0, inplace = True)\n"
   ]
  },
  {
   "cell_type": "code",
   "execution_count": 16,
   "id": "a3c98e33",
   "metadata": {},
   "outputs": [],
   "source": [
    "# drop rows where date joined is null\n",
    "\n",
    "users_data_cleaned = users_data[~users_data.date_joined.isnull()]"
   ]
  },
  {
   "cell_type": "code",
   "execution_count": 17,
   "id": "1b83a5f9",
   "metadata": {},
   "outputs": [
    {
     "data": {
      "text/plain": [
       "user_id                0\n",
       "number_transactions    0\n",
       "total_amount_usd       0\n",
       "age                    0\n",
       "job                    0\n",
       "marital                0\n",
       "education              0\n",
       "default                0\n",
       "housing                0\n",
       "loan                   0\n",
       "contact                0\n",
       "duration               0\n",
       "campaign               0\n",
       "pdays                  0\n",
       "previous               0\n",
       "term_deposit           0\n",
       "date_joined            0\n",
       "device                 0\n",
       "dtype: int64"
      ]
     },
     "execution_count": 17,
     "metadata": {},
     "output_type": "execute_result"
    }
   ],
   "source": [
    "users_data_cleaned.isnull().sum()\n",
    "\n",
    "# there should be no missing data"
   ]
  },
  {
   "cell_type": "code",
   "execution_count": 18,
   "id": "534e3dd4",
   "metadata": {},
   "outputs": [
    {
     "name": "stdout",
     "output_type": "stream",
     "text": [
      "<class 'pandas.core.frame.DataFrame'>\n",
      "Int64Index: 45179 entries, 0 to 45215\n",
      "Data columns (total 18 columns):\n",
      " #   Column               Non-Null Count  Dtype         \n",
      "---  ------               --------------  -----         \n",
      " 0   user_id              45179 non-null  object        \n",
      " 1   number_transactions  45179 non-null  float64       \n",
      " 2   total_amount_usd     45179 non-null  float64       \n",
      " 3   age                  45179 non-null  int64         \n",
      " 4   job                  45179 non-null  object        \n",
      " 5   marital              45179 non-null  object        \n",
      " 6   education            45179 non-null  object        \n",
      " 7   default              45179 non-null  bool          \n",
      " 8   housing              45179 non-null  bool          \n",
      " 9   loan                 45179 non-null  bool          \n",
      " 10  contact              45179 non-null  object        \n",
      " 11  duration             45179 non-null  int64         \n",
      " 12  campaign             45179 non-null  int64         \n",
      " 13  pdays                45179 non-null  int64         \n",
      " 14  previous             45179 non-null  int64         \n",
      " 15  term_deposit         45179 non-null  bool          \n",
      " 16  date_joined          45179 non-null  datetime64[ns]\n",
      " 17  device               45179 non-null  object        \n",
      "dtypes: bool(4), datetime64[ns](1), float64(2), int64(5), object(6)\n",
      "memory usage: 5.3+ MB\n"
     ]
    }
   ],
   "source": [
    "# check the info on the data frame\n",
    "\n",
    "users_data_cleaned.info()\n"
   ]
  },
  {
   "cell_type": "markdown",
   "id": "b727415e",
   "metadata": {},
   "source": [
    "### Feature Engineering: date_joined "
   ]
  },
  {
   "cell_type": "code",
   "execution_count": 19,
   "id": "f7444de8",
   "metadata": {},
   "outputs": [
    {
     "name": "stderr",
     "output_type": "stream",
     "text": [
      "/Users/shaq/.pyenv/versions/3.8.10/lib/python3.8/site-packages/pandas/core/frame.py:4906: SettingWithCopyWarning: \n",
      "A value is trying to be set on a copy of a slice from a DataFrame\n",
      "\n",
      "See the caveats in the documentation: https://pandas.pydata.org/pandas-docs/stable/user_guide/indexing.html#returning-a-view-versus-a-copy\n",
      "  return super().drop(\n"
     ]
    }
   ],
   "source": [
    "# Did you come up with a way to engineer date joined variable?\n",
    "# if not drop this variable\n",
    "\n",
    "users_data_cleaned.drop(['date_joined'], axis = 1, inplace = True)\n"
   ]
  },
  {
   "cell_type": "code",
   "execution_count": 20,
   "id": "e2309ed4",
   "metadata": {},
   "outputs": [
    {
     "name": "stdout",
     "output_type": "stream",
     "text": [
      "<class 'pandas.core.frame.DataFrame'>\n",
      "Int64Index: 45179 entries, 0 to 45215\n",
      "Data columns (total 17 columns):\n",
      " #   Column               Non-Null Count  Dtype  \n",
      "---  ------               --------------  -----  \n",
      " 0   user_id              45179 non-null  object \n",
      " 1   number_transactions  45179 non-null  float64\n",
      " 2   total_amount_usd     45179 non-null  float64\n",
      " 3   age                  45179 non-null  int64  \n",
      " 4   job                  45179 non-null  object \n",
      " 5   marital              45179 non-null  object \n",
      " 6   education            45179 non-null  object \n",
      " 7   default              45179 non-null  bool   \n",
      " 8   housing              45179 non-null  bool   \n",
      " 9   loan                 45179 non-null  bool   \n",
      " 10  contact              45179 non-null  object \n",
      " 11  duration             45179 non-null  int64  \n",
      " 12  campaign             45179 non-null  int64  \n",
      " 13  pdays                45179 non-null  int64  \n",
      " 14  previous             45179 non-null  int64  \n",
      " 15  term_deposit         45179 non-null  bool   \n",
      " 16  device               45179 non-null  object \n",
      "dtypes: bool(4), float64(2), int64(5), object(6)\n",
      "memory usage: 5.0+ MB\n"
     ]
    }
   ],
   "source": [
    "users_data_cleaned.info()"
   ]
  },
  {
   "cell_type": "markdown",
   "id": "3c4dfc56",
   "metadata": {},
   "source": [
    "### Feature Engineering: Categorical Data"
   ]
  },
  {
   "cell_type": "code",
   "execution_count": 21,
   "id": "5669bfbf",
   "metadata": {},
   "outputs": [],
   "source": [
    "def identify_number_categories(df):\n",
    "    \"\"\"This definition can be used to identify the number of categories of every categorical feature \n",
    "    \n",
    "    @param df DataFrame \n",
    "    \n",
    "    @param returns a DataFrame with the categorical features and number of categories\"\"\"\n",
    "\n",
    "    categorical_columns = list(df.select_dtypes(['object']).columns)\n",
    "\n",
    "    cat_df = []\n",
    "\n",
    "    for c in categorical_columns:\n",
    "        cat_df.append({\"categorical_feature\": c,\n",
    "                       \"number_categories\": len(df[c].value_counts(dropna = False))\n",
    "                    })\n",
    "        \n",
    "    return pd.DataFrame(cat_df)"
   ]
  },
  {
   "cell_type": "code",
   "execution_count": 22,
   "id": "59c299f0",
   "metadata": {},
   "outputs": [
    {
     "data": {
      "text/html": [
       "<div>\n",
       "<style scoped>\n",
       "    .dataframe tbody tr th:only-of-type {\n",
       "        vertical-align: middle;\n",
       "    }\n",
       "\n",
       "    .dataframe tbody tr th {\n",
       "        vertical-align: top;\n",
       "    }\n",
       "\n",
       "    .dataframe thead th {\n",
       "        text-align: right;\n",
       "    }\n",
       "</style>\n",
       "<table border=\"1\" class=\"dataframe\">\n",
       "  <thead>\n",
       "    <tr style=\"text-align: right;\">\n",
       "      <th></th>\n",
       "      <th>categorical_feature</th>\n",
       "      <th>number_categories</th>\n",
       "    </tr>\n",
       "  </thead>\n",
       "  <tbody>\n",
       "    <tr>\n",
       "      <th>0</th>\n",
       "      <td>user_id</td>\n",
       "      <td>45179</td>\n",
       "    </tr>\n",
       "    <tr>\n",
       "      <th>1</th>\n",
       "      <td>job</td>\n",
       "      <td>12</td>\n",
       "    </tr>\n",
       "    <tr>\n",
       "      <th>2</th>\n",
       "      <td>marital</td>\n",
       "      <td>3</td>\n",
       "    </tr>\n",
       "    <tr>\n",
       "      <th>3</th>\n",
       "      <td>education</td>\n",
       "      <td>4</td>\n",
       "    </tr>\n",
       "    <tr>\n",
       "      <th>4</th>\n",
       "      <td>contact</td>\n",
       "      <td>3</td>\n",
       "    </tr>\n",
       "    <tr>\n",
       "      <th>5</th>\n",
       "      <td>device</td>\n",
       "      <td>4</td>\n",
       "    </tr>\n",
       "  </tbody>\n",
       "</table>\n",
       "</div>"
      ],
      "text/plain": [
       "  categorical_feature  number_categories\n",
       "0             user_id              45179\n",
       "1                 job                 12\n",
       "2             marital                  3\n",
       "3           education                  4\n",
       "4             contact                  3\n",
       "5              device                  4"
      ]
     },
     "execution_count": 22,
     "metadata": {},
     "output_type": "execute_result"
    }
   ],
   "source": [
    "cat_df = identify_number_categories(users_data_cleaned)\n",
    "cat_df"
   ]
  },
  {
   "cell_type": "code",
   "execution_count": 23,
   "id": "ac988f51",
   "metadata": {},
   "outputs": [
    {
     "name": "stdout",
     "output_type": "stream",
     "text": [
      "['user_id', 'job']\n"
     ]
    }
   ],
   "source": [
    "# drop catgeorical features where number_categories is greater than 10\n",
    "features_to_drop = list(cat_df[cat_df.number_categories > 10].categorical_feature)\n",
    "print(features_to_drop)"
   ]
  },
  {
   "cell_type": "code",
   "execution_count": 24,
   "id": "e7477436",
   "metadata": {},
   "outputs": [
    {
     "name": "stderr",
     "output_type": "stream",
     "text": [
      "/Users/shaq/.pyenv/versions/3.8.10/lib/python3.8/site-packages/pandas/core/frame.py:4906: SettingWithCopyWarning: \n",
      "A value is trying to be set on a copy of a slice from a DataFrame\n",
      "\n",
      "See the caveats in the documentation: https://pandas.pydata.org/pandas-docs/stable/user_guide/indexing.html#returning-a-view-versus-a-copy\n",
      "  return super().drop(\n"
     ]
    }
   ],
   "source": [
    "users_data_cleaned.drop(features_to_drop, axis = 1, inplace = True)"
   ]
  },
  {
   "cell_type": "code",
   "execution_count": 25,
   "id": "594b0572",
   "metadata": {},
   "outputs": [
    {
     "data": {
      "text/plain": [
       "['number_transactions',\n",
       " 'total_amount_usd',\n",
       " 'age',\n",
       " 'marital',\n",
       " 'education',\n",
       " 'default',\n",
       " 'housing',\n",
       " 'loan',\n",
       " 'contact',\n",
       " 'duration',\n",
       " 'campaign',\n",
       " 'pdays',\n",
       " 'previous',\n",
       " 'term_deposit',\n",
       " 'device']"
      ]
     },
     "execution_count": 25,
     "metadata": {},
     "output_type": "execute_result"
    }
   ],
   "source": [
    "# check the variables were dropped\n",
    "\n",
    "list(users_data_cleaned)"
   ]
  },
  {
   "cell_type": "code",
   "execution_count": 26,
   "id": "a3fd6526",
   "metadata": {},
   "outputs": [
    {
     "data": {
      "text/plain": [
       "['marital', 'education', 'contact', 'device']"
      ]
     },
     "execution_count": 26,
     "metadata": {},
     "output_type": "execute_result"
    }
   ],
   "source": [
    "# identify all the categorical variables \n",
    "\n",
    "categorical_columns = list(users_data_cleaned.select_dtypes(['object']).columns)\n",
    "\n",
    "categorical_columns"
   ]
  },
  {
   "cell_type": "code",
   "execution_count": 27,
   "id": "e1f73d7c",
   "metadata": {},
   "outputs": [
    {
     "data": {
      "text/plain": [
       "married     27195\n",
       "single      12781\n",
       "divorced     5203\n",
       "Name: marital, dtype: int64"
      ]
     },
     "execution_count": 27,
     "metadata": {},
     "output_type": "execute_result"
    }
   ],
   "source": [
    "users_data_cleaned.marital.value_counts()"
   ]
  },
  {
   "cell_type": "code",
   "execution_count": 28,
   "id": "096a36dc",
   "metadata": {},
   "outputs": [
    {
     "data": {
      "image/png": "[encoded data removed]",
      "text/plain": [
       "<Figure size 432x288 with 1 Axes>"
      ]
     },
     "metadata": {
      "needs_background": "light"
     },
     "output_type": "display_data"
    }
   ],
   "source": [
    "# look at the distribution of one of the categorical variables\n",
    "\n",
    "users_data_cleaned.marital.value_counts().plot(kind = 'bar');"
   ]
  },
  {
   "cell_type": "code",
   "execution_count": 29,
   "id": "12239c65",
   "metadata": {},
   "outputs": [
    {
     "data": {
      "text/html": [
       "<div>\n",
       "<style scoped>\n",
       "    .dataframe tbody tr th:only-of-type {\n",
       "        vertical-align: middle;\n",
       "    }\n",
       "\n",
       "    .dataframe tbody tr th {\n",
       "        vertical-align: top;\n",
       "    }\n",
       "\n",
       "    .dataframe thead th {\n",
       "        text-align: right;\n",
       "    }\n",
       "</style>\n",
       "<table border=\"1\" class=\"dataframe\">\n",
       "  <thead>\n",
       "    <tr style=\"text-align: right;\">\n",
       "      <th></th>\n",
       "      <th>marital_divorced</th>\n",
       "      <th>marital_married</th>\n",
       "      <th>marital_single</th>\n",
       "    </tr>\n",
       "  </thead>\n",
       "  <tbody>\n",
       "    <tr>\n",
       "      <th>0</th>\n",
       "      <td>0</td>\n",
       "      <td>1</td>\n",
       "      <td>0</td>\n",
       "    </tr>\n",
       "    <tr>\n",
       "      <th>1</th>\n",
       "      <td>0</td>\n",
       "      <td>0</td>\n",
       "      <td>1</td>\n",
       "    </tr>\n",
       "    <tr>\n",
       "      <th>2</th>\n",
       "      <td>0</td>\n",
       "      <td>1</td>\n",
       "      <td>0</td>\n",
       "    </tr>\n",
       "    <tr>\n",
       "      <th>3</th>\n",
       "      <td>0</td>\n",
       "      <td>1</td>\n",
       "      <td>0</td>\n",
       "    </tr>\n",
       "    <tr>\n",
       "      <th>4</th>\n",
       "      <td>0</td>\n",
       "      <td>0</td>\n",
       "      <td>1</td>\n",
       "    </tr>\n",
       "    <tr>\n",
       "      <th>...</th>\n",
       "      <td>...</td>\n",
       "      <td>...</td>\n",
       "      <td>...</td>\n",
       "    </tr>\n",
       "    <tr>\n",
       "      <th>45211</th>\n",
       "      <td>0</td>\n",
       "      <td>1</td>\n",
       "      <td>0</td>\n",
       "    </tr>\n",
       "    <tr>\n",
       "      <th>45212</th>\n",
       "      <td>1</td>\n",
       "      <td>0</td>\n",
       "      <td>0</td>\n",
       "    </tr>\n",
       "    <tr>\n",
       "      <th>45213</th>\n",
       "      <td>0</td>\n",
       "      <td>1</td>\n",
       "      <td>0</td>\n",
       "    </tr>\n",
       "    <tr>\n",
       "      <th>45214</th>\n",
       "      <td>0</td>\n",
       "      <td>1</td>\n",
       "      <td>0</td>\n",
       "    </tr>\n",
       "    <tr>\n",
       "      <th>45215</th>\n",
       "      <td>0</td>\n",
       "      <td>1</td>\n",
       "      <td>0</td>\n",
       "    </tr>\n",
       "  </tbody>\n",
       "</table>\n",
       "<p>45179 rows × 3 columns</p>\n",
       "</div>"
      ],
      "text/plain": [
       "       marital_divorced  marital_married  marital_single\n",
       "0                     0                1               0\n",
       "1                     0                0               1\n",
       "2                     0                1               0\n",
       "3                     0                1               0\n",
       "4                     0                0               1\n",
       "...                 ...              ...             ...\n",
       "45211                 0                1               0\n",
       "45212                 1                0               0\n",
       "45213                 0                1               0\n",
       "45214                 0                1               0\n",
       "45215                 0                1               0\n",
       "\n",
       "[45179 rows x 3 columns]"
      ]
     },
     "execution_count": 29,
     "metadata": {},
     "output_type": "execute_result"
    }
   ],
   "source": [
    "# encode the categorical variables\n",
    "# lots of ways to do that, but we will use pd.get_dummies function\n",
    "# lets start with marital\n",
    "# we use pandas get dummies function\n",
    "\n",
    "pd.get_dummies(users_data_cleaned['marital'], prefix='marital')\n",
    "\n",
    "# you can also one of dummy variables, as it can be inferred by the other dummy variables"
   ]
  },
  {
   "cell_type": "code",
   "execution_count": 30,
   "id": "eb8059a4",
   "metadata": {},
   "outputs": [
    {
     "data": {
      "text/html": [
       "<div>\n",
       "<style scoped>\n",
       "    .dataframe tbody tr th:only-of-type {\n",
       "        vertical-align: middle;\n",
       "    }\n",
       "\n",
       "    .dataframe tbody tr th {\n",
       "        vertical-align: top;\n",
       "    }\n",
       "\n",
       "    .dataframe thead th {\n",
       "        text-align: right;\n",
       "    }\n",
       "</style>\n",
       "<table border=\"1\" class=\"dataframe\">\n",
       "  <thead>\n",
       "    <tr style=\"text-align: right;\">\n",
       "      <th></th>\n",
       "      <th>marital_divorced</th>\n",
       "      <th>marital_married</th>\n",
       "      <th>marital_single</th>\n",
       "    </tr>\n",
       "  </thead>\n",
       "  <tbody>\n",
       "    <tr>\n",
       "      <th>0</th>\n",
       "      <td>0</td>\n",
       "      <td>1</td>\n",
       "      <td>0</td>\n",
       "    </tr>\n",
       "    <tr>\n",
       "      <th>1</th>\n",
       "      <td>0</td>\n",
       "      <td>0</td>\n",
       "      <td>1</td>\n",
       "    </tr>\n",
       "    <tr>\n",
       "      <th>2</th>\n",
       "      <td>0</td>\n",
       "      <td>1</td>\n",
       "      <td>0</td>\n",
       "    </tr>\n",
       "    <tr>\n",
       "      <th>3</th>\n",
       "      <td>0</td>\n",
       "      <td>1</td>\n",
       "      <td>0</td>\n",
       "    </tr>\n",
       "    <tr>\n",
       "      <th>4</th>\n",
       "      <td>0</td>\n",
       "      <td>0</td>\n",
       "      <td>1</td>\n",
       "    </tr>\n",
       "    <tr>\n",
       "      <th>...</th>\n",
       "      <td>...</td>\n",
       "      <td>...</td>\n",
       "      <td>...</td>\n",
       "    </tr>\n",
       "    <tr>\n",
       "      <th>45211</th>\n",
       "      <td>0</td>\n",
       "      <td>1</td>\n",
       "      <td>0</td>\n",
       "    </tr>\n",
       "    <tr>\n",
       "      <th>45212</th>\n",
       "      <td>1</td>\n",
       "      <td>0</td>\n",
       "      <td>0</td>\n",
       "    </tr>\n",
       "    <tr>\n",
       "      <th>45213</th>\n",
       "      <td>0</td>\n",
       "      <td>1</td>\n",
       "      <td>0</td>\n",
       "    </tr>\n",
       "    <tr>\n",
       "      <th>45214</th>\n",
       "      <td>0</td>\n",
       "      <td>1</td>\n",
       "      <td>0</td>\n",
       "    </tr>\n",
       "    <tr>\n",
       "      <th>45215</th>\n",
       "      <td>0</td>\n",
       "      <td>1</td>\n",
       "      <td>0</td>\n",
       "    </tr>\n",
       "  </tbody>\n",
       "</table>\n",
       "<p>45179 rows × 3 columns</p>\n",
       "</div>"
      ],
      "text/plain": [
       "       marital_divorced  marital_married  marital_single\n",
       "0                     0                1               0\n",
       "1                     0                0               1\n",
       "2                     0                1               0\n",
       "3                     0                1               0\n",
       "4                     0                0               1\n",
       "...                 ...              ...             ...\n",
       "45211                 0                1               0\n",
       "45212                 1                0               0\n",
       "45213                 0                1               0\n",
       "45214                 0                1               0\n",
       "45215                 0                1               0\n",
       "\n",
       "[45179 rows x 3 columns]"
      ]
     },
     "execution_count": 30,
     "metadata": {},
     "output_type": "execute_result"
    }
   ],
   "source": [
    "# How to encode variables\n",
    "\n",
    "# step 1. dummify the non numerical variable\n",
    "\n",
    "marital_dummies = pd.get_dummies(users_data_cleaned.marital, prefix='marital')\n",
    "marital_dummies"
   ]
  },
  {
   "cell_type": "code",
   "execution_count": 31,
   "id": "abe94efb",
   "metadata": {},
   "outputs": [
    {
     "data": {
      "text/html": [
       "<div>\n",
       "<style scoped>\n",
       "    .dataframe tbody tr th:only-of-type {\n",
       "        vertical-align: middle;\n",
       "    }\n",
       "\n",
       "    .dataframe tbody tr th {\n",
       "        vertical-align: top;\n",
       "    }\n",
       "\n",
       "    .dataframe thead th {\n",
       "        text-align: right;\n",
       "    }\n",
       "</style>\n",
       "<table border=\"1\" class=\"dataframe\">\n",
       "  <thead>\n",
       "    <tr style=\"text-align: right;\">\n",
       "      <th></th>\n",
       "      <th>number_transactions</th>\n",
       "      <th>total_amount_usd</th>\n",
       "      <th>age</th>\n",
       "      <th>marital</th>\n",
       "      <th>education</th>\n",
       "      <th>default</th>\n",
       "      <th>housing</th>\n",
       "      <th>loan</th>\n",
       "      <th>contact</th>\n",
       "      <th>duration</th>\n",
       "      <th>campaign</th>\n",
       "      <th>pdays</th>\n",
       "      <th>previous</th>\n",
       "      <th>term_deposit</th>\n",
       "      <th>device</th>\n",
       "      <th>marital_divorced</th>\n",
       "      <th>marital_married</th>\n",
       "      <th>marital_single</th>\n",
       "    </tr>\n",
       "  </thead>\n",
       "  <tbody>\n",
       "    <tr>\n",
       "      <th>0</th>\n",
       "      <td>3.0</td>\n",
       "      <td>2143.0</td>\n",
       "      <td>58</td>\n",
       "      <td>married</td>\n",
       "      <td>tertiary</td>\n",
       "      <td>False</td>\n",
       "      <td>True</td>\n",
       "      <td>False</td>\n",
       "      <td>Unknown</td>\n",
       "      <td>261</td>\n",
       "      <td>1</td>\n",
       "      <td>-1</td>\n",
       "      <td>0</td>\n",
       "      <td>False</td>\n",
       "      <td>mobile</td>\n",
       "      <td>0</td>\n",
       "      <td>1</td>\n",
       "      <td>0</td>\n",
       "    </tr>\n",
       "    <tr>\n",
       "      <th>1</th>\n",
       "      <td>0.0</td>\n",
       "      <td>0.0</td>\n",
       "      <td>44</td>\n",
       "      <td>single</td>\n",
       "      <td>secondary</td>\n",
       "      <td>False</td>\n",
       "      <td>True</td>\n",
       "      <td>False</td>\n",
       "      <td>Unknown</td>\n",
       "      <td>151</td>\n",
       "      <td>1</td>\n",
       "      <td>-1</td>\n",
       "      <td>0</td>\n",
       "      <td>False</td>\n",
       "      <td>desktop</td>\n",
       "      <td>0</td>\n",
       "      <td>0</td>\n",
       "      <td>1</td>\n",
       "    </tr>\n",
       "    <tr>\n",
       "      <th>2</th>\n",
       "      <td>2.0</td>\n",
       "      <td>2.0</td>\n",
       "      <td>33</td>\n",
       "      <td>married</td>\n",
       "      <td>secondary</td>\n",
       "      <td>False</td>\n",
       "      <td>True</td>\n",
       "      <td>True</td>\n",
       "      <td>Unknown</td>\n",
       "      <td>76</td>\n",
       "      <td>1</td>\n",
       "      <td>-1</td>\n",
       "      <td>0</td>\n",
       "      <td>False</td>\n",
       "      <td>mobile</td>\n",
       "      <td>0</td>\n",
       "      <td>1</td>\n",
       "      <td>0</td>\n",
       "    </tr>\n",
       "    <tr>\n",
       "      <th>3</th>\n",
       "      <td>0.0</td>\n",
       "      <td>0.0</td>\n",
       "      <td>47</td>\n",
       "      <td>married</td>\n",
       "      <td>Unknown</td>\n",
       "      <td>False</td>\n",
       "      <td>True</td>\n",
       "      <td>False</td>\n",
       "      <td>Unknown</td>\n",
       "      <td>92</td>\n",
       "      <td>1</td>\n",
       "      <td>-1</td>\n",
       "      <td>0</td>\n",
       "      <td>False</td>\n",
       "      <td>tablet</td>\n",
       "      <td>0</td>\n",
       "      <td>1</td>\n",
       "      <td>0</td>\n",
       "    </tr>\n",
       "    <tr>\n",
       "      <th>4</th>\n",
       "      <td>1.0</td>\n",
       "      <td>1.0</td>\n",
       "      <td>33</td>\n",
       "      <td>single</td>\n",
       "      <td>Unknown</td>\n",
       "      <td>False</td>\n",
       "      <td>False</td>\n",
       "      <td>False</td>\n",
       "      <td>Unknown</td>\n",
       "      <td>198</td>\n",
       "      <td>1</td>\n",
       "      <td>-1</td>\n",
       "      <td>0</td>\n",
       "      <td>False</td>\n",
       "      <td>mobile</td>\n",
       "      <td>0</td>\n",
       "      <td>0</td>\n",
       "      <td>1</td>\n",
       "    </tr>\n",
       "    <tr>\n",
       "      <th>...</th>\n",
       "      <td>...</td>\n",
       "      <td>...</td>\n",
       "      <td>...</td>\n",
       "      <td>...</td>\n",
       "      <td>...</td>\n",
       "      <td>...</td>\n",
       "      <td>...</td>\n",
       "      <td>...</td>\n",
       "      <td>...</td>\n",
       "      <td>...</td>\n",
       "      <td>...</td>\n",
       "      <td>...</td>\n",
       "      <td>...</td>\n",
       "      <td>...</td>\n",
       "      <td>...</td>\n",
       "      <td>...</td>\n",
       "      <td>...</td>\n",
       "      <td>...</td>\n",
       "    </tr>\n",
       "    <tr>\n",
       "      <th>45211</th>\n",
       "      <td>2.0</td>\n",
       "      <td>825.0</td>\n",
       "      <td>51</td>\n",
       "      <td>married</td>\n",
       "      <td>tertiary</td>\n",
       "      <td>False</td>\n",
       "      <td>False</td>\n",
       "      <td>False</td>\n",
       "      <td>cellular</td>\n",
       "      <td>977</td>\n",
       "      <td>3</td>\n",
       "      <td>-1</td>\n",
       "      <td>0</td>\n",
       "      <td>True</td>\n",
       "      <td>desktop</td>\n",
       "      <td>0</td>\n",
       "      <td>1</td>\n",
       "      <td>0</td>\n",
       "    </tr>\n",
       "    <tr>\n",
       "      <th>45212</th>\n",
       "      <td>4.0</td>\n",
       "      <td>1729.0</td>\n",
       "      <td>71</td>\n",
       "      <td>divorced</td>\n",
       "      <td>primary</td>\n",
       "      <td>False</td>\n",
       "      <td>False</td>\n",
       "      <td>False</td>\n",
       "      <td>cellular</td>\n",
       "      <td>456</td>\n",
       "      <td>2</td>\n",
       "      <td>-1</td>\n",
       "      <td>0</td>\n",
       "      <td>True</td>\n",
       "      <td>desktop</td>\n",
       "      <td>1</td>\n",
       "      <td>0</td>\n",
       "      <td>0</td>\n",
       "    </tr>\n",
       "    <tr>\n",
       "      <th>45213</th>\n",
       "      <td>2.0</td>\n",
       "      <td>5715.0</td>\n",
       "      <td>72</td>\n",
       "      <td>married</td>\n",
       "      <td>secondary</td>\n",
       "      <td>False</td>\n",
       "      <td>False</td>\n",
       "      <td>False</td>\n",
       "      <td>cellular</td>\n",
       "      <td>1127</td>\n",
       "      <td>5</td>\n",
       "      <td>184</td>\n",
       "      <td>3</td>\n",
       "      <td>True</td>\n",
       "      <td>mobile</td>\n",
       "      <td>0</td>\n",
       "      <td>1</td>\n",
       "      <td>0</td>\n",
       "    </tr>\n",
       "    <tr>\n",
       "      <th>45214</th>\n",
       "      <td>0.0</td>\n",
       "      <td>0.0</td>\n",
       "      <td>57</td>\n",
       "      <td>married</td>\n",
       "      <td>secondary</td>\n",
       "      <td>False</td>\n",
       "      <td>False</td>\n",
       "      <td>False</td>\n",
       "      <td>telephone</td>\n",
       "      <td>508</td>\n",
       "      <td>4</td>\n",
       "      <td>-1</td>\n",
       "      <td>0</td>\n",
       "      <td>False</td>\n",
       "      <td>desktop</td>\n",
       "      <td>0</td>\n",
       "      <td>1</td>\n",
       "      <td>0</td>\n",
       "    </tr>\n",
       "    <tr>\n",
       "      <th>45215</th>\n",
       "      <td>3.0</td>\n",
       "      <td>2971.0</td>\n",
       "      <td>37</td>\n",
       "      <td>married</td>\n",
       "      <td>secondary</td>\n",
       "      <td>False</td>\n",
       "      <td>False</td>\n",
       "      <td>False</td>\n",
       "      <td>cellular</td>\n",
       "      <td>361</td>\n",
       "      <td>2</td>\n",
       "      <td>188</td>\n",
       "      <td>11</td>\n",
       "      <td>False</td>\n",
       "      <td>mobile</td>\n",
       "      <td>0</td>\n",
       "      <td>1</td>\n",
       "      <td>0</td>\n",
       "    </tr>\n",
       "  </tbody>\n",
       "</table>\n",
       "<p>45179 rows × 18 columns</p>\n",
       "</div>"
      ],
      "text/plain": [
       "       number_transactions  total_amount_usd  age   marital  education  \\\n",
       "0                      3.0            2143.0   58   married   tertiary   \n",
       "1                      0.0               0.0   44    single  secondary   \n",
       "2                      2.0               2.0   33   married  secondary   \n",
       "3                      0.0               0.0   47   married    Unknown   \n",
       "4                      1.0               1.0   33    single    Unknown   \n",
       "...                    ...               ...  ...       ...        ...   \n",
       "45211                  2.0             825.0   51   married   tertiary   \n",
       "45212                  4.0            1729.0   71  divorced    primary   \n",
       "45213                  2.0            5715.0   72   married  secondary   \n",
       "45214                  0.0               0.0   57   married  secondary   \n",
       "45215                  3.0            2971.0   37   married  secondary   \n",
       "\n",
       "       default  housing   loan    contact  duration  campaign  pdays  \\\n",
       "0        False     True  False    Unknown       261         1     -1   \n",
       "1        False     True  False    Unknown       151         1     -1   \n",
       "2        False     True   True    Unknown        76         1     -1   \n",
       "3        False     True  False    Unknown        92         1     -1   \n",
       "4        False    False  False    Unknown       198         1     -1   \n",
       "...        ...      ...    ...        ...       ...       ...    ...   \n",
       "45211    False    False  False   cellular       977         3     -1   \n",
       "45212    False    False  False   cellular       456         2     -1   \n",
       "45213    False    False  False   cellular      1127         5    184   \n",
       "45214    False    False  False  telephone       508         4     -1   \n",
       "45215    False    False  False   cellular       361         2    188   \n",
       "\n",
       "       previous  term_deposit   device  marital_divorced  marital_married  \\\n",
       "0             0         False   mobile                 0                1   \n",
       "1             0         False  desktop                 0                0   \n",
       "2             0         False   mobile                 0                1   \n",
       "3             0         False   tablet                 0                1   \n",
       "4             0         False   mobile                 0                0   \n",
       "...         ...           ...      ...               ...              ...   \n",
       "45211         0          True  desktop                 0                1   \n",
       "45212         0          True  desktop                 1                0   \n",
       "45213         3          True   mobile                 0                1   \n",
       "45214         0         False  desktop                 0                1   \n",
       "45215        11         False   mobile                 0                1   \n",
       "\n",
       "       marital_single  \n",
       "0                   0  \n",
       "1                   1  \n",
       "2                   0  \n",
       "3                   0  \n",
       "4                   1  \n",
       "...               ...  \n",
       "45211               0  \n",
       "45212               0  \n",
       "45213               0  \n",
       "45214               0  \n",
       "45215               0  \n",
       "\n",
       "[45179 rows x 18 columns]"
      ]
     },
     "execution_count": 31,
     "metadata": {},
     "output_type": "execute_result"
    }
   ],
   "source": [
    "# step 2. join the dummy variables to our data frame\n",
    "\n",
    "users_data_cleaned_w_dummies = pd.concat([users_data_cleaned, marital_dummies], axis = 1)\n",
    "users_data_cleaned_w_dummies"
   ]
  },
  {
   "cell_type": "code",
   "execution_count": 32,
   "id": "154ec0a9",
   "metadata": {},
   "outputs": [],
   "source": [
    "# step 3. drop the marital variable\n",
    "\n",
    "users_data_cleaned_w_dummies.drop(['marital'], axis = 1, inplace = True)"
   ]
  },
  {
   "cell_type": "code",
   "execution_count": 33,
   "id": "bd23910f",
   "metadata": {},
   "outputs": [
    {
     "data": {
      "text/html": [
       "<div>\n",
       "<style scoped>\n",
       "    .dataframe tbody tr th:only-of-type {\n",
       "        vertical-align: middle;\n",
       "    }\n",
       "\n",
       "    .dataframe tbody tr th {\n",
       "        vertical-align: top;\n",
       "    }\n",
       "\n",
       "    .dataframe thead th {\n",
       "        text-align: right;\n",
       "    }\n",
       "</style>\n",
       "<table border=\"1\" class=\"dataframe\">\n",
       "  <thead>\n",
       "    <tr style=\"text-align: right;\">\n",
       "      <th></th>\n",
       "      <th>number_transactions</th>\n",
       "      <th>total_amount_usd</th>\n",
       "      <th>age</th>\n",
       "      <th>education</th>\n",
       "      <th>default</th>\n",
       "      <th>housing</th>\n",
       "      <th>loan</th>\n",
       "      <th>contact</th>\n",
       "      <th>duration</th>\n",
       "      <th>campaign</th>\n",
       "      <th>pdays</th>\n",
       "      <th>previous</th>\n",
       "      <th>term_deposit</th>\n",
       "      <th>device</th>\n",
       "      <th>marital_divorced</th>\n",
       "      <th>marital_married</th>\n",
       "      <th>marital_single</th>\n",
       "    </tr>\n",
       "  </thead>\n",
       "  <tbody>\n",
       "    <tr>\n",
       "      <th>0</th>\n",
       "      <td>3.0</td>\n",
       "      <td>2143.0</td>\n",
       "      <td>58</td>\n",
       "      <td>tertiary</td>\n",
       "      <td>False</td>\n",
       "      <td>True</td>\n",
       "      <td>False</td>\n",
       "      <td>Unknown</td>\n",
       "      <td>261</td>\n",
       "      <td>1</td>\n",
       "      <td>-1</td>\n",
       "      <td>0</td>\n",
       "      <td>False</td>\n",
       "      <td>mobile</td>\n",
       "      <td>0</td>\n",
       "      <td>1</td>\n",
       "      <td>0</td>\n",
       "    </tr>\n",
       "    <tr>\n",
       "      <th>1</th>\n",
       "      <td>0.0</td>\n",
       "      <td>0.0</td>\n",
       "      <td>44</td>\n",
       "      <td>secondary</td>\n",
       "      <td>False</td>\n",
       "      <td>True</td>\n",
       "      <td>False</td>\n",
       "      <td>Unknown</td>\n",
       "      <td>151</td>\n",
       "      <td>1</td>\n",
       "      <td>-1</td>\n",
       "      <td>0</td>\n",
       "      <td>False</td>\n",
       "      <td>desktop</td>\n",
       "      <td>0</td>\n",
       "      <td>0</td>\n",
       "      <td>1</td>\n",
       "    </tr>\n",
       "    <tr>\n",
       "      <th>2</th>\n",
       "      <td>2.0</td>\n",
       "      <td>2.0</td>\n",
       "      <td>33</td>\n",
       "      <td>secondary</td>\n",
       "      <td>False</td>\n",
       "      <td>True</td>\n",
       "      <td>True</td>\n",
       "      <td>Unknown</td>\n",
       "      <td>76</td>\n",
       "      <td>1</td>\n",
       "      <td>-1</td>\n",
       "      <td>0</td>\n",
       "      <td>False</td>\n",
       "      <td>mobile</td>\n",
       "      <td>0</td>\n",
       "      <td>1</td>\n",
       "      <td>0</td>\n",
       "    </tr>\n",
       "    <tr>\n",
       "      <th>3</th>\n",
       "      <td>0.0</td>\n",
       "      <td>0.0</td>\n",
       "      <td>47</td>\n",
       "      <td>Unknown</td>\n",
       "      <td>False</td>\n",
       "      <td>True</td>\n",
       "      <td>False</td>\n",
       "      <td>Unknown</td>\n",
       "      <td>92</td>\n",
       "      <td>1</td>\n",
       "      <td>-1</td>\n",
       "      <td>0</td>\n",
       "      <td>False</td>\n",
       "      <td>tablet</td>\n",
       "      <td>0</td>\n",
       "      <td>1</td>\n",
       "      <td>0</td>\n",
       "    </tr>\n",
       "    <tr>\n",
       "      <th>4</th>\n",
       "      <td>1.0</td>\n",
       "      <td>1.0</td>\n",
       "      <td>33</td>\n",
       "      <td>Unknown</td>\n",
       "      <td>False</td>\n",
       "      <td>False</td>\n",
       "      <td>False</td>\n",
       "      <td>Unknown</td>\n",
       "      <td>198</td>\n",
       "      <td>1</td>\n",
       "      <td>-1</td>\n",
       "      <td>0</td>\n",
       "      <td>False</td>\n",
       "      <td>mobile</td>\n",
       "      <td>0</td>\n",
       "      <td>0</td>\n",
       "      <td>1</td>\n",
       "    </tr>\n",
       "  </tbody>\n",
       "</table>\n",
       "</div>"
      ],
      "text/plain": [
       "   number_transactions  total_amount_usd  age  education  default  housing  \\\n",
       "0                  3.0            2143.0   58   tertiary    False     True   \n",
       "1                  0.0               0.0   44  secondary    False     True   \n",
       "2                  2.0               2.0   33  secondary    False     True   \n",
       "3                  0.0               0.0   47    Unknown    False     True   \n",
       "4                  1.0               1.0   33    Unknown    False    False   \n",
       "\n",
       "    loan  contact  duration  campaign  pdays  previous  term_deposit   device  \\\n",
       "0  False  Unknown       261         1     -1         0         False   mobile   \n",
       "1  False  Unknown       151         1     -1         0         False  desktop   \n",
       "2   True  Unknown        76         1     -1         0         False   mobile   \n",
       "3  False  Unknown        92         1     -1         0         False   tablet   \n",
       "4  False  Unknown       198         1     -1         0         False   mobile   \n",
       "\n",
       "   marital_divorced  marital_married  marital_single  \n",
       "0                 0                1               0  \n",
       "1                 0                0               1  \n",
       "2                 0                1               0  \n",
       "3                 0                1               0  \n",
       "4                 0                0               1  "
      ]
     },
     "execution_count": 33,
     "metadata": {},
     "output_type": "execute_result"
    }
   ],
   "source": [
    "users_data_cleaned_w_dummies.head()"
   ]
  },
  {
   "cell_type": "code",
   "execution_count": 34,
   "id": "1cc75ab6",
   "metadata": {},
   "outputs": [],
   "source": [
    "# Or use this definition to drop the variables \n",
    "\n",
    "def one_hot(df, categorical_cols):\n",
    "    \"\"\"\n",
    "    @param df pandas DataFrame\n",
    "    @param cols a list of columns to encode \n",
    "    @return a DataFrame with one-hot encoding\n",
    "    \"\"\"\n",
    "    \n",
    "    for c in categorical_cols:\n",
    "        dummies = pd.get_dummies(df[c], prefix=c)\n",
    "        df = pd.concat([df, dummies], axis=1)\n",
    "        df.drop(c, axis = 1, inplace = True)\n",
    "    \n",
    "    return df"
   ]
  },
  {
   "cell_type": "code",
   "execution_count": 35,
   "id": "7344de54",
   "metadata": {},
   "outputs": [],
   "source": [
    "# pass in the variables that you want to encode\n",
    "\n",
    "categorical_columns = ['marital', 'education', 'contact', 'device']\n",
    "\n",
    "users_data_cleaned_w_encoding = one_hot(users_data_cleaned, categorical_columns)"
   ]
  },
  {
   "cell_type": "code",
   "execution_count": 36,
   "id": "50f778e8",
   "metadata": {},
   "outputs": [
    {
     "data": {
      "text/html": [
       "<div>\n",
       "<style scoped>\n",
       "    .dataframe tbody tr th:only-of-type {\n",
       "        vertical-align: middle;\n",
       "    }\n",
       "\n",
       "    .dataframe tbody tr th {\n",
       "        vertical-align: top;\n",
       "    }\n",
       "\n",
       "    .dataframe thead th {\n",
       "        text-align: right;\n",
       "    }\n",
       "</style>\n",
       "<table border=\"1\" class=\"dataframe\">\n",
       "  <thead>\n",
       "    <tr style=\"text-align: right;\">\n",
       "      <th></th>\n",
       "      <th>number_transactions</th>\n",
       "      <th>total_amount_usd</th>\n",
       "      <th>age</th>\n",
       "      <th>default</th>\n",
       "      <th>housing</th>\n",
       "      <th>loan</th>\n",
       "      <th>duration</th>\n",
       "      <th>campaign</th>\n",
       "      <th>pdays</th>\n",
       "      <th>previous</th>\n",
       "      <th>...</th>\n",
       "      <th>education_primary</th>\n",
       "      <th>education_secondary</th>\n",
       "      <th>education_tertiary</th>\n",
       "      <th>contact_Unknown</th>\n",
       "      <th>contact_cellular</th>\n",
       "      <th>contact_telephone</th>\n",
       "      <th>device_Unknown</th>\n",
       "      <th>device_desktop</th>\n",
       "      <th>device_mobile</th>\n",
       "      <th>device_tablet</th>\n",
       "    </tr>\n",
       "  </thead>\n",
       "  <tbody>\n",
       "    <tr>\n",
       "      <th>0</th>\n",
       "      <td>3.0</td>\n",
       "      <td>2143.0</td>\n",
       "      <td>58</td>\n",
       "      <td>False</td>\n",
       "      <td>True</td>\n",
       "      <td>False</td>\n",
       "      <td>261</td>\n",
       "      <td>1</td>\n",
       "      <td>-1</td>\n",
       "      <td>0</td>\n",
       "      <td>...</td>\n",
       "      <td>0</td>\n",
       "      <td>0</td>\n",
       "      <td>1</td>\n",
       "      <td>1</td>\n",
       "      <td>0</td>\n",
       "      <td>0</td>\n",
       "      <td>0</td>\n",
       "      <td>0</td>\n",
       "      <td>1</td>\n",
       "      <td>0</td>\n",
       "    </tr>\n",
       "    <tr>\n",
       "      <th>1</th>\n",
       "      <td>0.0</td>\n",
       "      <td>0.0</td>\n",
       "      <td>44</td>\n",
       "      <td>False</td>\n",
       "      <td>True</td>\n",
       "      <td>False</td>\n",
       "      <td>151</td>\n",
       "      <td>1</td>\n",
       "      <td>-1</td>\n",
       "      <td>0</td>\n",
       "      <td>...</td>\n",
       "      <td>0</td>\n",
       "      <td>1</td>\n",
       "      <td>0</td>\n",
       "      <td>1</td>\n",
       "      <td>0</td>\n",
       "      <td>0</td>\n",
       "      <td>0</td>\n",
       "      <td>1</td>\n",
       "      <td>0</td>\n",
       "      <td>0</td>\n",
       "    </tr>\n",
       "    <tr>\n",
       "      <th>2</th>\n",
       "      <td>2.0</td>\n",
       "      <td>2.0</td>\n",
       "      <td>33</td>\n",
       "      <td>False</td>\n",
       "      <td>True</td>\n",
       "      <td>True</td>\n",
       "      <td>76</td>\n",
       "      <td>1</td>\n",
       "      <td>-1</td>\n",
       "      <td>0</td>\n",
       "      <td>...</td>\n",
       "      <td>0</td>\n",
       "      <td>1</td>\n",
       "      <td>0</td>\n",
       "      <td>1</td>\n",
       "      <td>0</td>\n",
       "      <td>0</td>\n",
       "      <td>0</td>\n",
       "      <td>0</td>\n",
       "      <td>1</td>\n",
       "      <td>0</td>\n",
       "    </tr>\n",
       "    <tr>\n",
       "      <th>3</th>\n",
       "      <td>0.0</td>\n",
       "      <td>0.0</td>\n",
       "      <td>47</td>\n",
       "      <td>False</td>\n",
       "      <td>True</td>\n",
       "      <td>False</td>\n",
       "      <td>92</td>\n",
       "      <td>1</td>\n",
       "      <td>-1</td>\n",
       "      <td>0</td>\n",
       "      <td>...</td>\n",
       "      <td>0</td>\n",
       "      <td>0</td>\n",
       "      <td>0</td>\n",
       "      <td>1</td>\n",
       "      <td>0</td>\n",
       "      <td>0</td>\n",
       "      <td>0</td>\n",
       "      <td>0</td>\n",
       "      <td>0</td>\n",
       "      <td>1</td>\n",
       "    </tr>\n",
       "    <tr>\n",
       "      <th>4</th>\n",
       "      <td>1.0</td>\n",
       "      <td>1.0</td>\n",
       "      <td>33</td>\n",
       "      <td>False</td>\n",
       "      <td>False</td>\n",
       "      <td>False</td>\n",
       "      <td>198</td>\n",
       "      <td>1</td>\n",
       "      <td>-1</td>\n",
       "      <td>0</td>\n",
       "      <td>...</td>\n",
       "      <td>0</td>\n",
       "      <td>0</td>\n",
       "      <td>0</td>\n",
       "      <td>1</td>\n",
       "      <td>0</td>\n",
       "      <td>0</td>\n",
       "      <td>0</td>\n",
       "      <td>0</td>\n",
       "      <td>1</td>\n",
       "      <td>0</td>\n",
       "    </tr>\n",
       "  </tbody>\n",
       "</table>\n",
       "<p>5 rows × 25 columns</p>\n",
       "</div>"
      ],
      "text/plain": [
       "   number_transactions  total_amount_usd  age  default  housing   loan  \\\n",
       "0                  3.0            2143.0   58    False     True  False   \n",
       "1                  0.0               0.0   44    False     True  False   \n",
       "2                  2.0               2.0   33    False     True   True   \n",
       "3                  0.0               0.0   47    False     True  False   \n",
       "4                  1.0               1.0   33    False    False  False   \n",
       "\n",
       "   duration  campaign  pdays  previous  ...  education_primary  \\\n",
       "0       261         1     -1         0  ...                  0   \n",
       "1       151         1     -1         0  ...                  0   \n",
       "2        76         1     -1         0  ...                  0   \n",
       "3        92         1     -1         0  ...                  0   \n",
       "4       198         1     -1         0  ...                  0   \n",
       "\n",
       "   education_secondary  education_tertiary  contact_Unknown  contact_cellular  \\\n",
       "0                    0                   1                1                 0   \n",
       "1                    1                   0                1                 0   \n",
       "2                    1                   0                1                 0   \n",
       "3                    0                   0                1                 0   \n",
       "4                    0                   0                1                 0   \n",
       "\n",
       "   contact_telephone  device_Unknown  device_desktop  device_mobile  \\\n",
       "0                  0               0               0              1   \n",
       "1                  0               0               1              0   \n",
       "2                  0               0               0              1   \n",
       "3                  0               0               0              0   \n",
       "4                  0               0               0              1   \n",
       "\n",
       "   device_tablet  \n",
       "0              0  \n",
       "1              0  \n",
       "2              0  \n",
       "3              1  \n",
       "4              0  \n",
       "\n",
       "[5 rows x 25 columns]"
      ]
     },
     "execution_count": 36,
     "metadata": {},
     "output_type": "execute_result"
    }
   ],
   "source": [
    "# preview the data\n",
    "\n",
    "users_data_cleaned_w_encoding.head(n = 5)"
   ]
  },
  {
   "cell_type": "code",
   "execution_count": 37,
   "id": "8a3dd9c9",
   "metadata": {},
   "outputs": [
    {
     "name": "stdout",
     "output_type": "stream",
     "text": [
      "(45179, 15)\n",
      "(45179, 25)\n"
     ]
    }
   ],
   "source": [
    "print(users_data_cleaned.shape)\n",
    "print(users_data_cleaned_w_encoding.shape)\n",
    "\n",
    "# you should have ten new columns"
   ]
  },
  {
   "cell_type": "code",
   "execution_count": 38,
   "id": "05eb92d8",
   "metadata": {},
   "outputs": [
    {
     "name": "stdout",
     "output_type": "stream",
     "text": [
      "<class 'pandas.core.frame.DataFrame'>\n",
      "Int64Index: 45179 entries, 0 to 45215\n",
      "Data columns (total 25 columns):\n",
      " #   Column               Non-Null Count  Dtype  \n",
      "---  ------               --------------  -----  \n",
      " 0   number_transactions  45179 non-null  float64\n",
      " 1   total_amount_usd     45179 non-null  float64\n",
      " 2   age                  45179 non-null  int64  \n",
      " 3   default              45179 non-null  bool   \n",
      " 4   housing              45179 non-null  bool   \n",
      " 5   loan                 45179 non-null  bool   \n",
      " 6   duration             45179 non-null  int64  \n",
      " 7   campaign             45179 non-null  int64  \n",
      " 8   pdays                45179 non-null  int64  \n",
      " 9   previous             45179 non-null  int64  \n",
      " 10  term_deposit         45179 non-null  bool   \n",
      " 11  marital_divorced     45179 non-null  uint8  \n",
      " 12  marital_married      45179 non-null  uint8  \n",
      " 13  marital_single       45179 non-null  uint8  \n",
      " 14  education_Unknown    45179 non-null  uint8  \n",
      " 15  education_primary    45179 non-null  uint8  \n",
      " 16  education_secondary  45179 non-null  uint8  \n",
      " 17  education_tertiary   45179 non-null  uint8  \n",
      " 18  contact_Unknown      45179 non-null  uint8  \n",
      " 19  contact_cellular     45179 non-null  uint8  \n",
      " 20  contact_telephone    45179 non-null  uint8  \n",
      " 21  device_Unknown       45179 non-null  uint8  \n",
      " 22  device_desktop       45179 non-null  uint8  \n",
      " 23  device_mobile        45179 non-null  uint8  \n",
      " 24  device_tablet        45179 non-null  uint8  \n",
      "dtypes: bool(4), float64(2), int64(5), uint8(14)\n",
      "memory usage: 3.5 MB\n"
     ]
    }
   ],
   "source": [
    "users_data_cleaned_w_encoding.info()\n",
    "\n",
    "# Check all the data is numerical\n",
    "# If not, do not continue"
   ]
  },
  {
   "cell_type": "markdown",
   "id": "5d181697",
   "metadata": {},
   "source": [
    "### Building our Linear Regression Model"
   ]
  },
  {
   "cell_type": "code",
   "execution_count": 39,
   "id": "ec26e8ba",
   "metadata": {},
   "outputs": [],
   "source": [
    "# Step 1. Define the target and features\n",
    "# A supervised machine learning algorithm requires both - uses historical data to uncover relationships between other features of your dataset and the target.\n",
    "\n",
    "target_data = users_data_cleaned_w_encoding[\"total_amount_usd\"]\n",
    "features = users_data_cleaned_w_encoding.drop([\"total_amount_usd\"], axis = 1)\n"
   ]
  },
  {
   "cell_type": "code",
   "execution_count": 40,
   "id": "b39322fe",
   "metadata": {},
   "outputs": [
    {
     "name": "stderr",
     "output_type": "stream",
     "text": [
      "/Users/shaq/.pyenv/versions/3.8.10/lib/python3.8/site-packages/seaborn/_decorators.py:36: FutureWarning: Pass the following variable as a keyword arg: x. From version 0.12, the only valid positional argument will be `data`, and passing other arguments without an explicit keyword will result in an error or misinterpretation.\n",
      "  warnings.warn(\n"
     ]
    },
    {
     "data": {
      "image/png": "[encoded data removed]",
      "text/plain": [
       "<Figure size 432x288 with 1 Axes>"
      ]
     },
     "metadata": {
      "needs_background": "light"
     },
     "output_type": "display_data"
    }
   ],
   "source": [
    "sns.boxplot(target_data);"
   ]
  },
  {
   "cell_type": "code",
   "execution_count": 41,
   "id": "f0509fb7",
   "metadata": {},
   "outputs": [],
   "source": [
    "# Step 2. Split the data into a training and test set\n",
    "# The training data is the data we use to train the machine learning algorithm\n",
    "# the test set is used to evaluate the prediction\n",
    "\n",
    "# using this handy function from scikit-learm to split the data into a training and test dataset\n",
    "# we can adjust the test size to our needs, but it's best practise to train the model on 70 - 80% of the data\n",
    "\n",
    "X_train, X_test, y_train, y_test = train_test_split(\n",
    "                                                features, \n",
    "                                                target_data,\n",
    "                                                test_size = 0.2, \n",
    "                                                random_state = 42)\n"
   ]
  },
  {
   "cell_type": "code",
   "execution_count": 42,
   "id": "32d222ee",
   "metadata": {},
   "outputs": [
    {
     "data": {
      "text/plain": [
       "(36143, 24)"
      ]
     },
     "execution_count": 42,
     "metadata": {},
     "output_type": "execute_result"
    }
   ],
   "source": [
    "X_train.shape"
   ]
  },
  {
   "cell_type": "code",
   "execution_count": 43,
   "id": "2493de82",
   "metadata": {},
   "outputs": [
    {
     "data": {
      "text/plain": [
       "(9036, 24)"
      ]
     },
     "execution_count": 43,
     "metadata": {},
     "output_type": "execute_result"
    }
   ],
   "source": [
    "X_test.shape"
   ]
  },
  {
   "cell_type": "code",
   "execution_count": 44,
   "id": "2c9d9774",
   "metadata": {},
   "outputs": [
    {
     "data": {
      "text/plain": [
       "array([[-0.29308415, -1.30836434, -0.13606742, ..., -0.60421153,\n",
       "         0.80108942, -0.37168148],\n",
       "       [-0.02661519, -0.65081386,  7.34929769, ...,  1.65504952,\n",
       "        -1.24830009, -0.37168148],\n",
       "       [ 0.23985377,  0.38247975, -0.13606742, ...,  1.65504952,\n",
       "        -1.24830009, -0.37168148],\n",
       "       ...,\n",
       "       [-0.02661519, -1.12049278, -0.13606742, ..., -0.60421153,\n",
       "         0.80108942, -0.37168148],\n",
       "       [-0.82602207, -0.74474964, -0.13606742, ..., -0.60421153,\n",
       "         0.80108942, -0.37168148],\n",
       "       [-0.29308415,  0.28854397, -0.13606742, ..., -0.60421153,\n",
       "         0.80108942, -0.37168148]])"
      ]
     },
     "execution_count": 44,
     "metadata": {},
     "output_type": "execute_result"
    }
   ],
   "source": [
    "scaler = StandardScaler()\n",
    "scaler.fit(X_train)\n",
    "\n",
    "# transform training data\n",
    "X_train_scaled = scaler.transform(X_train)\n",
    "X_train_scaled "
   ]
  },
  {
   "cell_type": "code",
   "execution_count": 45,
   "id": "7ba2b146",
   "metadata": {},
   "outputs": [
    {
     "name": "stdout",
     "output_type": "stream",
     "text": [
      "Training Data\n",
      "(36143, 24)\n",
      "(36143,)\n"
     ]
    }
   ],
   "source": [
    "# print the shape of the training data\n",
    "\n",
    "print(\"Training Data\")\n",
    "print(X_train.shape)\n",
    "print(y_train.shape)"
   ]
  },
  {
   "cell_type": "code",
   "execution_count": 46,
   "id": "ab6bcdc3",
   "metadata": {},
   "outputs": [
    {
     "name": "stdout",
     "output_type": "stream",
     "text": [
      "Training Data\n",
      "(36143, 24)\n",
      "(36143,)\n"
     ]
    }
   ],
   "source": [
    "# print the shape of the scale training data\n",
    "\n",
    "print(\"Training Data\")\n",
    "print(X_train_scaled.shape)\n",
    "print(y_train.shape)"
   ]
  },
  {
   "cell_type": "code",
   "execution_count": 47,
   "id": "e36ac9f5",
   "metadata": {},
   "outputs": [
    {
     "name": "stdout",
     "output_type": "stream",
     "text": [
      "\n",
      "Test Data\n",
      "(9036, 24)\n",
      "(9036,)\n"
     ]
    }
   ],
   "source": [
    "# print the shape of the test data \n",
    "\n",
    "print(\"\\nTest Data\")\n",
    "print(X_test.shape)\n",
    "print(y_test.shape)"
   ]
  },
  {
   "cell_type": "code",
   "execution_count": 48,
   "id": "be6aa9f1",
   "metadata": {},
   "outputs": [],
   "source": [
    "# Step 3. Import the Linear Regression model from sklearn\n",
    "\n",
    "lr = LinearRegression()"
   ]
  },
  {
   "cell_type": "code",
   "execution_count": 49,
   "id": "64da557e",
   "metadata": {},
   "outputs": [
    {
     "data": {
      "text/plain": [
       "LinearRegression()"
      ]
     },
     "execution_count": 49,
     "metadata": {},
     "output_type": "execute_result"
    }
   ],
   "source": [
    "# Step 4. Fit the model on the scaled training data\n",
    "\n",
    "lr.fit(X_train_scaled, y_train) \n",
    "\n",
    "# This is your machine learning model!"
   ]
  },
  {
   "cell_type": "code",
   "execution_count": 50,
   "id": "50af2d49",
   "metadata": {},
   "outputs": [
    {
     "data": {
      "text/plain": [
       "array([-6.34369265e+16, -5.87271227e+16, -6.09103173e+16, ...,\n",
       "       -6.34369265e+16, -6.30775373e+16, -6.14827182e+16])"
      ]
     },
     "execution_count": 50,
     "metadata": {},
     "output_type": "execute_result"
    }
   ],
   "source": [
    "# Step 5. Make predictions on unseen data\n",
    "\n",
    "y_pred = lr.predict(X_test) \n",
    "y_pred"
   ]
  },
  {
   "cell_type": "code",
   "execution_count": 51,
   "id": "d066d2ca",
   "metadata": {},
   "outputs": [
    {
     "name": "stdout",
     "output_type": "stream",
     "text": [
      "first five predicted total amounts: [-6.34369265e+16 -5.87271227e+16 -6.09103173e+16 -6.05213691e+16\n",
      " -6.12537319e+16]\n",
      "first five actual total amounts: [3025.0, 197.0, 5057.0, 378.0, 1230.0]\n"
     ]
    }
   ],
   "source": [
    "print(\"first five predicted total amounts:\", y_pred[0:5])\n",
    "print(\"first five actual total amounts:\", list(y_test[0:5]))"
   ]
  },
  {
   "cell_type": "code",
   "execution_count": 52,
   "id": "02a2303e",
   "metadata": {},
   "outputs": [
    {
     "data": {
      "text/plain": [
       "-5.147718415224394e+26"
      ]
     },
     "execution_count": 52,
     "metadata": {},
     "output_type": "execute_result"
    }
   ],
   "source": [
    "# Step 6: Evaluate the model performance\n",
    "\n",
    "r2_score(y_test, y_pred)\n",
    "\n",
    "# R^2 (coefficient of determination) regression score function.\n",
    "# Best possible score is 1.0 and it can be negative (because the model can be arbitrarily worse). \n",
    "\n",
    "# Pretty close to 0. Lets see over the next few weeks we can improve the score.\n"
   ]
  },
  {
   "cell_type": "code",
   "execution_count": 53,
   "id": "9ad945e3",
   "metadata": {},
   "outputs": [
    {
     "data": {
      "text/plain": [
       "6.005473615267066e+16"
      ]
     },
     "execution_count": 53,
     "metadata": {},
     "output_type": "execute_result"
    }
   ],
   "source": [
    "mean_absolute_error(y_test, y_pred)"
   ]
  },
  {
   "cell_type": "code",
   "execution_count": 54,
   "id": "8227f520",
   "metadata": {},
   "outputs": [
    {
     "data": {
      "text/plain": [
       "3.6406033460597487e+33"
      ]
     },
     "execution_count": 54,
     "metadata": {},
     "output_type": "execute_result"
    }
   ],
   "source": [
    "mean_squared_error(y_test, y_pred)"
   ]
  },
  {
   "cell_type": "code",
   "execution_count": 55,
   "id": "21557a81",
   "metadata": {},
   "outputs": [
    {
     "data": {
      "text/plain": [
       "LinearRegression()"
      ]
     },
     "execution_count": 55,
     "metadata": {},
     "output_type": "execute_result"
    }
   ],
   "source": [
    "# question: what sort of results do you get if we do not scale the data?\n",
    "\n",
    "lr = LinearRegression() # importing the machine learning algorithm\n",
    "lr.fit(X_train, y_train) # fitting the training data to algorithm\n"
   ]
  },
  {
   "cell_type": "code",
   "execution_count": 56,
   "id": "8fa00d19",
   "metadata": {},
   "outputs": [
    {
     "data": {
      "text/plain": [
       "array([1573.21790537, 1212.91978156, 1041.89517373, ...,  915.46035613,\n",
       "       1037.4034092 ,  889.18459734])"
      ]
     },
     "execution_count": 56,
     "metadata": {},
     "output_type": "execute_result"
    }
   ],
   "source": [
    "# make predictions based on the trained models\n",
    "y_pred = lr.predict(X_test)\n",
    "y_pred"
   ]
  },
  {
   "cell_type": "code",
   "execution_count": 57,
   "id": "f3cdb76f",
   "metadata": {},
   "outputs": [
    {
     "data": {
      "text/plain": [
       "0.024612036929752668"
      ]
     },
     "execution_count": 57,
     "metadata": {},
     "output_type": "execute_result"
    }
   ],
   "source": [
    "# evaluating the model using evaluation metrics\n",
    "# r2_score\n",
    "r2_score(y_test, y_pred)"
   ]
  },
  {
   "cell_type": "code",
   "execution_count": 58,
   "id": "65005336",
   "metadata": {},
   "outputs": [
    {
     "data": {
      "text/plain": [
       "6898203.039929008"
      ]
     },
     "execution_count": 58,
     "metadata": {},
     "output_type": "execute_result"
    }
   ],
   "source": [
    "mean_squared_error(y_test, y_pred)"
   ]
  },
  {
   "cell_type": "code",
   "execution_count": 59,
   "id": "353fa72b",
   "metadata": {},
   "outputs": [],
   "source": [
    "# Question: Are we able to build a model which improves the r2 score? What could we do?"
   ]
  }
 ],
 "metadata": {
  "kernelspec": {
   "display_name": "Python 3",
   "language": "python",
   "name": "python3"
  },
  "language_info": {
   "codemirror_mode": {
    "name": "ipython",
    "version": 3
   },
   "file_extension": ".py",
   "mimetype": "text/x-python",
   "name": "python",
   "nbconvert_exporter": "python",
   "pygments_lexer": "ipython3",
   "version": "3.8.10"
  }
 },
 "nbformat": 4,
 "nbformat_minor": 5
}
