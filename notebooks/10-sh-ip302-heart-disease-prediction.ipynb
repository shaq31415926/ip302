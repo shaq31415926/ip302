{
 "cells": [
  {
   "cell_type": "markdown",
   "id": "08064459",
   "metadata": {},
   "source": [
    "## Heart Disease Prediction using Machine Learning\n",
    "\n",
    "We will be closely working with a heart disease dataset, and our sole aim is to build a model to detect the probability of person that a patient will have a heart problem or not.\n",
    "\n",
    "Reference: https://www.analyticsvidhya.com/blog/2022/02/heart-disease-prediction-using-machine-learning/"
   ]
  },
  {
   "cell_type": "code",
   "execution_count": 1,
   "id": "ee106afc",
   "metadata": {},
   "outputs": [],
   "source": [
    "# import necessary libraries to explore the data\n",
    "import pandas as pd\n",
    "import numpy as np\n",
    "import seaborn as sns\n",
    "import matplotlib.pyplot as plt\n",
    "\n",
    "from sklearn.preprocessing import MinMaxScaler\n",
    "from sklearn.model_selection import train_test_split\n",
    "from sklearn.linear_model import LogisticRegression\n",
    "from sklearn.tree import DecisionTreeClassifier\n",
    "from xgboost import XGBClassifier\n",
    "from sklearn.ensemble import RandomForestClassifier\n",
    "\n",
    "from sklearn.metrics import accuracy_score, recall_score, precision_score, f1_score, confusion_matrix, classification_report, ConfusionMatrixDisplay\n",
    "\n",
    "# import python scripts we created to help with feature engineering\n",
    "import os\n",
    "import sys\n",
    "module_path = os.path.abspath(os.path.join('..'))\n",
    "if module_path not in sys.path:\n",
    "    sys.path.append(module_path)\n",
    "from src.helpers import identify_missing_data, feature_importance_plot\n",
    "from src.learning_curve_plot import learning_curve_plot\n",
    "\n",
    "import warnings \n",
    "warnings.filterwarnings('ignore')"
   ]
  },
  {
   "cell_type": "markdown",
   "id": "1a91f3bb",
   "metadata": {},
   "source": [
    "## Read and Explore the Data"
   ]
  },
  {
   "cell_type": "code",
   "execution_count": 2,
   "id": "541adf2d",
   "metadata": {},
   "outputs": [
    {
     "data": {
      "text/html": [
       "<div>\n",
       "<style scoped>\n",
       "    .dataframe tbody tr th:only-of-type {\n",
       "        vertical-align: middle;\n",
       "    }\n",
       "\n",
       "    .dataframe tbody tr th {\n",
       "        vertical-align: top;\n",
       "    }\n",
       "\n",
       "    .dataframe thead th {\n",
       "        text-align: right;\n",
       "    }\n",
       "</style>\n",
       "<table border=\"1\" class=\"dataframe\">\n",
       "  <thead>\n",
       "    <tr style=\"text-align: right;\">\n",
       "      <th></th>\n",
       "      <th>age</th>\n",
       "      <th>sex</th>\n",
       "      <th>cp</th>\n",
       "      <th>trestbps</th>\n",
       "      <th>chol</th>\n",
       "      <th>fbs</th>\n",
       "      <th>restecg</th>\n",
       "      <th>thalach</th>\n",
       "      <th>exang</th>\n",
       "      <th>oldpeak</th>\n",
       "      <th>slope</th>\n",
       "      <th>ca</th>\n",
       "      <th>thal</th>\n",
       "      <th>target</th>\n",
       "    </tr>\n",
       "  </thead>\n",
       "  <tbody>\n",
       "    <tr>\n",
       "      <th>0</th>\n",
       "      <td>28</td>\n",
       "      <td>1</td>\n",
       "      <td>2</td>\n",
       "      <td>130.0</td>\n",
       "      <td>132.0</td>\n",
       "      <td>0.0</td>\n",
       "      <td>2.0</td>\n",
       "      <td>185.0</td>\n",
       "      <td>0.0</td>\n",
       "      <td>0.0</td>\n",
       "      <td>NaN</td>\n",
       "      <td>NaN</td>\n",
       "      <td>NaN</td>\n",
       "      <td>0</td>\n",
       "    </tr>\n",
       "    <tr>\n",
       "      <th>1</th>\n",
       "      <td>29</td>\n",
       "      <td>1</td>\n",
       "      <td>2</td>\n",
       "      <td>120.0</td>\n",
       "      <td>243.0</td>\n",
       "      <td>0.0</td>\n",
       "      <td>0.0</td>\n",
       "      <td>160.0</td>\n",
       "      <td>0.0</td>\n",
       "      <td>0.0</td>\n",
       "      <td>NaN</td>\n",
       "      <td>NaN</td>\n",
       "      <td>NaN</td>\n",
       "      <td>0</td>\n",
       "    </tr>\n",
       "    <tr>\n",
       "      <th>2</th>\n",
       "      <td>29</td>\n",
       "      <td>1</td>\n",
       "      <td>2</td>\n",
       "      <td>140.0</td>\n",
       "      <td>NaN</td>\n",
       "      <td>0.0</td>\n",
       "      <td>0.0</td>\n",
       "      <td>170.0</td>\n",
       "      <td>0.0</td>\n",
       "      <td>0.0</td>\n",
       "      <td>NaN</td>\n",
       "      <td>NaN</td>\n",
       "      <td>NaN</td>\n",
       "      <td>0</td>\n",
       "    </tr>\n",
       "    <tr>\n",
       "      <th>3</th>\n",
       "      <td>30</td>\n",
       "      <td>0</td>\n",
       "      <td>1</td>\n",
       "      <td>170.0</td>\n",
       "      <td>237.0</td>\n",
       "      <td>0.0</td>\n",
       "      <td>1.0</td>\n",
       "      <td>170.0</td>\n",
       "      <td>0.0</td>\n",
       "      <td>0.0</td>\n",
       "      <td>NaN</td>\n",
       "      <td>NaN</td>\n",
       "      <td>6.0</td>\n",
       "      <td>0</td>\n",
       "    </tr>\n",
       "    <tr>\n",
       "      <th>4</th>\n",
       "      <td>31</td>\n",
       "      <td>0</td>\n",
       "      <td>2</td>\n",
       "      <td>100.0</td>\n",
       "      <td>219.0</td>\n",
       "      <td>0.0</td>\n",
       "      <td>1.0</td>\n",
       "      <td>150.0</td>\n",
       "      <td>0.0</td>\n",
       "      <td>0.0</td>\n",
       "      <td>NaN</td>\n",
       "      <td>NaN</td>\n",
       "      <td>NaN</td>\n",
       "      <td>0</td>\n",
       "    </tr>\n",
       "  </tbody>\n",
       "</table>\n",
       "</div>"
      ],
      "text/plain": [
       "   age  sex  cp  trestbps   chol  fbs  restecg  thalach  exang  oldpeak   \n",
       "0   28    1   2     130.0  132.0  0.0      2.0    185.0    0.0      0.0  \\\n",
       "1   29    1   2     120.0  243.0  0.0      0.0    160.0    0.0      0.0   \n",
       "2   29    1   2     140.0    NaN  0.0      0.0    170.0    0.0      0.0   \n",
       "3   30    0   1     170.0  237.0  0.0      1.0    170.0    0.0      0.0   \n",
       "4   31    0   2     100.0  219.0  0.0      1.0    150.0    0.0      0.0   \n",
       "\n",
       "   slope  ca  thal  target  \n",
       "0    NaN NaN   NaN       0  \n",
       "1    NaN NaN   NaN       0  \n",
       "2    NaN NaN   NaN       0  \n",
       "3    NaN NaN   6.0       0  \n",
       "4    NaN NaN   NaN       0  "
      ]
     },
     "execution_count": 2,
     "metadata": {},
     "output_type": "execute_result"
    }
   ],
   "source": [
    "# read the data\n",
    "\n",
    "heart_disease_data = pd.read_csv('../data/heart_attack_data.csv')\n",
    "\n",
    "# preview the data\n",
    "heart_disease_data.head()"
   ]
  },
  {
   "cell_type": "code",
   "execution_count": 3,
   "id": "9f0bdd55",
   "metadata": {},
   "outputs": [
    {
     "data": {
      "text/plain": [
       "(294, 14)"
      ]
     },
     "execution_count": 3,
     "metadata": {},
     "output_type": "execute_result"
    }
   ],
   "source": [
    "# check the shape of the data\n",
    "\n",
    "heart_disease_data.shape\n",
    "\n",
    "# we have 294 rows of data, and 14 potential features.\n",
    "# small data set"
   ]
  },
  {
   "cell_type": "code",
   "execution_count": 4,
   "id": "373aed4d",
   "metadata": {},
   "outputs": [
    {
     "name": "stdout",
     "output_type": "stream",
     "text": [
      "<class 'pandas.core.frame.DataFrame'>\n",
      "RangeIndex: 294 entries, 0 to 293\n",
      "Data columns (total 14 columns):\n",
      " #   Column    Non-Null Count  Dtype  \n",
      "---  ------    --------------  -----  \n",
      " 0   age       294 non-null    int64  \n",
      " 1   sex       294 non-null    int64  \n",
      " 2   cp        294 non-null    int64  \n",
      " 3   trestbps  293 non-null    float64\n",
      " 4   chol      271 non-null    float64\n",
      " 5   fbs       286 non-null    float64\n",
      " 6   restecg   293 non-null    float64\n",
      " 7   thalach   293 non-null    float64\n",
      " 8   exang     293 non-null    float64\n",
      " 9   oldpeak   294 non-null    float64\n",
      " 10  slope     104 non-null    float64\n",
      " 11  ca        3 non-null      float64\n",
      " 12  thal      28 non-null     float64\n",
      " 13  target    294 non-null    int64  \n",
      "dtypes: float64(10), int64(4)\n",
      "memory usage: 32.3 KB\n"
     ]
    }
   ],
   "source": [
    "# check the summary information of the data\n",
    "\n",
    "heart_disease_data.info()\n",
    "\n",
    "# do we have any categorical data that needs processing?"
   ]
  },
  {
   "cell_type": "code",
   "execution_count": 5,
   "id": "0e899136",
   "metadata": {},
   "outputs": [
    {
     "data": {
      "text/plain": [
       "target\n",
       "0    0.639456\n",
       "1    0.360544\n",
       "Name: proportion, dtype: float64"
      ]
     },
     "execution_count": 5,
     "metadata": {},
     "output_type": "execute_result"
    }
   ],
   "source": [
    "# check the distribution of the target\n",
    "\n",
    "heart_disease_data.target.value_counts(dropna = True, normalize = True)\n",
    "\n",
    "# The data is slightly imbalanced, with roughly 36% of patients having had a heart disease"
   ]
  },
  {
   "cell_type": "code",
   "execution_count": 6,
   "id": "63178fe2",
   "metadata": {},
   "outputs": [
    {
     "data": {
      "image/png": "[encoded data removed]",
      "text/plain": [
       "<Figure size 640x480 with 1 Axes>"
      ]
     },
     "metadata": {},
     "output_type": "display_data"
    }
   ],
   "source": [
    "# visualise the distribution of the target\n",
    "\n",
    "heart_disease_data.target.value_counts(normalize = True).plot(kind = 'bar')\n",
    "plt.title(\"Distribution of the target variable\");\n",
    "\n",
    "# This is an example of an imbalanced dataset"
   ]
  },
  {
   "cell_type": "code",
   "execution_count": 7,
   "id": "93883a50",
   "metadata": {},
   "outputs": [
    {
     "data": {
      "text/html": [
       "<div>\n",
       "<style scoped>\n",
       "    .dataframe tbody tr th:only-of-type {\n",
       "        vertical-align: middle;\n",
       "    }\n",
       "\n",
       "    .dataframe tbody tr th {\n",
       "        vertical-align: top;\n",
       "    }\n",
       "\n",
       "    .dataframe thead th {\n",
       "        text-align: right;\n",
       "    }\n",
       "</style>\n",
       "<table border=\"1\" class=\"dataframe\">\n",
       "  <thead>\n",
       "    <tr style=\"text-align: right;\">\n",
       "      <th></th>\n",
       "      <th>feature</th>\n",
       "      <th>percent_missing</th>\n",
       "      <th>data_type</th>\n",
       "    </tr>\n",
       "  </thead>\n",
       "  <tbody>\n",
       "    <tr>\n",
       "      <th>0</th>\n",
       "      <td>ca</td>\n",
       "      <td>98.98</td>\n",
       "      <td>float64</td>\n",
       "    </tr>\n",
       "    <tr>\n",
       "      <th>1</th>\n",
       "      <td>thal</td>\n",
       "      <td>90.48</td>\n",
       "      <td>float64</td>\n",
       "    </tr>\n",
       "    <tr>\n",
       "      <th>2</th>\n",
       "      <td>slope</td>\n",
       "      <td>64.63</td>\n",
       "      <td>float64</td>\n",
       "    </tr>\n",
       "    <tr>\n",
       "      <th>3</th>\n",
       "      <td>chol</td>\n",
       "      <td>7.82</td>\n",
       "      <td>float64</td>\n",
       "    </tr>\n",
       "    <tr>\n",
       "      <th>4</th>\n",
       "      <td>fbs</td>\n",
       "      <td>2.72</td>\n",
       "      <td>float64</td>\n",
       "    </tr>\n",
       "    <tr>\n",
       "      <th>5</th>\n",
       "      <td>trestbps</td>\n",
       "      <td>0.34</td>\n",
       "      <td>float64</td>\n",
       "    </tr>\n",
       "    <tr>\n",
       "      <th>6</th>\n",
       "      <td>restecg</td>\n",
       "      <td>0.34</td>\n",
       "      <td>float64</td>\n",
       "    </tr>\n",
       "    <tr>\n",
       "      <th>7</th>\n",
       "      <td>thalach</td>\n",
       "      <td>0.34</td>\n",
       "      <td>float64</td>\n",
       "    </tr>\n",
       "    <tr>\n",
       "      <th>8</th>\n",
       "      <td>exang</td>\n",
       "      <td>0.34</td>\n",
       "      <td>float64</td>\n",
       "    </tr>\n",
       "  </tbody>\n",
       "</table>\n",
       "</div>"
      ],
      "text/plain": [
       "    feature  percent_missing data_type\n",
       "0        ca            98.98   float64\n",
       "1      thal            90.48   float64\n",
       "2     slope            64.63   float64\n",
       "3      chol             7.82   float64\n",
       "4       fbs             2.72   float64\n",
       "5  trestbps             0.34   float64\n",
       "6   restecg             0.34   float64\n",
       "7   thalach             0.34   float64\n",
       "8     exang             0.34   float64"
      ]
     },
     "execution_count": 7,
     "metadata": {},
     "output_type": "execute_result"
    }
   ],
   "source": [
    "# question: check how much missing data do we have\n",
    "\n",
    "missing_value_df = identify_missing_data(heart_disease_data)\n",
    "missing_value_df\n"
   ]
  },
  {
   "cell_type": "code",
   "execution_count": 8,
   "id": "24fd199b",
   "metadata": {},
   "outputs": [
    {
     "name": "stdout",
     "output_type": "stream",
     "text": [
      "# of features with missing data: 9\n"
     ]
    }
   ],
   "source": [
    "print(\"# of features with missing data:\", missing_value_df.shape[0])"
   ]
  },
  {
   "cell_type": "markdown",
   "id": "f9c679e9",
   "metadata": {},
   "source": [
    "## Data Cleaning"
   ]
  },
  {
   "cell_type": "code",
   "execution_count": 9,
   "id": "fec28d85",
   "metadata": {},
   "outputs": [],
   "source": [
    "# drop features which have more than 70% missing values\n",
    "# I have picked a higher threshold because slope is highly correlated with the target\n",
    "\n",
    "# option 1\n",
    "heart_disease_data_cleaned = heart_disease_data.drop(['thal', 'ca'], axis = 1)"
   ]
  },
  {
   "cell_type": "code",
   "execution_count": 10,
   "id": "5004b539",
   "metadata": {},
   "outputs": [
    {
     "name": "stdout",
     "output_type": "stream",
     "text": [
      "number of columns to drop: 2\n",
      "['ca', 'thal']\n"
     ]
    }
   ],
   "source": [
    "# option 2 - identify cols to drop\n",
    "cols_to_drop = list(missing_value_df[missing_value_df.percent_missing > 70].feature)\n",
    "print(\"number of columns to drop:\", len(cols_to_drop))\n",
    "print(cols_to_drop)\n",
    "\n",
    "heart_disease_data_cleaned = heart_disease_data.drop(cols_to_drop, axis = 1)"
   ]
  },
  {
   "cell_type": "code",
   "execution_count": 11,
   "id": "1b891ab0",
   "metadata": {},
   "outputs": [
    {
     "data": {
      "text/html": [
       "<div>\n",
       "<style scoped>\n",
       "    .dataframe tbody tr th:only-of-type {\n",
       "        vertical-align: middle;\n",
       "    }\n",
       "\n",
       "    .dataframe tbody tr th {\n",
       "        vertical-align: top;\n",
       "    }\n",
       "\n",
       "    .dataframe thead th {\n",
       "        text-align: right;\n",
       "    }\n",
       "</style>\n",
       "<table border=\"1\" class=\"dataframe\">\n",
       "  <thead>\n",
       "    <tr style=\"text-align: right;\">\n",
       "      <th></th>\n",
       "      <th>feature</th>\n",
       "      <th>percent_missing</th>\n",
       "      <th>data_type</th>\n",
       "    </tr>\n",
       "  </thead>\n",
       "  <tbody>\n",
       "    <tr>\n",
       "      <th>0</th>\n",
       "      <td>slope</td>\n",
       "      <td>64.63</td>\n",
       "      <td>float64</td>\n",
       "    </tr>\n",
       "    <tr>\n",
       "      <th>1</th>\n",
       "      <td>chol</td>\n",
       "      <td>7.82</td>\n",
       "      <td>float64</td>\n",
       "    </tr>\n",
       "    <tr>\n",
       "      <th>2</th>\n",
       "      <td>fbs</td>\n",
       "      <td>2.72</td>\n",
       "      <td>float64</td>\n",
       "    </tr>\n",
       "    <tr>\n",
       "      <th>3</th>\n",
       "      <td>trestbps</td>\n",
       "      <td>0.34</td>\n",
       "      <td>float64</td>\n",
       "    </tr>\n",
       "    <tr>\n",
       "      <th>4</th>\n",
       "      <td>restecg</td>\n",
       "      <td>0.34</td>\n",
       "      <td>float64</td>\n",
       "    </tr>\n",
       "    <tr>\n",
       "      <th>5</th>\n",
       "      <td>thalach</td>\n",
       "      <td>0.34</td>\n",
       "      <td>float64</td>\n",
       "    </tr>\n",
       "    <tr>\n",
       "      <th>6</th>\n",
       "      <td>exang</td>\n",
       "      <td>0.34</td>\n",
       "      <td>float64</td>\n",
       "    </tr>\n",
       "  </tbody>\n",
       "</table>\n",
       "</div>"
      ],
      "text/plain": [
       "    feature  percent_missing data_type\n",
       "0     slope            64.63   float64\n",
       "1      chol             7.82   float64\n",
       "2       fbs             2.72   float64\n",
       "3  trestbps             0.34   float64\n",
       "4   restecg             0.34   float64\n",
       "5   thalach             0.34   float64\n",
       "6     exang             0.34   float64"
      ]
     },
     "execution_count": 11,
     "metadata": {},
     "output_type": "execute_result"
    }
   ],
   "source": [
    "# check the columns were dropped\n",
    "\n",
    "missing_value_df = identify_missing_data(heart_disease_data_cleaned)\n",
    "missing_value_df\n",
    "\n",
    "# we have 7 features with missing data left"
   ]
  },
  {
   "cell_type": "code",
   "execution_count": 12,
   "id": "5e895806",
   "metadata": {},
   "outputs": [
    {
     "data": {
      "text/html": [
       "<div>\n",
       "<style scoped>\n",
       "    .dataframe tbody tr th:only-of-type {\n",
       "        vertical-align: middle;\n",
       "    }\n",
       "\n",
       "    .dataframe tbody tr th {\n",
       "        vertical-align: top;\n",
       "    }\n",
       "\n",
       "    .dataframe thead th {\n",
       "        text-align: right;\n",
       "    }\n",
       "</style>\n",
       "<table border=\"1\" class=\"dataframe\">\n",
       "  <thead>\n",
       "    <tr style=\"text-align: right;\">\n",
       "      <th></th>\n",
       "      <th>age</th>\n",
       "      <th>sex</th>\n",
       "      <th>cp</th>\n",
       "      <th>trestbps</th>\n",
       "      <th>chol</th>\n",
       "      <th>fbs</th>\n",
       "      <th>restecg</th>\n",
       "      <th>thalach</th>\n",
       "      <th>exang</th>\n",
       "      <th>oldpeak</th>\n",
       "      <th>slope</th>\n",
       "      <th>target</th>\n",
       "    </tr>\n",
       "  </thead>\n",
       "  <tbody>\n",
       "    <tr>\n",
       "      <th>101</th>\n",
       "      <td>49</td>\n",
       "      <td>0</td>\n",
       "      <td>2</td>\n",
       "      <td>110.0</td>\n",
       "      <td>NaN</td>\n",
       "      <td>0.0</td>\n",
       "      <td>0.0</td>\n",
       "      <td>160.0</td>\n",
       "      <td>0.0</td>\n",
       "      <td>0.0</td>\n",
       "      <td>NaN</td>\n",
       "      <td>0</td>\n",
       "    </tr>\n",
       "    <tr>\n",
       "      <th>102</th>\n",
       "      <td>49</td>\n",
       "      <td>0</td>\n",
       "      <td>2</td>\n",
       "      <td>110.0</td>\n",
       "      <td>NaN</td>\n",
       "      <td>0.0</td>\n",
       "      <td>0.0</td>\n",
       "      <td>160.0</td>\n",
       "      <td>0.0</td>\n",
       "      <td>0.0</td>\n",
       "      <td>NaN</td>\n",
       "      <td>0</td>\n",
       "    </tr>\n",
       "  </tbody>\n",
       "</table>\n",
       "</div>"
      ],
      "text/plain": [
       "     age  sex  cp  trestbps  chol  fbs  restecg  thalach  exang  oldpeak   \n",
       "101   49    0   2     110.0   NaN  0.0      0.0    160.0    0.0      0.0  \\\n",
       "102   49    0   2     110.0   NaN  0.0      0.0    160.0    0.0      0.0   \n",
       "\n",
       "     slope  target  \n",
       "101    NaN       0  \n",
       "102    NaN       0  "
      ]
     },
     "execution_count": 12,
     "metadata": {},
     "output_type": "execute_result"
    }
   ],
   "source": [
    "# check if the data has any duplicates\n",
    "\n",
    "heart_disease_data_cleaned[heart_disease_data_cleaned.duplicated(keep=False)]\n",
    "\n",
    "# this shows two rows that are duplicated"
   ]
  },
  {
   "cell_type": "code",
   "execution_count": 13,
   "id": "41f7828a",
   "metadata": {},
   "outputs": [
    {
     "name": "stdout",
     "output_type": "stream",
     "text": [
      "# of rows with duplicated data data: 2\n"
     ]
    }
   ],
   "source": [
    "print(\"# of rows with duplicated data data:\", heart_disease_data_cleaned[heart_disease_data_cleaned.duplicated(keep=False)].shape[0])"
   ]
  },
  {
   "cell_type": "code",
   "execution_count": 14,
   "id": "494c4522",
   "metadata": {},
   "outputs": [
    {
     "name": "stdout",
     "output_type": "stream",
     "text": [
      "shape of data after dropping with the duplicates: (294, 12)\n",
      "shape of data after dropping one of the duplictaes: (293, 12)\n"
     ]
    }
   ],
   "source": [
    "# going to drop the first appearance of duplicated data\n",
    "\n",
    "print(\"shape of data after dropping with the duplicates:\", heart_disease_data_cleaned.shape)\n",
    "\n",
    "heart_disease_data_cleaned = heart_disease_data_cleaned[~heart_disease_data_cleaned.duplicated(keep='first')]\n",
    "\n",
    "print(\"shape of data after dropping one of the duplictaes:\", heart_disease_data_cleaned.shape)\n",
    "# we dropped one row of data"
   ]
  },
  {
   "cell_type": "markdown",
   "id": "b6a1436e",
   "metadata": {},
   "source": [
    "## Feature Engineering"
   ]
  },
  {
   "cell_type": "markdown",
   "id": "5a56bf5b",
   "metadata": {},
   "source": [
    "The goal of EDA is to understand the data and identify if we need to do any additional data cleaning or feature engineering. From the EDA from last week, and this week, we know:\n",
    "- We have 7 numerical features with missing data left.\n",
    "- All the features have a numerical data type type, so we do not have to do any additonal encoding\n",
    "- Since we have no highly correlated features (positive or negative), we do not have to drop any features\n",
    "- From the EDA last week, we identified one feature with low standard deviation. However, this was also dropped during the data cleaning. \n",
    "\n",
    "\n",
    "We just need to handle the missing data in this step."
   ]
  },
  {
   "cell_type": "markdown",
   "id": "c2f0686a",
   "metadata": {},
   "source": [
    "### Handling Missing Data"
   ]
  },
  {
   "cell_type": "code",
   "execution_count": 15,
   "id": "111c8f1c",
   "metadata": {},
   "outputs": [
    {
     "data": {
      "text/html": [
       "<div>\n",
       "<style scoped>\n",
       "    .dataframe tbody tr th:only-of-type {\n",
       "        vertical-align: middle;\n",
       "    }\n",
       "\n",
       "    .dataframe tbody tr th {\n",
       "        vertical-align: top;\n",
       "    }\n",
       "\n",
       "    .dataframe thead th {\n",
       "        text-align: right;\n",
       "    }\n",
       "</style>\n",
       "<table border=\"1\" class=\"dataframe\">\n",
       "  <thead>\n",
       "    <tr style=\"text-align: right;\">\n",
       "      <th></th>\n",
       "      <th>feature</th>\n",
       "      <th>percent_missing</th>\n",
       "      <th>data_type</th>\n",
       "    </tr>\n",
       "  </thead>\n",
       "  <tbody>\n",
       "    <tr>\n",
       "      <th>0</th>\n",
       "      <td>slope</td>\n",
       "      <td>64.51</td>\n",
       "      <td>float64</td>\n",
       "    </tr>\n",
       "    <tr>\n",
       "      <th>1</th>\n",
       "      <td>chol</td>\n",
       "      <td>7.51</td>\n",
       "      <td>float64</td>\n",
       "    </tr>\n",
       "    <tr>\n",
       "      <th>2</th>\n",
       "      <td>fbs</td>\n",
       "      <td>2.73</td>\n",
       "      <td>float64</td>\n",
       "    </tr>\n",
       "    <tr>\n",
       "      <th>3</th>\n",
       "      <td>trestbps</td>\n",
       "      <td>0.34</td>\n",
       "      <td>float64</td>\n",
       "    </tr>\n",
       "    <tr>\n",
       "      <th>4</th>\n",
       "      <td>restecg</td>\n",
       "      <td>0.34</td>\n",
       "      <td>float64</td>\n",
       "    </tr>\n",
       "    <tr>\n",
       "      <th>5</th>\n",
       "      <td>thalach</td>\n",
       "      <td>0.34</td>\n",
       "      <td>float64</td>\n",
       "    </tr>\n",
       "    <tr>\n",
       "      <th>6</th>\n",
       "      <td>exang</td>\n",
       "      <td>0.34</td>\n",
       "      <td>float64</td>\n",
       "    </tr>\n",
       "  </tbody>\n",
       "</table>\n",
       "</div>"
      ],
      "text/plain": [
       "    feature  percent_missing data_type\n",
       "0     slope            64.51   float64\n",
       "1      chol             7.51   float64\n",
       "2       fbs             2.73   float64\n",
       "3  trestbps             0.34   float64\n",
       "4   restecg             0.34   float64\n",
       "5   thalach             0.34   float64\n",
       "6     exang             0.34   float64"
      ]
     },
     "execution_count": 15,
     "metadata": {},
     "output_type": "execute_result"
    }
   ],
   "source": [
    "missing_value_df = identify_missing_data(heart_disease_data_cleaned)\n",
    "missing_value_df"
   ]
  },
  {
   "cell_type": "code",
   "execution_count": 16,
   "id": "8b2ba548",
   "metadata": {},
   "outputs": [],
   "source": [
    "# fill the remaining features with missing values with 0\n",
    "\n",
    "# Option 1\n",
    "heart_disease_data_cleaned.slope.fillna(0, inplace = True)\n",
    "heart_disease_data_cleaned.chol.fillna(0, inplace = True)\n",
    "heart_disease_data_cleaned.fbs.fillna(0, inplace = True)\n",
    "heart_disease_data_cleaned.trestbps.fillna(0, inplace = True)\n",
    "heart_disease_data_cleaned.restecg.fillna(0, inplace = True)\n",
    "heart_disease_data_cleaned.exang.fillna(0, inplace = True)\n",
    "heart_disease_data_cleaned.thalach.fillna(0, inplace = True)\n"
   ]
  },
  {
   "cell_type": "code",
   "execution_count": 17,
   "id": "36b4feab",
   "metadata": {},
   "outputs": [],
   "source": [
    "# Option 2\n",
    "\n",
    "for f in list(missing_value_df.feature):\n",
    "    heart_disease_data_cleaned[f].fillna(0, inplace = True)"
   ]
  },
  {
   "cell_type": "code",
   "execution_count": 18,
   "id": "bed638f3",
   "metadata": {},
   "outputs": [
    {
     "data": {
      "text/html": [
       "<div>\n",
       "<style scoped>\n",
       "    .dataframe tbody tr th:only-of-type {\n",
       "        vertical-align: middle;\n",
       "    }\n",
       "\n",
       "    .dataframe tbody tr th {\n",
       "        vertical-align: top;\n",
       "    }\n",
       "\n",
       "    .dataframe thead th {\n",
       "        text-align: right;\n",
       "    }\n",
       "</style>\n",
       "<table border=\"1\" class=\"dataframe\">\n",
       "  <thead>\n",
       "    <tr style=\"text-align: right;\">\n",
       "      <th></th>\n",
       "      <th>feature</th>\n",
       "      <th>percent_missing</th>\n",
       "      <th>data_type</th>\n",
       "    </tr>\n",
       "  </thead>\n",
       "  <tbody>\n",
       "  </tbody>\n",
       "</table>\n",
       "</div>"
      ],
      "text/plain": [
       "Empty DataFrame\n",
       "Columns: [feature, percent_missing, data_type]\n",
       "Index: []"
      ]
     },
     "execution_count": 18,
     "metadata": {},
     "output_type": "execute_result"
    }
   ],
   "source": [
    "# check to see if we have any missing values that need handling\n",
    "\n",
    "missing_value_df = identify_missing_data(heart_disease_data_cleaned)\n",
    "missing_value_df"
   ]
  },
  {
   "cell_type": "markdown",
   "id": "e2bd81b9",
   "metadata": {},
   "source": [
    "- We have handled the missing data and since we have no missing data and non numerical data types, we are one step closer to building our ML model.\n",
    "- We will be using Logistic Regression and Decision Trees to build our first Heart Disease Prediction Model we need to scale the data before building our ML model."
   ]
  },
  {
   "cell_type": "code",
   "execution_count": 19,
   "id": "3467ac46",
   "metadata": {},
   "outputs": [],
   "source": [
    "# last thing we need to do before building our ML model is defining the target and features\n",
    "\n",
    "target = heart_disease_data_cleaned[\"target\"]\n",
    "features = heart_disease_data_cleaned.drop([\"target\"], axis = 1)\n"
   ]
  },
  {
   "cell_type": "markdown",
   "id": "363a4569",
   "metadata": {},
   "source": [
    "### Building the ML Model "
   ]
  },
  {
   "cell_type": "markdown",
   "id": "021a6dbd",
   "metadata": {},
   "source": [
    "#### Logistic Regression Model"
   ]
  },
  {
   "cell_type": "code",
   "execution_count": 20,
   "id": "e1011745",
   "metadata": {},
   "outputs": [],
   "source": [
    "# we have to scale the features when training a logistic regression model\n",
    "\n",
    "scaler = MinMaxScaler()\n",
    "scaler.fit(features)\n",
    "# transform training data\n",
    "features_scaled = scaler.transform(features)\n"
   ]
  },
  {
   "cell_type": "code",
   "execution_count": 21,
   "id": "fa120fd0",
   "metadata": {},
   "outputs": [
    {
     "name": "stdout",
     "output_type": "stream",
     "text": [
      "(293, 11)\n",
      "(293, 11)\n"
     ]
    }
   ],
   "source": [
    "# the shape of the features data frame and the scaled features are the same\n",
    "print(features.shape)\n",
    "print(features_scaled.shape)"
   ]
  },
  {
   "cell_type": "code",
   "execution_count": 22,
   "id": "285f4384",
   "metadata": {},
   "outputs": [],
   "source": [
    "# split the heart disease data into training and test data\n",
    "\n",
    "X_train_scaled, X_test_scaled, y_train, y_test = train_test_split(features_scaled, \n",
    "                                                                  target,\n",
    "                                                                  test_size = 0.2, \n",
    "                                                                  random_state = 8888)\n"
   ]
  },
  {
   "cell_type": "code",
   "execution_count": 23,
   "id": "84129997",
   "metadata": {},
   "outputs": [
    {
     "name": "stdout",
     "output_type": "stream",
     "text": [
      "Training Data\n",
      "Shape of X_train (234, 11)\n",
      "Shape of y_train (234,)\n"
     ]
    }
   ],
   "source": [
    "# print the shape of the training data\n",
    "\n",
    "print(\"Training Data\")\n",
    "print(\"Shape of X_train\", X_train_scaled.shape)\n",
    "print(\"Shape of y_train\", y_train.shape)"
   ]
  },
  {
   "cell_type": "code",
   "execution_count": 24,
   "id": "96174711",
   "metadata": {},
   "outputs": [
    {
     "name": "stdout",
     "output_type": "stream",
     "text": [
      "Test Data\n",
      "Shape of X_test (59, 11)\n",
      "Shape of y_test (59,)\n"
     ]
    }
   ],
   "source": [
    "# print the shape of the test data \n",
    "\n",
    "print(\"Test Data\")\n",
    "print(\"Shape of X_test\", X_test_scaled.shape)\n",
    "print(\"Shape of y_test\", y_test.shape)"
   ]
  },
  {
   "cell_type": "code",
   "execution_count": 25,
   "id": "da2f158a",
   "metadata": {},
   "outputs": [],
   "source": [
    "# import the logistic regression model\n",
    "\n",
    "clf = LogisticRegression()\n"
   ]
  },
  {
   "cell_type": "code",
   "execution_count": 26,
   "id": "efd5ed04",
   "metadata": {},
   "outputs": [
    {
     "data": {
      "text/html": [
       "<style>#sk-container-id-1 {color: black;background-color: white;}#sk-container-id-1 pre{padding: 0;}#sk-container-id-1 div.sk-toggleable {background-color: white;}#sk-container-id-1 label.sk-toggleable__label {cursor: pointer;display: block;width: 100%;margin-bottom: 0;padding: 0.3em;box-sizing: border-box;text-align: center;}#sk-container-id-1 label.sk-toggleable__label-arrow:before {content: \"▸\";float: left;margin-right: 0.25em;color: #696969;}#sk-container-id-1 label.sk-toggleable__label-arrow:hover:before {color: black;}#sk-container-id-1 div.sk-estimator:hover label.sk-toggleable__label-arrow:before {color: black;}#sk-container-id-1 div.sk-toggleable__content {max-height: 0;max-width: 0;overflow: hidden;text-align: left;background-color: #f0f8ff;}#sk-container-id-1 div.sk-toggleable__content pre {margin: 0.2em;color: black;border-radius: 0.25em;background-color: #f0f8ff;}#sk-container-id-1 input.sk-toggleable__control:checked~div.sk-toggleable__content {max-height: 200px;max-width: 100%;overflow: auto;}#sk-container-id-1 input.sk-toggleable__control:checked~label.sk-toggleable__label-arrow:before {content: \"▾\";}#sk-container-id-1 div.sk-estimator input.sk-toggleable__control:checked~label.sk-toggleable__label {background-color: #d4ebff;}#sk-container-id-1 div.sk-label input.sk-toggleable__control:checked~label.sk-toggleable__label {background-color: #d4ebff;}#sk-container-id-1 input.sk-hidden--visually {border: 0;clip: rect(1px 1px 1px 1px);clip: rect(1px, 1px, 1px, 1px);height: 1px;margin: -1px;overflow: hidden;padding: 0;position: absolute;width: 1px;}#sk-container-id-1 div.sk-estimator {font-family: monospace;background-color: #f0f8ff;border: 1px dotted black;border-radius: 0.25em;box-sizing: border-box;margin-bottom: 0.5em;}#sk-container-id-1 div.sk-estimator:hover {background-color: #d4ebff;}#sk-container-id-1 div.sk-parallel-item::after {content: \"\";width: 100%;border-bottom: 1px solid gray;flex-grow: 1;}#sk-container-id-1 div.sk-label:hover label.sk-toggleable__label {background-color: #d4ebff;}#sk-container-id-1 div.sk-serial::before {content: \"\";position: absolute;border-left: 1px solid gray;box-sizing: border-box;top: 0;bottom: 0;left: 50%;z-index: 0;}#sk-container-id-1 div.sk-serial {display: flex;flex-direction: column;align-items: center;background-color: white;padding-right: 0.2em;padding-left: 0.2em;position: relative;}#sk-container-id-1 div.sk-item {position: relative;z-index: 1;}#sk-container-id-1 div.sk-parallel {display: flex;align-items: stretch;justify-content: center;background-color: white;position: relative;}#sk-container-id-1 div.sk-item::before, #sk-container-id-1 div.sk-parallel-item::before {content: \"\";position: absolute;border-left: 1px solid gray;box-sizing: border-box;top: 0;bottom: 0;left: 50%;z-index: -1;}#sk-container-id-1 div.sk-parallel-item {display: flex;flex-direction: column;z-index: 1;position: relative;background-color: white;}#sk-container-id-1 div.sk-parallel-item:first-child::after {align-self: flex-end;width: 50%;}#sk-container-id-1 div.sk-parallel-item:last-child::after {align-self: flex-start;width: 50%;}#sk-container-id-1 div.sk-parallel-item:only-child::after {width: 0;}#sk-container-id-1 div.sk-dashed-wrapped {border: 1px dashed gray;margin: 0 0.4em 0.5em 0.4em;box-sizing: border-box;padding-bottom: 0.4em;background-color: white;}#sk-container-id-1 div.sk-label label {font-family: monospace;font-weight: bold;display: inline-block;line-height: 1.2em;}#sk-container-id-1 div.sk-label-container {text-align: center;}#sk-container-id-1 div.sk-container {/* jupyter's `normalize.less` sets `[hidden] { display: none; }` but bootstrap.min.css set `[hidden] { display: none !important; }` so we also need the `!important` here to be able to override the default hidden behavior on the sphinx rendered scikit-learn.org. See: https://github.com/scikit-learn/scikit-learn/issues/21755 */display: inline-block !important;position: relative;}#sk-container-id-1 div.sk-text-repr-fallback {display: none;}</style><div id=\"sk-container-id-1\" class=\"sk-top-container\"><div class=\"sk-text-repr-fallback\"><pre>LogisticRegression()</pre><b>In a Jupyter environment, please rerun this cell to show the HTML representation or trust the notebook. <br />On GitHub, the HTML representation is unable to render, please try loading this page with nbviewer.org.</b></div><div class=\"sk-container\" hidden><div class=\"sk-item\"><div class=\"sk-estimator sk-toggleable\"><input class=\"sk-toggleable__control sk-hidden--visually\" id=\"sk-estimator-id-1\" type=\"checkbox\" checked><label for=\"sk-estimator-id-1\" class=\"sk-toggleable__label sk-toggleable__label-arrow\">LogisticRegression</label><div class=\"sk-toggleable__content\"><pre>LogisticRegression()</pre></div></div></div></div></div>"
      ],
      "text/plain": [
       "LogisticRegression()"
      ]
     },
     "execution_count": 26,
     "metadata": {},
     "output_type": "execute_result"
    }
   ],
   "source": [
    "# fit the model to the training data\n",
    "\n",
    "clf.fit(X_train_scaled, y_train)"
   ]
  },
  {
   "cell_type": "code",
   "execution_count": 27,
   "id": "d6d3982f",
   "metadata": {},
   "outputs": [
    {
     "data": {
      "text/plain": [
       "array([0, 1, 1, 0, 0, 0, 1, 0, 1, 0, 0, 0, 1, 0, 0, 0, 1, 0, 0, 0, 0, 0,\n",
       "       1, 1, 0, 0, 0, 0, 0, 0, 1, 1, 1, 1, 0, 0, 1, 0, 0, 0, 0, 0, 1, 0,\n",
       "       1, 1, 1, 0, 0, 0, 0, 0, 0, 0, 0, 0, 0, 0, 0])"
      ]
     },
     "execution_count": 27,
     "metadata": {},
     "output_type": "execute_result"
    }
   ],
   "source": [
    "# use the trained model to make predictions on the test data\n",
    "\n",
    "y_pred_lr = clf.predict(X_test_scaled)\n",
    "y_pred_lr"
   ]
  },
  {
   "cell_type": "code",
   "execution_count": 28,
   "id": "657aef46",
   "metadata": {},
   "outputs": [
    {
     "name": "stdout",
     "output_type": "stream",
     "text": [
      "first five predicted values: [0 1 1 0 0]\n",
      "first five actual values: [0, 1, 1, 0, 0]\n"
     ]
    }
   ],
   "source": [
    "print(\"first five predicted values:\", y_pred_lr[0:5])\n",
    "print(\"first five actual values:\", list(y_test[0:5]))\n",
    "\n",
    "# can compare the first five predicted and actual values"
   ]
  },
  {
   "cell_type": "code",
   "execution_count": 29,
   "id": "54eaa0b1",
   "metadata": {},
   "outputs": [
    {
     "name": "stdout",
     "output_type": "stream",
     "text": [
      "accuracy: 0.8\n",
      "recall: 0.63\n",
      "precision: 0.71\n",
      "f1-score: 0.67\n"
     ]
    }
   ],
   "source": [
    "print(\"accuracy:\", round(accuracy_score(y_test, y_pred_lr), 2))\n",
    "print(\"recall:\", round(recall_score(y_test, y_pred_lr), 2))\n",
    "print(\"precision:\", round(precision_score(y_test, y_pred_lr), 2))\n",
    "print(\"f1-score:\", round(f1_score(y_test, y_pred_lr), 2))\n"
   ]
  },
  {
   "cell_type": "code",
   "execution_count": 30,
   "id": "a2da48e8",
   "metadata": {},
   "outputs": [
    {
     "data": {
      "image/png": "[encoded data removed]",
      "text/plain": [
       "<Figure size 640x480 with 2 Axes>"
      ]
     },
     "metadata": {},
     "output_type": "display_data"
    }
   ],
   "source": [
    "# can also visualise the predictions to see where the model has incorrectly classified the data\n",
    "\n",
    "cm = confusion_matrix(y_test, y_pred_lr)\n",
    "disp = ConfusionMatrixDisplay(confusion_matrix=cm,\n",
    "                               display_labels=clf.classes_)\n",
    "\n",
    "disp.plot()\n",
    "plt.show()"
   ]
  },
  {
   "cell_type": "code",
   "execution_count": 31,
   "id": "dc4a83fc",
   "metadata": {
    "scrolled": true
   },
   "outputs": [
    {
     "name": "stdout",
     "output_type": "stream",
     "text": [
      "              precision    recall  f1-score   support\n",
      "\n",
      "           0       0.83      0.88      0.85        40\n",
      "           1       0.71      0.63      0.67        19\n",
      "\n",
      "    accuracy                           0.80        59\n",
      "   macro avg       0.77      0.75      0.76        59\n",
      "weighted avg       0.79      0.80      0.79        59\n",
      "\n"
     ]
    }
   ],
   "source": [
    "print(classification_report(y_test, y_pred_lr))\n",
    "\n",
    "# this report summarises the evaluation metrics from above. \n",
    "# Looks like the model is better at predicting patients without heart disease"
   ]
  },
  {
   "cell_type": "code",
   "execution_count": 33,
   "id": "53dab8e5",
   "metadata": {},
   "outputs": [
    {
     "data": {
      "image/png": "[encoded data removed]",
      "text/plain": [
       "<Figure size 500x500 with 1 Axes>"
      ]
     },
     "metadata": {},
     "output_type": "display_data"
    }
   ],
   "source": [
    "# Plot the learning curve\n",
    "\n",
    "learning_curve_plot(clf, X_train_scaled, y_train, scoring = 'accuracy')"
   ]
  },
  {
   "cell_type": "markdown",
   "id": "c720fe69",
   "metadata": {},
   "source": [
    "#### Decision Tree"
   ]
  },
  {
   "cell_type": "code",
   "execution_count": 34,
   "id": "0f457d90",
   "metadata": {},
   "outputs": [],
   "source": [
    "# We do not have to use scaled data for decision tree based algorithms\n",
    "# so start by splitting data into train and test sets again\n",
    "\n",
    "X_train, X_test, y_train, y_test = train_test_split(\n",
    "                                                features, \n",
    "                                                target,\n",
    "                                                test_size = 0.2, \n",
    "                                                random_state = 8888)"
   ]
  },
  {
   "cell_type": "code",
   "execution_count": 35,
   "id": "1b0430e0",
   "metadata": {},
   "outputs": [
    {
     "name": "stdout",
     "output_type": "stream",
     "text": [
      "Training Data\n",
      "Shape of X_train (234, 11)\n",
      "Shape of y_train (234,)\n"
     ]
    }
   ],
   "source": [
    "# print the shape of the training data\n",
    "\n",
    "print(\"Training Data\")\n",
    "print(\"Shape of X_train\", X_train.shape)\n",
    "print(\"Shape of y_train\", y_train.shape)"
   ]
  },
  {
   "cell_type": "code",
   "execution_count": 36,
   "id": "02bc0264",
   "metadata": {},
   "outputs": [
    {
     "name": "stdout",
     "output_type": "stream",
     "text": [
      "Test Data\n",
      "Shape of X_test (59, 11)\n",
      "Shape of y_test (59,)\n"
     ]
    }
   ],
   "source": [
    "# print the shape of the test data \n",
    "\n",
    "print(\"Test Data\")\n",
    "print(\"Shape of X_test\", X_test.shape)\n",
    "print(\"Shape of y_test\", y_test.shape)"
   ]
  },
  {
   "cell_type": "code",
   "execution_count": 37,
   "id": "b44bc7c6",
   "metadata": {},
   "outputs": [
    {
     "data": {
      "text/html": [
       "<style>#sk-container-id-2 {color: black;background-color: white;}#sk-container-id-2 pre{padding: 0;}#sk-container-id-2 div.sk-toggleable {background-color: white;}#sk-container-id-2 label.sk-toggleable__label {cursor: pointer;display: block;width: 100%;margin-bottom: 0;padding: 0.3em;box-sizing: border-box;text-align: center;}#sk-container-id-2 label.sk-toggleable__label-arrow:before {content: \"▸\";float: left;margin-right: 0.25em;color: #696969;}#sk-container-id-2 label.sk-toggleable__label-arrow:hover:before {color: black;}#sk-container-id-2 div.sk-estimator:hover label.sk-toggleable__label-arrow:before {color: black;}#sk-container-id-2 div.sk-toggleable__content {max-height: 0;max-width: 0;overflow: hidden;text-align: left;background-color: #f0f8ff;}#sk-container-id-2 div.sk-toggleable__content pre {margin: 0.2em;color: black;border-radius: 0.25em;background-color: #f0f8ff;}#sk-container-id-2 input.sk-toggleable__control:checked~div.sk-toggleable__content {max-height: 200px;max-width: 100%;overflow: auto;}#sk-container-id-2 input.sk-toggleable__control:checked~label.sk-toggleable__label-arrow:before {content: \"▾\";}#sk-container-id-2 div.sk-estimator input.sk-toggleable__control:checked~label.sk-toggleable__label {background-color: #d4ebff;}#sk-container-id-2 div.sk-label input.sk-toggleable__control:checked~label.sk-toggleable__label {background-color: #d4ebff;}#sk-container-id-2 input.sk-hidden--visually {border: 0;clip: rect(1px 1px 1px 1px);clip: rect(1px, 1px, 1px, 1px);height: 1px;margin: -1px;overflow: hidden;padding: 0;position: absolute;width: 1px;}#sk-container-id-2 div.sk-estimator {font-family: monospace;background-color: #f0f8ff;border: 1px dotted black;border-radius: 0.25em;box-sizing: border-box;margin-bottom: 0.5em;}#sk-container-id-2 div.sk-estimator:hover {background-color: #d4ebff;}#sk-container-id-2 div.sk-parallel-item::after {content: \"\";width: 100%;border-bottom: 1px solid gray;flex-grow: 1;}#sk-container-id-2 div.sk-label:hover label.sk-toggleable__label {background-color: #d4ebff;}#sk-container-id-2 div.sk-serial::before {content: \"\";position: absolute;border-left: 1px solid gray;box-sizing: border-box;top: 0;bottom: 0;left: 50%;z-index: 0;}#sk-container-id-2 div.sk-serial {display: flex;flex-direction: column;align-items: center;background-color: white;padding-right: 0.2em;padding-left: 0.2em;position: relative;}#sk-container-id-2 div.sk-item {position: relative;z-index: 1;}#sk-container-id-2 div.sk-parallel {display: flex;align-items: stretch;justify-content: center;background-color: white;position: relative;}#sk-container-id-2 div.sk-item::before, #sk-container-id-2 div.sk-parallel-item::before {content: \"\";position: absolute;border-left: 1px solid gray;box-sizing: border-box;top: 0;bottom: 0;left: 50%;z-index: -1;}#sk-container-id-2 div.sk-parallel-item {display: flex;flex-direction: column;z-index: 1;position: relative;background-color: white;}#sk-container-id-2 div.sk-parallel-item:first-child::after {align-self: flex-end;width: 50%;}#sk-container-id-2 div.sk-parallel-item:last-child::after {align-self: flex-start;width: 50%;}#sk-container-id-2 div.sk-parallel-item:only-child::after {width: 0;}#sk-container-id-2 div.sk-dashed-wrapped {border: 1px dashed gray;margin: 0 0.4em 0.5em 0.4em;box-sizing: border-box;padding-bottom: 0.4em;background-color: white;}#sk-container-id-2 div.sk-label label {font-family: monospace;font-weight: bold;display: inline-block;line-height: 1.2em;}#sk-container-id-2 div.sk-label-container {text-align: center;}#sk-container-id-2 div.sk-container {/* jupyter's `normalize.less` sets `[hidden] { display: none; }` but bootstrap.min.css set `[hidden] { display: none !important; }` so we also need the `!important` here to be able to override the default hidden behavior on the sphinx rendered scikit-learn.org. See: https://github.com/scikit-learn/scikit-learn/issues/21755 */display: inline-block !important;position: relative;}#sk-container-id-2 div.sk-text-repr-fallback {display: none;}</style><div id=\"sk-container-id-2\" class=\"sk-top-container\"><div class=\"sk-text-repr-fallback\"><pre>DecisionTreeClassifier()</pre><b>In a Jupyter environment, please rerun this cell to show the HTML representation or trust the notebook. <br />On GitHub, the HTML representation is unable to render, please try loading this page with nbviewer.org.</b></div><div class=\"sk-container\" hidden><div class=\"sk-item\"><div class=\"sk-estimator sk-toggleable\"><input class=\"sk-toggleable__control sk-hidden--visually\" id=\"sk-estimator-id-2\" type=\"checkbox\" checked><label for=\"sk-estimator-id-2\" class=\"sk-toggleable__label sk-toggleable__label-arrow\">DecisionTreeClassifier</label><div class=\"sk-toggleable__content\"><pre>DecisionTreeClassifier()</pre></div></div></div></div></div>"
      ],
      "text/plain": [
       "DecisionTreeClassifier()"
      ]
     },
     "execution_count": 37,
     "metadata": {},
     "output_type": "execute_result"
    }
   ],
   "source": [
    "# Import and Fit the Decision Tree Model\n",
    "\n",
    "clf_tree = DecisionTreeClassifier()\n",
    "\n",
    "clf_tree.fit(X_train, y_train)"
   ]
  },
  {
   "cell_type": "code",
   "execution_count": 38,
   "id": "44df8957",
   "metadata": {},
   "outputs": [
    {
     "data": {
      "text/plain": [
       "array([0, 0, 1, 0, 1, 1, 0, 1, 1, 1, 0, 0, 1, 1, 0, 0, 1, 0, 0, 0, 0, 0,\n",
       "       1, 1, 0, 0, 0, 1, 1, 0, 1, 1, 1, 0, 0, 0, 1, 0, 0, 0, 0, 0, 0, 1,\n",
       "       0, 1, 1, 0, 0, 0, 0, 0, 0, 0, 0, 1, 1, 1, 1])"
      ]
     },
     "execution_count": 38,
     "metadata": {},
     "output_type": "execute_result"
    }
   ],
   "source": [
    "# Make predictions on unseen data\n",
    "\n",
    "y_pred_dt = clf_tree.predict(X_test) \n",
    "y_pred_dt"
   ]
  },
  {
   "cell_type": "code",
   "execution_count": 39,
   "id": "e1cfa625",
   "metadata": {},
   "outputs": [
    {
     "name": "stdout",
     "output_type": "stream",
     "text": [
      "first five predicted values: [0 0 1 0 1]\n",
      "first five actual values: [0, 1, 1, 0, 0]\n"
     ]
    }
   ],
   "source": [
    "print(\"first five predicted values:\", y_pred_dt[0:5])\n",
    "print(\"first five actual values:\", list(y_test[0:5]))\n"
   ]
  },
  {
   "cell_type": "code",
   "execution_count": 40,
   "id": "e77b65d5",
   "metadata": {},
   "outputs": [
    {
     "name": "stdout",
     "output_type": "stream",
     "text": [
      "accuracy: 0.71\n",
      "recall: 0.68\n",
      "precision: 0.54\n",
      "f1-score: 0.6\n"
     ]
    }
   ],
   "source": [
    "print(\"accuracy:\", round(accuracy_score(y_test, y_pred_dt), 2))\n",
    "print(\"recall:\", round(recall_score(y_test, y_pred_dt), 2))\n",
    "print(\"precision:\", round(precision_score(y_test, y_pred_dt), 2))\n",
    "print(\"f1-score:\", round(f1_score(y_test, y_pred_dt), 2))\n"
   ]
  },
  {
   "cell_type": "code",
   "execution_count": 41,
   "id": "d7c25469",
   "metadata": {},
   "outputs": [
    {
     "data": {
      "image/png": "[encoded data removed]",
      "text/plain": [
       "<Figure size 640x480 with 2 Axes>"
      ]
     },
     "metadata": {},
     "output_type": "display_data"
    }
   ],
   "source": [
    "# plot confusion matrix\n",
    "\n",
    "cm = confusion_matrix(y_test, y_pred_dt)\n",
    "disp = ConfusionMatrixDisplay(confusion_matrix=cm,\n",
    "                               display_labels=clf.classes_)\n",
    "\n",
    "disp.plot()\n",
    "plt.show()"
   ]
  },
  {
   "cell_type": "code",
   "execution_count": 42,
   "id": "015cc1cf",
   "metadata": {},
   "outputs": [
    {
     "name": "stdout",
     "output_type": "stream",
     "text": [
      "              precision    recall  f1-score   support\n",
      "\n",
      "           0       0.83      0.72      0.77        40\n",
      "           1       0.54      0.68      0.60        19\n",
      "\n",
      "    accuracy                           0.71        59\n",
      "   macro avg       0.69      0.70      0.69        59\n",
      "weighted avg       0.74      0.71      0.72        59\n",
      "\n"
     ]
    }
   ],
   "source": [
    "# print classification report\n",
    "\n",
    "print(classification_report(y_test, y_pred_dt))"
   ]
  },
  {
   "cell_type": "code",
   "execution_count": 43,
   "id": "868e07b0",
   "metadata": {},
   "outputs": [
    {
     "data": {
      "image/png": "[encoded data removed]",
      "text/plain": [
       "<Figure size 800x500 with 1 Axes>"
      ]
     },
     "metadata": {},
     "output_type": "display_data"
    }
   ],
   "source": [
    "# Plot the feature importance\n",
    "\n",
    "feature_importance_plot(clf_tree, X_train, n = 5)\n",
    "\n",
    "# slope is the most important feature"
   ]
  },
  {
   "cell_type": "code",
   "execution_count": 44,
   "id": "ffec966e",
   "metadata": {},
   "outputs": [
    {
     "data": {
      "image/png": "[encoded data removed]",
      "text/plain": [
       "<Figure size 500x500 with 1 Axes>"
      ]
     },
     "metadata": {},
     "output_type": "display_data"
    }
   ],
   "source": [
    "# Plot the learning curve\n",
    "\n",
    "learning_curve_plot(clf_tree, X_train, y_train, scoring = 'accuracy')"
   ]
  },
  {
   "cell_type": "markdown",
   "id": "2f7a288b",
   "metadata": {},
   "source": [
    "#### Random Forest"
   ]
  },
  {
   "cell_type": "code",
   "execution_count": 45,
   "id": "4eac7c60",
   "metadata": {},
   "outputs": [
    {
     "data": {
      "text/html": [
       "<style>#sk-container-id-3 {color: black;background-color: white;}#sk-container-id-3 pre{padding: 0;}#sk-container-id-3 div.sk-toggleable {background-color: white;}#sk-container-id-3 label.sk-toggleable__label {cursor: pointer;display: block;width: 100%;margin-bottom: 0;padding: 0.3em;box-sizing: border-box;text-align: center;}#sk-container-id-3 label.sk-toggleable__label-arrow:before {content: \"▸\";float: left;margin-right: 0.25em;color: #696969;}#sk-container-id-3 label.sk-toggleable__label-arrow:hover:before {color: black;}#sk-container-id-3 div.sk-estimator:hover label.sk-toggleable__label-arrow:before {color: black;}#sk-container-id-3 div.sk-toggleable__content {max-height: 0;max-width: 0;overflow: hidden;text-align: left;background-color: #f0f8ff;}#sk-container-id-3 div.sk-toggleable__content pre {margin: 0.2em;color: black;border-radius: 0.25em;background-color: #f0f8ff;}#sk-container-id-3 input.sk-toggleable__control:checked~div.sk-toggleable__content {max-height: 200px;max-width: 100%;overflow: auto;}#sk-container-id-3 input.sk-toggleable__control:checked~label.sk-toggleable__label-arrow:before {content: \"▾\";}#sk-container-id-3 div.sk-estimator input.sk-toggleable__control:checked~label.sk-toggleable__label {background-color: #d4ebff;}#sk-container-id-3 div.sk-label input.sk-toggleable__control:checked~label.sk-toggleable__label {background-color: #d4ebff;}#sk-container-id-3 input.sk-hidden--visually {border: 0;clip: rect(1px 1px 1px 1px);clip: rect(1px, 1px, 1px, 1px);height: 1px;margin: -1px;overflow: hidden;padding: 0;position: absolute;width: 1px;}#sk-container-id-3 div.sk-estimator {font-family: monospace;background-color: #f0f8ff;border: 1px dotted black;border-radius: 0.25em;box-sizing: border-box;margin-bottom: 0.5em;}#sk-container-id-3 div.sk-estimator:hover {background-color: #d4ebff;}#sk-container-id-3 div.sk-parallel-item::after {content: \"\";width: 100%;border-bottom: 1px solid gray;flex-grow: 1;}#sk-container-id-3 div.sk-label:hover label.sk-toggleable__label {background-color: #d4ebff;}#sk-container-id-3 div.sk-serial::before {content: \"\";position: absolute;border-left: 1px solid gray;box-sizing: border-box;top: 0;bottom: 0;left: 50%;z-index: 0;}#sk-container-id-3 div.sk-serial {display: flex;flex-direction: column;align-items: center;background-color: white;padding-right: 0.2em;padding-left: 0.2em;position: relative;}#sk-container-id-3 div.sk-item {position: relative;z-index: 1;}#sk-container-id-3 div.sk-parallel {display: flex;align-items: stretch;justify-content: center;background-color: white;position: relative;}#sk-container-id-3 div.sk-item::before, #sk-container-id-3 div.sk-parallel-item::before {content: \"\";position: absolute;border-left: 1px solid gray;box-sizing: border-box;top: 0;bottom: 0;left: 50%;z-index: -1;}#sk-container-id-3 div.sk-parallel-item {display: flex;flex-direction: column;z-index: 1;position: relative;background-color: white;}#sk-container-id-3 div.sk-parallel-item:first-child::after {align-self: flex-end;width: 50%;}#sk-container-id-3 div.sk-parallel-item:last-child::after {align-self: flex-start;width: 50%;}#sk-container-id-3 div.sk-parallel-item:only-child::after {width: 0;}#sk-container-id-3 div.sk-dashed-wrapped {border: 1px dashed gray;margin: 0 0.4em 0.5em 0.4em;box-sizing: border-box;padding-bottom: 0.4em;background-color: white;}#sk-container-id-3 div.sk-label label {font-family: monospace;font-weight: bold;display: inline-block;line-height: 1.2em;}#sk-container-id-3 div.sk-label-container {text-align: center;}#sk-container-id-3 div.sk-container {/* jupyter's `normalize.less` sets `[hidden] { display: none; }` but bootstrap.min.css set `[hidden] { display: none !important; }` so we also need the `!important` here to be able to override the default hidden behavior on the sphinx rendered scikit-learn.org. See: https://github.com/scikit-learn/scikit-learn/issues/21755 */display: inline-block !important;position: relative;}#sk-container-id-3 div.sk-text-repr-fallback {display: none;}</style><div id=\"sk-container-id-3\" class=\"sk-top-container\"><div class=\"sk-text-repr-fallback\"><pre>RandomForestClassifier()</pre><b>In a Jupyter environment, please rerun this cell to show the HTML representation or trust the notebook. <br />On GitHub, the HTML representation is unable to render, please try loading this page with nbviewer.org.</b></div><div class=\"sk-container\" hidden><div class=\"sk-item\"><div class=\"sk-estimator sk-toggleable\"><input class=\"sk-toggleable__control sk-hidden--visually\" id=\"sk-estimator-id-3\" type=\"checkbox\" checked><label for=\"sk-estimator-id-3\" class=\"sk-toggleable__label sk-toggleable__label-arrow\">RandomForestClassifier</label><div class=\"sk-toggleable__content\"><pre>RandomForestClassifier()</pre></div></div></div></div></div>"
      ],
      "text/plain": [
       "RandomForestClassifier()"
      ]
     },
     "execution_count": 45,
     "metadata": {},
     "output_type": "execute_result"
    }
   ],
   "source": [
    "# Import and Fit the Random Forest Model\n",
    "\n",
    "clf_rf = RandomForestClassifier()\n",
    "\n",
    "clf_rf.fit(X_train, y_train)"
   ]
  },
  {
   "cell_type": "code",
   "execution_count": 46,
   "id": "98e3611c",
   "metadata": {},
   "outputs": [
    {
     "data": {
      "text/plain": [
       "array([0, 1, 1, 0, 1, 0, 1, 1, 1, 0, 0, 0, 1, 0, 0, 0, 1, 0, 0, 0, 0, 0,\n",
       "       1, 1, 0, 0, 0, 0, 1, 0, 1, 1, 1, 1, 0, 0, 1, 0, 0, 0, 0, 0, 1, 0,\n",
       "       1, 1, 1, 0, 0, 0, 0, 0, 0, 0, 0, 0, 0, 0, 1])"
      ]
     },
     "execution_count": 46,
     "metadata": {},
     "output_type": "execute_result"
    }
   ],
   "source": [
    "# Make predictions on unseen data\n",
    "\n",
    "y_pred_rf = clf_rf.predict(X_test) \n",
    "y_pred_rf"
   ]
  },
  {
   "cell_type": "code",
   "execution_count": 47,
   "id": "d5392e00",
   "metadata": {},
   "outputs": [
    {
     "name": "stdout",
     "output_type": "stream",
     "text": [
      "first five predicted values: [0 1 1 0 1]\n",
      "first five actual values: [0, 1, 1, 0, 0]\n"
     ]
    }
   ],
   "source": [
    "print(\"first five predicted values:\", y_pred_rf[0:5])\n",
    "print(\"first five actual values:\", list(y_test[0:5]))"
   ]
  },
  {
   "cell_type": "code",
   "execution_count": 48,
   "id": "e33d0d89",
   "metadata": {},
   "outputs": [
    {
     "name": "stdout",
     "output_type": "stream",
     "text": [
      "accuracy: 0.76\n",
      "recall: 0.68\n",
      "precision: 0.62\n",
      "f1-score: 0.65\n"
     ]
    }
   ],
   "source": [
    "print(\"accuracy:\", round(accuracy_score(y_test, y_pred_rf), 2))\n",
    "print(\"recall:\", round(recall_score(y_test, y_pred_rf), 2))\n",
    "print(\"precision:\", round(precision_score(y_test, y_pred_rf), 2))\n",
    "print(\"f1-score:\", round(f1_score(y_test, y_pred_rf), 2))"
   ]
  },
  {
   "cell_type": "code",
   "execution_count": 49,
   "id": "0ed7f738",
   "metadata": {},
   "outputs": [
    {
     "data": {
      "image/png": "[encoded data removed]",
      "text/plain": [
       "<Figure size 640x480 with 2 Axes>"
      ]
     },
     "metadata": {},
     "output_type": "display_data"
    }
   ],
   "source": [
    "# plot confusion matrix\n",
    "\n",
    "cm = confusion_matrix(y_test, y_pred_rf)\n",
    "disp = ConfusionMatrixDisplay(confusion_matrix=cm,\n",
    "                               display_labels=clf.classes_)\n",
    "\n",
    "disp.plot()\n",
    "plt.show()"
   ]
  },
  {
   "cell_type": "code",
   "execution_count": 50,
   "id": "3e014a91",
   "metadata": {},
   "outputs": [
    {
     "name": "stdout",
     "output_type": "stream",
     "text": [
      "              precision    recall  f1-score   support\n",
      "\n",
      "           0       0.84      0.80      0.82        40\n",
      "           1       0.62      0.68      0.65        19\n",
      "\n",
      "    accuracy                           0.76        59\n",
      "   macro avg       0.73      0.74      0.74        59\n",
      "weighted avg       0.77      0.76      0.77        59\n",
      "\n"
     ]
    }
   ],
   "source": [
    "# print classification report\n",
    "\n",
    "print(classification_report(y_test, y_pred_rf))\n",
    "\n",
    "# slight improvement, drop in misclassifying patients without heart disease\n"
   ]
  },
  {
   "cell_type": "code",
   "execution_count": 51,
   "id": "6ba227eb",
   "metadata": {},
   "outputs": [
    {
     "data": {
      "image/png": "[encoded data removed]",
      "text/plain": [
       "<Figure size 800x500 with 1 Axes>"
      ]
     },
     "metadata": {},
     "output_type": "display_data"
    }
   ],
   "source": [
    "# feature importance plot\n",
    "\n",
    "feature_importance_plot(clf_rf, X_train, n = 5) \n",
    "\n",
    "# unlike decision tree, where slope was the dominant feature , \n",
    "# seeing signs of more features being used to split the nodes"
   ]
  },
  {
   "cell_type": "code",
   "execution_count": 52,
   "id": "eb622121",
   "metadata": {},
   "outputs": [
    {
     "data": {
      "image/png": "[encoded data removed]",
      "text/plain": [
       "<Figure size 500x500 with 1 Axes>"
      ]
     },
     "metadata": {},
     "output_type": "display_data"
    }
   ],
   "source": [
    "# Plot the learning curve\n",
    "\n",
    "learning_curve_plot(clf_rf, X_train, y_train, scoring = 'accuracy')"
   ]
  },
  {
   "cell_type": "markdown",
   "id": "83248dc6",
   "metadata": {},
   "source": [
    "#### XGBoost"
   ]
  },
  {
   "cell_type": "code",
   "execution_count": 53,
   "id": "d0e7f794",
   "metadata": {},
   "outputs": [],
   "source": [
    "# Import and Fit the XGBoost Model\n",
    "\n",
    "clf_xgb = XGBClassifier()\n",
    "clf_xgb = XGBClassifier().fit(X_train, y_train)"
   ]
  },
  {
   "cell_type": "code",
   "execution_count": 54,
   "id": "163fda34",
   "metadata": {},
   "outputs": [
    {
     "data": {
      "text/plain": [
       "array([0, 1, 1, 0, 1, 1, 0, 1, 1, 0, 0, 0, 1, 0, 0, 0, 1, 0, 0, 0, 0, 0,\n",
       "       1, 1, 0, 0, 0, 0, 1, 0, 1, 1, 1, 1, 0, 0, 1, 0, 0, 0, 1, 0, 1, 0,\n",
       "       1, 1, 1, 0, 0, 0, 0, 0, 0, 0, 0, 0, 1, 0, 1])"
      ]
     },
     "execution_count": 54,
     "metadata": {},
     "output_type": "execute_result"
    }
   ],
   "source": [
    "# Make predictions on unseen data\n",
    "\n",
    "y_pred_xgb = clf_xgb.predict(X_test) \n",
    "y_pred_xgb"
   ]
  },
  {
   "cell_type": "code",
   "execution_count": 55,
   "id": "ce5b0f08",
   "metadata": {},
   "outputs": [
    {
     "name": "stdout",
     "output_type": "stream",
     "text": [
      "first five predicted values: [0 1 1 0 1]\n",
      "first five actual values: [0, 1, 1, 0, 0]\n"
     ]
    }
   ],
   "source": [
    "print(\"first five predicted values:\", y_pred_xgb[0:5])\n",
    "print(\"first five actual values:\", list(y_test[0:5]))"
   ]
  },
  {
   "cell_type": "code",
   "execution_count": 56,
   "id": "7c0edcc1",
   "metadata": {},
   "outputs": [
    {
     "name": "stdout",
     "output_type": "stream",
     "text": [
      "accuracy: 0.8\n",
      "recall: 0.79\n",
      "precision: 0.65\n",
      "f1-score: 0.71\n"
     ]
    }
   ],
   "source": [
    "print(\"accuracy:\", round(accuracy_score(y_test, y_pred_xgb), 2))\n",
    "print(\"recall:\", round(recall_score(y_test, y_pred_xgb), 2))\n",
    "print(\"precision:\", round(precision_score(y_test, y_pred_xgb), 2))\n",
    "print(\"f1-score:\", round(f1_score(y_test, y_pred_xgb), 2))"
   ]
  },
  {
   "cell_type": "code",
   "execution_count": 57,
   "id": "33a0f7fc",
   "metadata": {},
   "outputs": [
    {
     "data": {
      "image/png": "[encoded data removed]",
      "text/plain": [
       "<Figure size 640x480 with 2 Axes>"
      ]
     },
     "metadata": {},
     "output_type": "display_data"
    }
   ],
   "source": [
    "# plot confusion matrix\n",
    "\n",
    "cm = confusion_matrix(y_test, y_pred_xgb)\n",
    "disp = ConfusionMatrixDisplay(confusion_matrix=cm,\n",
    "                               display_labels=clf.classes_)\n",
    "\n",
    "disp.plot()\n",
    "plt.show()"
   ]
  },
  {
   "cell_type": "code",
   "execution_count": 58,
   "id": "aeb171ed",
   "metadata": {},
   "outputs": [
    {
     "name": "stdout",
     "output_type": "stream",
     "text": [
      "              precision    recall  f1-score   support\n",
      "\n",
      "           0       0.89      0.80      0.84        40\n",
      "           1       0.65      0.79      0.71        19\n",
      "\n",
      "    accuracy                           0.80        59\n",
      "   macro avg       0.77      0.79      0.78        59\n",
      "weighted avg       0.81      0.80      0.80        59\n",
      "\n"
     ]
    }
   ],
   "source": [
    "# print classification report\n",
    "\n",
    "print(classification_report(y_test, y_pred_xgb))\n",
    "\n",
    "# outperforms the random forest and decision tree model, with f1-score of 71% \n",
    "# and also higher precision and recalls when predicting patients without heart disease.\n"
   ]
  },
  {
   "cell_type": "code",
   "execution_count": 59,
   "id": "df3ebcc8",
   "metadata": {},
   "outputs": [
    {
     "data": {
      "image/png": "[encoded data removed]",
      "text/plain": [
       "<Figure size 800x500 with 1 Axes>"
      ]
     },
     "metadata": {},
     "output_type": "display_data"
    }
   ],
   "source": [
    "# feature importance plot\n",
    "\n",
    "feature_importance_plot(clf_xgb, X_train, n = 5) "
   ]
  },
  {
   "cell_type": "code",
   "execution_count": 60,
   "id": "047fb462",
   "metadata": {},
   "outputs": [
    {
     "data": {
      "image/png": "[encoded data removed]",
      "text/plain": [
       "<Figure size 500x500 with 1 Axes>"
      ]
     },
     "metadata": {},
     "output_type": "display_data"
    }
   ],
   "source": [
    "# Plot the learning curve\n",
    "\n",
    "learning_curve_plot(clf_xgb, X_train, y_train, scoring = 'accuracy')"
   ]
  },
  {
   "cell_type": "markdown",
   "id": "9157db20",
   "metadata": {},
   "source": [
    "### Model Selection"
   ]
  },
  {
   "cell_type": "code",
   "execution_count": 61,
   "id": "8b29b822",
   "metadata": {},
   "outputs": [
    {
     "data": {
      "text/html": [
       "<div>\n",
       "<style scoped>\n",
       "    .dataframe tbody tr th:only-of-type {\n",
       "        vertical-align: middle;\n",
       "    }\n",
       "\n",
       "    .dataframe tbody tr th {\n",
       "        vertical-align: top;\n",
       "    }\n",
       "\n",
       "    .dataframe thead th {\n",
       "        text-align: right;\n",
       "    }\n",
       "</style>\n",
       "<table border=\"1\" class=\"dataframe\">\n",
       "  <thead>\n",
       "    <tr style=\"text-align: right;\">\n",
       "      <th></th>\n",
       "      <th>Model Name</th>\n",
       "      <th>Accuracy</th>\n",
       "      <th>Recall</th>\n",
       "      <th>Precision</th>\n",
       "      <th>F1-Score</th>\n",
       "    </tr>\n",
       "  </thead>\n",
       "  <tbody>\n",
       "    <tr>\n",
       "      <th>0</th>\n",
       "      <td>Logistic Regression</td>\n",
       "      <td>0.80</td>\n",
       "      <td>0.63</td>\n",
       "      <td>0.71</td>\n",
       "      <td>0.67</td>\n",
       "    </tr>\n",
       "    <tr>\n",
       "      <th>1</th>\n",
       "      <td>Decision Tree</td>\n",
       "      <td>0.71</td>\n",
       "      <td>0.68</td>\n",
       "      <td>0.54</td>\n",
       "      <td>0.60</td>\n",
       "    </tr>\n",
       "    <tr>\n",
       "      <th>2</th>\n",
       "      <td>Random Forest</td>\n",
       "      <td>0.76</td>\n",
       "      <td>0.68</td>\n",
       "      <td>0.62</td>\n",
       "      <td>0.65</td>\n",
       "    </tr>\n",
       "    <tr>\n",
       "      <th>3</th>\n",
       "      <td>XGBoost</td>\n",
       "      <td>0.80</td>\n",
       "      <td>0.79</td>\n",
       "      <td>0.65</td>\n",
       "      <td>0.71</td>\n",
       "    </tr>\n",
       "  </tbody>\n",
       "</table>\n",
       "</div>"
      ],
      "text/plain": [
       "            Model Name  Accuracy  Recall  Precision  F1-Score\n",
       "0  Logistic Regression      0.80    0.63       0.71      0.67\n",
       "1        Decision Tree      0.71    0.68       0.54      0.60\n",
       "2        Random Forest      0.76    0.68       0.62      0.65\n",
       "3              XGBoost      0.80    0.79       0.65      0.71"
      ]
     },
     "execution_count": 61,
     "metadata": {},
     "output_type": "execute_result"
    }
   ],
   "source": [
    "# This code is just for demonstration, and to compare the metrics of the models\n",
    "\n",
    "pd.DataFrame({\"Model Name\": ['Logistic Regression', 'Decision Tree', 'Random Forest', 'XGBoost'],\n",
    "              \"Accuracy\": [round(accuracy_score(y_test, y_pred_lr), 2), \n",
    "                           round(accuracy_score(y_test, y_pred_dt), 2),\n",
    "                           round(accuracy_score(y_test, y_pred_rf), 2),\n",
    "                           round(accuracy_score(y_test, y_pred_xgb), 2)\n",
    "                          ],\n",
    "              \"Recall\": [round(recall_score(y_test, y_pred_lr), 2), \n",
    "                        round(recall_score(y_test, y_pred_dt), 2),\n",
    "                        round(recall_score(y_test, y_pred_rf), 2),\n",
    "                        round(recall_score(y_test, y_pred_xgb), 2)],\n",
    "              \"Precision\": [round(precision_score(y_test, y_pred_lr), 2), \n",
    "                           round(precision_score(y_test, y_pred_dt), 2),\n",
    "                           round(precision_score(y_test, y_pred_rf), 2),\n",
    "                           round(precision_score(y_test, y_pred_xgb), 2)],\n",
    "              \"F1-Score\": [round(f1_score(y_test, y_pred_lr), 2), \n",
    "                           round(f1_score(y_test, y_pred_dt), 2),\n",
    "                           round(f1_score(y_test, y_pred_rf), 2),\n",
    "                           round(f1_score(y_test, y_pred_xgb), 2)],\n",
    "             })\n",
    "\n",
    "# Question - which Model has a highest accuracy, recall, precision and f1-score?"
   ]
  },
  {
   "cell_type": "markdown",
   "id": "efde3f7c",
   "metadata": {},
   "source": [
    "- The table above summarise different evaluation metrics for the algorithms we used to train our data.  \n",
    "- XGBoost is performing the best, especially compared to the Decision Tree and Random Forest algorithms and has the highest overall accuracy, recall and f1-score.\n",
    "- However, the Logistic Regression Model has the highest precision, so if we wanted to optimise on precision we may want to consider using that model. \n",
    "- When unsure if we want to optimise on precision and recall, can also look at the f1-score and since XGBoost has the highest f1-score we would use this model to make predictions on future patients.\n",
    "- In terms of improvements, the models are all overfitting and could be reduced with more training data."
   ]
  },
  {
   "cell_type": "markdown",
   "id": "f2539e1e",
   "metadata": {},
   "source": [
    "### Storing the trained model"
   ]
  },
  {
   "cell_type": "code",
   "execution_count": 64,
   "id": "17fb2188",
   "metadata": {},
   "outputs": [
    {
     "data": {
      "text/plain": [
       "['../model/best_model.joblib']"
      ]
     },
     "execution_count": 64,
     "metadata": {},
     "output_type": "execute_result"
    }
   ],
   "source": [
    "# code to store the best model\n",
    "\n",
    "import joblib\n",
    "\n",
    "joblib.dump(clf_xgb, '../model/best_model.joblib')"
   ]
  },
  {
   "cell_type": "code",
   "execution_count": 67,
   "id": "23b9a469",
   "metadata": {},
   "outputs": [
    {
     "data": {
      "text/plain": [
       "['age',\n",
       " 'sex',\n",
       " 'cp',\n",
       " 'trestbps',\n",
       " 'chol',\n",
       " 'fbs',\n",
       " 'restecg',\n",
       " 'thalach',\n",
       " 'exang',\n",
       " 'oldpeak',\n",
       " 'slope']"
      ]
     },
     "execution_count": 67,
     "metadata": {},
     "output_type": "execute_result"
    }
   ],
   "source": [
    "# reminder - list of features used to train model\n",
    "\n",
    "list(features)"
   ]
  },
  {
   "cell_type": "code",
   "execution_count": 68,
   "id": "58dfe308",
   "metadata": {},
   "outputs": [
    {
     "data": {
      "text/html": [
       "<div>\n",
       "<style scoped>\n",
       "    .dataframe tbody tr th:only-of-type {\n",
       "        vertical-align: middle;\n",
       "    }\n",
       "\n",
       "    .dataframe tbody tr th {\n",
       "        vertical-align: top;\n",
       "    }\n",
       "\n",
       "    .dataframe thead th {\n",
       "        text-align: right;\n",
       "    }\n",
       "</style>\n",
       "<table border=\"1\" class=\"dataframe\">\n",
       "  <thead>\n",
       "    <tr style=\"text-align: right;\">\n",
       "      <th></th>\n",
       "      <th>age</th>\n",
       "      <th>sex</th>\n",
       "      <th>cp</th>\n",
       "      <th>trestbps</th>\n",
       "      <th>chol</th>\n",
       "      <th>fbs</th>\n",
       "      <th>restecg</th>\n",
       "      <th>thalach</th>\n",
       "      <th>exang</th>\n",
       "      <th>oldpeak</th>\n",
       "      <th>slope</th>\n",
       "    </tr>\n",
       "  </thead>\n",
       "  <tbody>\n",
       "    <tr>\n",
       "      <th>count</th>\n",
       "      <td>293.000000</td>\n",
       "      <td>293.000000</td>\n",
       "      <td>293.000000</td>\n",
       "      <td>293.000000</td>\n",
       "      <td>293.000000</td>\n",
       "      <td>293.000000</td>\n",
       "      <td>293.000000</td>\n",
       "      <td>293.000000</td>\n",
       "      <td>293.000000</td>\n",
       "      <td>293.000000</td>\n",
       "      <td>293.000000</td>\n",
       "    </tr>\n",
       "    <tr>\n",
       "      <th>mean</th>\n",
       "      <td>47.822526</td>\n",
       "      <td>0.726962</td>\n",
       "      <td>2.986348</td>\n",
       "      <td>132.208191</td>\n",
       "      <td>232.013652</td>\n",
       "      <td>0.068259</td>\n",
       "      <td>0.218430</td>\n",
       "      <td>138.583618</td>\n",
       "      <td>0.303754</td>\n",
       "      <td>0.588055</td>\n",
       "      <td>0.672355</td>\n",
       "    </tr>\n",
       "    <tr>\n",
       "      <th>std</th>\n",
       "      <td>7.824875</td>\n",
       "      <td>0.446282</td>\n",
       "      <td>0.965049</td>\n",
       "      <td>19.209578</td>\n",
       "      <td>92.831228</td>\n",
       "      <td>0.252622</td>\n",
       "      <td>0.460868</td>\n",
       "      <td>24.919404</td>\n",
       "      <td>0.460665</td>\n",
       "      <td>0.909554</td>\n",
       "      <td>0.929991</td>\n",
       "    </tr>\n",
       "    <tr>\n",
       "      <th>min</th>\n",
       "      <td>28.000000</td>\n",
       "      <td>0.000000</td>\n",
       "      <td>1.000000</td>\n",
       "      <td>0.000000</td>\n",
       "      <td>0.000000</td>\n",
       "      <td>0.000000</td>\n",
       "      <td>0.000000</td>\n",
       "      <td>0.000000</td>\n",
       "      <td>0.000000</td>\n",
       "      <td>0.000000</td>\n",
       "      <td>0.000000</td>\n",
       "    </tr>\n",
       "    <tr>\n",
       "      <th>25%</th>\n",
       "      <td>42.000000</td>\n",
       "      <td>0.000000</td>\n",
       "      <td>2.000000</td>\n",
       "      <td>120.000000</td>\n",
       "      <td>198.000000</td>\n",
       "      <td>0.000000</td>\n",
       "      <td>0.000000</td>\n",
       "      <td>122.000000</td>\n",
       "      <td>0.000000</td>\n",
       "      <td>0.000000</td>\n",
       "      <td>0.000000</td>\n",
       "    </tr>\n",
       "    <tr>\n",
       "      <th>50%</th>\n",
       "      <td>49.000000</td>\n",
       "      <td>1.000000</td>\n",
       "      <td>3.000000</td>\n",
       "      <td>130.000000</td>\n",
       "      <td>237.000000</td>\n",
       "      <td>0.000000</td>\n",
       "      <td>0.000000</td>\n",
       "      <td>140.000000</td>\n",
       "      <td>0.000000</td>\n",
       "      <td>0.000000</td>\n",
       "      <td>0.000000</td>\n",
       "    </tr>\n",
       "    <tr>\n",
       "      <th>75%</th>\n",
       "      <td>54.000000</td>\n",
       "      <td>1.000000</td>\n",
       "      <td>4.000000</td>\n",
       "      <td>140.000000</td>\n",
       "      <td>277.000000</td>\n",
       "      <td>0.000000</td>\n",
       "      <td>0.000000</td>\n",
       "      <td>155.000000</td>\n",
       "      <td>1.000000</td>\n",
       "      <td>1.000000</td>\n",
       "      <td>2.000000</td>\n",
       "    </tr>\n",
       "    <tr>\n",
       "      <th>max</th>\n",
       "      <td>66.000000</td>\n",
       "      <td>1.000000</td>\n",
       "      <td>4.000000</td>\n",
       "      <td>200.000000</td>\n",
       "      <td>603.000000</td>\n",
       "      <td>1.000000</td>\n",
       "      <td>2.000000</td>\n",
       "      <td>190.000000</td>\n",
       "      <td>1.000000</td>\n",
       "      <td>5.000000</td>\n",
       "      <td>3.000000</td>\n",
       "    </tr>\n",
       "  </tbody>\n",
       "</table>\n",
       "</div>"
      ],
      "text/plain": [
       "              age         sex          cp    trestbps        chol         fbs   \n",
       "count  293.000000  293.000000  293.000000  293.000000  293.000000  293.000000  \\\n",
       "mean    47.822526    0.726962    2.986348  132.208191  232.013652    0.068259   \n",
       "std      7.824875    0.446282    0.965049   19.209578   92.831228    0.252622   \n",
       "min     28.000000    0.000000    1.000000    0.000000    0.000000    0.000000   \n",
       "25%     42.000000    0.000000    2.000000  120.000000  198.000000    0.000000   \n",
       "50%     49.000000    1.000000    3.000000  130.000000  237.000000    0.000000   \n",
       "75%     54.000000    1.000000    4.000000  140.000000  277.000000    0.000000   \n",
       "max     66.000000    1.000000    4.000000  200.000000  603.000000    1.000000   \n",
       "\n",
       "          restecg     thalach       exang     oldpeak       slope  \n",
       "count  293.000000  293.000000  293.000000  293.000000  293.000000  \n",
       "mean     0.218430  138.583618    0.303754    0.588055    0.672355  \n",
       "std      0.460868   24.919404    0.460665    0.909554    0.929991  \n",
       "min      0.000000    0.000000    0.000000    0.000000    0.000000  \n",
       "25%      0.000000  122.000000    0.000000    0.000000    0.000000  \n",
       "50%      0.000000  140.000000    0.000000    0.000000    0.000000  \n",
       "75%      0.000000  155.000000    1.000000    1.000000    2.000000  \n",
       "max      2.000000  190.000000    1.000000    5.000000    3.000000  "
      ]
     },
     "execution_count": 68,
     "metadata": {},
     "output_type": "execute_result"
    }
   ],
   "source": [
    "# distribution of features\n",
    "features.describe()"
   ]
  },
  {
   "cell_type": "code",
   "execution_count": 71,
   "id": "c4d47e24",
   "metadata": {},
   "outputs": [
    {
     "name": "stdout",
     "output_type": "stream",
     "text": [
      "<class 'pandas.core.frame.DataFrame'>\n",
      "Index: 293 entries, 0 to 293\n",
      "Data columns (total 11 columns):\n",
      " #   Column    Non-Null Count  Dtype  \n",
      "---  ------    --------------  -----  \n",
      " 0   age       293 non-null    int64  \n",
      " 1   sex       293 non-null    int64  \n",
      " 2   cp        293 non-null    int64  \n",
      " 3   trestbps  293 non-null    float64\n",
      " 4   chol      293 non-null    float64\n",
      " 5   fbs       293 non-null    float64\n",
      " 6   restecg   293 non-null    float64\n",
      " 7   thalach   293 non-null    float64\n",
      " 8   exang     293 non-null    float64\n",
      " 9   oldpeak   293 non-null    float64\n",
      " 10  slope     293 non-null    float64\n",
      "dtypes: float64(8), int64(3)\n",
      "memory usage: 27.5 KB\n"
     ]
    }
   ],
   "source": [
    "features.info()"
   ]
  }
 ],
 "metadata": {
  "kernelspec": {
   "display_name": "Python 3 (ipykernel)",
   "language": "python",
   "name": "python3"
  },
  "language_info": {
   "codemirror_mode": {
    "name": "ipython",
    "version": 3
   },
   "file_extension": ".py",
   "mimetype": "text/x-python",
   "name": "python",
   "nbconvert_exporter": "python",
   "pygments_lexer": "ipython3",
   "version": "3.11.3"
  }
 },
 "nbformat": 4,
 "nbformat_minor": 5
}
