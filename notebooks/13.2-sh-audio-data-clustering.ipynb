{
 "cells": [
  {
   "cell_type": "code",
   "execution_count": 1,
   "id": "50202c4c",
   "metadata": {},
   "outputs": [],
   "source": [
    "# import the libraries\n",
    "\n",
    "import pandas as pd # for data manipulation\n",
    "from collections import Counter # for specialised data types\n",
    "\n",
    "from sklearn.preprocessing import MinMaxScaler # for scaling the data\n",
    "from sklearn.cluster import KMeans # import k-means algorithm\n",
    "\n",
    "# for visualising the data\n",
    "import matplotlib.pyplot as plt # visualisation library\n",
    "import seaborn as sns # visualisation library"
   ]
  },
  {
   "cell_type": "code",
   "execution_count": 2,
   "id": "eed0c8bf",
   "metadata": {},
   "outputs": [
    {
     "data": {
      "text/html": [
       "<div>\n",
       "<style scoped>\n",
       "    .dataframe tbody tr th:only-of-type {\n",
       "        vertical-align: middle;\n",
       "    }\n",
       "\n",
       "    .dataframe tbody tr th {\n",
       "        vertical-align: top;\n",
       "    }\n",
       "\n",
       "    .dataframe thead th {\n",
       "        text-align: right;\n",
       "    }\n",
       "</style>\n",
       "<table border=\"1\" class=\"dataframe\">\n",
       "  <thead>\n",
       "    <tr style=\"text-align: right;\">\n",
       "      <th></th>\n",
       "      <th>audio_file_name</th>\n",
       "      <th>zero_crossing_rate</th>\n",
       "      <th>energy</th>\n",
       "    </tr>\n",
       "  </thead>\n",
       "  <tbody>\n",
       "    <tr>\n",
       "      <th>0</th>\n",
       "      <td>classical1.wav</td>\n",
       "      <td>35019</td>\n",
       "      <td>33.268707</td>\n",
       "    </tr>\n",
       "    <tr>\n",
       "      <th>1</th>\n",
       "      <td>marlene.wav</td>\n",
       "      <td>53817</td>\n",
       "      <td>52.843853</td>\n",
       "    </tr>\n",
       "    <tr>\n",
       "      <th>2</th>\n",
       "      <td>hendrix.wav</td>\n",
       "      <td>62196</td>\n",
       "      <td>75.526360</td>\n",
       "    </tr>\n",
       "    <tr>\n",
       "      <th>3</th>\n",
       "      <td>beatles.wav</td>\n",
       "      <td>23928</td>\n",
       "      <td>84.270905</td>\n",
       "    </tr>\n",
       "    <tr>\n",
       "      <th>4</th>\n",
       "      <td>birdland.wav</td>\n",
       "      <td>77597</td>\n",
       "      <td>111.841644</td>\n",
       "    </tr>\n",
       "  </tbody>\n",
       "</table>\n",
       "</div>"
      ],
      "text/plain": [
       "  audio_file_name  zero_crossing_rate      energy\n",
       "0  classical1.wav               35019   33.268707\n",
       "1     marlene.wav               53817   52.843853\n",
       "2     hendrix.wav               62196   75.526360\n",
       "3     beatles.wav               23928   84.270905\n",
       "4    birdland.wav               77597  111.841644"
      ]
     },
     "execution_count": 2,
     "metadata": {},
     "output_type": "execute_result"
    }
   ],
   "source": [
    "# laod the data\n",
    "\n",
    "audio_features_df = pd.read_csv(\"../data/music/audio_data_w_features.csv\")\n",
    "audio_features_df.head()"
   ]
  },
  {
   "cell_type": "code",
   "execution_count": 3,
   "id": "4361ac3e",
   "metadata": {},
   "outputs": [
    {
     "data": {
      "text/plain": [
       "(30, 3)"
      ]
     },
     "execution_count": 3,
     "metadata": {},
     "output_type": "execute_result"
    }
   ],
   "source": [
    "# check the shape\n",
    "\n",
    "audio_features_df.shape"
   ]
  },
  {
   "cell_type": "code",
   "execution_count": 4,
   "id": "b19375cc",
   "metadata": {},
   "outputs": [
    {
     "name": "stdout",
     "output_type": "stream",
     "text": [
      "<class 'pandas.core.frame.DataFrame'>\n",
      "RangeIndex: 30 entries, 0 to 29\n",
      "Data columns (total 3 columns):\n",
      " #   Column              Non-Null Count  Dtype  \n",
      "---  ------              --------------  -----  \n",
      " 0   audio_file_name     30 non-null     object \n",
      " 1   zero_crossing_rate  30 non-null     int64  \n",
      " 2   energy              30 non-null     float64\n",
      "dtypes: float64(1), int64(1), object(1)\n",
      "memory usage: 848.0+ bytes\n"
     ]
    }
   ],
   "source": [
    "# check info\n",
    "audio_features_df.info()"
   ]
  },
  {
   "cell_type": "code",
   "execution_count": 5,
   "id": "f98e430d",
   "metadata": {},
   "outputs": [],
   "source": [
    "# you can either drop the audio file name or set it as an index \n",
    "\n",
    "audio_features_df = audio_features_df.set_index(\"audio_file_name\")\n"
   ]
  },
  {
   "cell_type": "code",
   "execution_count": 6,
   "id": "12215584",
   "metadata": {},
   "outputs": [
    {
     "data": {
      "text/plain": [
       "zero_crossing_rate    0\n",
       "energy                0\n",
       "dtype: int64"
      ]
     },
     "execution_count": 6,
     "metadata": {},
     "output_type": "execute_result"
    }
   ],
   "source": [
    "# identify missing data\n",
    "\n",
    "audio_features_df.isnull().sum()\n",
    "\n",
    "# no missing data"
   ]
  },
  {
   "cell_type": "code",
   "execution_count": 7,
   "id": "d07b00ec",
   "metadata": {},
   "outputs": [
    {
     "name": "stdout",
     "output_type": "stream",
     "text": [
      "# of duplicated rows of data: 0\n"
     ]
    }
   ],
   "source": [
    "# duplicated data\n",
    "\n",
    "print(\"# of duplicated rows of data:\", audio_features_df[audio_features_df.duplicated(keep = False)].shape[0])"
   ]
  },
  {
   "cell_type": "code",
   "execution_count": 8,
   "id": "2de408d8",
   "metadata": {
    "scrolled": true
   },
   "outputs": [
    {
     "data": {
      "text/html": [
       "<div>\n",
       "<style scoped>\n",
       "    .dataframe tbody tr th:only-of-type {\n",
       "        vertical-align: middle;\n",
       "    }\n",
       "\n",
       "    .dataframe tbody tr th {\n",
       "        vertical-align: top;\n",
       "    }\n",
       "\n",
       "    .dataframe thead th {\n",
       "        text-align: right;\n",
       "    }\n",
       "</style>\n",
       "<table border=\"1\" class=\"dataframe\">\n",
       "  <thead>\n",
       "    <tr style=\"text-align: right;\">\n",
       "      <th></th>\n",
       "      <th>zero_crossing_rate</th>\n",
       "      <th>energy</th>\n",
       "    </tr>\n",
       "  </thead>\n",
       "  <tbody>\n",
       "    <tr>\n",
       "      <th>count</th>\n",
       "      <td>30.000000</td>\n",
       "      <td>30.000000</td>\n",
       "    </tr>\n",
       "    <tr>\n",
       "      <th>mean</th>\n",
       "      <td>53244.666667</td>\n",
       "      <td>69.388468</td>\n",
       "    </tr>\n",
       "    <tr>\n",
       "      <th>std</th>\n",
       "      <td>23387.692291</td>\n",
       "      <td>28.040582</td>\n",
       "    </tr>\n",
       "    <tr>\n",
       "      <th>min</th>\n",
       "      <td>20191.000000</td>\n",
       "      <td>21.675022</td>\n",
       "    </tr>\n",
       "    <tr>\n",
       "      <th>25%</th>\n",
       "      <td>40096.750000</td>\n",
       "      <td>51.160083</td>\n",
       "    </tr>\n",
       "    <tr>\n",
       "      <th>50%</th>\n",
       "      <td>47939.500000</td>\n",
       "      <td>66.182312</td>\n",
       "    </tr>\n",
       "    <tr>\n",
       "      <th>75%</th>\n",
       "      <td>61957.500000</td>\n",
       "      <td>83.452192</td>\n",
       "    </tr>\n",
       "    <tr>\n",
       "      <th>max</th>\n",
       "      <td>126961.000000</td>\n",
       "      <td>129.563293</td>\n",
       "    </tr>\n",
       "  </tbody>\n",
       "</table>\n",
       "</div>"
      ],
      "text/plain": [
       "       zero_crossing_rate      energy\n",
       "count           30.000000   30.000000\n",
       "mean         53244.666667   69.388468\n",
       "std          23387.692291   28.040582\n",
       "min          20191.000000   21.675022\n",
       "25%          40096.750000   51.160083\n",
       "50%          47939.500000   66.182312\n",
       "75%          61957.500000   83.452192\n",
       "max         126961.000000  129.563293"
      ]
     },
     "execution_count": 8,
     "metadata": {},
     "output_type": "execute_result"
    }
   ],
   "source": [
    "# check the summary statistics of the data\n",
    "\n",
    "audio_features_df.describe()\n",
    "\n",
    "# we need to scale the data because both features have different scales"
   ]
  },
  {
   "cell_type": "code",
   "execution_count": 9,
   "id": "5dc951ac",
   "metadata": {},
   "outputs": [
    {
     "data": {
      "image/png": "[encoded data removed]",
      "text/plain": [
       "<Figure size 360x360 with 6 Axes>"
      ]
     },
     "metadata": {
      "needs_background": "light"
     },
     "output_type": "display_data"
    }
   ],
   "source": [
    "# visualise the data using pairplot\n",
    "\n",
    "sns.pairplot(audio_features_df);"
   ]
  },
  {
   "cell_type": "code",
   "execution_count": 10,
   "id": "9829d4e8",
   "metadata": {},
   "outputs": [],
   "source": [
    "# scale the data using MinMax Scaler\n",
    "\n",
    "min_max_scaler = MinMaxScaler(feature_range=(-1, 1))\n",
    "features_scaled = min_max_scaler.fit_transform(audio_features_df)"
   ]
  },
  {
   "cell_type": "code",
   "execution_count": 11,
   "id": "5a742c75",
   "metadata": {},
   "outputs": [
    {
     "data": {
      "text/plain": [
       "array([[-0.72224408, -0.78507979],\n",
       "       [-0.37012269, -0.42220168],\n",
       "       [-0.21316849, -0.00172027],\n",
       "       [-0.92999906,  0.16038345],\n",
       "       [ 0.07532078,  0.67148145],\n",
       "       [ 0.21084574, -0.5335637 ],\n",
       "       [ 0.49008148, -0.45637922],\n",
       "       [-0.46565515, -1.        ],\n",
       "       [-0.05582092,  1.        ],\n",
       "       [-0.603353  , -0.19749244],\n",
       "       [-0.83916831, -0.56235001],\n",
       "       [-0.28388124, -0.19418775],\n",
       "       [-0.12662733,  0.0996753 ],\n",
       "       [-0.62925916, -0.12299232],\n",
       "       [ 1.        , -0.44452196],\n",
       "       [-0.28642877, -0.15568701],\n",
       "       [-0.23103868, -0.08272524],\n",
       "       [-1.        , -0.77242139],\n",
       "       [-0.64162218, -0.02082637],\n",
       "       [-0.48491149, -0.529821  ],\n",
       "       [-0.57119041,  0.77024116],\n",
       "       [-0.62073616,  0.57834081],\n",
       "       [-0.53829727,  0.0375029 ],\n",
       "       [ 0.05125035,  0.81403539],\n",
       "       [-0.88436827, -0.95401977],\n",
       "       [-0.49182355, -0.33549752],\n",
       "       [-0.49476445,  0.32533786],\n",
       "       [-0.92951204, -0.36468019],\n",
       "       [-0.36328557,  0.22373595],\n",
       "       [-0.47552683, -0.20964549]])"
      ]
     },
     "execution_count": 11,
     "metadata": {},
     "output_type": "execute_result"
    }
   ],
   "source": [
    "features_scaled"
   ]
  },
  {
   "cell_type": "code",
   "execution_count": 12,
   "id": "49cad860",
   "metadata": {},
   "outputs": [],
   "source": [
    "# fit a kmeans model based on cluster numbers of your choice\n",
    "\n",
    "model = KMeans(n_clusters = 2)\n",
    "labels = model.fit_predict(features_scaled)"
   ]
  },
  {
   "cell_type": "code",
   "execution_count": 13,
   "id": "15029c00",
   "metadata": {},
   "outputs": [],
   "source": [
    "# predicted labels"
   ]
  },
  {
   "cell_type": "code",
   "execution_count": 14,
   "id": "6309a1e7",
   "metadata": {},
   "outputs": [
    {
     "data": {
      "text/plain": [
       "Counter({0: 23, 1: 7})"
      ]
     },
     "execution_count": 14,
     "metadata": {},
     "output_type": "execute_result"
    }
   ],
   "source": [
    "# distribution of labels\n",
    "\n",
    "Counter(labels)"
   ]
  },
  {
   "cell_type": "code",
   "execution_count": 15,
   "id": "fefe1d8b",
   "metadata": {},
   "outputs": [
    {
     "data": {
      "text/html": [
       "<div>\n",
       "<style scoped>\n",
       "    .dataframe tbody tr th:only-of-type {\n",
       "        vertical-align: middle;\n",
       "    }\n",
       "\n",
       "    .dataframe tbody tr th {\n",
       "        vertical-align: top;\n",
       "    }\n",
       "\n",
       "    .dataframe thead th {\n",
       "        text-align: right;\n",
       "    }\n",
       "</style>\n",
       "<table border=\"1\" class=\"dataframe\">\n",
       "  <thead>\n",
       "    <tr style=\"text-align: right;\">\n",
       "      <th></th>\n",
       "      <th>zero_crossing_rate</th>\n",
       "      <th>energy</th>\n",
       "    </tr>\n",
       "  </thead>\n",
       "  <tbody>\n",
       "    <tr>\n",
       "      <th>0</th>\n",
       "      <td>-0.410699</td>\n",
       "      <td>-0.341228</td>\n",
       "    </tr>\n",
       "    <tr>\n",
       "      <th>1</th>\n",
       "      <td>-0.282747</td>\n",
       "      <td>0.626168</td>\n",
       "    </tr>\n",
       "  </tbody>\n",
       "</table>\n",
       "</div>"
      ],
      "text/plain": [
       "   zero_crossing_rate    energy\n",
       "0           -0.410699 -0.341228\n",
       "1           -0.282747  0.626168"
      ]
     },
     "execution_count": 15,
     "metadata": {},
     "output_type": "execute_result"
    }
   ],
   "source": [
    "# the centroids for the clusters\n",
    "\n",
    "pd.DataFrame(model.cluster_centers_, columns = audio_features_df.columns)\n"
   ]
  },
  {
   "cell_type": "code",
   "execution_count": 16,
   "id": "00743a68",
   "metadata": {},
   "outputs": [],
   "source": [
    "# identify optimal number of clusters\n",
    "\n",
    "\n",
    "def optimal_number_clusters(df):\n",
    "    \"\"\"\n",
    "    Calculates optimal number of clusted based on Elbow Method\n",
    "    \n",
    "    parameters df\n",
    "    \"\"\"\n",
    "    \n",
    "    Sum_of_squared_distances = []\n",
    "    K = range(1, 30) # define the range of clusters we would like to cluster the data into\n",
    "\n",
    "    for k in K:\n",
    "        km = KMeans(n_clusters = k)\n",
    "        km = km.fit(df)\n",
    "        Sum_of_squared_distances.append(km.inertia_)\n",
    "\n",
    "    plt.figure(figsize=(20,6))\n",
    "\n",
    "    plt.plot(K, Sum_of_squared_distances, 'bx-')\n",
    "    plt.xlabel('k')\n",
    "    plt.ylabel('Sum_of_squared_distances')\n",
    "    plt.title('Elbow Method For Optimal k')\n",
    "    plt.show()"
   ]
  },
  {
   "cell_type": "code",
   "execution_count": 17,
   "id": "ad8c15b8",
   "metadata": {},
   "outputs": [
    {
     "data": {
      "image/png": "[encoded data removed]",
      "text/plain": [
       "<Figure size 1440x432 with 1 Axes>"
      ]
     },
     "metadata": {
      "needs_background": "light"
     },
     "output_type": "display_data"
    }
   ],
   "source": [
    "optimal_number_clusters(features_scaled)"
   ]
  },
  {
   "cell_type": "code",
   "execution_count": 18,
   "id": "a6d308e3",
   "metadata": {},
   "outputs": [],
   "source": [
    "optimal_k = 6 # based on the elbow point\n",
    "\n",
    "model = KMeans(n_clusters = optimal_k)\n",
    "labels = model.fit_predict(features_scaled)"
   ]
  },
  {
   "cell_type": "code",
   "execution_count": 19,
   "id": "c3c19583",
   "metadata": {},
   "outputs": [
    {
     "data": {
      "text/plain": [
       "array([2, 3, 3, 5, 4, 1, 1, 2, 4, 5, 2, 3, 3, 5, 1, 3, 3, 2, 5, 3, 0, 0,\n",
       "       5, 4, 2, 3, 0, 5, 0, 3], dtype=int32)"
      ]
     },
     "execution_count": 19,
     "metadata": {},
     "output_type": "execute_result"
    }
   ],
   "source": [
    "labels"
   ]
  },
  {
   "cell_type": "code",
   "execution_count": 20,
   "id": "9627930e",
   "metadata": {},
   "outputs": [
    {
     "data": {
      "text/plain": [
       "Counter({2: 5, 3: 9, 5: 6, 4: 3, 1: 3, 0: 4})"
      ]
     },
     "execution_count": 20,
     "metadata": {},
     "output_type": "execute_result"
    }
   ],
   "source": [
    "# distribution of labels\n",
    "\n",
    "Counter(labels)"
   ]
  },
  {
   "cell_type": "code",
   "execution_count": 21,
   "id": "4d41a643",
   "metadata": {},
   "outputs": [
    {
     "data": {
      "text/html": [
       "<div>\n",
       "<style scoped>\n",
       "    .dataframe tbody tr th:only-of-type {\n",
       "        vertical-align: middle;\n",
       "    }\n",
       "\n",
       "    .dataframe tbody tr th {\n",
       "        vertical-align: top;\n",
       "    }\n",
       "\n",
       "    .dataframe thead th {\n",
       "        text-align: right;\n",
       "    }\n",
       "</style>\n",
       "<table border=\"1\" class=\"dataframe\">\n",
       "  <thead>\n",
       "    <tr style=\"text-align: right;\">\n",
       "      <th></th>\n",
       "      <th>audio_file_name</th>\n",
       "      <th>zero_crossing_rate</th>\n",
       "      <th>energy</th>\n",
       "      <th>cluster_id</th>\n",
       "    </tr>\n",
       "  </thead>\n",
       "  <tbody>\n",
       "    <tr>\n",
       "      <th>0</th>\n",
       "      <td>classical1.wav</td>\n",
       "      <td>35019</td>\n",
       "      <td>33.268707</td>\n",
       "      <td>2</td>\n",
       "    </tr>\n",
       "    <tr>\n",
       "      <th>1</th>\n",
       "      <td>marlene.wav</td>\n",
       "      <td>53817</td>\n",
       "      <td>52.843853</td>\n",
       "      <td>3</td>\n",
       "    </tr>\n",
       "    <tr>\n",
       "      <th>2</th>\n",
       "      <td>hendrix.wav</td>\n",
       "      <td>62196</td>\n",
       "      <td>75.526360</td>\n",
       "      <td>3</td>\n",
       "    </tr>\n",
       "    <tr>\n",
       "      <th>3</th>\n",
       "      <td>beatles.wav</td>\n",
       "      <td>23928</td>\n",
       "      <td>84.270905</td>\n",
       "      <td>5</td>\n",
       "    </tr>\n",
       "    <tr>\n",
       "      <th>4</th>\n",
       "      <td>birdland.wav</td>\n",
       "      <td>77597</td>\n",
       "      <td>111.841644</td>\n",
       "      <td>4</td>\n",
       "    </tr>\n",
       "    <tr>\n",
       "      <th>5</th>\n",
       "      <td>bigband.wav</td>\n",
       "      <td>84832</td>\n",
       "      <td>46.836525</td>\n",
       "      <td>1</td>\n",
       "    </tr>\n",
       "    <tr>\n",
       "      <th>6</th>\n",
       "      <td>rock.wav</td>\n",
       "      <td>99739</td>\n",
       "      <td>51.000175</td>\n",
       "      <td>1</td>\n",
       "    </tr>\n",
       "    <tr>\n",
       "      <th>7</th>\n",
       "      <td>blues.wav</td>\n",
       "      <td>48717</td>\n",
       "      <td>21.675022</td>\n",
       "      <td>2</td>\n",
       "    </tr>\n",
       "    <tr>\n",
       "      <th>8</th>\n",
       "      <td>chaka.wav</td>\n",
       "      <td>70596</td>\n",
       "      <td>129.563293</td>\n",
       "      <td>4</td>\n",
       "    </tr>\n",
       "    <tr>\n",
       "      <th>9</th>\n",
       "      <td>duke.wav</td>\n",
       "      <td>41366</td>\n",
       "      <td>64.965599</td>\n",
       "      <td>5</td>\n",
       "    </tr>\n",
       "    <tr>\n",
       "      <th>10</th>\n",
       "      <td>moanin.wav</td>\n",
       "      <td>28777</td>\n",
       "      <td>45.283672</td>\n",
       "      <td>2</td>\n",
       "    </tr>\n",
       "    <tr>\n",
       "      <th>11</th>\n",
       "      <td>loreena.wav</td>\n",
       "      <td>58421</td>\n",
       "      <td>65.143867</td>\n",
       "      <td>3</td>\n",
       "    </tr>\n",
       "    <tr>\n",
       "      <th>12</th>\n",
       "      <td>copland.wav</td>\n",
       "      <td>66816</td>\n",
       "      <td>80.996056</td>\n",
       "      <td>3</td>\n",
       "    </tr>\n",
       "    <tr>\n",
       "      <th>13</th>\n",
       "      <td>russo.wav</td>\n",
       "      <td>39983</td>\n",
       "      <td>68.984444</td>\n",
       "      <td>5</td>\n",
       "    </tr>\n",
       "    <tr>\n",
       "      <th>14</th>\n",
       "      <td>bagpipe.wav</td>\n",
       "      <td>126961</td>\n",
       "      <td>51.639805</td>\n",
       "      <td>1</td>\n",
       "    </tr>\n",
       "    <tr>\n",
       "      <th>15</th>\n",
       "      <td>tony.wav</td>\n",
       "      <td>58285</td>\n",
       "      <td>67.220757</td>\n",
       "      <td>3</td>\n",
       "    </tr>\n",
       "    <tr>\n",
       "      <th>16</th>\n",
       "      <td>glass.wav</td>\n",
       "      <td>61242</td>\n",
       "      <td>71.156616</td>\n",
       "      <td>3</td>\n",
       "    </tr>\n",
       "    <tr>\n",
       "      <th>17</th>\n",
       "      <td>guitar.wav</td>\n",
       "      <td>20191</td>\n",
       "      <td>33.951553</td>\n",
       "      <td>2</td>\n",
       "    </tr>\n",
       "    <tr>\n",
       "      <th>18</th>\n",
       "      <td>narch.wav</td>\n",
       "      <td>39323</td>\n",
       "      <td>74.495697</td>\n",
       "      <td>5</td>\n",
       "    </tr>\n",
       "    <tr>\n",
       "      <th>19</th>\n",
       "      <td>georose.wav</td>\n",
       "      <td>47689</td>\n",
       "      <td>47.038422</td>\n",
       "      <td>3</td>\n",
       "    </tr>\n",
       "    <tr>\n",
       "      <th>20</th>\n",
       "      <td>mingus.wav</td>\n",
       "      <td>43083</td>\n",
       "      <td>117.169151</td>\n",
       "      <td>0</td>\n",
       "    </tr>\n",
       "    <tr>\n",
       "      <th>21</th>\n",
       "      <td>brahms.wav</td>\n",
       "      <td>40438</td>\n",
       "      <td>106.817253</td>\n",
       "      <td>0</td>\n",
       "    </tr>\n",
       "    <tr>\n",
       "      <th>22</th>\n",
       "      <td>deedee.wav</td>\n",
       "      <td>44839</td>\n",
       "      <td>77.642220</td>\n",
       "      <td>5</td>\n",
       "    </tr>\n",
       "    <tr>\n",
       "      <th>23</th>\n",
       "      <td>canonaki.wav</td>\n",
       "      <td>76312</td>\n",
       "      <td>119.531593</td>\n",
       "      <td>4</td>\n",
       "    </tr>\n",
       "    <tr>\n",
       "      <th>24</th>\n",
       "      <td>ballad.wav</td>\n",
       "      <td>26364</td>\n",
       "      <td>24.155386</td>\n",
       "      <td>2</td>\n",
       "    </tr>\n",
       "    <tr>\n",
       "      <th>25</th>\n",
       "      <td>debussy.wav</td>\n",
       "      <td>47320</td>\n",
       "      <td>57.521034</td>\n",
       "      <td>3</td>\n",
       "    </tr>\n",
       "    <tr>\n",
       "      <th>26</th>\n",
       "      <td>pop.wav</td>\n",
       "      <td>47163</td>\n",
       "      <td>93.169228</td>\n",
       "      <td>0</td>\n",
       "    </tr>\n",
       "    <tr>\n",
       "      <th>27</th>\n",
       "      <td>corea.wav</td>\n",
       "      <td>23954</td>\n",
       "      <td>55.946800</td>\n",
       "      <td>5</td>\n",
       "    </tr>\n",
       "    <tr>\n",
       "      <th>28</th>\n",
       "      <td>opera.wav</td>\n",
       "      <td>54182</td>\n",
       "      <td>87.688400</td>\n",
       "      <td>0</td>\n",
       "    </tr>\n",
       "    <tr>\n",
       "      <th>29</th>\n",
       "      <td>winds.wav</td>\n",
       "      <td>48190</td>\n",
       "      <td>64.310013</td>\n",
       "      <td>3</td>\n",
       "    </tr>\n",
       "  </tbody>\n",
       "</table>\n",
       "</div>"
      ],
      "text/plain": [
       "   audio_file_name  zero_crossing_rate      energy  cluster_id\n",
       "0   classical1.wav               35019   33.268707           2\n",
       "1      marlene.wav               53817   52.843853           3\n",
       "2      hendrix.wav               62196   75.526360           3\n",
       "3      beatles.wav               23928   84.270905           5\n",
       "4     birdland.wav               77597  111.841644           4\n",
       "5      bigband.wav               84832   46.836525           1\n",
       "6         rock.wav               99739   51.000175           1\n",
       "7        blues.wav               48717   21.675022           2\n",
       "8        chaka.wav               70596  129.563293           4\n",
       "9         duke.wav               41366   64.965599           5\n",
       "10      moanin.wav               28777   45.283672           2\n",
       "11     loreena.wav               58421   65.143867           3\n",
       "12     copland.wav               66816   80.996056           3\n",
       "13       russo.wav               39983   68.984444           5\n",
       "14     bagpipe.wav              126961   51.639805           1\n",
       "15        tony.wav               58285   67.220757           3\n",
       "16       glass.wav               61242   71.156616           3\n",
       "17      guitar.wav               20191   33.951553           2\n",
       "18       narch.wav               39323   74.495697           5\n",
       "19     georose.wav               47689   47.038422           3\n",
       "20      mingus.wav               43083  117.169151           0\n",
       "21      brahms.wav               40438  106.817253           0\n",
       "22      deedee.wav               44839   77.642220           5\n",
       "23    canonaki.wav               76312  119.531593           4\n",
       "24      ballad.wav               26364   24.155386           2\n",
       "25     debussy.wav               47320   57.521034           3\n",
       "26         pop.wav               47163   93.169228           0\n",
       "27       corea.wav               23954   55.946800           5\n",
       "28       opera.wav               54182   87.688400           0\n",
       "29       winds.wav               48190   64.310013           3"
      ]
     },
     "execution_count": 21,
     "metadata": {},
     "output_type": "execute_result"
    }
   ],
   "source": [
    "# dataframe that contains the predicted cluster id for every audio file\n",
    "\n",
    "labels_df = pd.DataFrame(labels).reset_index(drop = True).rename(columns = {0: \"cluster_id\"})\n",
    "audio_features_df = pd.concat([audio_features_df.reset_index(), labels_df], axis= 1 ) \n",
    "audio_features_df"
   ]
  },
  {
   "cell_type": "code",
   "execution_count": 22,
   "id": "b365f7a1",
   "metadata": {},
   "outputs": [
    {
     "data": {
      "text/html": [
       "<div>\n",
       "<style scoped>\n",
       "    .dataframe tbody tr th:only-of-type {\n",
       "        vertical-align: middle;\n",
       "    }\n",
       "\n",
       "    .dataframe tbody tr th {\n",
       "        vertical-align: top;\n",
       "    }\n",
       "\n",
       "    .dataframe thead th {\n",
       "        text-align: right;\n",
       "    }\n",
       "</style>\n",
       "<table border=\"1\" class=\"dataframe\">\n",
       "  <thead>\n",
       "    <tr style=\"text-align: right;\">\n",
       "      <th></th>\n",
       "      <th>audio_file_name</th>\n",
       "      <th>zero_crossing_rate</th>\n",
       "      <th>energy</th>\n",
       "      <th>cluster_id</th>\n",
       "    </tr>\n",
       "  </thead>\n",
       "  <tbody>\n",
       "    <tr>\n",
       "      <th>20</th>\n",
       "      <td>mingus.wav</td>\n",
       "      <td>43083</td>\n",
       "      <td>117.169151</td>\n",
       "      <td>0</td>\n",
       "    </tr>\n",
       "    <tr>\n",
       "      <th>21</th>\n",
       "      <td>brahms.wav</td>\n",
       "      <td>40438</td>\n",
       "      <td>106.817253</td>\n",
       "      <td>0</td>\n",
       "    </tr>\n",
       "    <tr>\n",
       "      <th>26</th>\n",
       "      <td>pop.wav</td>\n",
       "      <td>47163</td>\n",
       "      <td>93.169228</td>\n",
       "      <td>0</td>\n",
       "    </tr>\n",
       "    <tr>\n",
       "      <th>28</th>\n",
       "      <td>opera.wav</td>\n",
       "      <td>54182</td>\n",
       "      <td>87.688400</td>\n",
       "      <td>0</td>\n",
       "    </tr>\n",
       "  </tbody>\n",
       "</table>\n",
       "</div>"
      ],
      "text/plain": [
       "   audio_file_name  zero_crossing_rate      energy  cluster_id\n",
       "20      mingus.wav               43083  117.169151           0\n",
       "21      brahms.wav               40438  106.817253           0\n",
       "26         pop.wav               47163   93.169228           0\n",
       "28       opera.wav               54182   87.688400           0"
      ]
     },
     "execution_count": 22,
     "metadata": {},
     "output_type": "execute_result"
    }
   ],
   "source": [
    "# select a cluster of interest\n",
    "# what time of audio files appear\n",
    "# listen to the audio files and check if this makes sense\n",
    "\n",
    "audio_features_df[audio_features_df.cluster_id == 0]"
   ]
  },
  {
   "cell_type": "code",
   "execution_count": 23,
   "id": "39daf279",
   "metadata": {},
   "outputs": [
    {
     "data": {
      "text/html": [
       "<div>\n",
       "<style scoped>\n",
       "    .dataframe tbody tr th:only-of-type {\n",
       "        vertical-align: middle;\n",
       "    }\n",
       "\n",
       "    .dataframe tbody tr th {\n",
       "        vertical-align: top;\n",
       "    }\n",
       "\n",
       "    .dataframe thead th {\n",
       "        text-align: right;\n",
       "    }\n",
       "</style>\n",
       "<table border=\"1\" class=\"dataframe\">\n",
       "  <thead>\n",
       "    <tr style=\"text-align: right;\">\n",
       "      <th></th>\n",
       "      <th>audio_file_name</th>\n",
       "      <th>zero_crossing_rate</th>\n",
       "      <th>energy</th>\n",
       "      <th>cluster_id</th>\n",
       "    </tr>\n",
       "  </thead>\n",
       "  <tbody>\n",
       "    <tr>\n",
       "      <th>0</th>\n",
       "      <td>classical1.wav</td>\n",
       "      <td>35019</td>\n",
       "      <td>33.268707</td>\n",
       "      <td>2</td>\n",
       "    </tr>\n",
       "    <tr>\n",
       "      <th>7</th>\n",
       "      <td>blues.wav</td>\n",
       "      <td>48717</td>\n",
       "      <td>21.675022</td>\n",
       "      <td>2</td>\n",
       "    </tr>\n",
       "    <tr>\n",
       "      <th>10</th>\n",
       "      <td>moanin.wav</td>\n",
       "      <td>28777</td>\n",
       "      <td>45.283672</td>\n",
       "      <td>2</td>\n",
       "    </tr>\n",
       "    <tr>\n",
       "      <th>17</th>\n",
       "      <td>guitar.wav</td>\n",
       "      <td>20191</td>\n",
       "      <td>33.951553</td>\n",
       "      <td>2</td>\n",
       "    </tr>\n",
       "    <tr>\n",
       "      <th>24</th>\n",
       "      <td>ballad.wav</td>\n",
       "      <td>26364</td>\n",
       "      <td>24.155386</td>\n",
       "      <td>2</td>\n",
       "    </tr>\n",
       "  </tbody>\n",
       "</table>\n",
       "</div>"
      ],
      "text/plain": [
       "   audio_file_name  zero_crossing_rate     energy  cluster_id\n",
       "0   classical1.wav               35019  33.268707           2\n",
       "7        blues.wav               48717  21.675022           2\n",
       "10      moanin.wav               28777  45.283672           2\n",
       "17      guitar.wav               20191  33.951553           2\n",
       "24      ballad.wav               26364  24.155386           2"
      ]
     },
     "execution_count": 23,
     "metadata": {},
     "output_type": "execute_result"
    }
   ],
   "source": [
    "audio_features_df[audio_features_df.cluster_id == 2]"
   ]
  },
  {
   "cell_type": "code",
   "execution_count": 24,
   "id": "afa0e998",
   "metadata": {},
   "outputs": [
    {
     "data": {
      "image/png": "[encoded data removed]",
      "text/plain": [
       "<Figure size 864x1440 with 6 Axes>"
      ]
     },
     "metadata": {
      "needs_background": "light"
     },
     "output_type": "display_data"
    }
   ],
   "source": [
    "# distribution of energy across all clusters\n",
    "\n",
    "clusters = audio_features_df[\"cluster_id\"].unique() \n",
    "\n",
    "x = 1\n",
    "plt.figure(figsize=(12, 20))\n",
    "for x, c in enumerate(clusters):\n",
    "    ax = plt.subplot(4, 2, x + 1)\n",
    "    plt.title(f'Cluster {c} Energy')\n",
    "    sns.violinplot(x = audio_features_df[audio_features_df[\"cluster_id\"] == c][\"energy\"], color='pink')\n",
    "\n",
    "    \n",
    "# we are seeing patterns of high energy and low energy clusters"
   ]
  },
  {
   "cell_type": "code",
   "execution_count": 25,
   "id": "87e6117c",
   "metadata": {},
   "outputs": [
    {
     "data": {
      "text/html": [
       "<div>\n",
       "<style scoped>\n",
       "    .dataframe tbody tr th:only-of-type {\n",
       "        vertical-align: middle;\n",
       "    }\n",
       "\n",
       "    .dataframe tbody tr th {\n",
       "        vertical-align: top;\n",
       "    }\n",
       "\n",
       "    .dataframe thead th {\n",
       "        text-align: right;\n",
       "    }\n",
       "</style>\n",
       "<table border=\"1\" class=\"dataframe\">\n",
       "  <thead>\n",
       "    <tr style=\"text-align: right;\">\n",
       "      <th></th>\n",
       "      <th>audio_file_name</th>\n",
       "      <th>zero_crossing_rate</th>\n",
       "      <th>energy</th>\n",
       "      <th>cluster_id</th>\n",
       "    </tr>\n",
       "  </thead>\n",
       "  <tbody>\n",
       "    <tr>\n",
       "      <th>4</th>\n",
       "      <td>birdland.wav</td>\n",
       "      <td>77597</td>\n",
       "      <td>111.841644</td>\n",
       "      <td>4</td>\n",
       "    </tr>\n",
       "    <tr>\n",
       "      <th>5</th>\n",
       "      <td>bigband.wav</td>\n",
       "      <td>84832</td>\n",
       "      <td>46.836525</td>\n",
       "      <td>1</td>\n",
       "    </tr>\n",
       "    <tr>\n",
       "      <th>6</th>\n",
       "      <td>rock.wav</td>\n",
       "      <td>99739</td>\n",
       "      <td>51.000175</td>\n",
       "      <td>1</td>\n",
       "    </tr>\n",
       "    <tr>\n",
       "      <th>8</th>\n",
       "      <td>chaka.wav</td>\n",
       "      <td>70596</td>\n",
       "      <td>129.563293</td>\n",
       "      <td>4</td>\n",
       "    </tr>\n",
       "    <tr>\n",
       "      <th>14</th>\n",
       "      <td>bagpipe.wav</td>\n",
       "      <td>126961</td>\n",
       "      <td>51.639805</td>\n",
       "      <td>1</td>\n",
       "    </tr>\n",
       "    <tr>\n",
       "      <th>23</th>\n",
       "      <td>canonaki.wav</td>\n",
       "      <td>76312</td>\n",
       "      <td>119.531593</td>\n",
       "      <td>4</td>\n",
       "    </tr>\n",
       "  </tbody>\n",
       "</table>\n",
       "</div>"
      ],
      "text/plain": [
       "   audio_file_name  zero_crossing_rate      energy  cluster_id\n",
       "4     birdland.wav               77597  111.841644           4\n",
       "5      bigband.wav               84832   46.836525           1\n",
       "6         rock.wav               99739   51.000175           1\n",
       "8        chaka.wav               70596  129.563293           4\n",
       "14     bagpipe.wav              126961   51.639805           1\n",
       "23    canonaki.wav               76312  119.531593           4"
      ]
     },
     "execution_count": 25,
     "metadata": {},
     "output_type": "execute_result"
    }
   ],
   "source": [
    "# high energy cluster\n",
    "\n",
    "audio_features_df[audio_features_df.cluster_id.isin([1, 4])]\n",
    "\n"
   ]
  }
 ],
 "metadata": {
  "kernelspec": {
   "display_name": "Python 3",
   "language": "python",
   "name": "python3"
  },
  "language_info": {
   "codemirror_mode": {
    "name": "ipython",
    "version": 3
   },
   "file_extension": ".py",
   "mimetype": "text/x-python",
   "name": "python",
   "nbconvert_exporter": "python",
   "pygments_lexer": "ipython3",
   "version": "3.8.10"
  }
 },
 "nbformat": 4,
 "nbformat_minor": 5
}
