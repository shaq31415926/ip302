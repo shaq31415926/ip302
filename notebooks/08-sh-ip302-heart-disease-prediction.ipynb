{
 "cells": [
  {
   "cell_type": "markdown",
   "id": "08064459",
   "metadata": {},
   "source": [
    "## Heart Disease Prediction using Machine Learning\n",
    "\n",
    "We will be closely working with a heart disease dataset, and our sole aim is to build a model to detect the probability of person that a patient will have a heart problem or not.\n",
    "\n",
    "Reference: https://www.analyticsvidhya.com/blog/2022/02/heart-disease-prediction-using-machine-learning/"
   ]
  },
  {
   "cell_type": "code",
   "execution_count": 1,
   "id": "ee106afc",
   "metadata": {},
   "outputs": [],
   "source": [
    "# import necessary libraries to explore the data\n",
    "import pandas as pd\n",
    "import numpy as np\n",
    "import seaborn as sns\n",
    "import matplotlib.pyplot as plt\n",
    "\n",
    "from sklearn.preprocessing import MinMaxScaler\n",
    "from sklearn.model_selection import train_test_split\n",
    "from sklearn.linear_model import LogisticRegression\n",
    "from sklearn.tree import DecisionTreeClassifier\n",
    "from sklearn.metrics import accuracy_score, recall_score, precision_score, f1_score, confusion_matrix, classification_report, plot_confusion_matrix\n",
    "\n",
    "# import python scripts we created to help with feature engineering\n",
    "import os\n",
    "import sys\n",
    "module_path = os.path.abspath(os.path.join('..'))\n",
    "if module_path not in sys.path:\n",
    "    sys.path.append(module_path)\n",
    "from src.helpers import identify_missing_data, feature_importance_plot"
   ]
  },
  {
   "cell_type": "markdown",
   "id": "1a91f3bb",
   "metadata": {},
   "source": [
    "## Read and Explore the Data"
   ]
  },
  {
   "cell_type": "code",
   "execution_count": 2,
   "id": "541adf2d",
   "metadata": {},
   "outputs": [
    {
     "data": {
      "text/html": [
       "<div>\n",
       "<style scoped>\n",
       "    .dataframe tbody tr th:only-of-type {\n",
       "        vertical-align: middle;\n",
       "    }\n",
       "\n",
       "    .dataframe tbody tr th {\n",
       "        vertical-align: top;\n",
       "    }\n",
       "\n",
       "    .dataframe thead th {\n",
       "        text-align: right;\n",
       "    }\n",
       "</style>\n",
       "<table border=\"1\" class=\"dataframe\">\n",
       "  <thead>\n",
       "    <tr style=\"text-align: right;\">\n",
       "      <th></th>\n",
       "      <th>age</th>\n",
       "      <th>sex</th>\n",
       "      <th>cp</th>\n",
       "      <th>trestbps</th>\n",
       "      <th>chol</th>\n",
       "      <th>fbs</th>\n",
       "      <th>restecg</th>\n",
       "      <th>thalach</th>\n",
       "      <th>exang</th>\n",
       "      <th>oldpeak</th>\n",
       "      <th>slope</th>\n",
       "      <th>ca</th>\n",
       "      <th>thal</th>\n",
       "      <th>target</th>\n",
       "    </tr>\n",
       "  </thead>\n",
       "  <tbody>\n",
       "    <tr>\n",
       "      <th>0</th>\n",
       "      <td>28</td>\n",
       "      <td>1</td>\n",
       "      <td>2</td>\n",
       "      <td>130.0</td>\n",
       "      <td>132.0</td>\n",
       "      <td>0.0</td>\n",
       "      <td>2.0</td>\n",
       "      <td>185.0</td>\n",
       "      <td>0.0</td>\n",
       "      <td>0.0</td>\n",
       "      <td>NaN</td>\n",
       "      <td>NaN</td>\n",
       "      <td>NaN</td>\n",
       "      <td>0</td>\n",
       "    </tr>\n",
       "    <tr>\n",
       "      <th>1</th>\n",
       "      <td>29</td>\n",
       "      <td>1</td>\n",
       "      <td>2</td>\n",
       "      <td>120.0</td>\n",
       "      <td>243.0</td>\n",
       "      <td>0.0</td>\n",
       "      <td>0.0</td>\n",
       "      <td>160.0</td>\n",
       "      <td>0.0</td>\n",
       "      <td>0.0</td>\n",
       "      <td>NaN</td>\n",
       "      <td>NaN</td>\n",
       "      <td>NaN</td>\n",
       "      <td>0</td>\n",
       "    </tr>\n",
       "    <tr>\n",
       "      <th>2</th>\n",
       "      <td>29</td>\n",
       "      <td>1</td>\n",
       "      <td>2</td>\n",
       "      <td>140.0</td>\n",
       "      <td>NaN</td>\n",
       "      <td>0.0</td>\n",
       "      <td>0.0</td>\n",
       "      <td>170.0</td>\n",
       "      <td>0.0</td>\n",
       "      <td>0.0</td>\n",
       "      <td>NaN</td>\n",
       "      <td>NaN</td>\n",
       "      <td>NaN</td>\n",
       "      <td>0</td>\n",
       "    </tr>\n",
       "    <tr>\n",
       "      <th>3</th>\n",
       "      <td>30</td>\n",
       "      <td>0</td>\n",
       "      <td>1</td>\n",
       "      <td>170.0</td>\n",
       "      <td>237.0</td>\n",
       "      <td>0.0</td>\n",
       "      <td>1.0</td>\n",
       "      <td>170.0</td>\n",
       "      <td>0.0</td>\n",
       "      <td>0.0</td>\n",
       "      <td>NaN</td>\n",
       "      <td>NaN</td>\n",
       "      <td>6.0</td>\n",
       "      <td>0</td>\n",
       "    </tr>\n",
       "    <tr>\n",
       "      <th>4</th>\n",
       "      <td>31</td>\n",
       "      <td>0</td>\n",
       "      <td>2</td>\n",
       "      <td>100.0</td>\n",
       "      <td>219.0</td>\n",
       "      <td>0.0</td>\n",
       "      <td>1.0</td>\n",
       "      <td>150.0</td>\n",
       "      <td>0.0</td>\n",
       "      <td>0.0</td>\n",
       "      <td>NaN</td>\n",
       "      <td>NaN</td>\n",
       "      <td>NaN</td>\n",
       "      <td>0</td>\n",
       "    </tr>\n",
       "  </tbody>\n",
       "</table>\n",
       "</div>"
      ],
      "text/plain": [
       "   age  sex  cp  trestbps   chol  fbs  restecg  thalach  exang  oldpeak  \\\n",
       "0   28    1   2     130.0  132.0  0.0      2.0    185.0    0.0      0.0   \n",
       "1   29    1   2     120.0  243.0  0.0      0.0    160.0    0.0      0.0   \n",
       "2   29    1   2     140.0    NaN  0.0      0.0    170.0    0.0      0.0   \n",
       "3   30    0   1     170.0  237.0  0.0      1.0    170.0    0.0      0.0   \n",
       "4   31    0   2     100.0  219.0  0.0      1.0    150.0    0.0      0.0   \n",
       "\n",
       "   slope  ca  thal  target  \n",
       "0    NaN NaN   NaN       0  \n",
       "1    NaN NaN   NaN       0  \n",
       "2    NaN NaN   NaN       0  \n",
       "3    NaN NaN   6.0       0  \n",
       "4    NaN NaN   NaN       0  "
      ]
     },
     "execution_count": 2,
     "metadata": {},
     "output_type": "execute_result"
    }
   ],
   "source": [
    "# read the data\n",
    "\n",
    "heart_disease_data = pd.read_csv('../data/heart_attack_data.csv')\n",
    "\n",
    "# preview the data\n",
    "heart_disease_data.head()"
   ]
  },
  {
   "cell_type": "code",
   "execution_count": 3,
   "id": "9f0bdd55",
   "metadata": {},
   "outputs": [
    {
     "data": {
      "text/plain": [
       "(294, 14)"
      ]
     },
     "execution_count": 3,
     "metadata": {},
     "output_type": "execute_result"
    }
   ],
   "source": [
    "# check the shape of the data\n",
    "\n",
    "heart_disease_data.shape\n",
    "\n",
    "# we have 294 rows of data, and 14 potential features.\n",
    "# small data set"
   ]
  },
  {
   "cell_type": "code",
   "execution_count": 4,
   "id": "373aed4d",
   "metadata": {},
   "outputs": [
    {
     "name": "stdout",
     "output_type": "stream",
     "text": [
      "<class 'pandas.core.frame.DataFrame'>\n",
      "RangeIndex: 294 entries, 0 to 293\n",
      "Data columns (total 14 columns):\n",
      " #   Column    Non-Null Count  Dtype  \n",
      "---  ------    --------------  -----  \n",
      " 0   age       294 non-null    int64  \n",
      " 1   sex       294 non-null    int64  \n",
      " 2   cp        294 non-null    int64  \n",
      " 3   trestbps  293 non-null    float64\n",
      " 4   chol      271 non-null    float64\n",
      " 5   fbs       286 non-null    float64\n",
      " 6   restecg   293 non-null    float64\n",
      " 7   thalach   293 non-null    float64\n",
      " 8   exang     293 non-null    float64\n",
      " 9   oldpeak   294 non-null    float64\n",
      " 10  slope     104 non-null    float64\n",
      " 11  ca        3 non-null      float64\n",
      " 12  thal      28 non-null     float64\n",
      " 13  target    294 non-null    int64  \n",
      "dtypes: float64(10), int64(4)\n",
      "memory usage: 32.3 KB\n"
     ]
    }
   ],
   "source": [
    "# check the summary information of the data\n",
    "\n",
    "heart_disease_data.info()\n",
    "\n",
    "# do we have any categorical data that needs processing?"
   ]
  },
  {
   "cell_type": "code",
   "execution_count": 5,
   "id": "0e899136",
   "metadata": {},
   "outputs": [
    {
     "data": {
      "text/plain": [
       "0    0.639456\n",
       "1    0.360544\n",
       "Name: target, dtype: float64"
      ]
     },
     "execution_count": 5,
     "metadata": {},
     "output_type": "execute_result"
    }
   ],
   "source": [
    "# check the distribution of the target\n",
    "\n",
    "heart_disease_data.target.value_counts(dropna = True, normalize = True)\n",
    "\n",
    "# The data is slightly imbalanced, with roughly 36% of patients having had a heart disease"
   ]
  },
  {
   "cell_type": "code",
   "execution_count": 6,
   "id": "63178fe2",
   "metadata": {},
   "outputs": [
    {
     "data": {
      "image/png": "[encoded data removed]",
      "text/plain": [
       "<Figure size 432x288 with 1 Axes>"
      ]
     },
     "metadata": {
      "needs_background": "light"
     },
     "output_type": "display_data"
    }
   ],
   "source": [
    "# visualise the distribution of the target\n",
    "\n",
    "heart_disease_data.target.value_counts(normalize = True).plot(kind = 'bar')\n",
    "plt.title(\"Distribution of the target variable\");\n",
    "\n",
    "# This is an example of an imbalanced dataset"
   ]
  },
  {
   "cell_type": "code",
   "execution_count": 7,
   "id": "93883a50",
   "metadata": {},
   "outputs": [
    {
     "data": {
      "text/html": [
       "<div>\n",
       "<style scoped>\n",
       "    .dataframe tbody tr th:only-of-type {\n",
       "        vertical-align: middle;\n",
       "    }\n",
       "\n",
       "    .dataframe tbody tr th {\n",
       "        vertical-align: top;\n",
       "    }\n",
       "\n",
       "    .dataframe thead th {\n",
       "        text-align: right;\n",
       "    }\n",
       "</style>\n",
       "<table border=\"1\" class=\"dataframe\">\n",
       "  <thead>\n",
       "    <tr style=\"text-align: right;\">\n",
       "      <th></th>\n",
       "      <th>feature</th>\n",
       "      <th>percent_missing</th>\n",
       "      <th>data_type</th>\n",
       "    </tr>\n",
       "  </thead>\n",
       "  <tbody>\n",
       "    <tr>\n",
       "      <th>0</th>\n",
       "      <td>ca</td>\n",
       "      <td>98.98</td>\n",
       "      <td>float64</td>\n",
       "    </tr>\n",
       "    <tr>\n",
       "      <th>1</th>\n",
       "      <td>thal</td>\n",
       "      <td>90.48</td>\n",
       "      <td>float64</td>\n",
       "    </tr>\n",
       "    <tr>\n",
       "      <th>2</th>\n",
       "      <td>slope</td>\n",
       "      <td>64.63</td>\n",
       "      <td>float64</td>\n",
       "    </tr>\n",
       "    <tr>\n",
       "      <th>3</th>\n",
       "      <td>chol</td>\n",
       "      <td>7.82</td>\n",
       "      <td>float64</td>\n",
       "    </tr>\n",
       "    <tr>\n",
       "      <th>4</th>\n",
       "      <td>fbs</td>\n",
       "      <td>2.72</td>\n",
       "      <td>float64</td>\n",
       "    </tr>\n",
       "    <tr>\n",
       "      <th>5</th>\n",
       "      <td>trestbps</td>\n",
       "      <td>0.34</td>\n",
       "      <td>float64</td>\n",
       "    </tr>\n",
       "    <tr>\n",
       "      <th>6</th>\n",
       "      <td>restecg</td>\n",
       "      <td>0.34</td>\n",
       "      <td>float64</td>\n",
       "    </tr>\n",
       "    <tr>\n",
       "      <th>7</th>\n",
       "      <td>thalach</td>\n",
       "      <td>0.34</td>\n",
       "      <td>float64</td>\n",
       "    </tr>\n",
       "    <tr>\n",
       "      <th>8</th>\n",
       "      <td>exang</td>\n",
       "      <td>0.34</td>\n",
       "      <td>float64</td>\n",
       "    </tr>\n",
       "  </tbody>\n",
       "</table>\n",
       "</div>"
      ],
      "text/plain": [
       "    feature  percent_missing data_type\n",
       "0        ca            98.98   float64\n",
       "1      thal            90.48   float64\n",
       "2     slope            64.63   float64\n",
       "3      chol             7.82   float64\n",
       "4       fbs             2.72   float64\n",
       "5  trestbps             0.34   float64\n",
       "6   restecg             0.34   float64\n",
       "7   thalach             0.34   float64\n",
       "8     exang             0.34   float64"
      ]
     },
     "execution_count": 7,
     "metadata": {},
     "output_type": "execute_result"
    }
   ],
   "source": [
    "# question: check how much missing data do we have\n",
    "\n",
    "missing_value_df = identify_missing_data(heart_disease_data)\n",
    "missing_value_df\n"
   ]
  },
  {
   "cell_type": "code",
   "execution_count": 8,
   "id": "24fd199b",
   "metadata": {},
   "outputs": [
    {
     "name": "stdout",
     "output_type": "stream",
     "text": [
      "# of features with missing data: 9\n"
     ]
    }
   ],
   "source": [
    "print(\"# of features with missing data:\", missing_value_df.shape[0])"
   ]
  },
  {
   "cell_type": "markdown",
   "id": "f9c679e9",
   "metadata": {},
   "source": [
    "## Data Cleaning"
   ]
  },
  {
   "cell_type": "code",
   "execution_count": 9,
   "id": "fec28d85",
   "metadata": {},
   "outputs": [],
   "source": [
    "# drop features which have more than 70% missing values\n",
    "# I have picked a higher threshold because slope is highly correlated with the target\n",
    "\n",
    "# option 1\n",
    "heart_disease_data_cleaned = heart_disease_data.drop(['thal', 'ca'], axis = 1)"
   ]
  },
  {
   "cell_type": "code",
   "execution_count": 10,
   "id": "5004b539",
   "metadata": {},
   "outputs": [
    {
     "name": "stdout",
     "output_type": "stream",
     "text": [
      "number of columns to drop: 2\n",
      "['ca', 'thal']\n"
     ]
    }
   ],
   "source": [
    "# option 2 - identify cols to drop\n",
    "cols_to_drop = list(missing_value_df[missing_value_df.percent_missing > 70].feature)\n",
    "print(\"number of columns to drop:\", len(cols_to_drop))\n",
    "print(cols_to_drop)\n",
    "\n",
    "heart_disease_data_cleaned = heart_disease_data.drop(cols_to_drop, axis = 1)"
   ]
  },
  {
   "cell_type": "code",
   "execution_count": 11,
   "id": "1b891ab0",
   "metadata": {},
   "outputs": [
    {
     "data": {
      "text/html": [
       "<div>\n",
       "<style scoped>\n",
       "    .dataframe tbody tr th:only-of-type {\n",
       "        vertical-align: middle;\n",
       "    }\n",
       "\n",
       "    .dataframe tbody tr th {\n",
       "        vertical-align: top;\n",
       "    }\n",
       "\n",
       "    .dataframe thead th {\n",
       "        text-align: right;\n",
       "    }\n",
       "</style>\n",
       "<table border=\"1\" class=\"dataframe\">\n",
       "  <thead>\n",
       "    <tr style=\"text-align: right;\">\n",
       "      <th></th>\n",
       "      <th>feature</th>\n",
       "      <th>percent_missing</th>\n",
       "      <th>data_type</th>\n",
       "    </tr>\n",
       "  </thead>\n",
       "  <tbody>\n",
       "    <tr>\n",
       "      <th>0</th>\n",
       "      <td>slope</td>\n",
       "      <td>64.63</td>\n",
       "      <td>float64</td>\n",
       "    </tr>\n",
       "    <tr>\n",
       "      <th>1</th>\n",
       "      <td>chol</td>\n",
       "      <td>7.82</td>\n",
       "      <td>float64</td>\n",
       "    </tr>\n",
       "    <tr>\n",
       "      <th>2</th>\n",
       "      <td>fbs</td>\n",
       "      <td>2.72</td>\n",
       "      <td>float64</td>\n",
       "    </tr>\n",
       "    <tr>\n",
       "      <th>3</th>\n",
       "      <td>trestbps</td>\n",
       "      <td>0.34</td>\n",
       "      <td>float64</td>\n",
       "    </tr>\n",
       "    <tr>\n",
       "      <th>4</th>\n",
       "      <td>restecg</td>\n",
       "      <td>0.34</td>\n",
       "      <td>float64</td>\n",
       "    </tr>\n",
       "    <tr>\n",
       "      <th>5</th>\n",
       "      <td>thalach</td>\n",
       "      <td>0.34</td>\n",
       "      <td>float64</td>\n",
       "    </tr>\n",
       "    <tr>\n",
       "      <th>6</th>\n",
       "      <td>exang</td>\n",
       "      <td>0.34</td>\n",
       "      <td>float64</td>\n",
       "    </tr>\n",
       "  </tbody>\n",
       "</table>\n",
       "</div>"
      ],
      "text/plain": [
       "    feature  percent_missing data_type\n",
       "0     slope            64.63   float64\n",
       "1      chol             7.82   float64\n",
       "2       fbs             2.72   float64\n",
       "3  trestbps             0.34   float64\n",
       "4   restecg             0.34   float64\n",
       "5   thalach             0.34   float64\n",
       "6     exang             0.34   float64"
      ]
     },
     "execution_count": 11,
     "metadata": {},
     "output_type": "execute_result"
    }
   ],
   "source": [
    "# check the columns were dropped\n",
    "\n",
    "missing_value_df = identify_missing_data(heart_disease_data_cleaned)\n",
    "missing_value_df\n",
    "\n",
    "# we have 7 features with missing data left"
   ]
  },
  {
   "cell_type": "code",
   "execution_count": 12,
   "id": "5e895806",
   "metadata": {},
   "outputs": [
    {
     "data": {
      "text/html": [
       "<div>\n",
       "<style scoped>\n",
       "    .dataframe tbody tr th:only-of-type {\n",
       "        vertical-align: middle;\n",
       "    }\n",
       "\n",
       "    .dataframe tbody tr th {\n",
       "        vertical-align: top;\n",
       "    }\n",
       "\n",
       "    .dataframe thead th {\n",
       "        text-align: right;\n",
       "    }\n",
       "</style>\n",
       "<table border=\"1\" class=\"dataframe\">\n",
       "  <thead>\n",
       "    <tr style=\"text-align: right;\">\n",
       "      <th></th>\n",
       "      <th>age</th>\n",
       "      <th>sex</th>\n",
       "      <th>cp</th>\n",
       "      <th>trestbps</th>\n",
       "      <th>chol</th>\n",
       "      <th>fbs</th>\n",
       "      <th>restecg</th>\n",
       "      <th>thalach</th>\n",
       "      <th>exang</th>\n",
       "      <th>oldpeak</th>\n",
       "      <th>slope</th>\n",
       "      <th>target</th>\n",
       "    </tr>\n",
       "  </thead>\n",
       "  <tbody>\n",
       "    <tr>\n",
       "      <th>101</th>\n",
       "      <td>49</td>\n",
       "      <td>0</td>\n",
       "      <td>2</td>\n",
       "      <td>110.0</td>\n",
       "      <td>NaN</td>\n",
       "      <td>0.0</td>\n",
       "      <td>0.0</td>\n",
       "      <td>160.0</td>\n",
       "      <td>0.0</td>\n",
       "      <td>0.0</td>\n",
       "      <td>NaN</td>\n",
       "      <td>0</td>\n",
       "    </tr>\n",
       "    <tr>\n",
       "      <th>102</th>\n",
       "      <td>49</td>\n",
       "      <td>0</td>\n",
       "      <td>2</td>\n",
       "      <td>110.0</td>\n",
       "      <td>NaN</td>\n",
       "      <td>0.0</td>\n",
       "      <td>0.0</td>\n",
       "      <td>160.0</td>\n",
       "      <td>0.0</td>\n",
       "      <td>0.0</td>\n",
       "      <td>NaN</td>\n",
       "      <td>0</td>\n",
       "    </tr>\n",
       "  </tbody>\n",
       "</table>\n",
       "</div>"
      ],
      "text/plain": [
       "     age  sex  cp  trestbps  chol  fbs  restecg  thalach  exang  oldpeak  \\\n",
       "101   49    0   2     110.0   NaN  0.0      0.0    160.0    0.0      0.0   \n",
       "102   49    0   2     110.0   NaN  0.0      0.0    160.0    0.0      0.0   \n",
       "\n",
       "     slope  target  \n",
       "101    NaN       0  \n",
       "102    NaN       0  "
      ]
     },
     "execution_count": 12,
     "metadata": {},
     "output_type": "execute_result"
    }
   ],
   "source": [
    "# check if the data has any duplicates\n",
    "\n",
    "heart_disease_data_cleaned[heart_disease_data_cleaned.duplicated(keep=False)]\n",
    "\n",
    "# this shows two rows that are duplicated"
   ]
  },
  {
   "cell_type": "code",
   "execution_count": 13,
   "id": "41f7828a",
   "metadata": {},
   "outputs": [
    {
     "name": "stdout",
     "output_type": "stream",
     "text": [
      "# of rows with duplicated data data: 2\n"
     ]
    }
   ],
   "source": [
    "print(\"# of rows with duplicated data data:\", heart_disease_data_cleaned[heart_disease_data_cleaned.duplicated(keep=False)].shape[0])"
   ]
  },
  {
   "cell_type": "code",
   "execution_count": 14,
   "id": "494c4522",
   "metadata": {},
   "outputs": [
    {
     "name": "stdout",
     "output_type": "stream",
     "text": [
      "shape of data after dropping with the duplicates: (294, 12)\n",
      "shape of data after dropping one of the duplictaes: (293, 12)\n"
     ]
    }
   ],
   "source": [
    "# going to drop the first appearance of duplicated data\n",
    "\n",
    "print(\"shape of data after dropping with the duplicates:\", heart_disease_data_cleaned.shape)\n",
    "\n",
    "heart_disease_data_cleaned = heart_disease_data_cleaned[~heart_disease_data_cleaned.duplicated(keep='first')]\n",
    "\n",
    "print(\"shape of data after dropping one of the duplictaes:\", heart_disease_data_cleaned.shape)\n",
    "# we dropped one row of data"
   ]
  },
  {
   "cell_type": "markdown",
   "id": "b6a1436e",
   "metadata": {},
   "source": [
    "## Feature Engineering"
   ]
  },
  {
   "cell_type": "markdown",
   "id": "5a56bf5b",
   "metadata": {},
   "source": [
    "The goal of EDA is to understand the data and identify if we need to do any additional data cleaning or feature engineering. From the EDA from last week, and this week, we know:\n",
    "- We have 7 numerical features with missing data left.\n",
    "- All the features have a numerical data type type, so we do not have to do any additonal encoding\n",
    "- Since we have no highly correlated features (positive or negative), we do not have to drop any features\n",
    "- From the EDA last week, we identified one feature with low standard deviation. However, this was also dropped during the data cleaning. \n",
    "\n",
    "\n",
    "We just need to handle the missing data in this step."
   ]
  },
  {
   "cell_type": "markdown",
   "id": "c2f0686a",
   "metadata": {},
   "source": [
    "### Handling Missing Data"
   ]
  },
  {
   "cell_type": "code",
   "execution_count": 15,
   "id": "111c8f1c",
   "metadata": {},
   "outputs": [
    {
     "data": {
      "text/html": [
       "<div>\n",
       "<style scoped>\n",
       "    .dataframe tbody tr th:only-of-type {\n",
       "        vertical-align: middle;\n",
       "    }\n",
       "\n",
       "    .dataframe tbody tr th {\n",
       "        vertical-align: top;\n",
       "    }\n",
       "\n",
       "    .dataframe thead th {\n",
       "        text-align: right;\n",
       "    }\n",
       "</style>\n",
       "<table border=\"1\" class=\"dataframe\">\n",
       "  <thead>\n",
       "    <tr style=\"text-align: right;\">\n",
       "      <th></th>\n",
       "      <th>feature</th>\n",
       "      <th>percent_missing</th>\n",
       "      <th>data_type</th>\n",
       "    </tr>\n",
       "  </thead>\n",
       "  <tbody>\n",
       "    <tr>\n",
       "      <th>0</th>\n",
       "      <td>slope</td>\n",
       "      <td>64.51</td>\n",
       "      <td>float64</td>\n",
       "    </tr>\n",
       "    <tr>\n",
       "      <th>1</th>\n",
       "      <td>chol</td>\n",
       "      <td>7.51</td>\n",
       "      <td>float64</td>\n",
       "    </tr>\n",
       "    <tr>\n",
       "      <th>2</th>\n",
       "      <td>fbs</td>\n",
       "      <td>2.73</td>\n",
       "      <td>float64</td>\n",
       "    </tr>\n",
       "    <tr>\n",
       "      <th>3</th>\n",
       "      <td>trestbps</td>\n",
       "      <td>0.34</td>\n",
       "      <td>float64</td>\n",
       "    </tr>\n",
       "    <tr>\n",
       "      <th>4</th>\n",
       "      <td>restecg</td>\n",
       "      <td>0.34</td>\n",
       "      <td>float64</td>\n",
       "    </tr>\n",
       "    <tr>\n",
       "      <th>5</th>\n",
       "      <td>thalach</td>\n",
       "      <td>0.34</td>\n",
       "      <td>float64</td>\n",
       "    </tr>\n",
       "    <tr>\n",
       "      <th>6</th>\n",
       "      <td>exang</td>\n",
       "      <td>0.34</td>\n",
       "      <td>float64</td>\n",
       "    </tr>\n",
       "  </tbody>\n",
       "</table>\n",
       "</div>"
      ],
      "text/plain": [
       "    feature  percent_missing data_type\n",
       "0     slope            64.51   float64\n",
       "1      chol             7.51   float64\n",
       "2       fbs             2.73   float64\n",
       "3  trestbps             0.34   float64\n",
       "4   restecg             0.34   float64\n",
       "5   thalach             0.34   float64\n",
       "6     exang             0.34   float64"
      ]
     },
     "execution_count": 15,
     "metadata": {},
     "output_type": "execute_result"
    }
   ],
   "source": [
    "missing_value_df = identify_missing_data(heart_disease_data_cleaned)\n",
    "missing_value_df"
   ]
  },
  {
   "cell_type": "code",
   "execution_count": 16,
   "id": "8b2ba548",
   "metadata": {},
   "outputs": [],
   "source": [
    "# fill the remaining features with missing values with 0\n",
    "\n",
    "# Option 1\n",
    "heart_disease_data_cleaned.slope.fillna(0, inplace = True)\n",
    "heart_disease_data_cleaned.chol.fillna(0, inplace = True)\n",
    "heart_disease_data_cleaned.fbs.fillna(0, inplace = True)\n",
    "heart_disease_data_cleaned.trestbps.fillna(0, inplace = True)\n",
    "heart_disease_data_cleaned.restecg.fillna(0, inplace = True)\n",
    "heart_disease_data_cleaned.exang.fillna(0, inplace = True)\n",
    "heart_disease_data_cleaned.thalach.fillna(0, inplace = True)\n"
   ]
  },
  {
   "cell_type": "code",
   "execution_count": 17,
   "id": "36b4feab",
   "metadata": {},
   "outputs": [],
   "source": [
    "# Option 2\n",
    "\n",
    "for f in list(missing_value_df.feature):\n",
    "    heart_disease_data_cleaned[f].fillna(0, inplace = True)"
   ]
  },
  {
   "cell_type": "code",
   "execution_count": 18,
   "id": "bed638f3",
   "metadata": {},
   "outputs": [
    {
     "data": {
      "text/html": [
       "<div>\n",
       "<style scoped>\n",
       "    .dataframe tbody tr th:only-of-type {\n",
       "        vertical-align: middle;\n",
       "    }\n",
       "\n",
       "    .dataframe tbody tr th {\n",
       "        vertical-align: top;\n",
       "    }\n",
       "\n",
       "    .dataframe thead th {\n",
       "        text-align: right;\n",
       "    }\n",
       "</style>\n",
       "<table border=\"1\" class=\"dataframe\">\n",
       "  <thead>\n",
       "    <tr style=\"text-align: right;\">\n",
       "      <th></th>\n",
       "      <th>feature</th>\n",
       "      <th>percent_missing</th>\n",
       "      <th>data_type</th>\n",
       "    </tr>\n",
       "  </thead>\n",
       "  <tbody>\n",
       "  </tbody>\n",
       "</table>\n",
       "</div>"
      ],
      "text/plain": [
       "Empty DataFrame\n",
       "Columns: [feature, percent_missing, data_type]\n",
       "Index: []"
      ]
     },
     "execution_count": 18,
     "metadata": {},
     "output_type": "execute_result"
    }
   ],
   "source": [
    "# check to see if we have any missing values that need handling\n",
    "\n",
    "missing_value_df = identify_missing_data(heart_disease_data_cleaned)\n",
    "missing_value_df"
   ]
  },
  {
   "cell_type": "markdown",
   "id": "e2bd81b9",
   "metadata": {},
   "source": [
    "- We have handled the missing data and since we have no missing data and non numerical data types, we are one step closer to building our ML model.\n",
    "- We will be using Logistic Regression and Decision Trees to build our first Heart Disease Prediction Model we need to scale the data before building our ML model."
   ]
  },
  {
   "cell_type": "code",
   "execution_count": 19,
   "id": "3467ac46",
   "metadata": {},
   "outputs": [],
   "source": [
    "# last thing we need to do before building our ML model is defining the target and features\n",
    "\n",
    "target = heart_disease_data_cleaned[\"target\"]\n",
    "features = heart_disease_data_cleaned.drop([\"target\"], axis = 1)\n"
   ]
  },
  {
   "cell_type": "markdown",
   "id": "363a4569",
   "metadata": {},
   "source": [
    "### Building the ML Model "
   ]
  },
  {
   "cell_type": "markdown",
   "id": "021a6dbd",
   "metadata": {},
   "source": [
    "#### Logistic Regression Model"
   ]
  },
  {
   "cell_type": "code",
   "execution_count": 20,
   "id": "e1011745",
   "metadata": {},
   "outputs": [],
   "source": [
    "# we have to scale the features when training a logistic regression model\n",
    "\n",
    "scaler = MinMaxScaler()\n",
    "scaler.fit(features)\n",
    "# transform training data\n",
    "features_scaled = scaler.transform(features)\n"
   ]
  },
  {
   "cell_type": "code",
   "execution_count": 21,
   "id": "fa120fd0",
   "metadata": {},
   "outputs": [
    {
     "name": "stdout",
     "output_type": "stream",
     "text": [
      "(293, 11)\n",
      "(293, 11)\n"
     ]
    }
   ],
   "source": [
    "# the shape of the features data frame and the scaled features are the same\n",
    "print(features.shape)\n",
    "print(features_scaled.shape)"
   ]
  },
  {
   "cell_type": "code",
   "execution_count": 22,
   "id": "285f4384",
   "metadata": {},
   "outputs": [],
   "source": [
    "# split the heart disease data into training and test data\n",
    "\n",
    "X_train_scaled, X_test_scaled, y_train, y_test = train_test_split(features_scaled, \n",
    "                                                                  target,\n",
    "                                                                  test_size = 0.2, \n",
    "                                                                  random_state = 8888)\n"
   ]
  },
  {
   "cell_type": "code",
   "execution_count": 23,
   "id": "84129997",
   "metadata": {},
   "outputs": [
    {
     "name": "stdout",
     "output_type": "stream",
     "text": [
      "Training Data\n",
      "Shape of X_train (234, 11)\n",
      "Shape of y_train (234,)\n"
     ]
    }
   ],
   "source": [
    "# print the shape of the training data\n",
    "\n",
    "print(\"Training Data\")\n",
    "print(\"Shape of X_train\", X_train_scaled.shape)\n",
    "print(\"Shape of y_train\", y_train.shape)"
   ]
  },
  {
   "cell_type": "code",
   "execution_count": 24,
   "id": "96174711",
   "metadata": {},
   "outputs": [
    {
     "name": "stdout",
     "output_type": "stream",
     "text": [
      "Test Data\n",
      "Shape of X_test (59, 11)\n",
      "Shape of y_test (59,)\n"
     ]
    }
   ],
   "source": [
    "# print the shape of the test data \n",
    "\n",
    "print(\"Test Data\")\n",
    "print(\"Shape of X_test\", X_test_scaled.shape)\n",
    "print(\"Shape of y_test\", y_test.shape)"
   ]
  },
  {
   "cell_type": "code",
   "execution_count": 25,
   "id": "da2f158a",
   "metadata": {},
   "outputs": [],
   "source": [
    "# import the logistic regression model\n",
    "\n",
    "clf = LogisticRegression()\n"
   ]
  },
  {
   "cell_type": "code",
   "execution_count": 26,
   "id": "efd5ed04",
   "metadata": {},
   "outputs": [
    {
     "data": {
      "text/plain": [
       "LogisticRegression()"
      ]
     },
     "execution_count": 26,
     "metadata": {},
     "output_type": "execute_result"
    }
   ],
   "source": [
    "# fit the model to the training data\n",
    "\n",
    "clf.fit(X_train_scaled, y_train)"
   ]
  },
  {
   "cell_type": "code",
   "execution_count": 27,
   "id": "d6d3982f",
   "metadata": {},
   "outputs": [
    {
     "data": {
      "text/plain": [
       "array([0, 1, 1, 0, 0, 0, 1, 0, 1, 0, 0, 0, 1, 0, 0, 0, 1, 0, 0, 0, 0, 0,\n",
       "       1, 1, 0, 0, 0, 0, 0, 0, 1, 1, 1, 1, 0, 0, 1, 0, 0, 0, 0, 0, 1, 0,\n",
       "       1, 1, 1, 0, 0, 0, 0, 0, 0, 0, 0, 0, 0, 0, 0])"
      ]
     },
     "execution_count": 27,
     "metadata": {},
     "output_type": "execute_result"
    }
   ],
   "source": [
    "# use the trained model to make predictions on the test data\n",
    "\n",
    "y_pred_lr = clf.predict(X_test_scaled)\n",
    "y_pred_lr"
   ]
  },
  {
   "cell_type": "code",
   "execution_count": 28,
   "id": "657aef46",
   "metadata": {},
   "outputs": [
    {
     "name": "stdout",
     "output_type": "stream",
     "text": [
      "first five predicted values: [0 1 1 0 0]\n",
      "first five actual values: [0, 1, 1, 0, 0]\n"
     ]
    }
   ],
   "source": [
    "print(\"first five predicted values:\", y_pred_lr[0:5])\n",
    "print(\"first five actual values:\", list(y_test[0:5]))\n",
    "\n",
    "# can compare the first five predicted and actual values"
   ]
  },
  {
   "cell_type": "code",
   "execution_count": 29,
   "id": "9e7b8e76",
   "metadata": {},
   "outputs": [
    {
     "data": {
      "text/plain": [
       "0.7966101694915254"
      ]
     },
     "execution_count": 29,
     "metadata": {},
     "output_type": "execute_result"
    }
   ],
   "source": [
    "# Evaluating the performance of the model i.e. how well is the model able to make predictions\n",
    "\n",
    "accuracy_score(y_test, y_pred_lr)\n"
   ]
  },
  {
   "cell_type": "code",
   "execution_count": 30,
   "id": "f2080746",
   "metadata": {},
   "outputs": [
    {
     "data": {
      "text/plain": [
       "0.631578947368421"
      ]
     },
     "execution_count": 30,
     "metadata": {},
     "output_type": "execute_result"
    }
   ],
   "source": [
    "recall_score(y_test, y_pred_lr)\n"
   ]
  },
  {
   "cell_type": "code",
   "execution_count": 31,
   "id": "7eb3672a",
   "metadata": {},
   "outputs": [
    {
     "data": {
      "text/plain": [
       "0.7058823529411765"
      ]
     },
     "execution_count": 31,
     "metadata": {},
     "output_type": "execute_result"
    }
   ],
   "source": [
    "precision_score(y_test, y_pred_lr)\n"
   ]
  },
  {
   "cell_type": "code",
   "execution_count": 32,
   "id": "54eaa0b1",
   "metadata": {},
   "outputs": [
    {
     "data": {
      "text/plain": [
       "0.6666666666666667"
      ]
     },
     "execution_count": 32,
     "metadata": {},
     "output_type": "execute_result"
    }
   ],
   "source": [
    "f1_score(y_test, y_pred_lr)\n"
   ]
  },
  {
   "cell_type": "code",
   "execution_count": 33,
   "id": "dc4a83fc",
   "metadata": {},
   "outputs": [
    {
     "name": "stdout",
     "output_type": "stream",
     "text": [
      "              precision    recall  f1-score   support\n",
      "\n",
      "           0       0.83      0.88      0.85        40\n",
      "           1       0.71      0.63      0.67        19\n",
      "\n",
      "    accuracy                           0.80        59\n",
      "   macro avg       0.77      0.75      0.76        59\n",
      "weighted avg       0.79      0.80      0.79        59\n",
      "\n"
     ]
    }
   ],
   "source": [
    "print(classification_report(y_test, y_pred_lr))\n",
    "\n",
    "# this report summarises the evaluation metrics from above. \n",
    "# Looks like the model is better at predicting patients without heart disease"
   ]
  },
  {
   "cell_type": "code",
   "execution_count": 34,
   "id": "f83b9bb8",
   "metadata": {},
   "outputs": [
    {
     "data": {
      "text/plain": [
       "array([[35,  5],\n",
       "       [ 7, 12]])"
      ]
     },
     "execution_count": 34,
     "metadata": {},
     "output_type": "execute_result"
    }
   ],
   "source": [
    "confusion_matrix(y_test, y_pred_lr)\n",
    "\n",
    "# the diagonal shows the number of times the model predicted correctly"
   ]
  },
  {
   "cell_type": "code",
   "execution_count": 35,
   "id": "a2da48e8",
   "metadata": {},
   "outputs": [
    {
     "data": {
      "image/png": "[encoded data removed]",
      "text/plain": [
       "<Figure size 432x288 with 2 Axes>"
      ]
     },
     "metadata": {
      "needs_background": "light"
     },
     "output_type": "display_data"
    }
   ],
   "source": [
    "# can also visualise the predictions to see where the model has incorrectly classified the data\n",
    "\n",
    "plot_confusion_matrix(clf, \n",
    "                      X_test_scaled, \n",
    "                      y_test,\n",
    "                      cmap = plt.cm.Blues);"
   ]
  },
  {
   "cell_type": "code",
   "execution_count": 36,
   "id": "2d71a107",
   "metadata": {},
   "outputs": [
    {
     "data": {
      "image/png": "[encoded data removed]",
      "text/plain": [
       "<Figure size 432x288 with 1 Axes>"
      ]
     },
     "metadata": {
      "needs_background": "light"
     },
     "output_type": "display_data"
    }
   ],
   "source": [
    "from sklearn.metrics import plot_roc_curve\n",
    "\n",
    "# handy sklearn function to plot Receiver operating characteristic (ROC) curve, with the area under the curve.\n",
    "# The TPR (recall) defines how many correct positive results occur among all positive samples available during the test. \n",
    "# FPR, on the other hand, defines how many incorrect positive results occur among all negative samples \n",
    "# available during the test.\n",
    "\n",
    "plot_roc_curve(clf,\n",
    "               X_test_scaled, \n",
    "               y_test);                      \n",
    "\n",
    "# AUC of 0.92; the higher the AUC, the better the performance of the model at distinguishing between the positive and negative classes.\n",
    "# results may appear higher because this data is imbalanced"
   ]
  },
  {
   "cell_type": "code",
   "execution_count": 37,
   "id": "ca5d7ecc",
   "metadata": {},
   "outputs": [
    {
     "data": {
      "image/png": "[encoded data removed]",
      "text/plain": [
       "<Figure size 432x288 with 1 Axes>"
      ]
     },
     "metadata": {
      "needs_background": "light"
     },
     "output_type": "display_data"
    }
   ],
   "source": [
    "from sklearn.metrics import plot_precision_recall_curve\n",
    "\n",
    "# Since the data is imbalanced, may want to consider Precision-Recall curve\n",
    "# precision is a measure of result relevancy, while recall is a measure of how many truly relevant results are returned.\n",
    "# The precision-recall curve shows the tradeoff between precision and recall for different threshold. \n",
    "\n",
    "plot_precision_recall_curve(clf,\n",
    "                            X_test_scaled,\n",
    "                            y_test);\n",
    "\n",
    "# Appears to be some balance between precision and recall"
   ]
  },
  {
   "cell_type": "markdown",
   "id": "ce887920",
   "metadata": {},
   "source": [
    "- The Logistic Regression Model is able to predict patients with heart disease and not, but seems to do a better job predicting patients without heart disease. This could also be we trained our model on patients\n",
    "- This is just the beginning of how we evaluate model performance....\n",
    "- Question: What do we know about the most important features at this point?"
   ]
  },
  {
   "cell_type": "markdown",
   "id": "c720fe69",
   "metadata": {},
   "source": [
    "#### Decision Tree"
   ]
  },
  {
   "cell_type": "code",
   "execution_count": 38,
   "id": "0f457d90",
   "metadata": {},
   "outputs": [],
   "source": [
    "# We do not have to use scaled data, so start by splitting data into train and test sets again\n",
    "\n",
    "X_train, X_test, y_train, y_test = train_test_split(\n",
    "                                                features, \n",
    "                                                target,\n",
    "                                                test_size = 0.2, \n",
    "                                                random_state = 8888)"
   ]
  },
  {
   "cell_type": "code",
   "execution_count": 39,
   "id": "1b0430e0",
   "metadata": {},
   "outputs": [
    {
     "name": "stdout",
     "output_type": "stream",
     "text": [
      "Training Data\n",
      "Shape of X_train (234, 11)\n",
      "Shape of y_train (234,)\n"
     ]
    }
   ],
   "source": [
    "# print the shape of the training data\n",
    "\n",
    "print(\"Training Data\")\n",
    "print(\"Shape of X_train\", X_train.shape)\n",
    "print(\"Shape of y_train\", y_train.shape)"
   ]
  },
  {
   "cell_type": "code",
   "execution_count": 40,
   "id": "02bc0264",
   "metadata": {},
   "outputs": [
    {
     "name": "stdout",
     "output_type": "stream",
     "text": [
      "Test Data\n",
      "Shape of X_test (59, 11)\n",
      "Shape of y_test (59,)\n"
     ]
    }
   ],
   "source": [
    "# print the shape of the test data \n",
    "\n",
    "print(\"Test Data\")\n",
    "print(\"Shape of X_test\", X_test.shape)\n",
    "print(\"Shape of y_test\", y_test.shape)"
   ]
  },
  {
   "cell_type": "code",
   "execution_count": 41,
   "id": "b44bc7c6",
   "metadata": {},
   "outputs": [
    {
     "data": {
      "text/plain": [
       "DecisionTreeClassifier()"
      ]
     },
     "execution_count": 41,
     "metadata": {},
     "output_type": "execute_result"
    }
   ],
   "source": [
    "# Import and Fit the Decision Tree Model\n",
    "\n",
    "clf_tree = DecisionTreeClassifier()\n",
    "\n",
    "clf_tree.fit(X_train, y_train)"
   ]
  },
  {
   "cell_type": "code",
   "execution_count": 42,
   "id": "861f6f19",
   "metadata": {},
   "outputs": [
    {
     "data": {
      "image/png": "[encoded data removed]",
      "text/plain": [
       "<Figure size 1800x1440 with 1 Axes>"
      ]
     },
     "metadata": {
      "needs_background": "light"
     },
     "output_type": "display_data"
    }
   ],
   "source": [
    "# Just for demo - visualising the decision tree \n",
    "\n",
    "from sklearn import tree\n",
    "\n",
    "fig = plt.figure(figsize=(25 , 20))\n",
    "_ = tree.plot_tree(clf_tree, \n",
    "                   feature_names = list(X_train.columns),  \n",
    "                   max_depth = 3,\n",
    "                   filled = True)\n",
    "\n",
    "# question: what is the root node?"
   ]
  },
  {
   "cell_type": "code",
   "execution_count": 43,
   "id": "44df8957",
   "metadata": {},
   "outputs": [
    {
     "data": {
      "text/plain": [
       "array([0, 1, 1, 0, 1, 1, 0, 1, 1, 0, 0, 0, 1, 1, 0, 0, 1, 0, 0, 0, 0, 0,\n",
       "       1, 1, 0, 0, 0, 1, 1, 0, 1, 1, 1, 0, 0, 0, 0, 0, 0, 0, 0, 0, 0, 1,\n",
       "       0, 1, 1, 0, 0, 0, 0, 0, 0, 0, 0, 1, 1, 1, 1])"
      ]
     },
     "execution_count": 43,
     "metadata": {},
     "output_type": "execute_result"
    }
   ],
   "source": [
    "# Make predictions on unseen data\n",
    "\n",
    "y_pred_dt = clf_tree.predict(X_test) \n",
    "y_pred_dt"
   ]
  },
  {
   "cell_type": "code",
   "execution_count": 44,
   "id": "e1cfa625",
   "metadata": {},
   "outputs": [
    {
     "name": "stdout",
     "output_type": "stream",
     "text": [
      "first five predicted values: [0 1 1 0 1]\n",
      "first five actual values: [0, 1, 1, 0, 0]\n"
     ]
    }
   ],
   "source": [
    "print(\"first five predicted values:\", y_pred_dt[0:5])\n",
    "print(\"first five actual values:\", list(y_test[0:5]))\n"
   ]
  },
  {
   "cell_type": "code",
   "execution_count": 45,
   "id": "e77b65d5",
   "metadata": {},
   "outputs": [
    {
     "name": "stdout",
     "output_type": "stream",
     "text": [
      "accuracy: 0.73\n",
      "recall: 0.68\n",
      "precision: 0.57\n",
      "f1-score: 0.62\n"
     ]
    }
   ],
   "source": [
    "print(\"accuracy:\", round(accuracy_score(y_test, y_pred_dt), 2))\n",
    "print(\"recall:\", round(recall_score(y_test, y_pred_dt), 2))\n",
    "print(\"precision:\", round(precision_score(y_test, y_pred_dt), 2))\n",
    "print(\"f1-score:\", round(f1_score(y_test, y_pred_dt), 2))\n",
    "\n",
    "# Question: How is the model performing compared to the Logistic Regression Model?"
   ]
  },
  {
   "cell_type": "code",
   "execution_count": 46,
   "id": "8b29b822",
   "metadata": {},
   "outputs": [
    {
     "data": {
      "text/html": [
       "<div>\n",
       "<style scoped>\n",
       "    .dataframe tbody tr th:only-of-type {\n",
       "        vertical-align: middle;\n",
       "    }\n",
       "\n",
       "    .dataframe tbody tr th {\n",
       "        vertical-align: top;\n",
       "    }\n",
       "\n",
       "    .dataframe thead th {\n",
       "        text-align: right;\n",
       "    }\n",
       "</style>\n",
       "<table border=\"1\" class=\"dataframe\">\n",
       "  <thead>\n",
       "    <tr style=\"text-align: right;\">\n",
       "      <th></th>\n",
       "      <th>Model Name</th>\n",
       "      <th>Accuracy</th>\n",
       "      <th>Recall</th>\n",
       "      <th>Precision</th>\n",
       "      <th>F1-Score</th>\n",
       "    </tr>\n",
       "  </thead>\n",
       "  <tbody>\n",
       "    <tr>\n",
       "      <th>0</th>\n",
       "      <td>Logistic Regression</td>\n",
       "      <td>0.80</td>\n",
       "      <td>0.63</td>\n",
       "      <td>0.71</td>\n",
       "      <td>0.67</td>\n",
       "    </tr>\n",
       "    <tr>\n",
       "      <th>1</th>\n",
       "      <td>Decision Tree</td>\n",
       "      <td>0.73</td>\n",
       "      <td>0.68</td>\n",
       "      <td>0.57</td>\n",
       "      <td>0.62</td>\n",
       "    </tr>\n",
       "  </tbody>\n",
       "</table>\n",
       "</div>"
      ],
      "text/plain": [
       "            Model Name  Accuracy  Recall  Precision  F1-Score\n",
       "0  Logistic Regression      0.80    0.63       0.71      0.67\n",
       "1        Decision Tree      0.73    0.68       0.57      0.62"
      ]
     },
     "execution_count": 46,
     "metadata": {},
     "output_type": "execute_result"
    }
   ],
   "source": [
    "# This code is just for demonstration, and to compare the metrics of the models\n",
    "\n",
    "pd.DataFrame({\"Model Name\": ['Logistic Regression', 'Decision Tree'],\n",
    "              \"Accuracy\": [round(accuracy_score(y_test, y_pred_lr), 2), \n",
    "                           round(accuracy_score(y_test, y_pred_dt), 2)],\n",
    "              \"Recall\": [round(recall_score(y_test, y_pred_lr), 2), \n",
    "                           round(recall_score(y_test, y_pred_dt), 2)],\n",
    "              \"Precision\": [round(precision_score(y_test, y_pred_lr), 2), \n",
    "                           round(precision_score(y_test, y_pred_dt), 2)],\n",
    "              \"F1-Score\": [round(f1_score(y_test, y_pred_lr), 2), \n",
    "                           round(f1_score(y_test, y_pred_dt), 2)],\n",
    "             })\n",
    "\n",
    "# Question - which Model has a highest accuracy, recall, precision and f1-score?"
   ]
  },
  {
   "cell_type": "code",
   "execution_count": 47,
   "id": "d7c25469",
   "metadata": {},
   "outputs": [
    {
     "data": {
      "image/png": "[encoded data removed]",
      "text/plain": [
       "<Figure size 432x288 with 2 Axes>"
      ]
     },
     "metadata": {
      "needs_background": "light"
     },
     "output_type": "display_data"
    }
   ],
   "source": [
    "# plot confusion matrix\n",
    "\n",
    "plot_confusion_matrix(clf_tree, X_test, y_test, cmap = plt.cm.Blues);"
   ]
  },
  {
   "cell_type": "code",
   "execution_count": 48,
   "id": "015cc1cf",
   "metadata": {},
   "outputs": [
    {
     "name": "stdout",
     "output_type": "stream",
     "text": [
      "              precision    recall  f1-score   support\n",
      "\n",
      "           0       0.83      0.75      0.79        40\n",
      "           1       0.57      0.68      0.62        19\n",
      "\n",
      "    accuracy                           0.73        59\n",
      "   macro avg       0.70      0.72      0.70        59\n",
      "weighted avg       0.75      0.73      0.73        59\n",
      "\n"
     ]
    }
   ],
   "source": [
    "# print classification report\n",
    "\n",
    "print(classification_report(y_test, y_pred_dt))"
   ]
  },
  {
   "cell_type": "code",
   "execution_count": 49,
   "id": "0264539b",
   "metadata": {},
   "outputs": [
    {
     "data": {
      "image/png": "[encoded data removed]",
      "text/plain": [
       "<Figure size 432x288 with 1 Axes>"
      ]
     },
     "metadata": {
      "needs_background": "light"
     },
     "output_type": "display_data"
    }
   ],
   "source": [
    "plot_precision_recall_curve(clf_tree,\n",
    "                            X_test,\n",
    "                            y_test);\n",
    "\n",
    "# Can also see a drop in AP"
   ]
  },
  {
   "cell_type": "markdown",
   "id": "4d75dd78",
   "metadata": {},
   "source": [
    "##### Feature Importance"
   ]
  },
  {
   "cell_type": "code",
   "execution_count": 50,
   "id": "64834db1",
   "metadata": {},
   "outputs": [
    {
     "data": {
      "text/plain": [
       "age         0.033544\n",
       "sex         0.025795\n",
       "cp          0.132252\n",
       "trestbps    0.121193\n",
       "chol        0.128948\n",
       "fbs         0.027382\n",
       "restecg     0.030495\n",
       "thalach     0.033000\n",
       "exang       0.040478\n",
       "oldpeak     0.045261\n",
       "slope       0.381652\n",
       "dtype: float64"
      ]
     },
     "execution_count": 50,
     "metadata": {},
     "output_type": "execute_result"
    }
   ],
   "source": [
    "feat_importances = pd.Series(clf_tree.feature_importances_,\n",
    "                                 index = X_train.columns)\n",
    "\n",
    "feat_importances\n",
    "\n",
    "# Question: Are there any features that have no feature importance?\n",
    "# What would happen if you removed this feature - does it improve model performance?"
   ]
  },
  {
   "cell_type": "code",
   "execution_count": 51,
   "id": "7460987f",
   "metadata": {},
   "outputs": [
    {
     "data": {
      "text/plain": [
       "sex        0.025795\n",
       "fbs        0.027382\n",
       "restecg    0.030495\n",
       "thalach    0.033000\n",
       "age        0.033544\n",
       "dtype: float64"
      ]
     },
     "execution_count": 51,
     "metadata": {},
     "output_type": "execute_result"
    }
   ],
   "source": [
    "# features with the lowest importance\n",
    "\n",
    "feat_importances.nsmallest(5)"
   ]
  },
  {
   "cell_type": "code",
   "execution_count": 52,
   "id": "781c2b54",
   "metadata": {},
   "outputs": [
    {
     "name": "stdout",
     "output_type": "stream",
     "text": [
      "[]\n"
     ]
    }
   ],
   "source": [
    "# can use code to identify the most redundant features - lets say less than 0.02\n",
    "\n",
    "redundant_features = list(feat_importances[feat_importances < 0.02].index)\n",
    "print(redundant_features)"
   ]
  },
  {
   "cell_type": "code",
   "execution_count": 53,
   "id": "868e07b0",
   "metadata": {},
   "outputs": [
    {
     "data": {
      "image/png": "[encoded data removed]",
      "text/plain": [
       "<Figure size 576x360 with 1 Axes>"
      ]
     },
     "metadata": {
      "needs_background": "light"
     },
     "output_type": "display_data"
    }
   ],
   "source": [
    "# Plot the feature importance\n",
    "\n",
    "feature_importance_plot(clf_tree, X_train, n = 10)"
   ]
  },
  {
   "cell_type": "markdown",
   "id": "efde3f7c",
   "metadata": {},
   "source": [
    "- The Logistic Regression Model appears to out perform the Decision Tree in terms of some baseline metrics.\n",
    "- However, the Decision Tree Algorithm showcases which features the model is selecting when making decisions, and which features are considered \"important\""
   ]
  },
  {
   "cell_type": "markdown",
   "id": "44ec46fc",
   "metadata": {},
   "source": [
    "### Challenge yourself (OPTIONAL): Can you improve the recall?"
   ]
  },
  {
   "cell_type": "markdown",
   "id": "af47fb62",
   "metadata": {},
   "source": [
    "1. Train the Decision Tree on scaled data"
   ]
  },
  {
   "cell_type": "markdown",
   "id": "095f75b7",
   "metadata": {},
   "source": [
    "2. Remove the Features you identified as redundant and build the Logistic Regression and Decision Tree Models again"
   ]
  },
  {
   "cell_type": "markdown",
   "id": "1100b24f",
   "metadata": {},
   "source": [
    "3. We know the data is imbalanced - what would happen if we included a 'stratify' parameter in the train test split function?"
   ]
  },
  {
   "cell_type": "code",
   "execution_count": 54,
   "id": "a890bc0b",
   "metadata": {},
   "outputs": [],
   "source": [
    "# Code you will need\n",
    "\n",
    "# How do the results of the logistic regression and decision tree model change?\n",
    "# https://scikit-learn.org/stable/modules/generated/sklearn.model_selection.train_test_split.html\n",
    "\n",
    "X_train, X_test, y_train, y_test = train_test_split(\n",
    "                                                features, \n",
    "                                                target,\n",
    "                                                stratify = target,\n",
    "                                                test_size = 0.2, \n",
    "                                                random_state = 8888)"
   ]
  }
 ],
 "metadata": {
  "kernelspec": {
   "display_name": "Python 3",
   "language": "python",
   "name": "python3"
  },
  "language_info": {
   "codemirror_mode": {
    "name": "ipython",
    "version": 3
   },
   "file_extension": ".py",
   "mimetype": "text/x-python",
   "name": "python",
   "nbconvert_exporter": "python",
   "pygments_lexer": "ipython3",
   "version": "3.8.10"
  }
 },
 "nbformat": 4,
 "nbformat_minor": 5
}
