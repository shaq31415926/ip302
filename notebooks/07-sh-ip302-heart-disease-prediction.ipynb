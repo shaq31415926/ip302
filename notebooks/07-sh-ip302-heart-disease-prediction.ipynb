{
 "cells": [
  {
   "cell_type": "markdown",
   "id": "08064459",
   "metadata": {},
   "source": [
    "## Heart Disease Prediction using Machine Learning\n",
    "\n",
    "We will be closely working with a heart disease dataset, and our sole aim is to build a model to detect the probability of person that a patient will have a heart problem or not.\n",
    "\n",
    "Reference: https://www.analyticsvidhya.com/blog/2022/02/heart-disease-prediction-using-machine-learning/"
   ]
  },
  {
   "cell_type": "code",
   "execution_count": 1,
   "id": "ee106afc",
   "metadata": {},
   "outputs": [],
   "source": [
    "# import necessary libraries to explore the data\n",
    "import pandas as pd\n",
    "import numpy as np\n",
    "import seaborn as sns\n",
    "import matplotlib.pyplot as plt\n",
    "\n",
    "from sklearn.preprocessing import MinMaxScaler\n",
    "from sklearn.model_selection import train_test_split\n",
    "from sklearn.linear_model import LogisticRegression\n",
    "from sklearn.metrics import accuracy_score, recall_score, precision_score, f1_score, confusion_matrix, classification_report, plot_confusion_matrix\n",
    "\n",
    "# import python scripts we created to help with feature engineering\n",
    "import os\n",
    "import sys\n",
    "module_path = os.path.abspath(os.path.join('..'))\n",
    "if module_path not in sys.path:\n",
    "    sys.path.append(module_path)\n",
    "from src.helpers import identify_missing_data\n",
    "\n"
   ]
  },
  {
   "cell_type": "markdown",
   "id": "1a91f3bb",
   "metadata": {},
   "source": [
    "## Read and Explore the Data"
   ]
  },
  {
   "cell_type": "code",
   "execution_count": 2,
   "id": "541adf2d",
   "metadata": {},
   "outputs": [
    {
     "data": {
      "text/html": [
       "<div>\n",
       "<style scoped>\n",
       "    .dataframe tbody tr th:only-of-type {\n",
       "        vertical-align: middle;\n",
       "    }\n",
       "\n",
       "    .dataframe tbody tr th {\n",
       "        vertical-align: top;\n",
       "    }\n",
       "\n",
       "    .dataframe thead th {\n",
       "        text-align: right;\n",
       "    }\n",
       "</style>\n",
       "<table border=\"1\" class=\"dataframe\">\n",
       "  <thead>\n",
       "    <tr style=\"text-align: right;\">\n",
       "      <th></th>\n",
       "      <th>age</th>\n",
       "      <th>sex</th>\n",
       "      <th>cp</th>\n",
       "      <th>trestbps</th>\n",
       "      <th>chol</th>\n",
       "      <th>fbs</th>\n",
       "      <th>restecg</th>\n",
       "      <th>thalach</th>\n",
       "      <th>exang</th>\n",
       "      <th>oldpeak</th>\n",
       "      <th>slope</th>\n",
       "      <th>ca</th>\n",
       "      <th>thal</th>\n",
       "      <th>target</th>\n",
       "    </tr>\n",
       "  </thead>\n",
       "  <tbody>\n",
       "    <tr>\n",
       "      <th>0</th>\n",
       "      <td>28</td>\n",
       "      <td>1</td>\n",
       "      <td>2</td>\n",
       "      <td>130.0</td>\n",
       "      <td>132.0</td>\n",
       "      <td>0.0</td>\n",
       "      <td>2.0</td>\n",
       "      <td>185.0</td>\n",
       "      <td>0.0</td>\n",
       "      <td>0.0</td>\n",
       "      <td>NaN</td>\n",
       "      <td>NaN</td>\n",
       "      <td>NaN</td>\n",
       "      <td>0</td>\n",
       "    </tr>\n",
       "    <tr>\n",
       "      <th>1</th>\n",
       "      <td>29</td>\n",
       "      <td>1</td>\n",
       "      <td>2</td>\n",
       "      <td>120.0</td>\n",
       "      <td>243.0</td>\n",
       "      <td>0.0</td>\n",
       "      <td>0.0</td>\n",
       "      <td>160.0</td>\n",
       "      <td>0.0</td>\n",
       "      <td>0.0</td>\n",
       "      <td>NaN</td>\n",
       "      <td>NaN</td>\n",
       "      <td>NaN</td>\n",
       "      <td>0</td>\n",
       "    </tr>\n",
       "    <tr>\n",
       "      <th>2</th>\n",
       "      <td>29</td>\n",
       "      <td>1</td>\n",
       "      <td>2</td>\n",
       "      <td>140.0</td>\n",
       "      <td>NaN</td>\n",
       "      <td>0.0</td>\n",
       "      <td>0.0</td>\n",
       "      <td>170.0</td>\n",
       "      <td>0.0</td>\n",
       "      <td>0.0</td>\n",
       "      <td>NaN</td>\n",
       "      <td>NaN</td>\n",
       "      <td>NaN</td>\n",
       "      <td>0</td>\n",
       "    </tr>\n",
       "    <tr>\n",
       "      <th>3</th>\n",
       "      <td>30</td>\n",
       "      <td>0</td>\n",
       "      <td>1</td>\n",
       "      <td>170.0</td>\n",
       "      <td>237.0</td>\n",
       "      <td>0.0</td>\n",
       "      <td>1.0</td>\n",
       "      <td>170.0</td>\n",
       "      <td>0.0</td>\n",
       "      <td>0.0</td>\n",
       "      <td>NaN</td>\n",
       "      <td>NaN</td>\n",
       "      <td>6.0</td>\n",
       "      <td>0</td>\n",
       "    </tr>\n",
       "    <tr>\n",
       "      <th>4</th>\n",
       "      <td>31</td>\n",
       "      <td>0</td>\n",
       "      <td>2</td>\n",
       "      <td>100.0</td>\n",
       "      <td>219.0</td>\n",
       "      <td>0.0</td>\n",
       "      <td>1.0</td>\n",
       "      <td>150.0</td>\n",
       "      <td>0.0</td>\n",
       "      <td>0.0</td>\n",
       "      <td>NaN</td>\n",
       "      <td>NaN</td>\n",
       "      <td>NaN</td>\n",
       "      <td>0</td>\n",
       "    </tr>\n",
       "  </tbody>\n",
       "</table>\n",
       "</div>"
      ],
      "text/plain": [
       "   age  sex  cp  trestbps   chol  fbs  restecg  thalach  exang  oldpeak  \\\n",
       "0   28    1   2     130.0  132.0  0.0      2.0    185.0    0.0      0.0   \n",
       "1   29    1   2     120.0  243.0  0.0      0.0    160.0    0.0      0.0   \n",
       "2   29    1   2     140.0    NaN  0.0      0.0    170.0    0.0      0.0   \n",
       "3   30    0   1     170.0  237.0  0.0      1.0    170.0    0.0      0.0   \n",
       "4   31    0   2     100.0  219.0  0.0      1.0    150.0    0.0      0.0   \n",
       "\n",
       "   slope  ca  thal  target  \n",
       "0    NaN NaN   NaN       0  \n",
       "1    NaN NaN   NaN       0  \n",
       "2    NaN NaN   NaN       0  \n",
       "3    NaN NaN   6.0       0  \n",
       "4    NaN NaN   NaN       0  "
      ]
     },
     "execution_count": 2,
     "metadata": {},
     "output_type": "execute_result"
    }
   ],
   "source": [
    "# read the data\n",
    "\n",
    "heart_disease_data = pd.read_csv('../data/heart_attack_data.csv')\n",
    "\n",
    "# preview the data\n",
    "heart_disease_data.head()"
   ]
  },
  {
   "cell_type": "code",
   "execution_count": 3,
   "id": "9f0bdd55",
   "metadata": {},
   "outputs": [
    {
     "data": {
      "text/plain": [
       "(294, 14)"
      ]
     },
     "execution_count": 3,
     "metadata": {},
     "output_type": "execute_result"
    }
   ],
   "source": [
    "# check the shape of the data\n",
    "\n",
    "heart_disease_data.shape\n",
    "\n",
    "# we have 294 rows of data, and 14 potential features.\n",
    "# small data set"
   ]
  },
  {
   "cell_type": "code",
   "execution_count": 4,
   "id": "373aed4d",
   "metadata": {},
   "outputs": [
    {
     "name": "stdout",
     "output_type": "stream",
     "text": [
      "<class 'pandas.core.frame.DataFrame'>\n",
      "RangeIndex: 294 entries, 0 to 293\n",
      "Data columns (total 14 columns):\n",
      " #   Column    Non-Null Count  Dtype  \n",
      "---  ------    --------------  -----  \n",
      " 0   age       294 non-null    int64  \n",
      " 1   sex       294 non-null    int64  \n",
      " 2   cp        294 non-null    int64  \n",
      " 3   trestbps  293 non-null    float64\n",
      " 4   chol      271 non-null    float64\n",
      " 5   fbs       286 non-null    float64\n",
      " 6   restecg   293 non-null    float64\n",
      " 7   thalach   293 non-null    float64\n",
      " 8   exang     293 non-null    float64\n",
      " 9   oldpeak   294 non-null    float64\n",
      " 10  slope     104 non-null    float64\n",
      " 11  ca        3 non-null      float64\n",
      " 12  thal      28 non-null     float64\n",
      " 13  target    294 non-null    int64  \n",
      "dtypes: float64(10), int64(4)\n",
      "memory usage: 32.3 KB\n"
     ]
    }
   ],
   "source": [
    "# check the summary information of the data\n",
    "\n",
    "heart_disease_data.info()\n",
    "\n",
    "# do we have any categorical data that needs processing?"
   ]
  },
  {
   "cell_type": "code",
   "execution_count": 5,
   "id": "0e899136",
   "metadata": {},
   "outputs": [
    {
     "data": {
      "text/plain": [
       "0    0.639456\n",
       "1    0.360544\n",
       "Name: target, dtype: float64"
      ]
     },
     "execution_count": 5,
     "metadata": {},
     "output_type": "execute_result"
    }
   ],
   "source": [
    "# check the distribution of the target\n",
    "\n",
    "heart_disease_data.target.value_counts(dropna = True, normalize = True)\n",
    "\n",
    "# The data is slightly imbalanced, with roughly 36% of patients having had a heart disease"
   ]
  },
  {
   "cell_type": "code",
   "execution_count": 6,
   "id": "63178fe2",
   "metadata": {},
   "outputs": [
    {
     "data": {
      "image/png": "[encoded data removed]",
      "text/plain": [
       "<Figure size 432x288 with 1 Axes>"
      ]
     },
     "metadata": {
      "needs_background": "light"
     },
     "output_type": "display_data"
    }
   ],
   "source": [
    "# visualise the distribution of the target\n",
    "\n",
    "heart_disease_data.target.value_counts(normalize = True).plot(kind = 'bar')\n",
    "plt.title(\"Distribution of the target variable\");\n",
    "\n",
    "# This is an example of an imbalanced dataset"
   ]
  },
  {
   "cell_type": "code",
   "execution_count": 7,
   "id": "93883a50",
   "metadata": {},
   "outputs": [
    {
     "data": {
      "text/html": [
       "<div>\n",
       "<style scoped>\n",
       "    .dataframe tbody tr th:only-of-type {\n",
       "        vertical-align: middle;\n",
       "    }\n",
       "\n",
       "    .dataframe tbody tr th {\n",
       "        vertical-align: top;\n",
       "    }\n",
       "\n",
       "    .dataframe thead th {\n",
       "        text-align: right;\n",
       "    }\n",
       "</style>\n",
       "<table border=\"1\" class=\"dataframe\">\n",
       "  <thead>\n",
       "    <tr style=\"text-align: right;\">\n",
       "      <th></th>\n",
       "      <th>feature</th>\n",
       "      <th>percent_missing</th>\n",
       "      <th>data_type</th>\n",
       "    </tr>\n",
       "  </thead>\n",
       "  <tbody>\n",
       "    <tr>\n",
       "      <th>0</th>\n",
       "      <td>ca</td>\n",
       "      <td>98.98</td>\n",
       "      <td>float64</td>\n",
       "    </tr>\n",
       "    <tr>\n",
       "      <th>1</th>\n",
       "      <td>thal</td>\n",
       "      <td>90.48</td>\n",
       "      <td>float64</td>\n",
       "    </tr>\n",
       "    <tr>\n",
       "      <th>2</th>\n",
       "      <td>slope</td>\n",
       "      <td>64.63</td>\n",
       "      <td>float64</td>\n",
       "    </tr>\n",
       "    <tr>\n",
       "      <th>3</th>\n",
       "      <td>chol</td>\n",
       "      <td>7.82</td>\n",
       "      <td>float64</td>\n",
       "    </tr>\n",
       "    <tr>\n",
       "      <th>4</th>\n",
       "      <td>fbs</td>\n",
       "      <td>2.72</td>\n",
       "      <td>float64</td>\n",
       "    </tr>\n",
       "    <tr>\n",
       "      <th>5</th>\n",
       "      <td>trestbps</td>\n",
       "      <td>0.34</td>\n",
       "      <td>float64</td>\n",
       "    </tr>\n",
       "    <tr>\n",
       "      <th>6</th>\n",
       "      <td>restecg</td>\n",
       "      <td>0.34</td>\n",
       "      <td>float64</td>\n",
       "    </tr>\n",
       "    <tr>\n",
       "      <th>7</th>\n",
       "      <td>thalach</td>\n",
       "      <td>0.34</td>\n",
       "      <td>float64</td>\n",
       "    </tr>\n",
       "    <tr>\n",
       "      <th>8</th>\n",
       "      <td>exang</td>\n",
       "      <td>0.34</td>\n",
       "      <td>float64</td>\n",
       "    </tr>\n",
       "  </tbody>\n",
       "</table>\n",
       "</div>"
      ],
      "text/plain": [
       "    feature  percent_missing data_type\n",
       "0        ca            98.98   float64\n",
       "1      thal            90.48   float64\n",
       "2     slope            64.63   float64\n",
       "3      chol             7.82   float64\n",
       "4       fbs             2.72   float64\n",
       "5  trestbps             0.34   float64\n",
       "6   restecg             0.34   float64\n",
       "7   thalach             0.34   float64\n",
       "8     exang             0.34   float64"
      ]
     },
     "execution_count": 7,
     "metadata": {},
     "output_type": "execute_result"
    }
   ],
   "source": [
    "# question: check how much missing data do we have\n",
    "\n",
    "missing_value_df = identify_missing_data(heart_disease_data)\n",
    "missing_value_df\n"
   ]
  },
  {
   "cell_type": "code",
   "execution_count": 8,
   "id": "24fd199b",
   "metadata": {},
   "outputs": [
    {
     "name": "stdout",
     "output_type": "stream",
     "text": [
      "# of features with missing data: 9\n"
     ]
    }
   ],
   "source": [
    "print(\"# of features with missing data:\", missing_value_df.shape[0])"
   ]
  },
  {
   "cell_type": "markdown",
   "id": "f9c679e9",
   "metadata": {},
   "source": [
    "## Data Cleaning"
   ]
  },
  {
   "cell_type": "code",
   "execution_count": 9,
   "id": "fec28d85",
   "metadata": {},
   "outputs": [],
   "source": [
    "# drop features which have more than 70% missing values\n",
    "# I have picked a higher threshold because slope is highly correlated with the target\n",
    "\n",
    "# option 1\n",
    "heart_disease_data_cleaned = heart_disease_data.drop(['thal', 'ca'], axis = 1)"
   ]
  },
  {
   "cell_type": "code",
   "execution_count": 10,
   "id": "5004b539",
   "metadata": {},
   "outputs": [
    {
     "name": "stdout",
     "output_type": "stream",
     "text": [
      "number of columns to drop: 2\n",
      "['ca', 'thal']\n"
     ]
    }
   ],
   "source": [
    "# option 2 - identify cols to drop\n",
    "cols_to_drop = list(missing_value_df[missing_value_df.percent_missing > 70].feature)\n",
    "print(\"number of columns to drop:\", len(cols_to_drop))\n",
    "print(cols_to_drop)\n",
    "\n",
    "heart_disease_data_cleaned = heart_disease_data.drop(cols_to_drop, axis = 1)"
   ]
  },
  {
   "cell_type": "code",
   "execution_count": 11,
   "id": "1b891ab0",
   "metadata": {},
   "outputs": [
    {
     "data": {
      "text/html": [
       "<div>\n",
       "<style scoped>\n",
       "    .dataframe tbody tr th:only-of-type {\n",
       "        vertical-align: middle;\n",
       "    }\n",
       "\n",
       "    .dataframe tbody tr th {\n",
       "        vertical-align: top;\n",
       "    }\n",
       "\n",
       "    .dataframe thead th {\n",
       "        text-align: right;\n",
       "    }\n",
       "</style>\n",
       "<table border=\"1\" class=\"dataframe\">\n",
       "  <thead>\n",
       "    <tr style=\"text-align: right;\">\n",
       "      <th></th>\n",
       "      <th>feature</th>\n",
       "      <th>percent_missing</th>\n",
       "      <th>data_type</th>\n",
       "    </tr>\n",
       "  </thead>\n",
       "  <tbody>\n",
       "    <tr>\n",
       "      <th>0</th>\n",
       "      <td>slope</td>\n",
       "      <td>64.63</td>\n",
       "      <td>float64</td>\n",
       "    </tr>\n",
       "    <tr>\n",
       "      <th>1</th>\n",
       "      <td>chol</td>\n",
       "      <td>7.82</td>\n",
       "      <td>float64</td>\n",
       "    </tr>\n",
       "    <tr>\n",
       "      <th>2</th>\n",
       "      <td>fbs</td>\n",
       "      <td>2.72</td>\n",
       "      <td>float64</td>\n",
       "    </tr>\n",
       "    <tr>\n",
       "      <th>3</th>\n",
       "      <td>trestbps</td>\n",
       "      <td>0.34</td>\n",
       "      <td>float64</td>\n",
       "    </tr>\n",
       "    <tr>\n",
       "      <th>4</th>\n",
       "      <td>restecg</td>\n",
       "      <td>0.34</td>\n",
       "      <td>float64</td>\n",
       "    </tr>\n",
       "    <tr>\n",
       "      <th>5</th>\n",
       "      <td>thalach</td>\n",
       "      <td>0.34</td>\n",
       "      <td>float64</td>\n",
       "    </tr>\n",
       "    <tr>\n",
       "      <th>6</th>\n",
       "      <td>exang</td>\n",
       "      <td>0.34</td>\n",
       "      <td>float64</td>\n",
       "    </tr>\n",
       "  </tbody>\n",
       "</table>\n",
       "</div>"
      ],
      "text/plain": [
       "    feature  percent_missing data_type\n",
       "0     slope            64.63   float64\n",
       "1      chol             7.82   float64\n",
       "2       fbs             2.72   float64\n",
       "3  trestbps             0.34   float64\n",
       "4   restecg             0.34   float64\n",
       "5   thalach             0.34   float64\n",
       "6     exang             0.34   float64"
      ]
     },
     "execution_count": 11,
     "metadata": {},
     "output_type": "execute_result"
    }
   ],
   "source": [
    "# check the columns were dropped\n",
    "\n",
    "missing_value_df = identify_missing_data(heart_disease_data_cleaned)\n",
    "missing_value_df\n",
    "\n",
    "# we have 7 features with missing data left"
   ]
  },
  {
   "cell_type": "code",
   "execution_count": 12,
   "id": "5e895806",
   "metadata": {},
   "outputs": [
    {
     "data": {
      "text/html": [
       "<div>\n",
       "<style scoped>\n",
       "    .dataframe tbody tr th:only-of-type {\n",
       "        vertical-align: middle;\n",
       "    }\n",
       "\n",
       "    .dataframe tbody tr th {\n",
       "        vertical-align: top;\n",
       "    }\n",
       "\n",
       "    .dataframe thead th {\n",
       "        text-align: right;\n",
       "    }\n",
       "</style>\n",
       "<table border=\"1\" class=\"dataframe\">\n",
       "  <thead>\n",
       "    <tr style=\"text-align: right;\">\n",
       "      <th></th>\n",
       "      <th>age</th>\n",
       "      <th>sex</th>\n",
       "      <th>cp</th>\n",
       "      <th>trestbps</th>\n",
       "      <th>chol</th>\n",
       "      <th>fbs</th>\n",
       "      <th>restecg</th>\n",
       "      <th>thalach</th>\n",
       "      <th>exang</th>\n",
       "      <th>oldpeak</th>\n",
       "      <th>slope</th>\n",
       "      <th>target</th>\n",
       "    </tr>\n",
       "  </thead>\n",
       "  <tbody>\n",
       "    <tr>\n",
       "      <th>101</th>\n",
       "      <td>49</td>\n",
       "      <td>0</td>\n",
       "      <td>2</td>\n",
       "      <td>110.0</td>\n",
       "      <td>NaN</td>\n",
       "      <td>0.0</td>\n",
       "      <td>0.0</td>\n",
       "      <td>160.0</td>\n",
       "      <td>0.0</td>\n",
       "      <td>0.0</td>\n",
       "      <td>NaN</td>\n",
       "      <td>0</td>\n",
       "    </tr>\n",
       "    <tr>\n",
       "      <th>102</th>\n",
       "      <td>49</td>\n",
       "      <td>0</td>\n",
       "      <td>2</td>\n",
       "      <td>110.0</td>\n",
       "      <td>NaN</td>\n",
       "      <td>0.0</td>\n",
       "      <td>0.0</td>\n",
       "      <td>160.0</td>\n",
       "      <td>0.0</td>\n",
       "      <td>0.0</td>\n",
       "      <td>NaN</td>\n",
       "      <td>0</td>\n",
       "    </tr>\n",
       "  </tbody>\n",
       "</table>\n",
       "</div>"
      ],
      "text/plain": [
       "     age  sex  cp  trestbps  chol  fbs  restecg  thalach  exang  oldpeak  \\\n",
       "101   49    0   2     110.0   NaN  0.0      0.0    160.0    0.0      0.0   \n",
       "102   49    0   2     110.0   NaN  0.0      0.0    160.0    0.0      0.0   \n",
       "\n",
       "     slope  target  \n",
       "101    NaN       0  \n",
       "102    NaN       0  "
      ]
     },
     "execution_count": 12,
     "metadata": {},
     "output_type": "execute_result"
    }
   ],
   "source": [
    "# check if the data has any duplicates\n",
    "\n",
    "heart_disease_data_cleaned[heart_disease_data_cleaned.duplicated(keep=False)]\n",
    "\n",
    "# this shows two rows that are duplicated"
   ]
  },
  {
   "cell_type": "code",
   "execution_count": 13,
   "id": "41f7828a",
   "metadata": {},
   "outputs": [
    {
     "name": "stdout",
     "output_type": "stream",
     "text": [
      "# of rows with duplicated data data: 2\n"
     ]
    }
   ],
   "source": [
    "print(\"# of rows with duplicated data data:\", heart_disease_data_cleaned[heart_disease_data_cleaned.duplicated(keep=False)].shape[0])"
   ]
  },
  {
   "cell_type": "code",
   "execution_count": 14,
   "id": "494c4522",
   "metadata": {},
   "outputs": [
    {
     "name": "stdout",
     "output_type": "stream",
     "text": [
      "shape of data after dropping with the duplicates: (294, 12)\n",
      "shape of data after dropping one of the duplictaes: (293, 12)\n"
     ]
    }
   ],
   "source": [
    "# going to drop the first appearance of duplicated data\n",
    "\n",
    "print(\"shape of data after dropping with the duplicates:\", heart_disease_data_cleaned.shape)\n",
    "\n",
    "heart_disease_data_cleaned = heart_disease_data_cleaned[~heart_disease_data_cleaned.duplicated(keep='first')]\n",
    "\n",
    "print(\"shape of data after dropping one of the duplictaes:\", heart_disease_data_cleaned.shape)\n",
    "# we dropped one row of data"
   ]
  },
  {
   "cell_type": "markdown",
   "id": "b6a1436e",
   "metadata": {},
   "source": [
    "## Feature Engineering"
   ]
  },
  {
   "cell_type": "markdown",
   "id": "5a56bf5b",
   "metadata": {},
   "source": [
    "The goal of EDA is to understand the data and identify if we need to do any additional data cleaning or feature engineering. From the EDA from last week, and this week, we know:\n",
    "- We have 7 numerical features with missing data left.\n",
    "- All the features have a numerical data type type, so we do not have to do any additonal encoding\n",
    "- Since we have no highly correlated features (positive or negative), we do not have to drop any features\n",
    "- From the EDA last week, we identified one feature with low standard deviation. However, this was also dropped during the data cleaning. \n",
    "\n",
    "\n",
    "We just need to handle the missing data in this step."
   ]
  },
  {
   "cell_type": "markdown",
   "id": "c2f0686a",
   "metadata": {},
   "source": [
    "### Handling Missing Data"
   ]
  },
  {
   "cell_type": "code",
   "execution_count": 15,
   "id": "111c8f1c",
   "metadata": {},
   "outputs": [
    {
     "data": {
      "text/html": [
       "<div>\n",
       "<style scoped>\n",
       "    .dataframe tbody tr th:only-of-type {\n",
       "        vertical-align: middle;\n",
       "    }\n",
       "\n",
       "    .dataframe tbody tr th {\n",
       "        vertical-align: top;\n",
       "    }\n",
       "\n",
       "    .dataframe thead th {\n",
       "        text-align: right;\n",
       "    }\n",
       "</style>\n",
       "<table border=\"1\" class=\"dataframe\">\n",
       "  <thead>\n",
       "    <tr style=\"text-align: right;\">\n",
       "      <th></th>\n",
       "      <th>feature</th>\n",
       "      <th>percent_missing</th>\n",
       "      <th>data_type</th>\n",
       "    </tr>\n",
       "  </thead>\n",
       "  <tbody>\n",
       "    <tr>\n",
       "      <th>0</th>\n",
       "      <td>slope</td>\n",
       "      <td>64.51</td>\n",
       "      <td>float64</td>\n",
       "    </tr>\n",
       "    <tr>\n",
       "      <th>1</th>\n",
       "      <td>chol</td>\n",
       "      <td>7.51</td>\n",
       "      <td>float64</td>\n",
       "    </tr>\n",
       "    <tr>\n",
       "      <th>2</th>\n",
       "      <td>fbs</td>\n",
       "      <td>2.73</td>\n",
       "      <td>float64</td>\n",
       "    </tr>\n",
       "    <tr>\n",
       "      <th>3</th>\n",
       "      <td>trestbps</td>\n",
       "      <td>0.34</td>\n",
       "      <td>float64</td>\n",
       "    </tr>\n",
       "    <tr>\n",
       "      <th>4</th>\n",
       "      <td>restecg</td>\n",
       "      <td>0.34</td>\n",
       "      <td>float64</td>\n",
       "    </tr>\n",
       "    <tr>\n",
       "      <th>5</th>\n",
       "      <td>thalach</td>\n",
       "      <td>0.34</td>\n",
       "      <td>float64</td>\n",
       "    </tr>\n",
       "    <tr>\n",
       "      <th>6</th>\n",
       "      <td>exang</td>\n",
       "      <td>0.34</td>\n",
       "      <td>float64</td>\n",
       "    </tr>\n",
       "  </tbody>\n",
       "</table>\n",
       "</div>"
      ],
      "text/plain": [
       "    feature  percent_missing data_type\n",
       "0     slope            64.51   float64\n",
       "1      chol             7.51   float64\n",
       "2       fbs             2.73   float64\n",
       "3  trestbps             0.34   float64\n",
       "4   restecg             0.34   float64\n",
       "5   thalach             0.34   float64\n",
       "6     exang             0.34   float64"
      ]
     },
     "execution_count": 15,
     "metadata": {},
     "output_type": "execute_result"
    }
   ],
   "source": [
    "missing_value_df = identify_missing_data(heart_disease_data_cleaned)\n",
    "missing_value_df"
   ]
  },
  {
   "cell_type": "code",
   "execution_count": 16,
   "id": "8b2ba548",
   "metadata": {},
   "outputs": [],
   "source": [
    "# fill the remaining features with missing values with 0\n",
    "\n",
    "# Option 1\n",
    "heart_disease_data_cleaned.slope.fillna(0, inplace = True)\n",
    "heart_disease_data_cleaned.chol.fillna(0, inplace = True)\n",
    "heart_disease_data_cleaned.fbs.fillna(0, inplace = True)\n",
    "heart_disease_data_cleaned.trestbps.fillna(0, inplace = True)\n",
    "heart_disease_data_cleaned.restecg.fillna(0, inplace = True)\n",
    "heart_disease_data_cleaned.exang.fillna(0, inplace = True)\n",
    "heart_disease_data_cleaned.thalach.fillna(0, inplace = True)\n"
   ]
  },
  {
   "cell_type": "code",
   "execution_count": 17,
   "id": "36b4feab",
   "metadata": {},
   "outputs": [],
   "source": [
    "# Option 2\n",
    "\n",
    "for f in list(missing_value_df.feature):\n",
    "    heart_disease_data_cleaned[f].fillna(0, inplace = True)"
   ]
  },
  {
   "cell_type": "code",
   "execution_count": 18,
   "id": "bed638f3",
   "metadata": {},
   "outputs": [
    {
     "data": {
      "text/html": [
       "<div>\n",
       "<style scoped>\n",
       "    .dataframe tbody tr th:only-of-type {\n",
       "        vertical-align: middle;\n",
       "    }\n",
       "\n",
       "    .dataframe tbody tr th {\n",
       "        vertical-align: top;\n",
       "    }\n",
       "\n",
       "    .dataframe thead th {\n",
       "        text-align: right;\n",
       "    }\n",
       "</style>\n",
       "<table border=\"1\" class=\"dataframe\">\n",
       "  <thead>\n",
       "    <tr style=\"text-align: right;\">\n",
       "      <th></th>\n",
       "      <th>feature</th>\n",
       "      <th>percent_missing</th>\n",
       "      <th>data_type</th>\n",
       "    </tr>\n",
       "  </thead>\n",
       "  <tbody>\n",
       "  </tbody>\n",
       "</table>\n",
       "</div>"
      ],
      "text/plain": [
       "Empty DataFrame\n",
       "Columns: [feature, percent_missing, data_type]\n",
       "Index: []"
      ]
     },
     "execution_count": 18,
     "metadata": {},
     "output_type": "execute_result"
    }
   ],
   "source": [
    "# check to see if we have any missing values that need handling\n",
    "\n",
    "missing_value_df = identify_missing_data(heart_disease_data_cleaned)\n",
    "missing_value_df"
   ]
  },
  {
   "cell_type": "markdown",
   "id": "e2bd81b9",
   "metadata": {},
   "source": [
    "- We have handled the missing data and since we have no missing data and non numerical data types, we are one step closer to building our ML model.\n",
    "- We will be using Logistic Regression to build our first Heart Disease Prediction Model we need to scale the data before building our ML model."
   ]
  },
  {
   "cell_type": "markdown",
   "id": "363a4569",
   "metadata": {},
   "source": [
    "### Building the ML Model"
   ]
  },
  {
   "cell_type": "code",
   "execution_count": 19,
   "id": "3467ac46",
   "metadata": {},
   "outputs": [],
   "source": [
    "# define the target and features\n",
    "\n",
    "target = heart_disease_data_cleaned[\"target\"]\n",
    "features = heart_disease_data_cleaned.drop([\"target\"], axis = 1)\n"
   ]
  },
  {
   "cell_type": "code",
   "execution_count": 20,
   "id": "e1011745",
   "metadata": {},
   "outputs": [],
   "source": [
    "# scaling the features\n",
    "\n",
    "scaler = MinMaxScaler()\n",
    "scaler.fit(features)\n",
    "# transform training data\n",
    "features_scaled = scaler.transform(features)\n"
   ]
  },
  {
   "cell_type": "code",
   "execution_count": 21,
   "id": "fa120fd0",
   "metadata": {},
   "outputs": [
    {
     "name": "stdout",
     "output_type": "stream",
     "text": [
      "(293, 11)\n",
      "(293, 11)\n"
     ]
    }
   ],
   "source": [
    "# the shape of the features data frame and the scaled features are the same\n",
    "print(features.shape)\n",
    "print(features_scaled.shape)"
   ]
  },
  {
   "cell_type": "code",
   "execution_count": 22,
   "id": "285f4384",
   "metadata": {},
   "outputs": [],
   "source": [
    "# split the heart disease data into training and test data\n",
    "\n",
    "X_train_scaled, X_test_scaled, y_train, y_test = train_test_split(features_scaled, \n",
    "                                                                  target,\n",
    "                                                                  test_size = 0.2, \n",
    "                                                                  random_state = 8888)"
   ]
  },
  {
   "cell_type": "code",
   "execution_count": 23,
   "id": "84129997",
   "metadata": {},
   "outputs": [
    {
     "name": "stdout",
     "output_type": "stream",
     "text": [
      "Training Data\n",
      "Shape of X_train (234, 11)\n",
      "Shape of y_train (234,)\n"
     ]
    }
   ],
   "source": [
    "# print the shape of the training data\n",
    "\n",
    "print(\"Training Data\")\n",
    "print(\"Shape of X_train\", X_train_scaled.shape)\n",
    "print(\"Shape of y_train\", y_train.shape)"
   ]
  },
  {
   "cell_type": "code",
   "execution_count": 24,
   "id": "96174711",
   "metadata": {},
   "outputs": [
    {
     "name": "stdout",
     "output_type": "stream",
     "text": [
      "Test Data\n",
      "Shape of X_test (59, 11)\n",
      "Shape of y_test (59,)\n"
     ]
    }
   ],
   "source": [
    "# print the shape of the test data \n",
    "\n",
    "print(\"Test Data\")\n",
    "print(\"Shape of X_test\", X_test_scaled.shape)\n",
    "print(\"Shape of y_test\", y_test.shape)"
   ]
  },
  {
   "cell_type": "code",
   "execution_count": 25,
   "id": "da2f158a",
   "metadata": {},
   "outputs": [],
   "source": [
    "# import the logistic regression model\n",
    "\n",
    "clf = LogisticRegression()\n"
   ]
  },
  {
   "cell_type": "code",
   "execution_count": 26,
   "id": "efd5ed04",
   "metadata": {},
   "outputs": [
    {
     "data": {
      "text/plain": [
       "LogisticRegression()"
      ]
     },
     "execution_count": 26,
     "metadata": {},
     "output_type": "execute_result"
    }
   ],
   "source": [
    "# fit the model to the training data\n",
    "\n",
    "clf.fit(X_train_scaled, y_train)"
   ]
  },
  {
   "cell_type": "code",
   "execution_count": 27,
   "id": "d6d3982f",
   "metadata": {},
   "outputs": [
    {
     "data": {
      "text/plain": [
       "array([0, 1, 1, 0, 0, 0, 1, 0, 1, 0, 0, 0, 1, 0, 0, 0, 1, 0, 0, 0, 0, 0,\n",
       "       1, 1, 0, 0, 0, 0, 0, 0, 1, 1, 1, 1, 0, 0, 1, 0, 0, 0, 0, 0, 1, 0,\n",
       "       1, 1, 1, 0, 0, 0, 0, 0, 0, 0, 0, 0, 0, 0, 0])"
      ]
     },
     "execution_count": 27,
     "metadata": {},
     "output_type": "execute_result"
    }
   ],
   "source": [
    "# use the trained model to make predictions on the test data\n",
    "\n",
    "y_pred = clf.predict(X_test_scaled)\n",
    "y_pred"
   ]
  },
  {
   "cell_type": "code",
   "execution_count": 28,
   "id": "657aef46",
   "metadata": {},
   "outputs": [
    {
     "name": "stdout",
     "output_type": "stream",
     "text": [
      "first five predicted values: [0 1 1 0 0]\n",
      "first five actual values: [0, 1, 1, 0, 0]\n"
     ]
    }
   ],
   "source": [
    "print(\"first five predicted values:\", y_pred[0:5])\n",
    "print(\"first five actual values:\", list(y_test[0:5]))\n",
    "\n",
    "# can compare the first five predicted and actual values"
   ]
  },
  {
   "cell_type": "code",
   "execution_count": 29,
   "id": "9e7b8e76",
   "metadata": {},
   "outputs": [
    {
     "data": {
      "text/plain": [
       "0.7966101694915254"
      ]
     },
     "execution_count": 29,
     "metadata": {},
     "output_type": "execute_result"
    }
   ],
   "source": [
    "# Evaluating the performance of the model i.e. how well is the model able to make predictions\n",
    "\n",
    "accuracy_score(y_test, y_pred)\n",
    "\n"
   ]
  },
  {
   "cell_type": "code",
   "execution_count": 30,
   "id": "f2080746",
   "metadata": {},
   "outputs": [
    {
     "data": {
      "text/plain": [
       "0.631578947368421"
      ]
     },
     "execution_count": 30,
     "metadata": {},
     "output_type": "execute_result"
    }
   ],
   "source": [
    "recall_score(y_test, y_pred)\n"
   ]
  },
  {
   "cell_type": "code",
   "execution_count": 31,
   "id": "7eb3672a",
   "metadata": {},
   "outputs": [
    {
     "data": {
      "text/plain": [
       "0.7058823529411765"
      ]
     },
     "execution_count": 31,
     "metadata": {},
     "output_type": "execute_result"
    }
   ],
   "source": [
    "precision_score(y_test, y_pred)\n"
   ]
  },
  {
   "cell_type": "code",
   "execution_count": 32,
   "id": "54eaa0b1",
   "metadata": {},
   "outputs": [
    {
     "data": {
      "text/plain": [
       "0.6666666666666667"
      ]
     },
     "execution_count": 32,
     "metadata": {},
     "output_type": "execute_result"
    }
   ],
   "source": [
    "f1_score(y_test, y_pred)\n"
   ]
  },
  {
   "cell_type": "code",
   "execution_count": 33,
   "id": "dc4a83fc",
   "metadata": {},
   "outputs": [
    {
     "name": "stdout",
     "output_type": "stream",
     "text": [
      "              precision    recall  f1-score   support\n",
      "\n",
      "           0       0.83      0.88      0.85        40\n",
      "           1       0.71      0.63      0.67        19\n",
      "\n",
      "    accuracy                           0.80        59\n",
      "   macro avg       0.77      0.75      0.76        59\n",
      "weighted avg       0.79      0.80      0.79        59\n",
      "\n"
     ]
    }
   ],
   "source": [
    "print(classification_report(y_test, y_pred))\n",
    "\n",
    "# this report summarises the evaluation metrics from above. \n",
    "# Looks like the model is better at predicting patients without heart disease.\n"
   ]
  },
  {
   "cell_type": "code",
   "execution_count": 34,
   "id": "f83b9bb8",
   "metadata": {},
   "outputs": [
    {
     "data": {
      "text/plain": [
       "array([[35,  5],\n",
       "       [ 7, 12]])"
      ]
     },
     "execution_count": 34,
     "metadata": {},
     "output_type": "execute_result"
    }
   ],
   "source": [
    "confusion_matrix(y_test, y_pred)\n",
    "\n",
    "# the diagonal shows the number of times the model predicted correctly"
   ]
  },
  {
   "cell_type": "code",
   "execution_count": 35,
   "id": "a2da48e8",
   "metadata": {},
   "outputs": [
    {
     "data": {
      "image/png": "[encoded data removed]",
      "text/plain": [
       "<Figure size 432x288 with 2 Axes>"
      ]
     },
     "metadata": {
      "needs_background": "light"
     },
     "output_type": "display_data"
    }
   ],
   "source": [
    "# can also visualise the predictions to see where the model has incorrectly classified the data\n",
    "\n",
    "plot_confusion_matrix(clf, \n",
    "                      X_test_scaled, \n",
    "                      y_test,\n",
    "                      cmap = plt.cm.Blues);"
   ]
  },
  {
   "cell_type": "markdown",
   "id": "ce887920",
   "metadata": {},
   "source": [
    "- The Logistic Regression Model is able to predict patients with heart disease and not, but seems to do a better job predicting patients without heart disease. This could also be we trained our model on patients\n",
    "- This is just the beginning of how we evaluate model performance...."
   ]
  },
  {
   "cell_type": "code",
   "execution_count": null,
   "id": "8f737509",
   "metadata": {},
   "outputs": [],
   "source": []
  }
 ],
 "metadata": {
  "kernelspec": {
   "display_name": "Python 3",
   "language": "python",
   "name": "python3"
  },
  "language_info": {
   "codemirror_mode": {
    "name": "ipython",
    "version": 3
   },
   "file_extension": ".py",
   "mimetype": "text/x-python",
   "name": "python",
   "nbconvert_exporter": "python",
   "pygments_lexer": "ipython3",
   "version": "3.8.10"
  }
 },
 "nbformat": 4,
 "nbformat_minor": 5
}
