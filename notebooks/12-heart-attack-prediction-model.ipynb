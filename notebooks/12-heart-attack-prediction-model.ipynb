{
 "cells": [
  {
   "cell_type": "code",
   "execution_count": 1,
   "id": "ee106afc",
   "metadata": {},
   "outputs": [],
   "source": [
    "import os\n",
    "import sys\n",
    "\n",
    "# Data manipulation and visualisation libraries\n",
    "import pandas as pd\n",
    "import numpy as np\n",
    "import matplotlib.pyplot as plt\n",
    "import seaborn as sns\n",
    "from collections import Counter\n",
    "\n",
    "# machine learning libraries\n",
    "from sklearn.model_selection import train_test_split\n",
    "from sklearn.tree import DecisionTreeClassifier\n",
    "from sklearn.ensemble import RandomForestClassifier\n",
    "from xgboost import XGBClassifier\n",
    "from sklearn.metrics import accuracy_score, recall_score, precision_score, f1_score, confusion_matrix, classification_report\n",
    "from sklearn.metrics import plot_confusion_matrix\n",
    "\n",
    "\n",
    "# import python scripts we created to help with feature engineering\n",
    "module_path = os.path.abspath(os.path.join('..'))\n",
    "if module_path not in sys.path:\n",
    "    sys.path.append(module_path)\n",
    "from src.identify_missing_data import identify_missing_data\n",
    "from src.helpers import identify_highly_correlated_features, one_hot, identify_low_variance_features\n",
    "from src.learning_curve_plot import learning_curve_plot\n",
    "from src.feature_importance_plot import feature_importance_plot\n"
   ]
  },
  {
   "cell_type": "markdown",
   "id": "1a91f3bb",
   "metadata": {},
   "source": [
    "### Read and Explore the Data"
   ]
  },
  {
   "cell_type": "code",
   "execution_count": 2,
   "id": "541adf2d",
   "metadata": {},
   "outputs": [
    {
     "data": {
      "text/html": [
       "<div>\n",
       "<style scoped>\n",
       "    .dataframe tbody tr th:only-of-type {\n",
       "        vertical-align: middle;\n",
       "    }\n",
       "\n",
       "    .dataframe tbody tr th {\n",
       "        vertical-align: top;\n",
       "    }\n",
       "\n",
       "    .dataframe thead th {\n",
       "        text-align: right;\n",
       "    }\n",
       "</style>\n",
       "<table border=\"1\" class=\"dataframe\">\n",
       "  <thead>\n",
       "    <tr style=\"text-align: right;\">\n",
       "      <th></th>\n",
       "      <th>age</th>\n",
       "      <th>sex</th>\n",
       "      <th>cp</th>\n",
       "      <th>trestbps</th>\n",
       "      <th>chol</th>\n",
       "      <th>fbs</th>\n",
       "      <th>restecg</th>\n",
       "      <th>thalach</th>\n",
       "      <th>exang</th>\n",
       "      <th>oldpeak</th>\n",
       "      <th>slope</th>\n",
       "      <th>ca</th>\n",
       "      <th>thal</th>\n",
       "      <th>target</th>\n",
       "    </tr>\n",
       "  </thead>\n",
       "  <tbody>\n",
       "    <tr>\n",
       "      <th>0</th>\n",
       "      <td>28</td>\n",
       "      <td>1</td>\n",
       "      <td>2</td>\n",
       "      <td>130.0</td>\n",
       "      <td>132.0</td>\n",
       "      <td>0.0</td>\n",
       "      <td>2.0</td>\n",
       "      <td>185.0</td>\n",
       "      <td>0.0</td>\n",
       "      <td>0.0</td>\n",
       "      <td>NaN</td>\n",
       "      <td>NaN</td>\n",
       "      <td>NaN</td>\n",
       "      <td>0</td>\n",
       "    </tr>\n",
       "    <tr>\n",
       "      <th>1</th>\n",
       "      <td>29</td>\n",
       "      <td>1</td>\n",
       "      <td>2</td>\n",
       "      <td>120.0</td>\n",
       "      <td>243.0</td>\n",
       "      <td>0.0</td>\n",
       "      <td>0.0</td>\n",
       "      <td>160.0</td>\n",
       "      <td>0.0</td>\n",
       "      <td>0.0</td>\n",
       "      <td>NaN</td>\n",
       "      <td>NaN</td>\n",
       "      <td>NaN</td>\n",
       "      <td>0</td>\n",
       "    </tr>\n",
       "    <tr>\n",
       "      <th>2</th>\n",
       "      <td>29</td>\n",
       "      <td>1</td>\n",
       "      <td>2</td>\n",
       "      <td>140.0</td>\n",
       "      <td>NaN</td>\n",
       "      <td>0.0</td>\n",
       "      <td>0.0</td>\n",
       "      <td>170.0</td>\n",
       "      <td>0.0</td>\n",
       "      <td>0.0</td>\n",
       "      <td>NaN</td>\n",
       "      <td>NaN</td>\n",
       "      <td>NaN</td>\n",
       "      <td>0</td>\n",
       "    </tr>\n",
       "    <tr>\n",
       "      <th>3</th>\n",
       "      <td>30</td>\n",
       "      <td>0</td>\n",
       "      <td>1</td>\n",
       "      <td>170.0</td>\n",
       "      <td>237.0</td>\n",
       "      <td>0.0</td>\n",
       "      <td>1.0</td>\n",
       "      <td>170.0</td>\n",
       "      <td>0.0</td>\n",
       "      <td>0.0</td>\n",
       "      <td>NaN</td>\n",
       "      <td>NaN</td>\n",
       "      <td>6.0</td>\n",
       "      <td>0</td>\n",
       "    </tr>\n",
       "    <tr>\n",
       "      <th>4</th>\n",
       "      <td>31</td>\n",
       "      <td>0</td>\n",
       "      <td>2</td>\n",
       "      <td>100.0</td>\n",
       "      <td>219.0</td>\n",
       "      <td>0.0</td>\n",
       "      <td>1.0</td>\n",
       "      <td>150.0</td>\n",
       "      <td>0.0</td>\n",
       "      <td>0.0</td>\n",
       "      <td>NaN</td>\n",
       "      <td>NaN</td>\n",
       "      <td>NaN</td>\n",
       "      <td>0</td>\n",
       "    </tr>\n",
       "  </tbody>\n",
       "</table>\n",
       "</div>"
      ],
      "text/plain": [
       "   age  sex  cp  trestbps   chol  fbs  restecg  thalach  exang  oldpeak  \\\n",
       "0   28    1   2     130.0  132.0  0.0      2.0    185.0    0.0      0.0   \n",
       "1   29    1   2     120.0  243.0  0.0      0.0    160.0    0.0      0.0   \n",
       "2   29    1   2     140.0    NaN  0.0      0.0    170.0    0.0      0.0   \n",
       "3   30    0   1     170.0  237.0  0.0      1.0    170.0    0.0      0.0   \n",
       "4   31    0   2     100.0  219.0  0.0      1.0    150.0    0.0      0.0   \n",
       "\n",
       "   slope  ca  thal  target  \n",
       "0    NaN NaN   NaN       0  \n",
       "1    NaN NaN   NaN       0  \n",
       "2    NaN NaN   NaN       0  \n",
       "3    NaN NaN   6.0       0  \n",
       "4    NaN NaN   NaN       0  "
      ]
     },
     "execution_count": 2,
     "metadata": {},
     "output_type": "execute_result"
    }
   ],
   "source": [
    "# read the data\n",
    "\n",
    "heart_attack_df = pd.read_csv('../data/heart_attack_data.csv')\n",
    "\n",
    "# preview the data\n",
    "\n",
    "heart_attack_df.head()"
   ]
  },
  {
   "cell_type": "code",
   "execution_count": 3,
   "id": "9f0bdd55",
   "metadata": {},
   "outputs": [
    {
     "data": {
      "text/plain": [
       "(294, 14)"
      ]
     },
     "execution_count": 3,
     "metadata": {},
     "output_type": "execute_result"
    }
   ],
   "source": [
    "# check the shape of the data\n",
    "\n",
    "heart_attack_df.shape\n",
    "\n",
    "# we have 294 rows of data, and 14 potential features."
   ]
  },
  {
   "cell_type": "code",
   "execution_count": 4,
   "id": "373aed4d",
   "metadata": {},
   "outputs": [
    {
     "name": "stdout",
     "output_type": "stream",
     "text": [
      "<class 'pandas.core.frame.DataFrame'>\n",
      "RangeIndex: 294 entries, 0 to 293\n",
      "Data columns (total 14 columns):\n",
      " #   Column    Non-Null Count  Dtype  \n",
      "---  ------    --------------  -----  \n",
      " 0   age       294 non-null    int64  \n",
      " 1   sex       294 non-null    int64  \n",
      " 2   cp        294 non-null    int64  \n",
      " 3   trestbps  293 non-null    float64\n",
      " 4   chol      271 non-null    float64\n",
      " 5   fbs       286 non-null    float64\n",
      " 6   restecg   293 non-null    float64\n",
      " 7   thalach   293 non-null    float64\n",
      " 8   exang     293 non-null    float64\n",
      " 9   oldpeak   294 non-null    float64\n",
      " 10  slope     104 non-null    float64\n",
      " 11  ca        3 non-null      float64\n",
      " 12  thal      28 non-null     float64\n",
      " 13  target    294 non-null    int64  \n",
      "dtypes: float64(10), int64(4)\n",
      "memory usage: 32.3 KB\n"
     ]
    }
   ],
   "source": [
    "# check the summary information of the data\n",
    "# do we have any categorical data that needs processing?\n",
    "\n",
    "heart_attack_df.info()\n",
    "\n",
    "# there is no categorical data, so we do not need to encode"
   ]
  },
  {
   "cell_type": "code",
   "execution_count": 5,
   "id": "b6498f27",
   "metadata": {},
   "outputs": [
    {
     "name": "stdout",
     "output_type": "stream",
     "text": [
      "# of features with missing data: 9\n"
     ]
    }
   ],
   "source": [
    "# identifying missing data\n",
    "\n",
    "missing_value_df = identify_missing_data(heart_attack_df)\n",
    "\n",
    "print(\"# of features with missing data:\", missing_value_df[missing_value_df.percent_missing > 0].shape[0])"
   ]
  },
  {
   "cell_type": "code",
   "execution_count": 6,
   "id": "6120c942",
   "metadata": {},
   "outputs": [
    {
     "data": {
      "text/html": [
       "<div>\n",
       "<style scoped>\n",
       "    .dataframe tbody tr th:only-of-type {\n",
       "        vertical-align: middle;\n",
       "    }\n",
       "\n",
       "    .dataframe tbody tr th {\n",
       "        vertical-align: top;\n",
       "    }\n",
       "\n",
       "    .dataframe thead th {\n",
       "        text-align: right;\n",
       "    }\n",
       "</style>\n",
       "<table border=\"1\" class=\"dataframe\">\n",
       "  <thead>\n",
       "    <tr style=\"text-align: right;\">\n",
       "      <th></th>\n",
       "      <th>feature</th>\n",
       "      <th>percent_missing</th>\n",
       "      <th>data_type</th>\n",
       "    </tr>\n",
       "  </thead>\n",
       "  <tbody>\n",
       "    <tr>\n",
       "      <th>0</th>\n",
       "      <td>ca</td>\n",
       "      <td>98.98</td>\n",
       "      <td>float64</td>\n",
       "    </tr>\n",
       "    <tr>\n",
       "      <th>1</th>\n",
       "      <td>thal</td>\n",
       "      <td>90.48</td>\n",
       "      <td>float64</td>\n",
       "    </tr>\n",
       "    <tr>\n",
       "      <th>2</th>\n",
       "      <td>slope</td>\n",
       "      <td>64.63</td>\n",
       "      <td>float64</td>\n",
       "    </tr>\n",
       "    <tr>\n",
       "      <th>3</th>\n",
       "      <td>chol</td>\n",
       "      <td>7.82</td>\n",
       "      <td>float64</td>\n",
       "    </tr>\n",
       "    <tr>\n",
       "      <th>4</th>\n",
       "      <td>fbs</td>\n",
       "      <td>2.72</td>\n",
       "      <td>float64</td>\n",
       "    </tr>\n",
       "    <tr>\n",
       "      <th>5</th>\n",
       "      <td>trestbps</td>\n",
       "      <td>0.34</td>\n",
       "      <td>float64</td>\n",
       "    </tr>\n",
       "    <tr>\n",
       "      <th>6</th>\n",
       "      <td>restecg</td>\n",
       "      <td>0.34</td>\n",
       "      <td>float64</td>\n",
       "    </tr>\n",
       "    <tr>\n",
       "      <th>7</th>\n",
       "      <td>thalach</td>\n",
       "      <td>0.34</td>\n",
       "      <td>float64</td>\n",
       "    </tr>\n",
       "    <tr>\n",
       "      <th>8</th>\n",
       "      <td>exang</td>\n",
       "      <td>0.34</td>\n",
       "      <td>float64</td>\n",
       "    </tr>\n",
       "  </tbody>\n",
       "</table>\n",
       "</div>"
      ],
      "text/plain": [
       "    feature  percent_missing data_type\n",
       "0        ca            98.98   float64\n",
       "1      thal            90.48   float64\n",
       "2     slope            64.63   float64\n",
       "3      chol             7.82   float64\n",
       "4       fbs             2.72   float64\n",
       "5  trestbps             0.34   float64\n",
       "6   restecg             0.34   float64\n",
       "7   thalach             0.34   float64\n",
       "8     exang             0.34   float64"
      ]
     },
     "execution_count": 6,
     "metadata": {},
     "output_type": "execute_result"
    }
   ],
   "source": [
    "# features that have missing data\n",
    "\n",
    "missing_value_df[missing_value_df.percent_missing > 0]"
   ]
  },
  {
   "cell_type": "code",
   "execution_count": 7,
   "id": "e5d45c0b",
   "metadata": {},
   "outputs": [
    {
     "name": "stdout",
     "output_type": "stream",
     "text": [
      "# of features with missing data with more than 45% missing data: 3\n"
     ]
    }
   ],
   "source": [
    "print(\"# of features with missing data with more than 45% missing data:\", missing_value_df[missing_value_df.percent_missing > 45].shape[0])"
   ]
  },
  {
   "cell_type": "code",
   "execution_count": 8,
   "id": "83a8966f",
   "metadata": {},
   "outputs": [
    {
     "data": {
      "text/html": [
       "<div>\n",
       "<style scoped>\n",
       "    .dataframe tbody tr th:only-of-type {\n",
       "        vertical-align: middle;\n",
       "    }\n",
       "\n",
       "    .dataframe tbody tr th {\n",
       "        vertical-align: top;\n",
       "    }\n",
       "\n",
       "    .dataframe thead th {\n",
       "        text-align: right;\n",
       "    }\n",
       "</style>\n",
       "<table border=\"1\" class=\"dataframe\">\n",
       "  <thead>\n",
       "    <tr style=\"text-align: right;\">\n",
       "      <th></th>\n",
       "      <th>feature</th>\n",
       "      <th>percent_missing</th>\n",
       "      <th>data_type</th>\n",
       "    </tr>\n",
       "  </thead>\n",
       "  <tbody>\n",
       "    <tr>\n",
       "      <th>0</th>\n",
       "      <td>ca</td>\n",
       "      <td>98.98</td>\n",
       "      <td>float64</td>\n",
       "    </tr>\n",
       "    <tr>\n",
       "      <th>1</th>\n",
       "      <td>thal</td>\n",
       "      <td>90.48</td>\n",
       "      <td>float64</td>\n",
       "    </tr>\n",
       "    <tr>\n",
       "      <th>2</th>\n",
       "      <td>slope</td>\n",
       "      <td>64.63</td>\n",
       "      <td>float64</td>\n",
       "    </tr>\n",
       "  </tbody>\n",
       "</table>\n",
       "</div>"
      ],
      "text/plain": [
       "  feature  percent_missing data_type\n",
       "0      ca            98.98   float64\n",
       "1    thal            90.48   float64\n",
       "2   slope            64.63   float64"
      ]
     },
     "execution_count": 8,
     "metadata": {},
     "output_type": "execute_result"
    }
   ],
   "source": [
    "# features that have more than 45% missing data\n",
    "\n",
    "missing_value_df[missing_value_df.percent_missing > 45]"
   ]
  },
  {
   "cell_type": "code",
   "execution_count": 9,
   "id": "f6b83add",
   "metadata": {},
   "outputs": [
    {
     "name": "stderr",
     "output_type": "stream",
     "text": [
      "/Users/shaq/.pyenv/versions/3.8.10/lib/python3.8/site-packages/pandas/io/formats/style.py:2813: RuntimeWarning: All-NaN slice encountered\n",
      "  smin = np.nanmin(gmap) if vmin is None else vmin\n",
      "/Users/shaq/.pyenv/versions/3.8.10/lib/python3.8/site-packages/pandas/io/formats/style.py:2814: RuntimeWarning: All-NaN slice encountered\n",
      "  smax = np.nanmax(gmap) if vmax is None else vmax\n"
     ]
    },
    {
     "data": {
      "text/html": [
       "<style type=\"text/css\">\n",
       "#T_7e790_row0_col0, #T_7e790_row1_col1, #T_7e790_row2_col2, #T_7e790_row3_col3, #T_7e790_row4_col4, #T_7e790_row5_col5, #T_7e790_row6_col6, #T_7e790_row7_col7, #T_7e790_row8_col8, #T_7e790_row9_col9, #T_7e790_row10_col10, #T_7e790_row12_col12, #T_7e790_row13_col13 {\n",
       "  background-color: #b40426;\n",
       "  color: #f1f1f1;\n",
       "}\n",
       "#T_7e790_row0_col1 {\n",
       "  background-color: #6282ea;\n",
       "  color: #f1f1f1;\n",
       "}\n",
       "#T_7e790_row0_col2, #T_7e790_row4_col0 {\n",
       "  background-color: #b9d0f9;\n",
       "  color: #000000;\n",
       "}\n",
       "#T_7e790_row0_col3 {\n",
       "  background-color: #b3cdfb;\n",
       "  color: #000000;\n",
       "}\n",
       "#T_7e790_row0_col4, #T_7e790_row3_col1, #T_7e790_row9_col6, #T_7e790_row10_col7 {\n",
       "  background-color: #799cf8;\n",
       "  color: #f1f1f1;\n",
       "}\n",
       "#T_7e790_row0_col5, #T_7e790_row1_col7, #T_7e790_row2_col4, #T_7e790_row4_col12, #T_7e790_row5_col3, #T_7e790_row12_col2 {\n",
       "  background-color: #88abfd;\n",
       "  color: #000000;\n",
       "}\n",
       "#T_7e790_row0_col6, #T_7e790_row4_col6, #T_7e790_row5_col6 {\n",
       "  background-color: #7b9ff9;\n",
       "  color: #f1f1f1;\n",
       "}\n",
       "#T_7e790_row0_col7, #T_7e790_row7_col0, #T_7e790_row7_col2, #T_7e790_row7_col3, #T_7e790_row7_col4, #T_7e790_row7_col5, #T_7e790_row7_col8, #T_7e790_row7_col9, #T_7e790_row7_col10, #T_7e790_row7_col12, #T_7e790_row7_col13, #T_7e790_row12_col1, #T_7e790_row12_col6, #T_7e790_row12_col7 {\n",
       "  background-color: #3b4cc0;\n",
       "  color: #f1f1f1;\n",
       "}\n",
       "#T_7e790_row0_col8 {\n",
       "  background-color: #d2dbe8;\n",
       "  color: #000000;\n",
       "}\n",
       "#T_7e790_row0_col9, #T_7e790_row0_col13, #T_7e790_row5_col8 {\n",
       "  background-color: #b6cefa;\n",
       "  color: #000000;\n",
       "}\n",
       "#T_7e790_row0_col10 {\n",
       "  background-color: #5673e0;\n",
       "  color: #f1f1f1;\n",
       "}\n",
       "#T_7e790_row0_col11, #T_7e790_row1_col11, #T_7e790_row2_col11, #T_7e790_row3_col11, #T_7e790_row4_col11, #T_7e790_row5_col11, #T_7e790_row6_col11, #T_7e790_row7_col11, #T_7e790_row8_col11, #T_7e790_row9_col11, #T_7e790_row10_col11, #T_7e790_row11_col0, #T_7e790_row11_col1, #T_7e790_row11_col2, #T_7e790_row11_col3, #T_7e790_row11_col4, #T_7e790_row11_col5, #T_7e790_row11_col6, #T_7e790_row11_col7, #T_7e790_row11_col8, #T_7e790_row11_col9, #T_7e790_row11_col10, #T_7e790_row11_col11, #T_7e790_row11_col12, #T_7e790_row11_col13, #T_7e790_row12_col11, #T_7e790_row13_col11 {\n",
       "  background-color: #000000;\n",
       "  color: #f1f1f1;\n",
       "}\n",
       "#T_7e790_row0_col12, #T_7e790_row2_col9, #T_7e790_row12_col0 {\n",
       "  background-color: #dddcdc;\n",
       "  color: #000000;\n",
       "}\n",
       "#T_7e790_row1_col0, #T_7e790_row1_col9, #T_7e790_row5_col10, #T_7e790_row12_col9 {\n",
       "  background-color: #a6c4fe;\n",
       "  color: #000000;\n",
       "}\n",
       "#T_7e790_row1_col2 {\n",
       "  background-color: #cfdaea;\n",
       "  color: #000000;\n",
       "}\n",
       "#T_7e790_row1_col3 {\n",
       "  background-color: #86a9fc;\n",
       "  color: #f1f1f1;\n",
       "}\n",
       "#T_7e790_row1_col4, #T_7e790_row4_col1 {\n",
       "  background-color: #6687ed;\n",
       "  color: #f1f1f1;\n",
       "}\n",
       "#T_7e790_row1_col5, #T_7e790_row9_col7 {\n",
       "  background-color: #5b7ae5;\n",
       "  color: #f1f1f1;\n",
       "}\n",
       "#T_7e790_row1_col6, #T_7e790_row12_col10 {\n",
       "  background-color: #506bda;\n",
       "  color: #f1f1f1;\n",
       "}\n",
       "#T_7e790_row1_col8 {\n",
       "  background-color: #bfd3f6;\n",
       "  color: #000000;\n",
       "}\n",
       "#T_7e790_row1_col10, #T_7e790_row9_col3, #T_7e790_row12_col3 {\n",
       "  background-color: #a9c6fd;\n",
       "  color: #000000;\n",
       "}\n",
       "#T_7e790_row1_col12, #T_7e790_row6_col13 {\n",
       "  background-color: #84a7fc;\n",
       "  color: #f1f1f1;\n",
       "}\n",
       "#T_7e790_row1_col13, #T_7e790_row3_col12 {\n",
       "  background-color: #d1dae9;\n",
       "  color: #000000;\n",
       "}\n",
       "#T_7e790_row2_col0, #T_7e790_row12_col8 {\n",
       "  background-color: #c5d6f2;\n",
       "  color: #000000;\n",
       "}\n",
       "#T_7e790_row2_col1, #T_7e790_row8_col3 {\n",
       "  background-color: #abc8fd;\n",
       "  color: #000000;\n",
       "}\n",
       "#T_7e790_row2_col3, #T_7e790_row4_col3, #T_7e790_row4_col7 {\n",
       "  background-color: #85a8fc;\n",
       "  color: #f1f1f1;\n",
       "}\n",
       "#T_7e790_row2_col5 {\n",
       "  background-color: #5977e3;\n",
       "  color: #f1f1f1;\n",
       "}\n",
       "#T_7e790_row2_col6 {\n",
       "  background-color: #6788ee;\n",
       "  color: #f1f1f1;\n",
       "}\n",
       "#T_7e790_row2_col7 {\n",
       "  background-color: #4c66d6;\n",
       "  color: #f1f1f1;\n",
       "}\n",
       "#T_7e790_row2_col8, #T_7e790_row13_col2 {\n",
       "  background-color: #f5c0a7;\n",
       "  color: #000000;\n",
       "}\n",
       "#T_7e790_row2_col10, #T_7e790_row3_col0 {\n",
       "  background-color: #d8dce2;\n",
       "  color: #000000;\n",
       "}\n",
       "#T_7e790_row2_col12, #T_7e790_row5_col9 {\n",
       "  background-color: #97b8ff;\n",
       "  color: #000000;\n",
       "}\n",
       "#T_7e790_row2_col13 {\n",
       "  background-color: #f5c4ac;\n",
       "  color: #000000;\n",
       "}\n",
       "#T_7e790_row3_col2 {\n",
       "  background-color: #aac7fd;\n",
       "  color: #000000;\n",
       "}\n",
       "#T_7e790_row3_col4, #T_7e790_row3_col7 {\n",
       "  background-color: #779af7;\n",
       "  color: #f1f1f1;\n",
       "}\n",
       "#T_7e790_row3_col5, #T_7e790_row5_col1 {\n",
       "  background-color: #6b8df0;\n",
       "  color: #f1f1f1;\n",
       "}\n",
       "#T_7e790_row3_col6 {\n",
       "  background-color: #7093f3;\n",
       "  color: #f1f1f1;\n",
       "}\n",
       "#T_7e790_row3_col8, #T_7e790_row5_col0, #T_7e790_row8_col12 {\n",
       "  background-color: #ccd9ed;\n",
       "  color: #000000;\n",
       "}\n",
       "#T_7e790_row3_col9, #T_7e790_row9_col12 {\n",
       "  background-color: #bed2f6;\n",
       "  color: #000000;\n",
       "}\n",
       "#T_7e790_row3_col10 {\n",
       "  background-color: #7396f5;\n",
       "  color: #f1f1f1;\n",
       "}\n",
       "#T_7e790_row3_col13 {\n",
       "  background-color: #b1cbfc;\n",
       "  color: #000000;\n",
       "}\n",
       "#T_7e790_row4_col2, #T_7e790_row5_col13 {\n",
       "  background-color: #b7cff9;\n",
       "  color: #000000;\n",
       "}\n",
       "#T_7e790_row4_col5, #T_7e790_row6_col12 {\n",
       "  background-color: #7597f6;\n",
       "  color: #f1f1f1;\n",
       "}\n",
       "#T_7e790_row4_col8 {\n",
       "  background-color: #c3d5f4;\n",
       "  color: #000000;\n",
       "}\n",
       "#T_7e790_row4_col9, #T_7e790_row6_col7, #T_7e790_row6_col8 {\n",
       "  background-color: #a5c3fe;\n",
       "  color: #000000;\n",
       "}\n",
       "#T_7e790_row4_col10 {\n",
       "  background-color: #8caffe;\n",
       "  color: #000000;\n",
       "}\n",
       "#T_7e790_row4_col13 {\n",
       "  background-color: #c1d4f4;\n",
       "  color: #000000;\n",
       "}\n",
       "#T_7e790_row5_col2 {\n",
       "  background-color: #9dbdff;\n",
       "  color: #000000;\n",
       "}\n",
       "#T_7e790_row5_col4, #T_7e790_row9_col1, #T_7e790_row12_col5, #T_7e790_row13_col5 {\n",
       "  background-color: #82a6fb;\n",
       "  color: #f1f1f1;\n",
       "}\n",
       "#T_7e790_row5_col7, #T_7e790_row10_col0 {\n",
       "  background-color: #93b5fe;\n",
       "  color: #000000;\n",
       "}\n",
       "#T_7e790_row5_col12 {\n",
       "  background-color: #c9d7f0;\n",
       "  color: #000000;\n",
       "}\n",
       "#T_7e790_row6_col0 {\n",
       "  background-color: #afcafc;\n",
       "  color: #000000;\n",
       "}\n",
       "#T_7e790_row6_col1 {\n",
       "  background-color: #4055c8;\n",
       "  color: #f1f1f1;\n",
       "}\n",
       "#T_7e790_row6_col2, #T_7e790_row10_col5 {\n",
       "  background-color: #8fb1fe;\n",
       "  color: #000000;\n",
       "}\n",
       "#T_7e790_row6_col3 {\n",
       "  background-color: #6f92f3;\n",
       "  color: #f1f1f1;\n",
       "}\n",
       "#T_7e790_row6_col4 {\n",
       "  background-color: #6c8ff1;\n",
       "  color: #f1f1f1;\n",
       "}\n",
       "#T_7e790_row6_col5 {\n",
       "  background-color: #5d7ce6;\n",
       "  color: #f1f1f1;\n",
       "}\n",
       "#T_7e790_row6_col9, #T_7e790_row8_col4 {\n",
       "  background-color: #92b4fe;\n",
       "  color: #000000;\n",
       "}\n",
       "#T_7e790_row6_col10, #T_7e790_row9_col5 {\n",
       "  background-color: #6180e9;\n",
       "  color: #f1f1f1;\n",
       "}\n",
       "#T_7e790_row7_col1 {\n",
       "  background-color: #3f53c6;\n",
       "  color: #f1f1f1;\n",
       "}\n",
       "#T_7e790_row7_col6 {\n",
       "  background-color: #6e90f2;\n",
       "  color: #f1f1f1;\n",
       "}\n",
       "#T_7e790_row8_col0 {\n",
       "  background-color: #d7dce3;\n",
       "  color: #000000;\n",
       "}\n",
       "#T_7e790_row8_col1, #T_7e790_row9_col10, #T_7e790_row10_col12 {\n",
       "  background-color: #8db0fe;\n",
       "  color: #000000;\n",
       "}\n",
       "#T_7e790_row8_col2 {\n",
       "  background-color: #f5c2aa;\n",
       "  color: #000000;\n",
       "}\n",
       "#T_7e790_row8_col5 {\n",
       "  background-color: #7295f4;\n",
       "  color: #f1f1f1;\n",
       "}\n",
       "#T_7e790_row8_col6 {\n",
       "  background-color: #7a9df8;\n",
       "  color: #f1f1f1;\n",
       "}\n",
       "#T_7e790_row8_col7 {\n",
       "  background-color: #465ecf;\n",
       "  color: #f1f1f1;\n",
       "}\n",
       "#T_7e790_row8_col9 {\n",
       "  background-color: #f7a688;\n",
       "  color: #000000;\n",
       "}\n",
       "#T_7e790_row8_col10 {\n",
       "  background-color: #dedcdb;\n",
       "  color: #000000;\n",
       "}\n",
       "#T_7e790_row8_col13 {\n",
       "  background-color: #f7b194;\n",
       "  color: #000000;\n",
       "}\n",
       "#T_7e790_row9_col0 {\n",
       "  background-color: #cbd8ee;\n",
       "  color: #000000;\n",
       "}\n",
       "#T_7e790_row9_col2 {\n",
       "  background-color: #e4d9d2;\n",
       "  color: #000000;\n",
       "}\n",
       "#T_7e790_row9_col4 {\n",
       "  background-color: #7ea1fa;\n",
       "  color: #f1f1f1;\n",
       "}\n",
       "#T_7e790_row9_col8 {\n",
       "  background-color: #f59f80;\n",
       "  color: #000000;\n",
       "}\n",
       "#T_7e790_row9_col13, #T_7e790_row10_col13 {\n",
       "  background-color: #f7ba9f;\n",
       "  color: #000000;\n",
       "}\n",
       "#T_7e790_row10_col1 {\n",
       "  background-color: #9fbfff;\n",
       "  color: #000000;\n",
       "}\n",
       "#T_7e790_row10_col2 {\n",
       "  background-color: #ead4c8;\n",
       "  color: #000000;\n",
       "}\n",
       "#T_7e790_row10_col3 {\n",
       "  background-color: #7699f6;\n",
       "  color: #f1f1f1;\n",
       "}\n",
       "#T_7e790_row10_col4 {\n",
       "  background-color: #81a4fb;\n",
       "  color: #f1f1f1;\n",
       "}\n",
       "#T_7e790_row10_col6 {\n",
       "  background-color: #6384eb;\n",
       "  color: #f1f1f1;\n",
       "}\n",
       "#T_7e790_row10_col8 {\n",
       "  background-color: #efcebd;\n",
       "  color: #000000;\n",
       "}\n",
       "#T_7e790_row10_col9 {\n",
       "  background-color: #a7c5fe;\n",
       "  color: #000000;\n",
       "}\n",
       "#T_7e790_row12_col4 {\n",
       "  background-color: #3e51c5;\n",
       "  color: #f1f1f1;\n",
       "}\n",
       "#T_7e790_row12_col13 {\n",
       "  background-color: #f6bfa6;\n",
       "  color: #000000;\n",
       "}\n",
       "#T_7e790_row13_col0 {\n",
       "  background-color: #c7d7f0;\n",
       "  color: #000000;\n",
       "}\n",
       "#T_7e790_row13_col1 {\n",
       "  background-color: #b2ccfb;\n",
       "  color: #000000;\n",
       "}\n",
       "#T_7e790_row13_col3 {\n",
       "  background-color: #96b7ff;\n",
       "  color: #000000;\n",
       "}\n",
       "#T_7e790_row13_col4 {\n",
       "  background-color: #9ebeff;\n",
       "  color: #000000;\n",
       "}\n",
       "#T_7e790_row13_col6 {\n",
       "  background-color: #6485ec;\n",
       "  color: #f1f1f1;\n",
       "}\n",
       "#T_7e790_row13_col7 {\n",
       "  background-color: #5572df;\n",
       "  color: #f1f1f1;\n",
       "}\n",
       "#T_7e790_row13_col8 {\n",
       "  background-color: #f7aa8c;\n",
       "  color: #000000;\n",
       "}\n",
       "#T_7e790_row13_col9 {\n",
       "  background-color: #f6bda2;\n",
       "  color: #000000;\n",
       "}\n",
       "#T_7e790_row13_col10 {\n",
       "  background-color: #f3c8b2;\n",
       "  color: #000000;\n",
       "}\n",
       "#T_7e790_row13_col12 {\n",
       "  background-color: #f7b599;\n",
       "  color: #000000;\n",
       "}\n",
       "</style>\n",
       "<table id=\"T_7e790_\">\n",
       "  <thead>\n",
       "    <tr>\n",
       "      <th class=\"blank level0\" >&nbsp;</th>\n",
       "      <th class=\"col_heading level0 col0\" >age</th>\n",
       "      <th class=\"col_heading level0 col1\" >sex</th>\n",
       "      <th class=\"col_heading level0 col2\" >cp</th>\n",
       "      <th class=\"col_heading level0 col3\" >trestbps</th>\n",
       "      <th class=\"col_heading level0 col4\" >chol</th>\n",
       "      <th class=\"col_heading level0 col5\" >fbs</th>\n",
       "      <th class=\"col_heading level0 col6\" >restecg</th>\n",
       "      <th class=\"col_heading level0 col7\" >thalach</th>\n",
       "      <th class=\"col_heading level0 col8\" >exang</th>\n",
       "      <th class=\"col_heading level0 col9\" >oldpeak</th>\n",
       "      <th class=\"col_heading level0 col10\" >slope</th>\n",
       "      <th class=\"col_heading level0 col11\" >ca</th>\n",
       "      <th class=\"col_heading level0 col12\" >thal</th>\n",
       "      <th class=\"col_heading level0 col13\" >target</th>\n",
       "    </tr>\n",
       "  </thead>\n",
       "  <tbody>\n",
       "    <tr>\n",
       "      <th id=\"T_7e790_level0_row0\" class=\"row_heading level0 row0\" >age</th>\n",
       "      <td id=\"T_7e790_row0_col0\" class=\"data row0 col0\" >1.000000</td>\n",
       "      <td id=\"T_7e790_row0_col1\" class=\"data row0 col1\" >0.013618</td>\n",
       "      <td id=\"T_7e790_row0_col2\" class=\"data row0 col2\" >0.145826</td>\n",
       "      <td id=\"T_7e790_row0_col3\" class=\"data row0 col3\" >0.245203</td>\n",
       "      <td id=\"T_7e790_row0_col4\" class=\"data row0 col4\" >0.090979</td>\n",
       "      <td id=\"T_7e790_row0_col5\" class=\"data row0 col5\" >0.182212</td>\n",
       "      <td id=\"T_7e790_row0_col6\" class=\"data row0 col6\" >0.051989</td>\n",
       "      <td id=\"T_7e790_row0_col7\" class=\"data row0 col7\" >-0.459420</td>\n",
       "      <td id=\"T_7e790_row0_col8\" class=\"data row0 col8\" >0.238925</td>\n",
       "      <td id=\"T_7e790_row0_col9\" class=\"data row0 col9\" >0.177707</td>\n",
       "      <td id=\"T_7e790_row0_col10\" class=\"data row0 col10\" >-0.068000</td>\n",
       "      <td id=\"T_7e790_row0_col11\" class=\"data row0 col11\" >nan</td>\n",
       "      <td id=\"T_7e790_row0_col12\" class=\"data row0 col12\" >0.274092</td>\n",
       "      <td id=\"T_7e790_row0_col13\" class=\"data row0 col13\" >0.159315</td>\n",
       "    </tr>\n",
       "    <tr>\n",
       "      <th id=\"T_7e790_level0_row1\" class=\"row_heading level0 row1\" >sex</th>\n",
       "      <td id=\"T_7e790_row1_col0\" class=\"data row1 col0\" >0.013618</td>\n",
       "      <td id=\"T_7e790_row1_col1\" class=\"data row1 col1\" >1.000000</td>\n",
       "      <td id=\"T_7e790_row1_col2\" class=\"data row1 col2\" >0.249875</td>\n",
       "      <td id=\"T_7e790_row1_col3\" class=\"data row1 col3\" >0.089112</td>\n",
       "      <td id=\"T_7e790_row1_col4\" class=\"data row1 col4\" >0.028797</td>\n",
       "      <td id=\"T_7e790_row1_col5\" class=\"data row1 col5\" >0.042798</td>\n",
       "      <td id=\"T_7e790_row1_col6\" class=\"data row1 col6\" >-0.104614</td>\n",
       "      <td id=\"T_7e790_row1_col7\" class=\"data row1 col7\" >-0.111781</td>\n",
       "      <td id=\"T_7e790_row1_col8\" class=\"data row1 col8\" >0.154925</td>\n",
       "      <td id=\"T_7e790_row1_col9\" class=\"data row1 col9\" >0.118931</td>\n",
       "      <td id=\"T_7e790_row1_col10\" class=\"data row1 col10\" >0.213921</td>\n",
       "      <td id=\"T_7e790_row1_col11\" class=\"data row1 col11\" >nan</td>\n",
       "      <td id=\"T_7e790_row1_col12\" class=\"data row1 col12\" >-0.130013</td>\n",
       "      <td id=\"T_7e790_row1_col13\" class=\"data row1 col13\" >0.272781</td>\n",
       "    </tr>\n",
       "    <tr>\n",
       "      <th id=\"T_7e790_level0_row2\" class=\"row_heading level0 row2\" >cp</th>\n",
       "      <td id=\"T_7e790_row2_col0\" class=\"data row2 col0\" >0.145826</td>\n",
       "      <td id=\"T_7e790_row2_col1\" class=\"data row2 col1\" >0.249875</td>\n",
       "      <td id=\"T_7e790_row2_col2\" class=\"data row2 col2\" >1.000000</td>\n",
       "      <td id=\"T_7e790_row2_col3\" class=\"data row2 col3\" >0.085631</td>\n",
       "      <td id=\"T_7e790_row2_col4\" class=\"data row2 col4\" >0.138847</td>\n",
       "      <td id=\"T_7e790_row2_col5\" class=\"data row2 col5\" >0.033346</td>\n",
       "      <td id=\"T_7e790_row2_col6\" class=\"data row2 col6\" >-0.018154</td>\n",
       "      <td id=\"T_7e790_row2_col7\" class=\"data row2 col7\" >-0.370440</td>\n",
       "      <td id=\"T_7e790_row2_col8\" class=\"data row2 col8\" >0.494674</td>\n",
       "      <td id=\"T_7e790_row2_col9\" class=\"data row2 col9\" >0.353109</td>\n",
       "      <td id=\"T_7e790_row2_col10\" class=\"data row2 col10\" >0.392841</td>\n",
       "      <td id=\"T_7e790_row2_col11\" class=\"data row2 col11\" >nan</td>\n",
       "      <td id=\"T_7e790_row2_col12\" class=\"data row2 col12\" >-0.048622</td>\n",
       "      <td id=\"T_7e790_row2_col13\" class=\"data row2 col13\" >0.505864</td>\n",
       "    </tr>\n",
       "    <tr>\n",
       "      <th id=\"T_7e790_level0_row3\" class=\"row_heading level0 row3\" >trestbps</th>\n",
       "      <td id=\"T_7e790_row3_col0\" class=\"data row3 col0\" >0.245203</td>\n",
       "      <td id=\"T_7e790_row3_col1\" class=\"data row3 col1\" >0.089112</td>\n",
       "      <td id=\"T_7e790_row3_col2\" class=\"data row3 col2\" >0.085631</td>\n",
       "      <td id=\"T_7e790_row3_col3\" class=\"data row3 col3\" >1.000000</td>\n",
       "      <td id=\"T_7e790_row3_col4\" class=\"data row3 col4\" >0.084264</td>\n",
       "      <td id=\"T_7e790_row3_col5\" class=\"data row3 col5\" >0.095416</td>\n",
       "      <td id=\"T_7e790_row3_col6\" class=\"data row3 col6\" >0.013914</td>\n",
       "      <td id=\"T_7e790_row3_col7\" class=\"data row3 col7\" >-0.184961</td>\n",
       "      <td id=\"T_7e790_row3_col8\" class=\"data row3 col8\" >0.213856</td>\n",
       "      <td id=\"T_7e790_row3_col9\" class=\"data row3 col9\" >0.206848</td>\n",
       "      <td id=\"T_7e790_row3_col10\" class=\"data row3 col10\" >0.035536</td>\n",
       "      <td id=\"T_7e790_row3_col11\" class=\"data row3 col11\" >nan</td>\n",
       "      <td id=\"T_7e790_row3_col12\" class=\"data row3 col12\" >0.206153</td>\n",
       "      <td id=\"T_7e790_row3_col13\" class=\"data row3 col13\" >0.139717</td>\n",
       "    </tr>\n",
       "    <tr>\n",
       "      <th id=\"T_7e790_level0_row4\" class=\"row_heading level0 row4\" >chol</th>\n",
       "      <td id=\"T_7e790_row4_col0\" class=\"data row4 col0\" >0.090979</td>\n",
       "      <td id=\"T_7e790_row4_col1\" class=\"data row4 col1\" >0.028797</td>\n",
       "      <td id=\"T_7e790_row4_col2\" class=\"data row4 col2\" >0.138847</td>\n",
       "      <td id=\"T_7e790_row4_col3\" class=\"data row4 col3\" >0.084264</td>\n",
       "      <td id=\"T_7e790_row4_col4\" class=\"data row4 col4\" >1.000000</td>\n",
       "      <td id=\"T_7e790_row4_col5\" class=\"data row4 col5\" >0.122902</td>\n",
       "      <td id=\"T_7e790_row4_col6\" class=\"data row4 col6\" >0.050249</td>\n",
       "      <td id=\"T_7e790_row4_col7\" class=\"data row4 col7\" >-0.127676</td>\n",
       "      <td id=\"T_7e790_row4_col8\" class=\"data row4 col8\" >0.168518</td>\n",
       "      <td id=\"T_7e790_row4_col9\" class=\"data row4 col9\" >0.109343</td>\n",
       "      <td id=\"T_7e790_row4_col10\" class=\"data row4 col10\" >0.117838</td>\n",
       "      <td id=\"T_7e790_row4_col11\" class=\"data row4 col11\" >nan</td>\n",
       "      <td id=\"T_7e790_row4_col12\" class=\"data row4 col12\" >-0.113407</td>\n",
       "      <td id=\"T_7e790_row4_col13\" class=\"data row4 col13\" >0.209318</td>\n",
       "    </tr>\n",
       "    <tr>\n",
       "      <th id=\"T_7e790_level0_row5\" class=\"row_heading level0 row5\" >fbs</th>\n",
       "      <td id=\"T_7e790_row5_col0\" class=\"data row5 col0\" >0.182212</td>\n",
       "      <td id=\"T_7e790_row5_col1\" class=\"data row5 col1\" >0.042798</td>\n",
       "      <td id=\"T_7e790_row5_col2\" class=\"data row5 col2\" >0.033346</td>\n",
       "      <td id=\"T_7e790_row5_col3\" class=\"data row5 col3\" >0.095416</td>\n",
       "      <td id=\"T_7e790_row5_col4\" class=\"data row5 col4\" >0.122902</td>\n",
       "      <td id=\"T_7e790_row5_col5\" class=\"data row5 col5\" >1.000000</td>\n",
       "      <td id=\"T_7e790_row5_col6\" class=\"data row5 col6\" >0.049160</td>\n",
       "      <td id=\"T_7e790_row5_col7\" class=\"data row5 col7\" >-0.071489</td>\n",
       "      <td id=\"T_7e790_row5_col8\" class=\"data row5 col8\" >0.116170</td>\n",
       "      <td id=\"T_7e790_row5_col9\" class=\"data row5 col9\" >0.062316</td>\n",
       "      <td id=\"T_7e790_row5_col10\" class=\"data row5 col10\" >0.201315</td>\n",
       "      <td id=\"T_7e790_row5_col11\" class=\"data row5 col11\" >nan</td>\n",
       "      <td id=\"T_7e790_row5_col12\" class=\"data row5 col12\" >0.164353</td>\n",
       "      <td id=\"T_7e790_row5_col13\" class=\"data row5 col13\" >0.163232</td>\n",
       "    </tr>\n",
       "    <tr>\n",
       "      <th id=\"T_7e790_level0_row6\" class=\"row_heading level0 row6\" >restecg</th>\n",
       "      <td id=\"T_7e790_row6_col0\" class=\"data row6 col0\" >0.051989</td>\n",
       "      <td id=\"T_7e790_row6_col1\" class=\"data row6 col1\" >-0.104614</td>\n",
       "      <td id=\"T_7e790_row6_col2\" class=\"data row6 col2\" >-0.018154</td>\n",
       "      <td id=\"T_7e790_row6_col3\" class=\"data row6 col3\" >0.013914</td>\n",
       "      <td id=\"T_7e790_row6_col4\" class=\"data row6 col4\" >0.050249</td>\n",
       "      <td id=\"T_7e790_row6_col5\" class=\"data row6 col5\" >0.049160</td>\n",
       "      <td id=\"T_7e790_row6_col6\" class=\"data row6 col6\" >1.000000</td>\n",
       "      <td id=\"T_7e790_row6_col7\" class=\"data row6 col7\" >0.004481</td>\n",
       "      <td id=\"T_7e790_row6_col8\" class=\"data row6 col8\" >0.045392</td>\n",
       "      <td id=\"T_7e790_row6_col9\" class=\"data row6 col9\" >0.042193</td>\n",
       "      <td id=\"T_7e790_row6_col10\" class=\"data row6 col10\" >-0.031222</td>\n",
       "      <td id=\"T_7e790_row6_col11\" class=\"data row6 col11\" >nan</td>\n",
       "      <td id=\"T_7e790_row6_col12\" class=\"data row6 col12\" >-0.188991</td>\n",
       "      <td id=\"T_7e790_row6_col13\" class=\"data row6 col13\" >-0.029937</td>\n",
       "    </tr>\n",
       "    <tr>\n",
       "      <th id=\"T_7e790_level0_row7\" class=\"row_heading level0 row7\" >thalach</th>\n",
       "      <td id=\"T_7e790_row7_col0\" class=\"data row7 col0\" >-0.459420</td>\n",
       "      <td id=\"T_7e790_row7_col1\" class=\"data row7 col1\" >-0.111781</td>\n",
       "      <td id=\"T_7e790_row7_col2\" class=\"data row7 col2\" >-0.370440</td>\n",
       "      <td id=\"T_7e790_row7_col3\" class=\"data row7 col3\" >-0.184961</td>\n",
       "      <td id=\"T_7e790_row7_col4\" class=\"data row7 col4\" >-0.127676</td>\n",
       "      <td id=\"T_7e790_row7_col5\" class=\"data row7 col5\" >-0.071489</td>\n",
       "      <td id=\"T_7e790_row7_col6\" class=\"data row7 col6\" >0.004481</td>\n",
       "      <td id=\"T_7e790_row7_col7\" class=\"data row7 col7\" >1.000000</td>\n",
       "      <td id=\"T_7e790_row7_col8\" class=\"data row7 col8\" >-0.401980</td>\n",
       "      <td id=\"T_7e790_row7_col9\" class=\"data row7 col9\" >-0.303028</td>\n",
       "      <td id=\"T_7e790_row7_col10\" class=\"data row7 col10\" >-0.175356</td>\n",
       "      <td id=\"T_7e790_row7_col11\" class=\"data row7 col11\" >nan</td>\n",
       "      <td id=\"T_7e790_row7_col12\" class=\"data row7 col12\" >-0.456133</td>\n",
       "      <td id=\"T_7e790_row7_col13\" class=\"data row7 col13\" >-0.331393</td>\n",
       "    </tr>\n",
       "    <tr>\n",
       "      <th id=\"T_7e790_level0_row8\" class=\"row_heading level0 row8\" >exang</th>\n",
       "      <td id=\"T_7e790_row8_col0\" class=\"data row8 col0\" >0.238925</td>\n",
       "      <td id=\"T_7e790_row8_col1\" class=\"data row8 col1\" >0.154925</td>\n",
       "      <td id=\"T_7e790_row8_col2\" class=\"data row8 col2\" >0.494674</td>\n",
       "      <td id=\"T_7e790_row8_col3\" class=\"data row8 col3\" >0.213856</td>\n",
       "      <td id=\"T_7e790_row8_col4\" class=\"data row8 col4\" >0.168518</td>\n",
       "      <td id=\"T_7e790_row8_col5\" class=\"data row8 col5\" >0.116170</td>\n",
       "      <td id=\"T_7e790_row8_col6\" class=\"data row8 col6\" >0.045392</td>\n",
       "      <td id=\"T_7e790_row8_col7\" class=\"data row8 col7\" >-0.401980</td>\n",
       "      <td id=\"T_7e790_row8_col8\" class=\"data row8 col8\" >1.000000</td>\n",
       "      <td id=\"T_7e790_row8_col9\" class=\"data row8 col9\" >0.632108</td>\n",
       "      <td id=\"T_7e790_row8_col10\" class=\"data row8 col10\" >0.418895</td>\n",
       "      <td id=\"T_7e790_row8_col11\" class=\"data row8 col11\" >nan</td>\n",
       "      <td id=\"T_7e790_row8_col12\" class=\"data row8 col12\" >0.181142</td>\n",
       "      <td id=\"T_7e790_row8_col13\" class=\"data row8 col13\" >0.583847</td>\n",
       "    </tr>\n",
       "    <tr>\n",
       "      <th id=\"T_7e790_level0_row9\" class=\"row_heading level0 row9\" >oldpeak</th>\n",
       "      <td id=\"T_7e790_row9_col0\" class=\"data row9 col0\" >0.177707</td>\n",
       "      <td id=\"T_7e790_row9_col1\" class=\"data row9 col1\" >0.118931</td>\n",
       "      <td id=\"T_7e790_row9_col2\" class=\"data row9 col2\" >0.353109</td>\n",
       "      <td id=\"T_7e790_row9_col3\" class=\"data row9 col3\" >0.206848</td>\n",
       "      <td id=\"T_7e790_row9_col4\" class=\"data row9 col4\" >0.109343</td>\n",
       "      <td id=\"T_7e790_row9_col5\" class=\"data row9 col5\" >0.062316</td>\n",
       "      <td id=\"T_7e790_row9_col6\" class=\"data row9 col6\" >0.042193</td>\n",
       "      <td id=\"T_7e790_row9_col7\" class=\"data row9 col7\" >-0.303028</td>\n",
       "      <td id=\"T_7e790_row9_col8\" class=\"data row9 col8\" >0.632108</td>\n",
       "      <td id=\"T_7e790_row9_col9\" class=\"data row9 col9\" >1.000000</td>\n",
       "      <td id=\"T_7e790_row9_col10\" class=\"data row9 col10\" >0.121817</td>\n",
       "      <td id=\"T_7e790_row9_col11\" class=\"data row9 col11\" >nan</td>\n",
       "      <td id=\"T_7e790_row9_col12\" class=\"data row9 col12\" >0.116806</td>\n",
       "      <td id=\"T_7e790_row9_col13\" class=\"data row9 col13\" >0.545700</td>\n",
       "    </tr>\n",
       "    <tr>\n",
       "      <th id=\"T_7e790_level0_row10\" class=\"row_heading level0 row10\" >slope</th>\n",
       "      <td id=\"T_7e790_row10_col0\" class=\"data row10 col0\" >-0.068000</td>\n",
       "      <td id=\"T_7e790_row10_col1\" class=\"data row10 col1\" >0.213921</td>\n",
       "      <td id=\"T_7e790_row10_col2\" class=\"data row10 col2\" >0.392841</td>\n",
       "      <td id=\"T_7e790_row10_col3\" class=\"data row10 col3\" >0.035536</td>\n",
       "      <td id=\"T_7e790_row10_col4\" class=\"data row10 col4\" >0.117838</td>\n",
       "      <td id=\"T_7e790_row10_col5\" class=\"data row10 col5\" >0.201315</td>\n",
       "      <td id=\"T_7e790_row10_col6\" class=\"data row10 col6\" >-0.031222</td>\n",
       "      <td id=\"T_7e790_row10_col7\" class=\"data row10 col7\" >-0.175356</td>\n",
       "      <td id=\"T_7e790_row10_col8\" class=\"data row10 col8\" >0.418895</td>\n",
       "      <td id=\"T_7e790_row10_col9\" class=\"data row10 col9\" >0.121817</td>\n",
       "      <td id=\"T_7e790_row10_col10\" class=\"data row10 col10\" >1.000000</td>\n",
       "      <td id=\"T_7e790_row10_col11\" class=\"data row10 col11\" >nan</td>\n",
       "      <td id=\"T_7e790_row10_col12\" class=\"data row10 col12\" >-0.088946</td>\n",
       "      <td id=\"T_7e790_row10_col13\" class=\"data row10 col13\" >0.543420</td>\n",
       "    </tr>\n",
       "    <tr>\n",
       "      <th id=\"T_7e790_level0_row11\" class=\"row_heading level0 row11\" >ca</th>\n",
       "      <td id=\"T_7e790_row11_col0\" class=\"data row11 col0\" >nan</td>\n",
       "      <td id=\"T_7e790_row11_col1\" class=\"data row11 col1\" >nan</td>\n",
       "      <td id=\"T_7e790_row11_col2\" class=\"data row11 col2\" >nan</td>\n",
       "      <td id=\"T_7e790_row11_col3\" class=\"data row11 col3\" >nan</td>\n",
       "      <td id=\"T_7e790_row11_col4\" class=\"data row11 col4\" >nan</td>\n",
       "      <td id=\"T_7e790_row11_col5\" class=\"data row11 col5\" >nan</td>\n",
       "      <td id=\"T_7e790_row11_col6\" class=\"data row11 col6\" >nan</td>\n",
       "      <td id=\"T_7e790_row11_col7\" class=\"data row11 col7\" >nan</td>\n",
       "      <td id=\"T_7e790_row11_col8\" class=\"data row11 col8\" >nan</td>\n",
       "      <td id=\"T_7e790_row11_col9\" class=\"data row11 col9\" >nan</td>\n",
       "      <td id=\"T_7e790_row11_col10\" class=\"data row11 col10\" >nan</td>\n",
       "      <td id=\"T_7e790_row11_col11\" class=\"data row11 col11\" >nan</td>\n",
       "      <td id=\"T_7e790_row11_col12\" class=\"data row11 col12\" >nan</td>\n",
       "      <td id=\"T_7e790_row11_col13\" class=\"data row11 col13\" >nan</td>\n",
       "    </tr>\n",
       "    <tr>\n",
       "      <th id=\"T_7e790_level0_row12\" class=\"row_heading level0 row12\" >thal</th>\n",
       "      <td id=\"T_7e790_row12_col0\" class=\"data row12 col0\" >0.274092</td>\n",
       "      <td id=\"T_7e790_row12_col1\" class=\"data row12 col1\" >-0.130013</td>\n",
       "      <td id=\"T_7e790_row12_col2\" class=\"data row12 col2\" >-0.048622</td>\n",
       "      <td id=\"T_7e790_row12_col3\" class=\"data row12 col3\" >0.206153</td>\n",
       "      <td id=\"T_7e790_row12_col4\" class=\"data row12 col4\" >-0.113407</td>\n",
       "      <td id=\"T_7e790_row12_col5\" class=\"data row12 col5\" >0.164353</td>\n",
       "      <td id=\"T_7e790_row12_col6\" class=\"data row12 col6\" >-0.188991</td>\n",
       "      <td id=\"T_7e790_row12_col7\" class=\"data row12 col7\" >-0.456133</td>\n",
       "      <td id=\"T_7e790_row12_col8\" class=\"data row12 col8\" >0.181142</td>\n",
       "      <td id=\"T_7e790_row12_col9\" class=\"data row12 col9\" >0.116806</td>\n",
       "      <td id=\"T_7e790_row12_col10\" class=\"data row12 col10\" >-0.088946</td>\n",
       "      <td id=\"T_7e790_row12_col11\" class=\"data row12 col11\" >nan</td>\n",
       "      <td id=\"T_7e790_row12_col12\" class=\"data row12 col12\" >1.000000</td>\n",
       "      <td id=\"T_7e790_row12_col13\" class=\"data row12 col13\" >0.525711</td>\n",
       "    </tr>\n",
       "    <tr>\n",
       "      <th id=\"T_7e790_level0_row13\" class=\"row_heading level0 row13\" >target</th>\n",
       "      <td id=\"T_7e790_row13_col0\" class=\"data row13 col0\" >0.159315</td>\n",
       "      <td id=\"T_7e790_row13_col1\" class=\"data row13 col1\" >0.272781</td>\n",
       "      <td id=\"T_7e790_row13_col2\" class=\"data row13 col2\" >0.505864</td>\n",
       "      <td id=\"T_7e790_row13_col3\" class=\"data row13 col3\" >0.139717</td>\n",
       "      <td id=\"T_7e790_row13_col4\" class=\"data row13 col4\" >0.209318</td>\n",
       "      <td id=\"T_7e790_row13_col5\" class=\"data row13 col5\" >0.163232</td>\n",
       "      <td id=\"T_7e790_row13_col6\" class=\"data row13 col6\" >-0.029937</td>\n",
       "      <td id=\"T_7e790_row13_col7\" class=\"data row13 col7\" >-0.331393</td>\n",
       "      <td id=\"T_7e790_row13_col8\" class=\"data row13 col8\" >0.583847</td>\n",
       "      <td id=\"T_7e790_row13_col9\" class=\"data row13 col9\" >0.545700</td>\n",
       "      <td id=\"T_7e790_row13_col10\" class=\"data row13 col10\" >0.543420</td>\n",
       "      <td id=\"T_7e790_row13_col11\" class=\"data row13 col11\" >nan</td>\n",
       "      <td id=\"T_7e790_row13_col12\" class=\"data row13 col12\" >0.525711</td>\n",
       "      <td id=\"T_7e790_row13_col13\" class=\"data row13 col13\" >1.000000</td>\n",
       "    </tr>\n",
       "  </tbody>\n",
       "</table>\n"
      ],
      "text/plain": [
       "<pandas.io.formats.style.Styler at 0x15d982d30>"
      ]
     },
     "execution_count": 9,
     "metadata": {},
     "output_type": "execute_result"
    }
   ],
   "source": [
    "# identifying correlations in data\n",
    "\n",
    "corr = heart_attack_df.corr()\n",
    "corr.style.background_gradient(cmap='coolwarm')\n",
    "\n",
    "# we can see that ca is erroring because it is nearly missing 100% missing data\n",
    "# negative correlation of -0,45 between thalach and thal, exang and cp have a positive correlation of 0.45\n",
    "# exang and oldpeak have the highest correlation with the target."
   ]
  },
  {
   "cell_type": "code",
   "execution_count": 10,
   "id": "df77bbb6",
   "metadata": {},
   "outputs": [
    {
     "data": {
      "text/html": [
       "<div>\n",
       "<style scoped>\n",
       "    .dataframe tbody tr th:only-of-type {\n",
       "        vertical-align: middle;\n",
       "    }\n",
       "\n",
       "    .dataframe tbody tr th {\n",
       "        vertical-align: top;\n",
       "    }\n",
       "\n",
       "    .dataframe thead th {\n",
       "        text-align: right;\n",
       "    }\n",
       "</style>\n",
       "<table border=\"1\" class=\"dataframe\">\n",
       "  <thead>\n",
       "    <tr style=\"text-align: right;\">\n",
       "      <th></th>\n",
       "      <th>corr_feature</th>\n",
       "      <th>drop_feature</th>\n",
       "      <th>corrrelation_values</th>\n",
       "    </tr>\n",
       "  </thead>\n",
       "  <tbody>\n",
       "    <tr>\n",
       "      <th>10</th>\n",
       "      <td>exang</td>\n",
       "      <td>oldpeak</td>\n",
       "      <td>0.63</td>\n",
       "    </tr>\n",
       "    <tr>\n",
       "      <th>12</th>\n",
       "      <td>exang</td>\n",
       "      <td>target</td>\n",
       "      <td>0.58</td>\n",
       "    </tr>\n",
       "    <tr>\n",
       "      <th>13</th>\n",
       "      <td>oldpeak</td>\n",
       "      <td>target</td>\n",
       "      <td>0.55</td>\n",
       "    </tr>\n",
       "    <tr>\n",
       "      <th>14</th>\n",
       "      <td>slope</td>\n",
       "      <td>target</td>\n",
       "      <td>0.54</td>\n",
       "    </tr>\n",
       "    <tr>\n",
       "      <th>15</th>\n",
       "      <td>thal</td>\n",
       "      <td>target</td>\n",
       "      <td>0.53</td>\n",
       "    </tr>\n",
       "    <tr>\n",
       "      <th>5</th>\n",
       "      <td>cp</td>\n",
       "      <td>target</td>\n",
       "      <td>0.51</td>\n",
       "    </tr>\n",
       "    <tr>\n",
       "      <th>2</th>\n",
       "      <td>cp</td>\n",
       "      <td>exang</td>\n",
       "      <td>0.49</td>\n",
       "    </tr>\n",
       "    <tr>\n",
       "      <th>0</th>\n",
       "      <td>age</td>\n",
       "      <td>thalach</td>\n",
       "      <td>0.46</td>\n",
       "    </tr>\n",
       "    <tr>\n",
       "      <th>8</th>\n",
       "      <td>thalach</td>\n",
       "      <td>thal</td>\n",
       "      <td>0.46</td>\n",
       "    </tr>\n",
       "    <tr>\n",
       "      <th>11</th>\n",
       "      <td>exang</td>\n",
       "      <td>slope</td>\n",
       "      <td>0.42</td>\n",
       "    </tr>\n",
       "    <tr>\n",
       "      <th>6</th>\n",
       "      <td>thalach</td>\n",
       "      <td>exang</td>\n",
       "      <td>0.40</td>\n",
       "    </tr>\n",
       "    <tr>\n",
       "      <th>4</th>\n",
       "      <td>cp</td>\n",
       "      <td>slope</td>\n",
       "      <td>0.39</td>\n",
       "    </tr>\n",
       "    <tr>\n",
       "      <th>1</th>\n",
       "      <td>cp</td>\n",
       "      <td>thalach</td>\n",
       "      <td>0.37</td>\n",
       "    </tr>\n",
       "    <tr>\n",
       "      <th>3</th>\n",
       "      <td>cp</td>\n",
       "      <td>oldpeak</td>\n",
       "      <td>0.35</td>\n",
       "    </tr>\n",
       "    <tr>\n",
       "      <th>9</th>\n",
       "      <td>thalach</td>\n",
       "      <td>target</td>\n",
       "      <td>0.33</td>\n",
       "    </tr>\n",
       "    <tr>\n",
       "      <th>7</th>\n",
       "      <td>thalach</td>\n",
       "      <td>oldpeak</td>\n",
       "      <td>0.30</td>\n",
       "    </tr>\n",
       "  </tbody>\n",
       "</table>\n",
       "</div>"
      ],
      "text/plain": [
       "   corr_feature drop_feature  corrrelation_values\n",
       "10        exang      oldpeak                 0.63\n",
       "12        exang       target                 0.58\n",
       "13      oldpeak       target                 0.55\n",
       "14        slope       target                 0.54\n",
       "15         thal       target                 0.53\n",
       "5            cp       target                 0.51\n",
       "2            cp        exang                 0.49\n",
       "0           age      thalach                 0.46\n",
       "8       thalach         thal                 0.46\n",
       "11        exang        slope                 0.42\n",
       "6       thalach        exang                 0.40\n",
       "4            cp        slope                 0.39\n",
       "1            cp      thalach                 0.37\n",
       "3            cp      oldpeak                 0.35\n",
       "9       thalach       target                 0.33\n",
       "7       thalach      oldpeak                 0.30"
      ]
     },
     "execution_count": 10,
     "metadata": {},
     "output_type": "execute_result"
    }
   ],
   "source": [
    "# can also use the definition to identify patterns to look for correlations between features\n",
    "identify_highly_correlated_features(heart_attack_df, correlation_threshold=0.3)\n",
    "\n",
    "# i missed the relationship between exange and oldpeak when looking at the plot"
   ]
  },
  {
   "cell_type": "code",
   "execution_count": 11,
   "id": "e0211fae",
   "metadata": {},
   "outputs": [
    {
     "data": {
      "text/plain": [
       "age          7.811812\n",
       "sex          0.447533\n",
       "cp           0.965117\n",
       "trestbps    17.626568\n",
       "chol        67.657711\n",
       "fbs          0.255476\n",
       "restecg      0.460868\n",
       "thalach     23.589749\n",
       "exang        0.460665\n",
       "oldpeak      0.908648\n",
       "slope        0.338995\n",
       "ca           0.000000\n",
       "thal         1.615074\n",
       "target       0.480977\n",
       "dtype: float64"
      ]
     },
     "execution_count": 11,
     "metadata": {},
     "output_type": "execute_result"
    }
   ],
   "source": [
    "# identifying features with low variance\n",
    "\n",
    "heart_attack_df.std()\n",
    "\n",
    "# ca has no low variance, which we know since everything is missing. Can not see any features with low variance."
   ]
  },
  {
   "cell_type": "code",
   "execution_count": 12,
   "id": "4db96b2d",
   "metadata": {},
   "outputs": [
    {
     "name": "stdout",
     "output_type": "stream",
     "text": [
      "number of low variance features: 1\n",
      "low variance features: ['ca']\n"
     ]
    },
    {
     "data": {
      "text/plain": [
       "['ca']"
      ]
     },
     "execution_count": 12,
     "metadata": {},
     "output_type": "execute_result"
    }
   ],
   "source": [
    "# identify features with low variance\n",
    "\n",
    "identify_low_variance_features(heart_attack_df, std_threshold=0.1)"
   ]
  },
  {
   "cell_type": "code",
   "execution_count": 13,
   "id": "0e899136",
   "metadata": {},
   "outputs": [
    {
     "data": {
      "text/plain": [
       "0    0.639456\n",
       "1    0.360544\n",
       "Name: target, dtype: float64"
      ]
     },
     "execution_count": 13,
     "metadata": {},
     "output_type": "execute_result"
    }
   ],
   "source": [
    "# check the distribution of the target\n",
    "\n",
    "heart_attack_df.target.value_counts(dropna = True, normalize = True)\n",
    "\n",
    "# The data is slightly imbalanced, with only 36% of patients with known heartattacks\n",
    "# Since the target is 1 and 0, we need to use classification algorithms to make predictions."
   ]
  },
  {
   "cell_type": "code",
   "execution_count": 14,
   "id": "937078cd",
   "metadata": {},
   "outputs": [
    {
     "data": {
      "text/plain": [
       "0    0.639456\n",
       "1    0.360544\n",
       "Name: target, dtype: float64"
      ]
     },
     "execution_count": 14,
     "metadata": {},
     "output_type": "execute_result"
    }
   ],
   "source": [
    "heart_attack_df.target.value_counts(normalize = True)"
   ]
  },
  {
   "cell_type": "code",
   "execution_count": 15,
   "id": "63178fe2",
   "metadata": {},
   "outputs": [
    {
     "data": {
      "image/png": "[encoded data removed]",
      "text/plain": [
       "<Figure size 432x288 with 1 Axes>"
      ]
     },
     "metadata": {
      "needs_background": "light"
     },
     "output_type": "display_data"
    }
   ],
   "source": [
    "# visualise the distribution of the target\n",
    "\n",
    "heart_attack_df.target.value_counts(dropna = True).plot(kind = 'bar')\n",
    "plt.title(\"Distribution of the target variable\");\n",
    "\n",
    "# question: does the distribution look equal to you? \n",
    "# example of an imbalanced dataset"
   ]
  },
  {
   "cell_type": "code",
   "execution_count": 16,
   "id": "4d40123c",
   "metadata": {},
   "outputs": [
    {
     "data": {
      "image/png": "[encoded data removed]",
      "text/plain": [
       "<Figure size 432x288 with 1 Axes>"
      ]
     },
     "metadata": {
      "needs_background": "light"
     },
     "output_type": "display_data"
    }
   ],
   "source": [
    "# I am interested in looking at patterns between age and the target.\n",
    "# My assumption is that older people have had more heart attacks, even though this has a low correlation.\n",
    "\n",
    "sns.boxplot(x=heart_attack_df.target, y=heart_attack_df.age);\n",
    "\n",
    "# The boxplots show that patients with heart attacks have a higher age range, than patients that have not.\n",
    "# Younger patients are considered outliers amongst patients with heart attacks. That's interesting!"
   ]
  },
  {
   "cell_type": "markdown",
   "id": "2182904f",
   "metadata": {},
   "source": [
    "## Cleaning the Data"
   ]
  },
  {
   "cell_type": "code",
   "execution_count": 17,
   "id": "ecd672ea",
   "metadata": {},
   "outputs": [
    {
     "data": {
      "text/html": [
       "<div>\n",
       "<style scoped>\n",
       "    .dataframe tbody tr th:only-of-type {\n",
       "        vertical-align: middle;\n",
       "    }\n",
       "\n",
       "    .dataframe tbody tr th {\n",
       "        vertical-align: top;\n",
       "    }\n",
       "\n",
       "    .dataframe thead th {\n",
       "        text-align: right;\n",
       "    }\n",
       "</style>\n",
       "<table border=\"1\" class=\"dataframe\">\n",
       "  <thead>\n",
       "    <tr style=\"text-align: right;\">\n",
       "      <th></th>\n",
       "      <th>age</th>\n",
       "      <th>sex</th>\n",
       "      <th>cp</th>\n",
       "      <th>trestbps</th>\n",
       "      <th>chol</th>\n",
       "      <th>fbs</th>\n",
       "      <th>restecg</th>\n",
       "      <th>thalach</th>\n",
       "      <th>exang</th>\n",
       "      <th>oldpeak</th>\n",
       "      <th>slope</th>\n",
       "      <th>ca</th>\n",
       "      <th>thal</th>\n",
       "      <th>target</th>\n",
       "    </tr>\n",
       "  </thead>\n",
       "  <tbody>\n",
       "    <tr>\n",
       "      <th>101</th>\n",
       "      <td>49</td>\n",
       "      <td>0</td>\n",
       "      <td>2</td>\n",
       "      <td>110.0</td>\n",
       "      <td>NaN</td>\n",
       "      <td>0.0</td>\n",
       "      <td>0.0</td>\n",
       "      <td>160.0</td>\n",
       "      <td>0.0</td>\n",
       "      <td>0.0</td>\n",
       "      <td>NaN</td>\n",
       "      <td>NaN</td>\n",
       "      <td>NaN</td>\n",
       "      <td>0</td>\n",
       "    </tr>\n",
       "    <tr>\n",
       "      <th>102</th>\n",
       "      <td>49</td>\n",
       "      <td>0</td>\n",
       "      <td>2</td>\n",
       "      <td>110.0</td>\n",
       "      <td>NaN</td>\n",
       "      <td>0.0</td>\n",
       "      <td>0.0</td>\n",
       "      <td>160.0</td>\n",
       "      <td>0.0</td>\n",
       "      <td>0.0</td>\n",
       "      <td>NaN</td>\n",
       "      <td>NaN</td>\n",
       "      <td>NaN</td>\n",
       "      <td>0</td>\n",
       "    </tr>\n",
       "  </tbody>\n",
       "</table>\n",
       "</div>"
      ],
      "text/plain": [
       "     age  sex  cp  trestbps  chol  fbs  restecg  thalach  exang  oldpeak  \\\n",
       "101   49    0   2     110.0   NaN  0.0      0.0    160.0    0.0      0.0   \n",
       "102   49    0   2     110.0   NaN  0.0      0.0    160.0    0.0      0.0   \n",
       "\n",
       "     slope  ca  thal  target  \n",
       "101    NaN NaN   NaN       0  \n",
       "102    NaN NaN   NaN       0  "
      ]
     },
     "execution_count": 17,
     "metadata": {},
     "output_type": "execute_result"
    }
   ],
   "source": [
    "# identify duplicates in data\n",
    "\n",
    "heart_attack_df[heart_attack_df.duplicated(keep=False)]\n"
   ]
  },
  {
   "cell_type": "code",
   "execution_count": 18,
   "id": "452dceb5",
   "metadata": {},
   "outputs": [
    {
     "name": "stdout",
     "output_type": "stream",
     "text": [
      "(294, 14)\n",
      "(293, 14)\n"
     ]
    }
   ],
   "source": [
    "print(heart_attack_df.shape)\n",
    "\n",
    "heart_attack_df_cleaned = heart_attack_df[~heart_attack_df.duplicated(keep='first')]\n",
    "\n",
    "print(heart_attack_df_cleaned.shape)"
   ]
  },
  {
   "cell_type": "markdown",
   "id": "64d3dade",
   "metadata": {},
   "source": [
    "## Feature Engineering"
   ]
  },
  {
   "cell_type": "code",
   "execution_count": 19,
   "id": "fec28d85",
   "metadata": {},
   "outputs": [
    {
     "name": "stdout",
     "output_type": "stream",
     "text": [
      "number of columns to drop: 3\n",
      "['ca', 'thal', 'slope']\n"
     ]
    }
   ],
   "source": [
    "# drop features which have more than 45% missing values\n",
    "\n",
    "threshold = 45\n",
    "\n",
    "missing_value_df = identify_missing_data(heart_attack_df_cleaned)\n",
    "missing_value_df\n",
    "\n",
    "cols_to_drop = list(missing_value_df[missing_value_df.percent_missing > threshold].feature)\n",
    "print(\"number of columns to drop:\", len(cols_to_drop))\n",
    "print(cols_to_drop)"
   ]
  },
  {
   "cell_type": "code",
   "execution_count": 20,
   "id": "5004b539",
   "metadata": {},
   "outputs": [
    {
     "name": "stderr",
     "output_type": "stream",
     "text": [
      "/Users/shaq/.pyenv/versions/3.8.10/lib/python3.8/site-packages/pandas/core/frame.py:4906: SettingWithCopyWarning: \n",
      "A value is trying to be set on a copy of a slice from a DataFrame\n",
      "\n",
      "See the caveats in the documentation: https://pandas.pydata.org/pandas-docs/stable/user_guide/indexing.html#returning-a-view-versus-a-copy\n",
      "  return super().drop(\n"
     ]
    }
   ],
   "source": [
    "# drop the features\n",
    "\n",
    "heart_attack_df_cleaned.drop(cols_to_drop, axis = 1, inplace = True)"
   ]
  },
  {
   "cell_type": "code",
   "execution_count": 21,
   "id": "1b891ab0",
   "metadata": {},
   "outputs": [
    {
     "data": {
      "text/html": [
       "<div>\n",
       "<style scoped>\n",
       "    .dataframe tbody tr th:only-of-type {\n",
       "        vertical-align: middle;\n",
       "    }\n",
       "\n",
       "    .dataframe tbody tr th {\n",
       "        vertical-align: top;\n",
       "    }\n",
       "\n",
       "    .dataframe thead th {\n",
       "        text-align: right;\n",
       "    }\n",
       "</style>\n",
       "<table border=\"1\" class=\"dataframe\">\n",
       "  <thead>\n",
       "    <tr style=\"text-align: right;\">\n",
       "      <th></th>\n",
       "      <th>feature</th>\n",
       "      <th>percent_missing</th>\n",
       "      <th>data_type</th>\n",
       "    </tr>\n",
       "  </thead>\n",
       "  <tbody>\n",
       "    <tr>\n",
       "      <th>0</th>\n",
       "      <td>chol</td>\n",
       "      <td>7.51</td>\n",
       "      <td>float64</td>\n",
       "    </tr>\n",
       "    <tr>\n",
       "      <th>1</th>\n",
       "      <td>fbs</td>\n",
       "      <td>2.73</td>\n",
       "      <td>float64</td>\n",
       "    </tr>\n",
       "    <tr>\n",
       "      <th>2</th>\n",
       "      <td>trestbps</td>\n",
       "      <td>0.34</td>\n",
       "      <td>float64</td>\n",
       "    </tr>\n",
       "    <tr>\n",
       "      <th>3</th>\n",
       "      <td>restecg</td>\n",
       "      <td>0.34</td>\n",
       "      <td>float64</td>\n",
       "    </tr>\n",
       "    <tr>\n",
       "      <th>4</th>\n",
       "      <td>thalach</td>\n",
       "      <td>0.34</td>\n",
       "      <td>float64</td>\n",
       "    </tr>\n",
       "    <tr>\n",
       "      <th>5</th>\n",
       "      <td>exang</td>\n",
       "      <td>0.34</td>\n",
       "      <td>float64</td>\n",
       "    </tr>\n",
       "    <tr>\n",
       "      <th>6</th>\n",
       "      <td>age</td>\n",
       "      <td>0.00</td>\n",
       "      <td>int64</td>\n",
       "    </tr>\n",
       "    <tr>\n",
       "      <th>7</th>\n",
       "      <td>sex</td>\n",
       "      <td>0.00</td>\n",
       "      <td>int64</td>\n",
       "    </tr>\n",
       "    <tr>\n",
       "      <th>8</th>\n",
       "      <td>cp</td>\n",
       "      <td>0.00</td>\n",
       "      <td>int64</td>\n",
       "    </tr>\n",
       "    <tr>\n",
       "      <th>9</th>\n",
       "      <td>oldpeak</td>\n",
       "      <td>0.00</td>\n",
       "      <td>float64</td>\n",
       "    </tr>\n",
       "    <tr>\n",
       "      <th>10</th>\n",
       "      <td>target</td>\n",
       "      <td>0.00</td>\n",
       "      <td>int64</td>\n",
       "    </tr>\n",
       "  </tbody>\n",
       "</table>\n",
       "</div>"
      ],
      "text/plain": [
       "     feature  percent_missing data_type\n",
       "0       chol             7.51   float64\n",
       "1        fbs             2.73   float64\n",
       "2   trestbps             0.34   float64\n",
       "3    restecg             0.34   float64\n",
       "4    thalach             0.34   float64\n",
       "5      exang             0.34   float64\n",
       "6        age             0.00     int64\n",
       "7        sex             0.00     int64\n",
       "8         cp             0.00     int64\n",
       "9    oldpeak             0.00   float64\n",
       "10    target             0.00     int64"
      ]
     },
     "execution_count": 21,
     "metadata": {},
     "output_type": "execute_result"
    }
   ],
   "source": [
    "# check the columns were dropped\n",
    "\n",
    "missing_value_df = identify_missing_data(heart_attack_df_cleaned)\n",
    "missing_value_df"
   ]
  },
  {
   "cell_type": "code",
   "execution_count": 22,
   "id": "8b2ba548",
   "metadata": {},
   "outputs": [
    {
     "name": "stderr",
     "output_type": "stream",
     "text": [
      "/Users/shaq/.pyenv/versions/3.8.10/lib/python3.8/site-packages/pandas/core/generic.py:6392: SettingWithCopyWarning: \n",
      "A value is trying to be set on a copy of a slice from a DataFrame\n",
      "\n",
      "See the caveats in the documentation: https://pandas.pydata.org/pandas-docs/stable/user_guide/indexing.html#returning-a-view-versus-a-copy\n",
      "  return self._update_inplace(result)\n"
     ]
    }
   ],
   "source": [
    "# fill the remaining features with missing values with 0\n",
    "\n",
    "heart_attack_df_cleaned.chol.fillna(0, inplace = True)\n",
    "heart_attack_df_cleaned.fbs.fillna(0, inplace = True)\n",
    "heart_attack_df_cleaned.trestbps.fillna(0, inplace = True)\n",
    "heart_attack_df_cleaned.restecg.fillna(0, inplace = True)\n",
    "heart_attack_df_cleaned.exang.fillna(0, inplace = True)\n",
    "heart_attack_df_cleaned.thalach.fillna(0, inplace = True)\n"
   ]
  },
  {
   "cell_type": "code",
   "execution_count": 23,
   "id": "f56ec2e3",
   "metadata": {},
   "outputs": [
    {
     "data": {
      "text/html": [
       "<div>\n",
       "<style scoped>\n",
       "    .dataframe tbody tr th:only-of-type {\n",
       "        vertical-align: middle;\n",
       "    }\n",
       "\n",
       "    .dataframe tbody tr th {\n",
       "        vertical-align: top;\n",
       "    }\n",
       "\n",
       "    .dataframe thead th {\n",
       "        text-align: right;\n",
       "    }\n",
       "</style>\n",
       "<table border=\"1\" class=\"dataframe\">\n",
       "  <thead>\n",
       "    <tr style=\"text-align: right;\">\n",
       "      <th></th>\n",
       "      <th>feature</th>\n",
       "      <th>percent_missing</th>\n",
       "      <th>data_type</th>\n",
       "    </tr>\n",
       "  </thead>\n",
       "  <tbody>\n",
       "    <tr>\n",
       "      <th>0</th>\n",
       "      <td>age</td>\n",
       "      <td>0.0</td>\n",
       "      <td>int64</td>\n",
       "    </tr>\n",
       "    <tr>\n",
       "      <th>1</th>\n",
       "      <td>sex</td>\n",
       "      <td>0.0</td>\n",
       "      <td>int64</td>\n",
       "    </tr>\n",
       "    <tr>\n",
       "      <th>2</th>\n",
       "      <td>cp</td>\n",
       "      <td>0.0</td>\n",
       "      <td>int64</td>\n",
       "    </tr>\n",
       "    <tr>\n",
       "      <th>3</th>\n",
       "      <td>trestbps</td>\n",
       "      <td>0.0</td>\n",
       "      <td>float64</td>\n",
       "    </tr>\n",
       "    <tr>\n",
       "      <th>4</th>\n",
       "      <td>chol</td>\n",
       "      <td>0.0</td>\n",
       "      <td>float64</td>\n",
       "    </tr>\n",
       "    <tr>\n",
       "      <th>5</th>\n",
       "      <td>fbs</td>\n",
       "      <td>0.0</td>\n",
       "      <td>float64</td>\n",
       "    </tr>\n",
       "    <tr>\n",
       "      <th>6</th>\n",
       "      <td>restecg</td>\n",
       "      <td>0.0</td>\n",
       "      <td>float64</td>\n",
       "    </tr>\n",
       "    <tr>\n",
       "      <th>7</th>\n",
       "      <td>thalach</td>\n",
       "      <td>0.0</td>\n",
       "      <td>float64</td>\n",
       "    </tr>\n",
       "    <tr>\n",
       "      <th>8</th>\n",
       "      <td>exang</td>\n",
       "      <td>0.0</td>\n",
       "      <td>float64</td>\n",
       "    </tr>\n",
       "    <tr>\n",
       "      <th>9</th>\n",
       "      <td>oldpeak</td>\n",
       "      <td>0.0</td>\n",
       "      <td>float64</td>\n",
       "    </tr>\n",
       "    <tr>\n",
       "      <th>10</th>\n",
       "      <td>target</td>\n",
       "      <td>0.0</td>\n",
       "      <td>int64</td>\n",
       "    </tr>\n",
       "  </tbody>\n",
       "</table>\n",
       "</div>"
      ],
      "text/plain": [
       "     feature  percent_missing data_type\n",
       "0        age              0.0     int64\n",
       "1        sex              0.0     int64\n",
       "2         cp              0.0     int64\n",
       "3   trestbps              0.0   float64\n",
       "4       chol              0.0   float64\n",
       "5        fbs              0.0   float64\n",
       "6    restecg              0.0   float64\n",
       "7    thalach              0.0   float64\n",
       "8      exang              0.0   float64\n",
       "9    oldpeak              0.0   float64\n",
       "10    target              0.0     int64"
      ]
     },
     "execution_count": 23,
     "metadata": {},
     "output_type": "execute_result"
    }
   ],
   "source": [
    "missing_value_df = identify_missing_data(heart_attack_df_cleaned)\n",
    "missing_value_df"
   ]
  },
  {
   "cell_type": "code",
   "execution_count": 24,
   "id": "cc749784",
   "metadata": {},
   "outputs": [],
   "source": [
    "# Since we have no categorical data we do not have to do any encoding"
   ]
  },
  {
   "cell_type": "code",
   "execution_count": 25,
   "id": "117048da",
   "metadata": {},
   "outputs": [],
   "source": [
    "# Since we have no highly correlated features, we do not need to drop any features"
   ]
  },
  {
   "cell_type": "code",
   "execution_count": 26,
   "id": "576e149d",
   "metadata": {},
   "outputs": [],
   "source": [
    "# Since we have no additional features with low variance (we already dropped ca), we do not need to drop any features"
   ]
  },
  {
   "cell_type": "markdown",
   "id": "d799fe24",
   "metadata": {},
   "source": [
    "### Split the data into train and test"
   ]
  },
  {
   "cell_type": "code",
   "execution_count": 27,
   "id": "c84cf26c",
   "metadata": {},
   "outputs": [],
   "source": [
    "# define the target and features\n",
    "\n",
    "target = heart_attack_df_cleaned[\"target\"]\n",
    "features = heart_attack_df_cleaned.drop([\"target\"], axis = 1)\n"
   ]
  },
  {
   "cell_type": "code",
   "execution_count": 28,
   "id": "3026e120",
   "metadata": {},
   "outputs": [
    {
     "data": {
      "text/plain": [
       "(293,)"
      ]
     },
     "execution_count": 28,
     "metadata": {},
     "output_type": "execute_result"
    }
   ],
   "source": [
    "target.shape"
   ]
  },
  {
   "cell_type": "code",
   "execution_count": 29,
   "id": "e4b5f240",
   "metadata": {},
   "outputs": [
    {
     "data": {
      "text/plain": [
       "(293, 10)"
      ]
     },
     "execution_count": 29,
     "metadata": {},
     "output_type": "execute_result"
    }
   ],
   "source": [
    "features.shape"
   ]
  },
  {
   "cell_type": "code",
   "execution_count": 30,
   "id": "95e080f8",
   "metadata": {},
   "outputs": [],
   "source": [
    "# split the data into train and test set\n",
    "# because the dataset is imbalanced we can use stratify\n",
    "\n",
    "X_train, X_test, y_train, y_test = train_test_split(\n",
    "                                                features, \n",
    "                                                target,\n",
    "                                                stratify = target,\n",
    "                                                test_size = 0.2, \n",
    "                                                random_state = 8888)\n",
    "\n"
   ]
  },
  {
   "cell_type": "code",
   "execution_count": 31,
   "id": "50a85f13",
   "metadata": {},
   "outputs": [
    {
     "name": "stdout",
     "output_type": "stream",
     "text": [
      "Training Data\n",
      "Shape of X_train (234, 10)\n",
      "Shape of y_train (234,)\n",
      "Distribution of target: Counter({0: 149, 1: 85})\n"
     ]
    }
   ],
   "source": [
    "# print the shape of the training data\n",
    "\n",
    "print(\"Training Data\")\n",
    "print(\"Shape of X_train\", X_train.shape)\n",
    "print(\"Shape of y_train\", y_train.shape)\n",
    "print(\"Distribution of target:\", Counter(y_train))"
   ]
  },
  {
   "cell_type": "code",
   "execution_count": 32,
   "id": "578991b8",
   "metadata": {},
   "outputs": [
    {
     "name": "stdout",
     "output_type": "stream",
     "text": [
      "Test Data\n",
      "Shape of X_test (59, 10)\n",
      "Shape of y_test (59,)\n",
      "Distribution of target: Counter({0: 38, 1: 21})\n"
     ]
    }
   ],
   "source": [
    "# print the shape of the test data \n",
    "\n",
    "print(\"Test Data\")\n",
    "print(\"Shape of X_test\", X_test.shape)\n",
    "print(\"Shape of y_test\", y_test.shape)\n",
    "print(\"Distribution of target:\", Counter(y_test))"
   ]
  },
  {
   "cell_type": "markdown",
   "id": "43de569f",
   "metadata": {},
   "source": [
    "### Build and Evaluate the Decision Tree Model "
   ]
  },
  {
   "cell_type": "code",
   "execution_count": 33,
   "id": "fe6d6fa8",
   "metadata": {},
   "outputs": [
    {
     "data": {
      "text/plain": [
       "DecisionTreeClassifier()"
      ]
     },
     "execution_count": 33,
     "metadata": {},
     "output_type": "execute_result"
    }
   ],
   "source": [
    "# Import and Fit the Decision Tree Model\n",
    "\n",
    "clf_tree = DecisionTreeClassifier()\n",
    "\n",
    "clf_tree.fit(X_train, y_train)"
   ]
  },
  {
   "cell_type": "code",
   "execution_count": 34,
   "id": "a8d94acc",
   "metadata": {},
   "outputs": [
    {
     "data": {
      "image/png": "[encoded data removed]",
      "text/plain": [
       "<Figure size 1800x1440 with 1 Axes>"
      ]
     },
     "metadata": {
      "needs_background": "light"
     },
     "output_type": "display_data"
    }
   ],
   "source": [
    "# visualising the decision tree\n",
    "\n",
    "from sklearn import tree\n",
    "\n",
    "fig = plt.figure(figsize=(25 , 20))\n",
    "_ = tree.plot_tree(clf_tree, \n",
    "                   feature_names = list(X_train.columns),  \n",
    "                   max_depth = 3,\n",
    "                   filled = True)"
   ]
  },
  {
   "cell_type": "code",
   "execution_count": 35,
   "id": "b280c2ee",
   "metadata": {},
   "outputs": [
    {
     "data": {
      "text/plain": [
       "array([1, 0, 1, 0, 0, 0, 1, 0, 0, 1, 1, 1, 0, 0, 0, 0, 0, 0, 0, 0, 0, 0,\n",
       "       0, 0, 0, 0, 1, 1, 0, 0, 1, 0, 0, 0, 0, 0, 0, 0, 0, 0, 1, 0, 0, 0,\n",
       "       0, 1, 0, 0, 1, 1, 1, 1, 0, 1, 0, 0, 1, 0, 1])"
      ]
     },
     "execution_count": 35,
     "metadata": {},
     "output_type": "execute_result"
    }
   ],
   "source": [
    "# Make predictions on unseen data\n",
    "\n",
    "y_pred_dt = clf_tree.predict(X_test) \n",
    "y_pred_dt"
   ]
  },
  {
   "cell_type": "code",
   "execution_count": 36,
   "id": "8afcb36e",
   "metadata": {},
   "outputs": [
    {
     "name": "stdout",
     "output_type": "stream",
     "text": [
      "first five predicted values: [1 0 1 0 0]\n",
      "first five actual values: [1, 0, 1, 1, 0]\n"
     ]
    }
   ],
   "source": [
    "print(\"first five predicted values:\", y_pred_dt[0:5])\n",
    "print(\"first five actual values:\", list(y_test[0:5]))\n"
   ]
  },
  {
   "cell_type": "code",
   "execution_count": 37,
   "id": "c3113d66",
   "metadata": {},
   "outputs": [
    {
     "data": {
      "text/plain": [
       "0.6779661016949152"
      ]
     },
     "execution_count": 37,
     "metadata": {},
     "output_type": "execute_result"
    }
   ],
   "source": [
    "# accuracy\n",
    "# Very simply, accuracy is the fraction of predictions our model got right. \n",
    "\n",
    "accuracy_score(y_test, y_pred_dt)\n"
   ]
  },
  {
   "cell_type": "code",
   "execution_count": 38,
   "id": "59514df6",
   "metadata": {},
   "outputs": [
    {
     "data": {
      "text/plain": [
       "0.47619047619047616"
      ]
     },
     "execution_count": 38,
     "metadata": {},
     "output_type": "execute_result"
    }
   ],
   "source": [
    "# recall\n",
    "# What proportion of actual positives (1) was identified correctly?\n",
    "# tp / tp + fn\n",
    "\n",
    "recall_score(y_test, y_pred_dt)\n"
   ]
  },
  {
   "cell_type": "code",
   "execution_count": 39,
   "id": "cb9bae53",
   "metadata": {},
   "outputs": [
    {
     "data": {
      "text/plain": [
       "0.5555555555555556"
      ]
     },
     "execution_count": 39,
     "metadata": {},
     "output_type": "execute_result"
    }
   ],
   "source": [
    "# precision\n",
    "# What proportion of positive identifications (1) was actually correct?\n",
    "# tp / tp + fp\n",
    "\n",
    "precision_score(y_test, y_pred_dt)"
   ]
  },
  {
   "cell_type": "code",
   "execution_count": 40,
   "id": "10348086",
   "metadata": {
    "scrolled": true
   },
   "outputs": [
    {
     "data": {
      "text/plain": [
       "0.5128205128205129"
      ]
     },
     "execution_count": 40,
     "metadata": {},
     "output_type": "execute_result"
    }
   ],
   "source": [
    "# f1 score\n",
    "# balance between precision and recall\n",
    "\n",
    "f1_score(y_test, y_pred_dt)"
   ]
  },
  {
   "cell_type": "code",
   "execution_count": 41,
   "id": "adbef543",
   "metadata": {},
   "outputs": [
    {
     "data": {
      "text/plain": [
       "array([[30,  8],\n",
       "       [11, 10]])"
      ]
     },
     "execution_count": 41,
     "metadata": {},
     "output_type": "execute_result"
    }
   ],
   "source": [
    "# A confusion matrix is a table that is often used to describe the performance of a classification model (or \"classifier\") on a set of test data for which the true values are known\n",
    "\n",
    "confusion_matrix(y_test, y_pred_dt)"
   ]
  },
  {
   "cell_type": "code",
   "execution_count": 42,
   "id": "60401251",
   "metadata": {},
   "outputs": [
    {
     "data": {
      "image/png": "[encoded data removed]",
      "text/plain": [
       "<Figure size 432x288 with 2 Axes>"
      ]
     },
     "metadata": {
      "needs_background": "light"
     },
     "output_type": "display_data"
    }
   ],
   "source": [
    "# can easily see where the model has incorrectly classified the data\n",
    "\n",
    "plot_confusion_matrix(clf_tree, \n",
    "                      X_test, \n",
    "                      y_test,\n",
    "                      cmap = plt.cm.Blues);"
   ]
  },
  {
   "cell_type": "code",
   "execution_count": 43,
   "id": "e8075075",
   "metadata": {
    "scrolled": true
   },
   "outputs": [
    {
     "name": "stdout",
     "output_type": "stream",
     "text": [
      "              precision    recall  f1-score   support\n",
      "\n",
      "           0       0.73      0.79      0.76        38\n",
      "           1       0.56      0.48      0.51        21\n",
      "\n",
      "    accuracy                           0.68        59\n",
      "   macro avg       0.64      0.63      0.64        59\n",
      "weighted avg       0.67      0.68      0.67        59\n",
      "\n"
     ]
    }
   ],
   "source": [
    "print(classification_report(y_test, y_pred_dt))\n",
    "\n",
    "# the model is better at predicting patients without heart attacks - f1-score of 0.78 vs f1-score of 0.59"
   ]
  },
  {
   "cell_type": "code",
   "execution_count": 44,
   "id": "321565cc",
   "metadata": {},
   "outputs": [
    {
     "data": {
      "image/png": "[encoded data removed]",
      "text/plain": [
       "<Figure size 576x360 with 1 Axes>"
      ]
     },
     "metadata": {
      "needs_background": "light"
     },
     "output_type": "display_data"
    }
   ],
   "source": [
    "# feature importance plot\n",
    "\n",
    "feature_importance_plot(clf_tree, X_train, n = 5)\n",
    "\n",
    "# what is the most important feature?"
   ]
  },
  {
   "cell_type": "code",
   "execution_count": 45,
   "id": "f535c32a",
   "metadata": {},
   "outputs": [
    {
     "data": {
      "image/png": "[encoded data removed]",
      "text/plain": [
       "<Figure size 432x288 with 1 Axes>"
      ]
     },
     "metadata": {
      "needs_background": "light"
     },
     "output_type": "display_data"
    }
   ],
   "source": [
    "from sklearn.metrics import plot_roc_curve\n",
    "\n",
    "# handy sklearn function to plot Receiver operating characteristic (ROC) curve, with the area under the curve.\n",
    "# The TPR (recall) defines how many correct positive results occur among all positive samples available during the test. \n",
    "# FPR, on the other hand, defines how many incorrect positive results occur among all negative samples \n",
    "# available during the test.\n",
    "\n",
    "plot_roc_curve(clf_tree,\n",
    "               X_test, \n",
    "               y_test);                      \n",
    "\n",
    "# AUC of 0.63; the higher the AUC, the better the performance of the model at distinguishing between the positive and negative classes."
   ]
  },
  {
   "cell_type": "code",
   "execution_count": 46,
   "id": "ec7dacb5",
   "metadata": {},
   "outputs": [
    {
     "data": {
      "image/png": "[encoded data removed]",
      "text/plain": [
       "<Figure size 432x288 with 1 Axes>"
      ]
     },
     "metadata": {
      "needs_background": "light"
     },
     "output_type": "display_data"
    }
   ],
   "source": [
    "from sklearn.metrics import plot_precision_recall_curve\n",
    "\n",
    "# Precision-Recall is a useful measure of success of prediction when the classes are very imbalanced. \n",
    "# In information retrieval, precision is a measure of result relevancy, while recall is a measure of how many truly relevant results are returned.\n",
    "# The precision-recall curve shows the tradeoff between precision and recall for different threshold. \n",
    "\n",
    "plot_precision_recall_curve(clf_tree,\n",
    "                            X_test,\n",
    "                            y_test);\n",
    "\n",
    "# Balance between precision and recall could be higher"
   ]
  },
  {
   "cell_type": "code",
   "execution_count": 47,
   "id": "8c80d24b",
   "metadata": {},
   "outputs": [
    {
     "name": "stdout",
     "output_type": "stream",
     "text": [
      "accuracy: 1.0\n",
      "recall: 1.0\n",
      "precision: 1.0\n",
      "f1-score: 1.0\n"
     ]
    }
   ],
   "source": [
    "# check for signs of overfitting\n",
    "\n",
    "y_pred_train_clf = clf_tree.predict(X_train)\n",
    "\n",
    "print(\"accuracy:\", round(accuracy_score(y_train, y_pred_train_clf), 2))\n",
    "print(\"recall:\", round(recall_score(y_train, y_pred_train_clf), 2))\n",
    "print(\"precision:\", round(precision_score(y_train, y_pred_train_clf), 2))\n",
    "print(\"f1-score:\", round(f1_score(y_train, y_pred_train_clf), 2))\n",
    "\n",
    "# high accuracy on training set, signs of variance between test and training set."
   ]
  },
  {
   "cell_type": "code",
   "execution_count": 48,
   "id": "eec291d3",
   "metadata": {},
   "outputs": [
    {
     "data": {
      "image/png": "[encoded data removed]",
      "text/plain": [
       "<Figure size 360x360 with 1 Axes>"
      ]
     },
     "metadata": {
      "needs_background": "light"
     },
     "output_type": "display_data"
    }
   ],
   "source": [
    "learning_curve_plot(clf_tree, X_train, y_train, scoring = 'accuracy')\n",
    "\n",
    "# gap between the learning curve also shows signs of overfitting"
   ]
  },
  {
   "cell_type": "markdown",
   "id": "7b1c8f40",
   "metadata": {},
   "source": [
    "### Build and Evaluate the Random Forest"
   ]
  },
  {
   "cell_type": "code",
   "execution_count": 49,
   "id": "00876b07",
   "metadata": {},
   "outputs": [
    {
     "data": {
      "text/plain": [
       "RandomForestClassifier(n_estimators=500)"
      ]
     },
     "execution_count": 49,
     "metadata": {},
     "output_type": "execute_result"
    }
   ],
   "source": [
    "rf = RandomForestClassifier(n_estimators = 500)\n",
    "rf.fit(X_train, y_train)"
   ]
  },
  {
   "cell_type": "code",
   "execution_count": 50,
   "id": "1a09d69d",
   "metadata": {},
   "outputs": [
    {
     "data": {
      "text/plain": [
       "array([1, 0, 1, 1, 0, 0, 1, 0, 0, 1, 0, 0, 0, 1, 0, 0, 0, 1, 0, 0, 0, 0,\n",
       "       0, 0, 1, 0, 1, 1, 0, 0, 0, 0, 0, 0, 0, 0, 0, 0, 0, 1, 0, 0, 0, 0,\n",
       "       0, 1, 0, 0, 1, 0, 1, 0, 1, 1, 1, 0, 0, 0, 0])"
      ]
     },
     "execution_count": 50,
     "metadata": {},
     "output_type": "execute_result"
    }
   ],
   "source": [
    "y_pred_rf = rf.predict(X_test)\n",
    "y_pred_rf"
   ]
  },
  {
   "cell_type": "code",
   "execution_count": 51,
   "id": "c1006ed6",
   "metadata": {},
   "outputs": [
    {
     "name": "stdout",
     "output_type": "stream",
     "text": [
      "first five predicted values: [1 0 1 1 0]\n",
      "first five actual values: [1, 0, 1, 1, 0]\n"
     ]
    }
   ],
   "source": [
    "print(\"first five predicted values:\", y_pred_rf[0:5])\n",
    "print(\"first five actual values:\", list(y_test[0:5]))\n"
   ]
  },
  {
   "cell_type": "code",
   "execution_count": 52,
   "id": "f9304df2",
   "metadata": {},
   "outputs": [
    {
     "name": "stdout",
     "output_type": "stream",
     "text": [
      "accuracy: 0.8\n",
      "recall: 0.62\n",
      "precision: 0.76\n",
      "f1-score: 0.68\n"
     ]
    }
   ],
   "source": [
    "print(\"accuracy:\", round(accuracy_score(y_test, y_pred_rf), 2))\n",
    "print(\"recall:\", round(recall_score(y_test, y_pred_rf), 2))\n",
    "print(\"precision:\", round(precision_score(y_test, y_pred_rf), 2))\n",
    "print(\"f1-score:\", round(f1_score(y_test, y_pred_rf), 2))\n",
    "\n",
    "\n",
    "# do we see an improvement in accuracy?"
   ]
  },
  {
   "cell_type": "code",
   "execution_count": 53,
   "id": "f2dde654",
   "metadata": {},
   "outputs": [
    {
     "data": {
      "image/png": "[encoded data removed]",
      "text/plain": [
       "<Figure size 432x288 with 2 Axes>"
      ]
     },
     "metadata": {
      "needs_background": "light"
     },
     "output_type": "display_data"
    }
   ],
   "source": [
    "# plot confusion matrix\n",
    "\n",
    "plot_confusion_matrix(rf, X_test, y_test, cmap = plt.cm.Blues);"
   ]
  },
  {
   "cell_type": "code",
   "execution_count": 54,
   "id": "4b26a3dc",
   "metadata": {},
   "outputs": [
    {
     "name": "stdout",
     "output_type": "stream",
     "text": [
      "              precision    recall  f1-score   support\n",
      "\n",
      "           0       0.81      0.89      0.85        38\n",
      "           1       0.76      0.62      0.68        21\n",
      "\n",
      "    accuracy                           0.80        59\n",
      "   macro avg       0.79      0.76      0.77        59\n",
      "weighted avg       0.79      0.80      0.79        59\n",
      "\n"
     ]
    }
   ],
   "source": [
    "# print classification report\n",
    "\n",
    "print(classification_report(y_test, y_pred_rf))"
   ]
  },
  {
   "cell_type": "code",
   "execution_count": 55,
   "id": "213c865c",
   "metadata": {},
   "outputs": [
    {
     "data": {
      "image/png": "[encoded data removed]",
      "text/plain": [
       "<Figure size 576x360 with 1 Axes>"
      ]
     },
     "metadata": {
      "needs_background": "light"
     },
     "output_type": "display_data"
    }
   ],
   "source": [
    "# feature importance plot\n",
    "\n",
    "feature_importance_plot(rf, X_train, n = 5) \n"
   ]
  },
  {
   "cell_type": "code",
   "execution_count": 56,
   "id": "943c3c6a",
   "metadata": {},
   "outputs": [
    {
     "name": "stdout",
     "output_type": "stream",
     "text": [
      "accuracy: 1.0\n",
      "recall: 1.0\n",
      "precision: 1.0\n",
      "f1-score: 1.0\n"
     ]
    }
   ],
   "source": [
    "# performance on training data\n",
    "\n",
    "y_pred_train_rf =rf.predict(X_train)\n",
    "\n",
    "print(\"accuracy:\", round(accuracy_score(y_train, y_pred_train_rf), 2))\n",
    "print(\"recall:\", round(recall_score(y_train, y_pred_train_rf), 2))\n",
    "print(\"precision:\", round(precision_score(y_train, y_pred_train_rf), 2))\n",
    "print(\"f1-score:\", round(f1_score(y_train, y_pred_train_rf), 2))\n",
    "\n"
   ]
  },
  {
   "cell_type": "code",
   "execution_count": 57,
   "id": "6618daec",
   "metadata": {},
   "outputs": [
    {
     "data": {
      "image/png": "[encoded data removed]",
      "text/plain": [
       "<Figure size 360x360 with 1 Axes>"
      ]
     },
     "metadata": {
      "needs_background": "light"
     },
     "output_type": "display_data"
    }
   ],
   "source": [
    "learning_curve_plot(rf, X_train, y_train, scoring = 'accuracy')\n",
    "\n",
    "# signs of overfitting, but slightly less than decision tree"
   ]
  },
  {
   "cell_type": "markdown",
   "id": "312eba77",
   "metadata": {},
   "source": [
    "### Build and Evaluate the XGBoost Model "
   ]
  },
  {
   "cell_type": "code",
   "execution_count": 58,
   "id": "4615c061",
   "metadata": {},
   "outputs": [
    {
     "name": "stdout",
     "output_type": "stream",
     "text": [
      "[08:28:01] WARNING: /Users/travis/build/dmlc/xgboost/src/learner.cc:1115: Starting in XGBoost 1.3.0, the default evaluation metric used with the objective 'binary:logistic' was changed from 'error' to 'logloss'. Explicitly set eval_metric if you'd like to restore the old behavior.\n"
     ]
    },
    {
     "name": "stderr",
     "output_type": "stream",
     "text": [
      "/Users/shaq/.pyenv/versions/3.8.10/lib/python3.8/site-packages/xgboost/sklearn.py:1224: UserWarning: The use of label encoder in XGBClassifier is deprecated and will be removed in a future release. To remove this warning, do the following: 1) Pass option use_label_encoder=False when constructing XGBClassifier object; and 2) Encode your labels (y) as integers starting with 0, i.e. 0, 1, 2, ..., [num_class - 1].\n",
      "  warnings.warn(label_encoder_deprecation_msg, UserWarning)\n"
     ]
    },
    {
     "data": {
      "text/plain": [
       "XGBClassifier(base_score=0.5, booster='gbtree', colsample_bylevel=1,\n",
       "              colsample_bynode=1, colsample_bytree=1, enable_categorical=False,\n",
       "              gamma=0, gpu_id=-1, importance_type=None,\n",
       "              interaction_constraints='', learning_rate=0.300000012,\n",
       "              max_delta_step=0, max_depth=6, min_child_weight=1, missing=nan,\n",
       "              monotone_constraints='()', n_estimators=100, n_jobs=12,\n",
       "              num_parallel_tree=1, predictor='auto', random_state=0,\n",
       "              reg_alpha=0, reg_lambda=1, scale_pos_weight=1, subsample=1,\n",
       "              tree_method='exact', validate_parameters=1, verbosity=None)"
      ]
     },
     "execution_count": 58,
     "metadata": {},
     "output_type": "execute_result"
    }
   ],
   "source": [
    "# fit the XGBoost model to training data\n",
    "\n",
    "xgb = XGBClassifier()\n",
    "xgb.fit(X_train, y_train)\n"
   ]
  },
  {
   "cell_type": "code",
   "execution_count": 59,
   "id": "14dc8814",
   "metadata": {},
   "outputs": [
    {
     "name": "stdout",
     "output_type": "stream",
     "text": [
      "first five predicted values: [1 0 1 1 0]\n",
      "first five actual values: [1, 0, 1, 1, 0]\n"
     ]
    }
   ],
   "source": [
    "# make predictions on the test set\n",
    "\n",
    "y_pred_xgb = xgb.predict(X_test)\n",
    "\n",
    "print(\"first five predicted values:\", y_pred_xgb[0:5])\n",
    "print(\"first five actual values:\", list(y_test[0:5]))\n"
   ]
  },
  {
   "cell_type": "code",
   "execution_count": 60,
   "id": "5d90cfd0",
   "metadata": {},
   "outputs": [
    {
     "name": "stdout",
     "output_type": "stream",
     "text": [
      "accuracy: 0.76\n",
      "recall: 0.62\n",
      "precision: 0.68\n",
      "f1-score: 0.65\n"
     ]
    }
   ],
   "source": [
    "# evaluation metrics comparing predictions and actual values\n",
    "\n",
    "print(\"accuracy:\", round(accuracy_score(y_test, y_pred_xgb), 2))\n",
    "print(\"recall:\", round(recall_score(y_test, y_pred_xgb), 2))\n",
    "print(\"precision:\", round(precision_score(y_test, y_pred_xgb), 2))\n",
    "print(\"f1-score:\", round(f1_score(y_test, y_pred_xgb), 2))\n",
    "\n",
    "# Random Forest has a higher recall than the XGBoost model"
   ]
  },
  {
   "cell_type": "code",
   "execution_count": 61,
   "id": "db1cd144",
   "metadata": {},
   "outputs": [
    {
     "data": {
      "image/png": "[encoded data removed]",
      "text/plain": [
       "<Figure size 432x288 with 2 Axes>"
      ]
     },
     "metadata": {
      "needs_background": "light"
     },
     "output_type": "display_data"
    }
   ],
   "source": [
    "# confusion matrix\n",
    "\n",
    "plot_confusion_matrix(xgb, X_test, y_test, cmap = plt.cm.Blues);\n"
   ]
  },
  {
   "cell_type": "code",
   "execution_count": 62,
   "id": "3178bdbf",
   "metadata": {},
   "outputs": [
    {
     "name": "stdout",
     "output_type": "stream",
     "text": [
      "              precision    recall  f1-score   support\n",
      "\n",
      "           0       0.81      0.89      0.85        38\n",
      "           1       0.76      0.62      0.68        21\n",
      "\n",
      "    accuracy                           0.80        59\n",
      "   macro avg       0.79      0.76      0.77        59\n",
      "weighted avg       0.79      0.80      0.79        59\n",
      "\n"
     ]
    }
   ],
   "source": [
    "# classification report\n",
    "\n",
    "print(classification_report(y_test, y_pred_rf))\n"
   ]
  },
  {
   "cell_type": "code",
   "execution_count": 63,
   "id": "a2738707",
   "metadata": {},
   "outputs": [
    {
     "data": {
      "image/png": "[encoded data removed]",
      "text/plain": [
       "<Figure size 576x360 with 1 Axes>"
      ]
     },
     "metadata": {
      "needs_background": "light"
     },
     "output_type": "display_data"
    }
   ],
   "source": [
    "# feature importance plot, exang appears to be the most important feature\n",
    "# with random forest model the features have higher scores\n",
    "\n",
    "feature_importance_plot(xgb, X_train, n = 5) \n"
   ]
  },
  {
   "cell_type": "code",
   "execution_count": 64,
   "id": "222088dc",
   "metadata": {},
   "outputs": [
    {
     "name": "stdout",
     "output_type": "stream",
     "text": [
      "accuracy: 1.0\n",
      "recall: 1.0\n",
      "precision: 1.0\n",
      "f1-score: 1.0\n"
     ]
    }
   ],
   "source": [
    "y_pred_train_xgb =xgb.predict(X_train)\n",
    "\n",
    "print(\"accuracy:\", round(accuracy_score(y_train, y_pred_train_xgb), 2))\n",
    "print(\"recall:\", round(recall_score(y_train, y_pred_train_xgb), 2))\n",
    "print(\"precision:\", round(precision_score(y_train, y_pred_train_xgb), 2))\n",
    "print(\"f1-score:\", round(f1_score(y_train, y_pred_train_xgb), 2))\n",
    "\n",
    "# signs of overfitting"
   ]
  },
  {
   "cell_type": "code",
   "execution_count": 65,
   "id": "573b31c2",
   "metadata": {},
   "outputs": [
    {
     "data": {
      "image/png": "[encoded data removed]",
      "text/plain": [
       "<Figure size 360x360 with 1 Axes>"
      ]
     },
     "metadata": {
      "needs_background": "light"
     },
     "output_type": "display_data"
    }
   ],
   "source": [
    "learning_curve_plot(xgb, X_train, y_train, scoring = 'accuracy')"
   ]
  },
  {
   "cell_type": "markdown",
   "id": "d11cf74e",
   "metadata": {},
   "source": [
    "Model Selection\n",
    "- Best model is Random Forest, has highest accuracy and recall.\n",
    "- All models showing signs of overfitting, but Random Forest has a slightly smaller gap than the XGBoost.\n",
    "- The Random Forest model is using more features than the XGBoost model."
   ]
  },
  {
   "cell_type": "markdown",
   "id": "35b0dc5d",
   "metadata": {},
   "source": [
    "### Bonus: Improvements to the model"
   ]
  },
  {
   "cell_type": "code",
   "execution_count": 66,
   "id": "4491ebb1",
   "metadata": {},
   "outputs": [],
   "source": [
    "# Question: How can we improve the performance of the model? What would we improve? \n",
    "# I would like to the model to predict more 1s for e.g.\n",
    "\n",
    "# 1. Oversampling the data\n",
    "\n",
    "# from imblearn.over_sampling import SMOTE\n",
    "\n",
    "# define oversampling strategy\n",
    "# SMOTE = SMOTE()\n",
    "\n",
    "# fit and apply the transform\n",
    "# X_train_SMOTE, y_train_SMOTE = SMOTE.fit_resample(X_train, y_train)\n",
    "# X_train_SMOTE = pd.DataFrame(X_train_SMOTE, columns = X_train.columns) # to keep dataframe structure\n",
    "\n",
    "# summarize class distribution\n",
    "# print(\"After oversampling: \", Counter(y_train_SMOTE))"
   ]
  },
  {
   "cell_type": "code",
   "execution_count": 67,
   "id": "11f5ebc9",
   "metadata": {},
   "outputs": [],
   "source": [
    "# 2. HYPERPARAMETER TUNING\n",
    "# RESOURCE: https://www.analyticsvidhya.com/blog/2015/06/tuning-random-forest-model/"
   ]
  },
  {
   "cell_type": "code",
   "execution_count": 68,
   "id": "2afa7b6b",
   "metadata": {},
   "outputs": [
    {
     "name": "stdout",
     "output_type": "stream",
     "text": [
      "Fitting 5 folds for each of 72 candidates, totalling 360 fits\n"
     ]
    },
    {
     "data": {
      "text/plain": [
       "GridSearchCV(cv=5, estimator=RandomForestClassifier(random_state=0), n_jobs=-1,\n",
       "             param_grid={'max_features': array([0.1 , 0.15, 0.2 , 0.25, 0.3 , 0.35, 0.4 , 0.45, 0.5 , 0.55, 0.6 ,\n",
       "       0.65, 0.7 , 0.75, 0.8 , 0.85, 0.9 , 0.95]),\n",
       "                         'n_estimators': array([100, 200, 300, 400])},\n",
       "             scoring='accuracy', verbose=1)"
      ]
     },
     "execution_count": 68,
     "metadata": {},
     "output_type": "execute_result"
    }
   ],
   "source": [
    "from sklearn.model_selection import GridSearchCV\n",
    "# use GridSearch to identify the best parameters\n",
    "# we are using are different values:\n",
    "# 1. n_estimators (number of trees) \n",
    "# 2. max_features (This is in the form of a percentage. For e.g. we use 20% of features)\n",
    "\n",
    "grid_search = GridSearchCV(RandomForestClassifier(random_state=0),\n",
    "                           {\n",
    "                              'n_estimators':np.arange(100,500,100),\n",
    "                              'max_features':np.arange(0.1,1.0,0.05),\n",
    "                            \n",
    "                            },cv=5, scoring=\"accuracy\",verbose=1,n_jobs=-1\n",
    "                           )\n",
    "grid_search.fit(X_train,y_train)"
   ]
  },
  {
   "cell_type": "code",
   "execution_count": 69,
   "id": "3a6eb6bd",
   "metadata": {},
   "outputs": [
    {
     "data": {
      "text/plain": [
       "{'max_features': 0.1, 'n_estimators': 200}"
      ]
     },
     "execution_count": 69,
     "metadata": {},
     "output_type": "execute_result"
    }
   ],
   "source": [
    "# the best parameters\n",
    "\n",
    "grid_search.best_params_"
   ]
  },
  {
   "cell_type": "code",
   "execution_count": 70,
   "id": "d061fa00",
   "metadata": {},
   "outputs": [],
   "source": [
    "# build a Random Forest Model with these parameters\n",
    "\n",
    "best_model = RandomForestClassifier(**grid_search.best_params_)\n",
    "best_model.fit(X_train, y_train)\n",
    "y_pred = best_model.predict(X_test)"
   ]
  },
  {
   "cell_type": "code",
   "execution_count": 71,
   "id": "d827f4af",
   "metadata": {},
   "outputs": [
    {
     "name": "stdout",
     "output_type": "stream",
     "text": [
      "accuracy: 0.76\n",
      "recall: 0.48\n",
      "precision: 0.77\n",
      "f1-score: 0.59\n"
     ]
    }
   ],
   "source": [
    "print(\"accuracy:\", round(accuracy_score(y_test, y_pred), 2))\n",
    "print(\"recall:\", round(recall_score(y_test, y_pred), 2))\n",
    "print(\"precision:\", round(precision_score(y_test, y_pred), 2))\n",
    "print(\"f1-score:\", round(f1_score(y_test, y_pred), 2))\n",
    "\n",
    "# improvements in accuracy and precision"
   ]
  },
  {
   "cell_type": "code",
   "execution_count": 72,
   "id": "113695e5",
   "metadata": {},
   "outputs": [
    {
     "name": "stdout",
     "output_type": "stream",
     "text": [
      "accuracy: 1.0\n",
      "recall: 1.0\n",
      "precision: 1.0\n",
      "f1-score: 1.0\n"
     ]
    }
   ],
   "source": [
    "# evaluation of training set\n",
    "\n",
    "y_pred_train = best_model.predict(X_train)\n",
    "\n",
    "print(\"accuracy:\", round(accuracy_score(y_train, y_pred_train), 2))\n",
    "print(\"recall:\", round(recall_score(y_train, y_pred_train), 2))\n",
    "print(\"precision:\", round(precision_score(y_train, y_pred_train), 2))\n",
    "print(\"f1-score:\", round(f1_score(y_train, y_pred_train), 2))\n"
   ]
  },
  {
   "cell_type": "code",
   "execution_count": 73,
   "id": "c3fa8363",
   "metadata": {},
   "outputs": [
    {
     "data": {
      "image/png": "[encoded data removed]",
      "text/plain": [
       "<Figure size 360x360 with 1 Axes>"
      ]
     },
     "metadata": {
      "needs_background": "light"
     },
     "output_type": "display_data"
    }
   ],
   "source": [
    "learning_curve_plot(rf, X_train, y_train, scoring = 'accuracy')\n",
    "\n",
    "# signs of overfitting, but could we reduced with more tuning and more data"
   ]
  },
  {
   "cell_type": "code",
   "execution_count": 74,
   "id": "494a6734",
   "metadata": {},
   "outputs": [
    {
     "name": "stdout",
     "output_type": "stream",
     "text": [
      "Fitting 5 folds for each of 10 candidates, totalling 50 fits\n"
     ]
    },
    {
     "data": {
      "text/plain": [
       "RandomizedSearchCV(cv=5, estimator=RandomForestClassifier(random_state=0),\n",
       "                   n_jobs=-1,\n",
       "                   param_distributions={'max_features': array([0.1 , 0.15, 0.2 , 0.25, 0.3 , 0.35, 0.4 , 0.45, 0.5 , 0.55, 0.6 ,\n",
       "       0.65, 0.7 , 0.75, 0.8 , 0.85, 0.9 , 0.95]),\n",
       "                                        'n_estimators': array([100, 200, 300, 400])},\n",
       "                   scoring='accuracy', verbose=1)"
      ]
     },
     "execution_count": 74,
     "metadata": {},
     "output_type": "execute_result"
    }
   ],
   "source": [
    "from sklearn.model_selection import RandomizedSearchCV\n",
    "# use RandomizedSearch to identify the best parameters\n",
    "# we are using are different values:\n",
    "# 1. n_estimators (number of trees) \n",
    "# 2. max_features (This is in the form of a percentage. For e.g. we use 20% of features)\n",
    "\n",
    "random_search = RandomizedSearchCV(RandomForestClassifier(random_state=0),\n",
    "                           {\n",
    "                              'n_estimators':np.arange(100,500,100),\n",
    "                              'max_features':np.arange(0.1,1.0,0.05),\n",
    "                            \n",
    "                            },cv=5, scoring=\"accuracy\",verbose=1,n_jobs=-1\n",
    "                           )\n",
    "random_search.fit(X_train,y_train)"
   ]
  },
  {
   "cell_type": "code",
   "execution_count": 75,
   "id": "e50b880e",
   "metadata": {},
   "outputs": [
    {
     "data": {
      "text/plain": [
       "{'n_estimators': 200, 'max_features': 0.15000000000000002}"
      ]
     },
     "execution_count": 75,
     "metadata": {},
     "output_type": "execute_result"
    }
   ],
   "source": [
    "random_search.best_params_\n",
    "\n",
    "# TO DO: Evaluate the model with these parameters"
   ]
  }
 ],
 "metadata": {
  "kernelspec": {
   "display_name": "Python 3",
   "language": "python",
   "name": "python3"
  },
  "language_info": {
   "codemirror_mode": {
    "name": "ipython",
    "version": 3
   },
   "file_extension": ".py",
   "mimetype": "text/x-python",
   "name": "python",
   "nbconvert_exporter": "python",
   "pygments_lexer": "ipython3",
   "version": "3.8.10"
  }
 },
 "nbformat": 4,
 "nbformat_minor": 5
}
