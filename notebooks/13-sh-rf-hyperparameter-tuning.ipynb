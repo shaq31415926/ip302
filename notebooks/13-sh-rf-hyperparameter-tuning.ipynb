{
 "cells": [
  {
   "cell_type": "code",
   "execution_count": 1,
   "id": "16fff098",
   "metadata": {},
   "outputs": [],
   "source": [
    "# import libraries\n",
    "import os\n",
    "import sys\n",
    "\n",
    "from sklearn.datasets import load_diabetes\n",
    "from sklearn.model_selection import GridSearchCV, RandomizedSearchCV, train_test_split\n",
    "from sklearn.ensemble import RandomForestRegressor\n",
    "from sklearn.metrics import r2_score, explained_variance_score, mean_absolute_error, mean_squared_error\n",
    "\n",
    "import numpy as np\n",
    "\n",
    "import seaborn as sns\n",
    "import matplotlib.pyplot as plt\n",
    "\n",
    "module_path = os.path.abspath(os.path.join('..'))\n",
    "if module_path not in sys.path:\n",
    "    sys.path.append(module_path)\n",
    "from src.feature_importance_plot import feature_importance_plot\n",
    "from src.learning_curve_plot import learning_curve_plot"
   ]
  },
  {
   "cell_type": "code",
   "execution_count": 2,
   "id": "4c0fea72",
   "metadata": {},
   "outputs": [],
   "source": [
    "# load the data\n",
    "\n",
    "features, target = load_diabetes(return_X_y=True, as_frame=True)"
   ]
  },
  {
   "cell_type": "code",
   "execution_count": 3,
   "id": "d8354a81",
   "metadata": {},
   "outputs": [
    {
     "data": {
      "text/html": [
       "<div>\n",
       "<style scoped>\n",
       "    .dataframe tbody tr th:only-of-type {\n",
       "        vertical-align: middle;\n",
       "    }\n",
       "\n",
       "    .dataframe tbody tr th {\n",
       "        vertical-align: top;\n",
       "    }\n",
       "\n",
       "    .dataframe thead th {\n",
       "        text-align: right;\n",
       "    }\n",
       "</style>\n",
       "<table border=\"1\" class=\"dataframe\">\n",
       "  <thead>\n",
       "    <tr style=\"text-align: right;\">\n",
       "      <th></th>\n",
       "      <th>age</th>\n",
       "      <th>sex</th>\n",
       "      <th>bmi</th>\n",
       "      <th>bp</th>\n",
       "      <th>s1</th>\n",
       "      <th>s2</th>\n",
       "      <th>s3</th>\n",
       "      <th>s4</th>\n",
       "      <th>s5</th>\n",
       "      <th>s6</th>\n",
       "    </tr>\n",
       "  </thead>\n",
       "  <tbody>\n",
       "    <tr>\n",
       "      <th>0</th>\n",
       "      <td>0.038076</td>\n",
       "      <td>0.050680</td>\n",
       "      <td>0.061696</td>\n",
       "      <td>0.021872</td>\n",
       "      <td>-0.044223</td>\n",
       "      <td>-0.034821</td>\n",
       "      <td>-0.043401</td>\n",
       "      <td>-0.002592</td>\n",
       "      <td>0.019908</td>\n",
       "      <td>-0.017646</td>\n",
       "    </tr>\n",
       "    <tr>\n",
       "      <th>1</th>\n",
       "      <td>-0.001882</td>\n",
       "      <td>-0.044642</td>\n",
       "      <td>-0.051474</td>\n",
       "      <td>-0.026328</td>\n",
       "      <td>-0.008449</td>\n",
       "      <td>-0.019163</td>\n",
       "      <td>0.074412</td>\n",
       "      <td>-0.039493</td>\n",
       "      <td>-0.068330</td>\n",
       "      <td>-0.092204</td>\n",
       "    </tr>\n",
       "    <tr>\n",
       "      <th>2</th>\n",
       "      <td>0.085299</td>\n",
       "      <td>0.050680</td>\n",
       "      <td>0.044451</td>\n",
       "      <td>-0.005671</td>\n",
       "      <td>-0.045599</td>\n",
       "      <td>-0.034194</td>\n",
       "      <td>-0.032356</td>\n",
       "      <td>-0.002592</td>\n",
       "      <td>0.002864</td>\n",
       "      <td>-0.025930</td>\n",
       "    </tr>\n",
       "    <tr>\n",
       "      <th>3</th>\n",
       "      <td>-0.089063</td>\n",
       "      <td>-0.044642</td>\n",
       "      <td>-0.011595</td>\n",
       "      <td>-0.036656</td>\n",
       "      <td>0.012191</td>\n",
       "      <td>0.024991</td>\n",
       "      <td>-0.036038</td>\n",
       "      <td>0.034309</td>\n",
       "      <td>0.022692</td>\n",
       "      <td>-0.009362</td>\n",
       "    </tr>\n",
       "    <tr>\n",
       "      <th>4</th>\n",
       "      <td>0.005383</td>\n",
       "      <td>-0.044642</td>\n",
       "      <td>-0.036385</td>\n",
       "      <td>0.021872</td>\n",
       "      <td>0.003935</td>\n",
       "      <td>0.015596</td>\n",
       "      <td>0.008142</td>\n",
       "      <td>-0.002592</td>\n",
       "      <td>-0.031991</td>\n",
       "      <td>-0.046641</td>\n",
       "    </tr>\n",
       "  </tbody>\n",
       "</table>\n",
       "</div>"
      ],
      "text/plain": [
       "        age       sex       bmi        bp        s1        s2        s3  \\\n",
       "0  0.038076  0.050680  0.061696  0.021872 -0.044223 -0.034821 -0.043401   \n",
       "1 -0.001882 -0.044642 -0.051474 -0.026328 -0.008449 -0.019163  0.074412   \n",
       "2  0.085299  0.050680  0.044451 -0.005671 -0.045599 -0.034194 -0.032356   \n",
       "3 -0.089063 -0.044642 -0.011595 -0.036656  0.012191  0.024991 -0.036038   \n",
       "4  0.005383 -0.044642 -0.036385  0.021872  0.003935  0.015596  0.008142   \n",
       "\n",
       "         s4        s5        s6  \n",
       "0 -0.002592  0.019908 -0.017646  \n",
       "1 -0.039493 -0.068330 -0.092204  \n",
       "2 -0.002592  0.002864 -0.025930  \n",
       "3  0.034309  0.022692 -0.009362  \n",
       "4 -0.002592 -0.031991 -0.046641  "
      ]
     },
     "execution_count": 3,
     "metadata": {},
     "output_type": "execute_result"
    }
   ],
   "source": [
    "# explore the features data\n",
    "# more information on the features can be found here: https://scikit-learn.org/stable/datasets/toy_dataset.html#diabetes-dataset\n",
    "# note: the data has already been mean centred and scaled\n",
    "\n",
    "features.head()"
   ]
  },
  {
   "cell_type": "code",
   "execution_count": 4,
   "id": "9d0c1644",
   "metadata": {},
   "outputs": [
    {
     "data": {
      "text/plain": [
       "(442, 10)"
      ]
     },
     "execution_count": 4,
     "metadata": {},
     "output_type": "execute_result"
    }
   ],
   "source": [
    "# shape of the data\n",
    "features.shape\n",
    "\n",
    "# question: how many rows and columns do we have?"
   ]
  },
  {
   "cell_type": "code",
   "execution_count": 5,
   "id": "78891a15",
   "metadata": {},
   "outputs": [
    {
     "data": {
      "text/plain": [
       "age    0\n",
       "sex    0\n",
       "bmi    0\n",
       "bp     0\n",
       "s1     0\n",
       "s2     0\n",
       "s3     0\n",
       "s4     0\n",
       "s5     0\n",
       "s6     0\n",
       "dtype: int64"
      ]
     },
     "execution_count": 5,
     "metadata": {},
     "output_type": "execute_result"
    }
   ],
   "source": [
    "# question: do we have any missing data?\n",
    "\n",
    "features.isnull().sum()"
   ]
  },
  {
   "cell_type": "code",
   "execution_count": 6,
   "id": "84bf072b",
   "metadata": {},
   "outputs": [
    {
     "name": "stdout",
     "output_type": "stream",
     "text": [
      "<class 'pandas.core.frame.DataFrame'>\n",
      "RangeIndex: 442 entries, 0 to 441\n",
      "Data columns (total 10 columns):\n",
      " #   Column  Non-Null Count  Dtype  \n",
      "---  ------  --------------  -----  \n",
      " 0   age     442 non-null    float64\n",
      " 1   sex     442 non-null    float64\n",
      " 2   bmi     442 non-null    float64\n",
      " 3   bp      442 non-null    float64\n",
      " 4   s1      442 non-null    float64\n",
      " 5   s2      442 non-null    float64\n",
      " 6   s3      442 non-null    float64\n",
      " 7   s4      442 non-null    float64\n",
      " 8   s5      442 non-null    float64\n",
      " 9   s6      442 non-null    float64\n",
      "dtypes: float64(10)\n",
      "memory usage: 34.7 KB\n"
     ]
    }
   ],
   "source": [
    "# check the info \n",
    "features.info()\n",
    "\n",
    "# question: do we need to encode any variables\n"
   ]
  },
  {
   "cell_type": "code",
   "execution_count": 7,
   "id": "89acf423",
   "metadata": {},
   "outputs": [
    {
     "data": {
      "image/png": "[encoded data removed]",
      "text/plain": [
       "<Figure size 432x288 with 1 Axes>"
      ]
     },
     "metadata": {
      "needs_background": "light"
     },
     "output_type": "display_data"
    }
   ],
   "source": [
    "# explore the target\n",
    "# quantitative measure of disease progression one year after baseline\n",
    "\n",
    "sns.histplot(target)\n",
    "plt.title(\"Distribution of the target\");\n",
    "\n",
    "# question: what is the skew of this data="
   ]
  },
  {
   "cell_type": "code",
   "execution_count": 8,
   "id": "d803a784",
   "metadata": {},
   "outputs": [
    {
     "data": {
      "text/plain": [
       "count    442.000000\n",
       "mean     152.133484\n",
       "std       77.093005\n",
       "min       25.000000\n",
       "25%       87.000000\n",
       "50%      140.500000\n",
       "75%      211.500000\n",
       "max      346.000000\n",
       "Name: target, dtype: float64"
      ]
     },
     "execution_count": 8,
     "metadata": {},
     "output_type": "execute_result"
    }
   ],
   "source": [
    "target.describe()"
   ]
  },
  {
   "cell_type": "code",
   "execution_count": 9,
   "id": "86774bb1",
   "metadata": {},
   "outputs": [
    {
     "data": {
      "text/plain": [
       "(442,)"
      ]
     },
     "execution_count": 9,
     "metadata": {},
     "output_type": "execute_result"
    }
   ],
   "source": [
    "# check the shape of the target\n",
    "\n",
    "target.shape\n",
    "\n",
    "# question: how many rows and columns?\n"
   ]
  },
  {
   "cell_type": "code",
   "execution_count": 10,
   "id": "e54058e9",
   "metadata": {},
   "outputs": [
    {
     "data": {
      "text/plain": [
       "pandas.core.series.Series"
      ]
     },
     "execution_count": 10,
     "metadata": {},
     "output_type": "execute_result"
    }
   ],
   "source": [
    "type(target)"
   ]
  },
  {
   "cell_type": "code",
   "execution_count": 11,
   "id": "090d41ac",
   "metadata": {},
   "outputs": [
    {
     "data": {
      "text/plain": [
       "pandas.core.frame.DataFrame"
      ]
     },
     "execution_count": 11,
     "metadata": {},
     "output_type": "execute_result"
    }
   ],
   "source": [
    "type(features)"
   ]
  },
  {
   "cell_type": "code",
   "execution_count": 12,
   "id": "693ded6a",
   "metadata": {},
   "outputs": [],
   "source": [
    "# split the data into a train and test set\n",
    "\n",
    "X_train, X_test, y_train, y_test = train_test_split(features,\n",
    "                                                    target, \n",
    "                                                    test_size=0.33, random_state=8888)"
   ]
  },
  {
   "cell_type": "code",
   "execution_count": 13,
   "id": "bdc5b87f",
   "metadata": {},
   "outputs": [
    {
     "name": "stdout",
     "output_type": "stream",
     "text": [
      "Training data\n",
      "(296, 10)\n",
      "(296,)\n"
     ]
    }
   ],
   "source": [
    "# check the shape of the data\n",
    "\n",
    "print(\"Training data\")\n",
    "print(X_train.shape)\n",
    "print(y_train.shape)\n"
   ]
  },
  {
   "cell_type": "code",
   "execution_count": 14,
   "id": "d34463da",
   "metadata": {},
   "outputs": [
    {
     "name": "stdout",
     "output_type": "stream",
     "text": [
      "Test data\n",
      "(146, 10)\n",
      "(146,)\n"
     ]
    }
   ],
   "source": [
    "print(\"Test data\")\n",
    "print(X_test.shape)\n",
    "print(y_test.shape)\n"
   ]
  },
  {
   "cell_type": "code",
   "execution_count": 22,
   "id": "7f617be0",
   "metadata": {},
   "outputs": [
    {
     "data": {
      "text/plain": [
       "RandomForestRegressor(n_estimators=500)"
      ]
     },
     "execution_count": 22,
     "metadata": {},
     "output_type": "execute_result"
    }
   ],
   "source": [
    "# Build a Random Forest Model\n",
    "\n",
    "rf = RandomForestRegressor(n_estimators = 500)\n",
    "rf.fit(X_train, y_train)\n"
   ]
  },
  {
   "cell_type": "code",
   "execution_count": 23,
   "id": "2d9ebbb6",
   "metadata": {},
   "outputs": [
    {
     "name": "stdout",
     "output_type": "stream",
     "text": [
      "first five predicted values: [190.82  116.448 165.592 177.894 115.208]\n",
      "first five actual values: [212.0, 214.0, 221.0, 156.0, 128.0]\n"
     ]
    }
   ],
   "source": [
    "y_pred_rf = rf.predict(X_test)\n",
    "\n",
    "print(\"first five predicted values:\", y_pred_rf[0:5])\n",
    "print(\"first five actual values:\", list(y_test[0:5]))"
   ]
  },
  {
   "cell_type": "code",
   "execution_count": 24,
   "id": "753f58c1",
   "metadata": {},
   "outputs": [
    {
     "name": "stdout",
     "output_type": "stream",
     "text": [
      "R2: 0.5\n",
      "Explained Variance: 0.51\n",
      "Mean Absolute Error: 46\n",
      "Mean Squared Error: 3002\n"
     ]
    }
   ],
   "source": [
    "r2 = r2_score(y_test, y_pred_rf)\n",
    "print(\"R2:\", round(r2, 2))\n",
    "explained_var = explained_variance_score(y_test, y_pred_rf)\n",
    "print(\"Explained Variance:\", round(explained_var, 2))\n",
    "mae = mean_absolute_error(y_test, y_pred_rf)\n",
    "print(\"Mean Absolute Error:\", round(mae))\n",
    "mse = mean_squared_error(y_test, y_pred_rf)\n",
    "print(\"Mean Squared Error:\", round(mse))"
   ]
  },
  {
   "cell_type": "code",
   "execution_count": 18,
   "id": "a65e029a",
   "metadata": {},
   "outputs": [
    {
     "name": "stdout",
     "output_type": "stream",
     "text": [
      "R2: 0.92\n",
      "Explained Variance: 0.92\n",
      "Mean Absolute Error: 18\n",
      "Mean Squared Error: 486\n"
     ]
    }
   ],
   "source": [
    "# the evaluation metrics for the model on the training set\n",
    "# this is useful for identifying overfitting\n",
    "\n",
    "y_pred_train_rf = rf.predict(X_train)\n",
    "\n",
    "r2 = r2_score(y_train, y_pred_train_rf)\n",
    "print(\"R2:\", round(r2, 2))\n",
    "explained_var = explained_variance_score(y_train, y_pred_train_rf)\n",
    "print(\"Explained Variance:\", round(explained_var, 2))\n",
    "mae = mean_absolute_error(y_train, y_pred_train_rf)\n",
    "print(\"Mean Absolute Error:\", round(mae))\n",
    "mse = mean_squared_error(y_train, y_pred_train_rf)\n",
    "print(\"Mean Squared Error:\", round(mse))\n",
    "\n",
    "# seeing low error rates on the training set - signs of overfitting"
   ]
  },
  {
   "cell_type": "code",
   "execution_count": 19,
   "id": "f47f6d87",
   "metadata": {},
   "outputs": [
    {
     "data": {
      "image/png": "[encoded data removed]",
      "text/plain": [
       "<Figure size 360x360 with 1 Axes>"
      ]
     },
     "metadata": {
      "needs_background": "light"
     },
     "output_type": "display_data"
    }
   ],
   "source": [
    "# learning curves\n",
    "\n",
    "learning_curve_plot(rf, X_train, y_train, scoring = 'r2')\n",
    "\n",
    "# what can we conclude about the random forest model based on the learning curves?  signs of overfitting and high variance\n",
    "# unusual shape of the learning curve"
   ]
  },
  {
   "cell_type": "code",
   "execution_count": 70,
   "id": "7e41e2cb",
   "metadata": {},
   "outputs": [
    {
     "data": {
      "image/png": "[encoded data removed]",
      "text/plain": [
       "<Figure size 576x360 with 1 Axes>"
      ]
     },
     "metadata": {
      "needs_background": "light"
     },
     "output_type": "display_data"
    }
   ],
   "source": [
    "feature_importance_plot(rf, X_train, n=15)\n",
    "\n",
    "# question: what is the most important feature?"
   ]
  },
  {
   "cell_type": "markdown",
   "id": "8324f9dd",
   "metadata": {},
   "source": [
    "#### Hyperparameter Tuning"
   ]
  },
  {
   "cell_type": "code",
   "execution_count": 21,
   "id": "f29d38be",
   "metadata": {},
   "outputs": [
    {
     "data": {
      "text/plain": [
       "RandomForestRegressor(n_estimators=500)"
      ]
     },
     "execution_count": 21,
     "metadata": {},
     "output_type": "execute_result"
    }
   ],
   "source": [
    "RandomForestRegressor(n_estimators = 500)"
   ]
  },
  {
   "cell_type": "code",
   "execution_count": null,
   "id": "a794001f",
   "metadata": {},
   "outputs": [],
   "source": []
  },
  {
   "cell_type": "code",
   "execution_count": 85,
   "id": "387c6d5d",
   "metadata": {},
   "outputs": [],
   "source": [
    "# Let’s say we want to span the n_estimators hyperparameter from 100 to 500 with a step of 100 and the max_features hyperparameter from 0.1 to 1.0 with a step of 0.05. We are looking for the combination of these ranges that maximizes the average value of R2 in 5-fold cross-validation\n",
    "\n",
    "params = {'n_estimators':np.arange(100,500,100),\n",
    "          'max_features':np.arange(0.1,1.0,0.05)}"
   ]
  },
  {
   "cell_type": "code",
   "execution_count": 91,
   "id": "e23a4dbb",
   "metadata": {},
   "outputs": [
    {
     "name": "stdout",
     "output_type": "stream",
     "text": [
      "Fitting 5 folds for each of 72 candidates, totalling 360 fits\n"
     ]
    },
    {
     "data": {
      "text/plain": [
       "GridSearchCV(cv=5, estimator=RandomForestRegressor(random_state=0), n_jobs=-1,\n",
       "             param_grid={'max_features': array([0.1 , 0.15, 0.2 , 0.25, 0.3 , 0.35, 0.4 , 0.45, 0.5 , 0.55, 0.6 ,\n",
       "       0.65, 0.7 , 0.75, 0.8 , 0.85, 0.9 , 0.95]),\n",
       "                         'n_estimators': array([100, 200, 300, 400])},\n",
       "             scoring='r2', verbose=1)"
      ]
     },
     "execution_count": 91,
     "metadata": {},
     "output_type": "execute_result"
    }
   ],
   "source": [
    "# Grid search is a tuning technique that attempts to compute the optimum values of hyperparameters. \n",
    "# It is an exhaustive search that is performed on a the specific parameter values of a model. \n",
    "# The model is also known as an estimator. Grid search exercise can save us time, effort and resources.\n",
    "\n",
    "grid_search = GridSearchCV(RandomForestRegressor(random_state=0),\n",
    "                           params,\n",
    "                           cv=5, \n",
    "                           scoring=\"r2\",\n",
    "                           verbose=1,\n",
    "                           n_jobs=-1\n",
    "                           )\n",
    "grid_search.fit(X_train,y_train)"
   ]
  },
  {
   "cell_type": "code",
   "execution_count": 80,
   "id": "9012c6f2",
   "metadata": {},
   "outputs": [
    {
     "data": {
      "text/plain": [
       "{'max_features': 0.5000000000000001, 'n_estimators': 300}"
      ]
     },
     "execution_count": 80,
     "metadata": {},
     "output_type": "execute_result"
    }
   ],
   "source": [
    "grid_search.best_params_"
   ]
  },
  {
   "cell_type": "code",
   "execution_count": 81,
   "id": "d7b3d800",
   "metadata": {},
   "outputs": [
    {
     "data": {
      "text/plain": [
       "0.41440505501896074"
      ]
     },
     "execution_count": 81,
     "metadata": {},
     "output_type": "execute_result"
    }
   ],
   "source": [
    "grid_search.best_score_"
   ]
  },
  {
   "cell_type": "code",
   "execution_count": 82,
   "id": "52f729a7",
   "metadata": {},
   "outputs": [
    {
     "data": {
      "text/plain": [
       "RandomForestRegressor(max_features=0.5000000000000001, n_estimators=300)"
      ]
     },
     "execution_count": 82,
     "metadata": {},
     "output_type": "execute_result"
    }
   ],
   "source": [
    "# pass in the best parameters\n",
    "\n",
    "rf = RandomForestRegressor(**grid_search.best_params_)\n",
    "rf.fit(X_train, y_train)\n"
   ]
  },
  {
   "cell_type": "code",
   "execution_count": 83,
   "id": "f7503b35",
   "metadata": {},
   "outputs": [
    {
     "name": "stdout",
     "output_type": "stream",
     "text": [
      "first five predicted values: [147.53       173.00333333 143.94333333 255.28666667 117.50666667]\n",
      "first five actual values: [219.0, 70.0, 202.0, 230.0, 111.0]\n"
     ]
    }
   ],
   "source": [
    "y_pred_rf = rf.predict(X_test)\n",
    "\n",
    "print(\"first five predicted values:\", y_pred_rf[0:5])\n",
    "print(\"first five actual values:\", list(y_test[0:5]))"
   ]
  },
  {
   "cell_type": "code",
   "execution_count": 84,
   "id": "a2a66ac4",
   "metadata": {},
   "outputs": [
    {
     "name": "stdout",
     "output_type": "stream",
     "text": [
      "R2: 0.49\n",
      "Explained Variance: 0.49\n",
      "Mean Absolute Error: 43\n",
      "Mean Squared Error: 2923\n"
     ]
    }
   ],
   "source": [
    "r2 = r2_score(y_test, y_pred_rf)\n",
    "print(\"R2:\", round(r2, 2))\n",
    "explained_var = explained_variance_score(y_test, y_pred_rf)\n",
    "print(\"Explained Variance:\", round(explained_var, 2))\n",
    "mae = mean_absolute_error(y_test, y_pred_rf)\n",
    "print(\"Mean Absolute Error:\", round(mae))\n",
    "mse = mean_squared_error(y_test, y_pred_rf)\n",
    "print(\"Mean Squared Error:\", round(mse))\n",
    "\n",
    "# do we see any improvements??"
   ]
  },
  {
   "cell_type": "code",
   "execution_count": 92,
   "id": "3817d368",
   "metadata": {},
   "outputs": [
    {
     "name": "stdout",
     "output_type": "stream",
     "text": [
      "Fitting 5 folds for each of 10 candidates, totalling 50 fits\n"
     ]
    },
    {
     "data": {
      "text/plain": [
       "RandomizedSearchCV(cv=5, estimator=RandomForestRegressor(random_state=0),\n",
       "                   n_jobs=-1,\n",
       "                   param_distributions={'max_features': array([0.1 , 0.15, 0.2 , 0.25, 0.3 , 0.35, 0.4 , 0.45, 0.5 , 0.55, 0.6 ,\n",
       "       0.65, 0.7 , 0.75, 0.8 , 0.85, 0.9 , 0.95]),\n",
       "                                        'n_estimators': array([100, 200, 300, 400])},\n",
       "                   random_state=0, scoring='r2', verbose=1)"
      ]
     },
     "execution_count": 92,
     "metadata": {},
     "output_type": "execute_result"
    }
   ],
   "source": [
    "# if Grid search is taking too long, can use Random search,\n",
    "# Random search is a technique where random combinations of the hyperparameters are used to find the best solution for the built model. \n",
    "# The selection of parameters is completely random.\n",
    "\n",
    "random_search = RandomizedSearchCV(RandomForestRegressor(random_state=0),\n",
    "                                   params,\n",
    "                                   cv=5,\n",
    "                                   scoring=\"r2\",\n",
    "                                   verbose=1,\n",
    "                                   n_jobs=-1, \n",
    "                                   random_state = 0\n",
    "                                  )\n",
    "random_search.fit(X_train,y_train)"
   ]
  },
  {
   "cell_type": "code",
   "execution_count": 93,
   "id": "50544061",
   "metadata": {},
   "outputs": [
    {
     "data": {
      "text/plain": [
       "{'n_estimators': 300, 'max_features': 0.5000000000000001}"
      ]
     },
     "execution_count": 93,
     "metadata": {},
     "output_type": "execute_result"
    }
   ],
   "source": [
    "random_search.best_params_\n",
    "\n",
    "# same as the Grid search"
   ]
  },
  {
   "cell_type": "code",
   "execution_count": 94,
   "id": "e78dc94b",
   "metadata": {},
   "outputs": [
    {
     "data": {
      "text/plain": [
       "0.41440505501896074"
      ]
     },
     "execution_count": 94,
     "metadata": {},
     "output_type": "execute_result"
    }
   ],
   "source": [
    "random_search.best_score_"
   ]
  }
 ],
 "metadata": {
  "kernelspec": {
   "display_name": "Python 3",
   "language": "python",
   "name": "python3"
  },
  "language_info": {
   "codemirror_mode": {
    "name": "ipython",
    "version": 3
   },
   "file_extension": ".py",
   "mimetype": "text/x-python",
   "name": "python",
   "nbconvert_exporter": "python",
   "pygments_lexer": "ipython3",
   "version": "3.8.10"
  }
 },
 "nbformat": 4,
 "nbformat_minor": 5
}
