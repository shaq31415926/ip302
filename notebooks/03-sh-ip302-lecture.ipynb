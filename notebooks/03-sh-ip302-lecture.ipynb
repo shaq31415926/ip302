{
 "cells": [
  {
   "cell_type": "code",
   "execution_count": 1,
   "id": "a0e6529e",
   "metadata": {},
   "outputs": [],
   "source": [
    "import pandas as pd\n",
    "import numpy as np\n",
    "\n",
    "import seaborn as sns\n",
    "import matplotlib.pyplot as plt"
   ]
  },
  {
   "cell_type": "markdown",
   "id": "c842b251",
   "metadata": {},
   "source": [
    "## Examining the Data"
   ]
  },
  {
   "cell_type": "code",
   "execution_count": 2,
   "id": "9e0a2600",
   "metadata": {},
   "outputs": [],
   "source": [
    "# read the data\n",
    "users_data = pd.read_pickle(\"../data/users_data_final.pkl\")\n"
   ]
  },
  {
   "cell_type": "code",
   "execution_count": 3,
   "id": "adb361e1",
   "metadata": {},
   "outputs": [
    {
     "data": {
      "text/html": [
       "<div>\n",
       "<style scoped>\n",
       "    .dataframe tbody tr th:only-of-type {\n",
       "        vertical-align: middle;\n",
       "    }\n",
       "\n",
       "    .dataframe tbody tr th {\n",
       "        vertical-align: top;\n",
       "    }\n",
       "\n",
       "    .dataframe thead th {\n",
       "        text-align: right;\n",
       "    }\n",
       "</style>\n",
       "<table border=\"1\" class=\"dataframe\">\n",
       "  <thead>\n",
       "    <tr style=\"text-align: right;\">\n",
       "      <th></th>\n",
       "      <th>user_id</th>\n",
       "      <th>number_transactions</th>\n",
       "      <th>total_amount_usd</th>\n",
       "      <th>age</th>\n",
       "      <th>job</th>\n",
       "      <th>marital</th>\n",
       "      <th>education</th>\n",
       "      <th>default</th>\n",
       "      <th>housing</th>\n",
       "      <th>loan</th>\n",
       "      <th>contact</th>\n",
       "      <th>duration</th>\n",
       "      <th>campaign</th>\n",
       "      <th>pdays</th>\n",
       "      <th>previous</th>\n",
       "      <th>poutcome</th>\n",
       "      <th>term_deposit</th>\n",
       "      <th>date_joined</th>\n",
       "      <th>device</th>\n",
       "    </tr>\n",
       "  </thead>\n",
       "  <tbody>\n",
       "    <tr>\n",
       "      <th>0</th>\n",
       "      <td>9231c446-cb16-4b2b-a7f7-ddfc8b25aaf6</td>\n",
       "      <td>3.0</td>\n",
       "      <td>2143.0</td>\n",
       "      <td>58</td>\n",
       "      <td>management</td>\n",
       "      <td>married</td>\n",
       "      <td>tertiary</td>\n",
       "      <td>False</td>\n",
       "      <td>True</td>\n",
       "      <td>False</td>\n",
       "      <td>None</td>\n",
       "      <td>261</td>\n",
       "      <td>1</td>\n",
       "      <td>-1</td>\n",
       "      <td>0</td>\n",
       "      <td>None</td>\n",
       "      <td>False</td>\n",
       "      <td>1998-08-23</td>\n",
       "      <td>mobile</td>\n",
       "    </tr>\n",
       "    <tr>\n",
       "      <th>1</th>\n",
       "      <td>bb92765a-08de-4963-b432-496524b39157</td>\n",
       "      <td>NaN</td>\n",
       "      <td>NaN</td>\n",
       "      <td>44</td>\n",
       "      <td>technician</td>\n",
       "      <td>single</td>\n",
       "      <td>secondary</td>\n",
       "      <td>False</td>\n",
       "      <td>True</td>\n",
       "      <td>False</td>\n",
       "      <td>None</td>\n",
       "      <td>151</td>\n",
       "      <td>1</td>\n",
       "      <td>-1</td>\n",
       "      <td>0</td>\n",
       "      <td>None</td>\n",
       "      <td>False</td>\n",
       "      <td>2008-07-15</td>\n",
       "      <td>desktop</td>\n",
       "    </tr>\n",
       "    <tr>\n",
       "      <th>2</th>\n",
       "      <td>573de577-49ef-42b9-83da-d3cfb817b5c1</td>\n",
       "      <td>2.0</td>\n",
       "      <td>2.0</td>\n",
       "      <td>33</td>\n",
       "      <td>entrepreneur</td>\n",
       "      <td>married</td>\n",
       "      <td>secondary</td>\n",
       "      <td>False</td>\n",
       "      <td>True</td>\n",
       "      <td>True</td>\n",
       "      <td>None</td>\n",
       "      <td>76</td>\n",
       "      <td>1</td>\n",
       "      <td>-1</td>\n",
       "      <td>0</td>\n",
       "      <td>None</td>\n",
       "      <td>False</td>\n",
       "      <td>2002-06-04</td>\n",
       "      <td>mobile</td>\n",
       "    </tr>\n",
       "    <tr>\n",
       "      <th>3</th>\n",
       "      <td>d6b66b9d-7c8f-4257-a682-e136f640b7e3</td>\n",
       "      <td>NaN</td>\n",
       "      <td>NaN</td>\n",
       "      <td>47</td>\n",
       "      <td>blue-collar</td>\n",
       "      <td>married</td>\n",
       "      <td>None</td>\n",
       "      <td>False</td>\n",
       "      <td>True</td>\n",
       "      <td>False</td>\n",
       "      <td>None</td>\n",
       "      <td>92</td>\n",
       "      <td>1</td>\n",
       "      <td>-1</td>\n",
       "      <td>0</td>\n",
       "      <td>None</td>\n",
       "      <td>False</td>\n",
       "      <td>1995-06-29</td>\n",
       "      <td>tablet</td>\n",
       "    </tr>\n",
       "    <tr>\n",
       "      <th>4</th>\n",
       "      <td>fade0b20-7594-4d9a-84cd-c02f79b1b526</td>\n",
       "      <td>1.0</td>\n",
       "      <td>1.0</td>\n",
       "      <td>33</td>\n",
       "      <td>None</td>\n",
       "      <td>single</td>\n",
       "      <td>None</td>\n",
       "      <td>False</td>\n",
       "      <td>False</td>\n",
       "      <td>False</td>\n",
       "      <td>None</td>\n",
       "      <td>198</td>\n",
       "      <td>1</td>\n",
       "      <td>-1</td>\n",
       "      <td>0</td>\n",
       "      <td>None</td>\n",
       "      <td>False</td>\n",
       "      <td>1995-08-01</td>\n",
       "      <td>mobile</td>\n",
       "    </tr>\n",
       "  </tbody>\n",
       "</table>\n",
       "</div>"
      ],
      "text/plain": [
       "                                user_id  number_transactions  \\\n",
       "0  9231c446-cb16-4b2b-a7f7-ddfc8b25aaf6                  3.0   \n",
       "1  bb92765a-08de-4963-b432-496524b39157                  NaN   \n",
       "2  573de577-49ef-42b9-83da-d3cfb817b5c1                  2.0   \n",
       "3  d6b66b9d-7c8f-4257-a682-e136f640b7e3                  NaN   \n",
       "4  fade0b20-7594-4d9a-84cd-c02f79b1b526                  1.0   \n",
       "\n",
       "   total_amount_usd  age           job  marital  education  default  housing  \\\n",
       "0            2143.0   58    management  married   tertiary    False     True   \n",
       "1               NaN   44    technician   single  secondary    False     True   \n",
       "2               2.0   33  entrepreneur  married  secondary    False     True   \n",
       "3               NaN   47   blue-collar  married       None    False     True   \n",
       "4               1.0   33          None   single       None    False    False   \n",
       "\n",
       "    loan contact  duration  campaign  pdays  previous poutcome  term_deposit  \\\n",
       "0  False    None       261         1     -1         0     None         False   \n",
       "1  False    None       151         1     -1         0     None         False   \n",
       "2   True    None        76         1     -1         0     None         False   \n",
       "3  False    None        92         1     -1         0     None         False   \n",
       "4  False    None       198         1     -1         0     None         False   \n",
       "\n",
       "  date_joined   device  \n",
       "0  1998-08-23   mobile  \n",
       "1  2008-07-15  desktop  \n",
       "2  2002-06-04   mobile  \n",
       "3  1995-06-29   tablet  \n",
       "4  1995-08-01   mobile  "
      ]
     },
     "execution_count": 3,
     "metadata": {},
     "output_type": "execute_result"
    }
   ],
   "source": [
    "# preview the data\n",
    "\n",
    "users_data.head()"
   ]
  },
  {
   "cell_type": "code",
   "execution_count": 4,
   "id": "424dc42a",
   "metadata": {},
   "outputs": [
    {
     "data": {
      "text/plain": [
       "(45209, 19)"
      ]
     },
     "execution_count": 4,
     "metadata": {},
     "output_type": "execute_result"
    }
   ],
   "source": [
    "# check the shape of the data\n",
    "\n",
    "users_data.shape"
   ]
  },
  {
   "cell_type": "code",
   "execution_count": 5,
   "id": "bcd323d5",
   "metadata": {},
   "outputs": [
    {
     "name": "stdout",
     "output_type": "stream",
     "text": [
      "# of rows: 45209\n",
      "# of columns: 19\n"
     ]
    }
   ],
   "source": [
    "print(\"# of rows:\", users_data.shape[0])\n",
    "print(\"# of columns:\", users_data.shape[1])"
   ]
  },
  {
   "cell_type": "code",
   "execution_count": 6,
   "id": "49ca179a",
   "metadata": {},
   "outputs": [
    {
     "data": {
      "text/plain": [
       "45209"
      ]
     },
     "execution_count": 6,
     "metadata": {},
     "output_type": "execute_result"
    }
   ],
   "source": [
    "# count how many unique users we have\n",
    "\n",
    "len(np.unique(users_data.user_id))"
   ]
  },
  {
   "cell_type": "code",
   "execution_count": 7,
   "id": "f7f06981",
   "metadata": {},
   "outputs": [
    {
     "name": "stdout",
     "output_type": "stream",
     "text": [
      "<class 'pandas.core.frame.DataFrame'>\n",
      "Int64Index: 45209 entries, 0 to 45215\n",
      "Data columns (total 19 columns):\n",
      " #   Column               Non-Null Count  Dtype         \n",
      "---  ------               --------------  -----         \n",
      " 0   user_id              45209 non-null  object        \n",
      " 1   number_transactions  35210 non-null  float64       \n",
      " 2   total_amount_usd     35210 non-null  float64       \n",
      " 3   age                  45209 non-null  int64         \n",
      " 4   job                  44921 non-null  object        \n",
      " 5   marital              45209 non-null  object        \n",
      " 6   education            43352 non-null  object        \n",
      " 7   default              45209 non-null  bool          \n",
      " 8   housing              45209 non-null  bool          \n",
      " 9   loan                 45209 non-null  bool          \n",
      " 10  contact              32191 non-null  object        \n",
      " 11  duration             45209 non-null  int64         \n",
      " 12  campaign             45209 non-null  int64         \n",
      " 13  pdays                45209 non-null  int64         \n",
      " 14  previous             45209 non-null  int64         \n",
      " 15  poutcome             8252 non-null   object        \n",
      " 16  term_deposit         45209 non-null  bool          \n",
      " 17  date_joined          45179 non-null  datetime64[ns]\n",
      " 18  device               45115 non-null  object        \n",
      "dtypes: bool(4), datetime64[ns](1), float64(2), int64(5), object(7)\n",
      "memory usage: 5.7+ MB\n"
     ]
    }
   ],
   "source": [
    "# check the structure of the data\n",
    "\n",
    "users_data.info()"
   ]
  },
  {
   "cell_type": "code",
   "execution_count": 8,
   "id": "8e50ba31",
   "metadata": {},
   "outputs": [
    {
     "data": {
      "text/html": [
       "<div>\n",
       "<style scoped>\n",
       "    .dataframe tbody tr th:only-of-type {\n",
       "        vertical-align: middle;\n",
       "    }\n",
       "\n",
       "    .dataframe tbody tr th {\n",
       "        vertical-align: top;\n",
       "    }\n",
       "\n",
       "    .dataframe thead th {\n",
       "        text-align: right;\n",
       "    }\n",
       "</style>\n",
       "<table border=\"1\" class=\"dataframe\">\n",
       "  <thead>\n",
       "    <tr style=\"text-align: right;\">\n",
       "      <th></th>\n",
       "      <th>number_transactions</th>\n",
       "      <th>total_amount_usd</th>\n",
       "      <th>age</th>\n",
       "      <th>duration</th>\n",
       "      <th>campaign</th>\n",
       "      <th>pdays</th>\n",
       "      <th>previous</th>\n",
       "    </tr>\n",
       "  </thead>\n",
       "  <tbody>\n",
       "    <tr>\n",
       "      <th>count</th>\n",
       "      <td>35210.000000</td>\n",
       "      <td>35210.000000</td>\n",
       "      <td>45209.000000</td>\n",
       "      <td>45209.000000</td>\n",
       "      <td>45209.000000</td>\n",
       "      <td>45209.000000</td>\n",
       "      <td>45209.000000</td>\n",
       "    </tr>\n",
       "    <tr>\n",
       "      <th>mean</th>\n",
       "      <td>3.977052</td>\n",
       "      <td>1369.417751</td>\n",
       "      <td>40.935853</td>\n",
       "      <td>258.153067</td>\n",
       "      <td>2.763897</td>\n",
       "      <td>40.199651</td>\n",
       "      <td>0.580349</td>\n",
       "    </tr>\n",
       "    <tr>\n",
       "      <th>std</th>\n",
       "      <td>3.814329</td>\n",
       "      <td>3063.412688</td>\n",
       "      <td>10.618653</td>\n",
       "      <td>257.525446</td>\n",
       "      <td>3.098076</td>\n",
       "      <td>100.130586</td>\n",
       "      <td>2.303489</td>\n",
       "    </tr>\n",
       "    <tr>\n",
       "      <th>min</th>\n",
       "      <td>1.000000</td>\n",
       "      <td>-8019.000000</td>\n",
       "      <td>18.000000</td>\n",
       "      <td>0.000000</td>\n",
       "      <td>1.000000</td>\n",
       "      <td>-1.000000</td>\n",
       "      <td>0.000000</td>\n",
       "    </tr>\n",
       "    <tr>\n",
       "      <th>25%</th>\n",
       "      <td>2.000000</td>\n",
       "      <td>73.000000</td>\n",
       "      <td>33.000000</td>\n",
       "      <td>103.000000</td>\n",
       "      <td>1.000000</td>\n",
       "      <td>-1.000000</td>\n",
       "      <td>0.000000</td>\n",
       "    </tr>\n",
       "    <tr>\n",
       "      <th>50%</th>\n",
       "      <td>3.000000</td>\n",
       "      <td>451.000000</td>\n",
       "      <td>39.000000</td>\n",
       "      <td>180.000000</td>\n",
       "      <td>2.000000</td>\n",
       "      <td>-1.000000</td>\n",
       "      <td>0.000000</td>\n",
       "    </tr>\n",
       "    <tr>\n",
       "      <th>75%</th>\n",
       "      <td>4.000000</td>\n",
       "      <td>1438.000000</td>\n",
       "      <td>48.000000</td>\n",
       "      <td>319.000000</td>\n",
       "      <td>3.000000</td>\n",
       "      <td>-1.000000</td>\n",
       "      <td>0.000000</td>\n",
       "    </tr>\n",
       "    <tr>\n",
       "      <th>max</th>\n",
       "      <td>20.000000</td>\n",
       "      <td>102127.000000</td>\n",
       "      <td>95.000000</td>\n",
       "      <td>4918.000000</td>\n",
       "      <td>63.000000</td>\n",
       "      <td>871.000000</td>\n",
       "      <td>275.000000</td>\n",
       "    </tr>\n",
       "  </tbody>\n",
       "</table>\n",
       "</div>"
      ],
      "text/plain": [
       "       number_transactions  total_amount_usd           age      duration  \\\n",
       "count         35210.000000      35210.000000  45209.000000  45209.000000   \n",
       "mean              3.977052       1369.417751     40.935853    258.153067   \n",
       "std               3.814329       3063.412688     10.618653    257.525446   \n",
       "min               1.000000      -8019.000000     18.000000      0.000000   \n",
       "25%               2.000000         73.000000     33.000000    103.000000   \n",
       "50%               3.000000        451.000000     39.000000    180.000000   \n",
       "75%               4.000000       1438.000000     48.000000    319.000000   \n",
       "max              20.000000     102127.000000     95.000000   4918.000000   \n",
       "\n",
       "           campaign         pdays      previous  \n",
       "count  45209.000000  45209.000000  45209.000000  \n",
       "mean       2.763897     40.199651      0.580349  \n",
       "std        3.098076    100.130586      2.303489  \n",
       "min        1.000000     -1.000000      0.000000  \n",
       "25%        1.000000     -1.000000      0.000000  \n",
       "50%        2.000000     -1.000000      0.000000  \n",
       "75%        3.000000     -1.000000      0.000000  \n",
       "max       63.000000    871.000000    275.000000  "
      ]
     },
     "execution_count": 8,
     "metadata": {},
     "output_type": "execute_result"
    }
   ],
   "source": [
    "# generate summary stats for the data\n",
    "\n",
    "users_data.describe()"
   ]
  },
  {
   "cell_type": "code",
   "execution_count": 9,
   "id": "ccc02978",
   "metadata": {},
   "outputs": [
    {
     "data": {
      "text/plain": [
       "count    45209.000000\n",
       "mean        40.935853\n",
       "std         10.618653\n",
       "min         18.000000\n",
       "25%         33.000000\n",
       "50%         39.000000\n",
       "75%         48.000000\n",
       "max         95.000000\n",
       "Name: age, dtype: float64"
      ]
     },
     "execution_count": 9,
     "metadata": {},
     "output_type": "execute_result"
    }
   ],
   "source": [
    "# check the summary stats for one numerical var\n",
    "# you can replace age with any numerical column\n",
    "\n",
    "users_data.age.describe()"
   ]
  },
  {
   "cell_type": "markdown",
   "id": "ceb666eb",
   "metadata": {},
   "source": [
    "### Visualising the Data"
   ]
  },
  {
   "cell_type": "code",
   "execution_count": 10,
   "id": "5b79e69f",
   "metadata": {},
   "outputs": [
    {
     "data": {
      "image/png": "[encoded data removed]",
      "text/plain": [
       "<Figure size 432x288 with 1 Axes>"
      ]
     },
     "metadata": {
      "needs_background": "light"
     },
     "output_type": "display_data"
    }
   ],
   "source": [
    "# plot a boxplot for a numerical column\n",
    "\n",
    "sns.boxplot(x=users_data.age, color = 'red');"
   ]
  },
  {
   "cell_type": "code",
   "execution_count": 11,
   "id": "45fa203c",
   "metadata": {},
   "outputs": [
    {
     "data": {
      "image/png": "[encoded data removed]",
      "text/plain": [
       "<Figure size 432x288 with 1 Axes>"
      ]
     },
     "metadata": {
      "needs_background": "light"
     },
     "output_type": "display_data"
    }
   ],
   "source": [
    "# plot a histogram for the numerical data\n",
    "\n",
    "sns.histplot(users_data.age, color = 'blue', alpha = 0.7);\n",
    "plt.title(\"Distribution of Age\");"
   ]
  },
  {
   "cell_type": "code",
   "execution_count": 12,
   "id": "6b341f35",
   "metadata": {},
   "outputs": [
    {
     "data": {
      "text/plain": [
       "count    45209.000000\n",
       "mean        40.935853\n",
       "std         10.618653\n",
       "min         18.000000\n",
       "25%         33.000000\n",
       "50%         39.000000\n",
       "75%         48.000000\n",
       "max         95.000000\n",
       "Name: age, dtype: float64"
      ]
     },
     "execution_count": 12,
     "metadata": {},
     "output_type": "execute_result"
    }
   ],
   "source": [
    "# check the skew of the data, and confirm with the describe function\n",
    "\n",
    "users_data.age.describe()\n",
    "\n"
   ]
  },
  {
   "cell_type": "code",
   "execution_count": 13,
   "id": "75118bac",
   "metadata": {},
   "outputs": [
    {
     "data": {
      "text/plain": [
       "0    32\n",
       "dtype: int64"
      ]
     },
     "execution_count": 13,
     "metadata": {},
     "output_type": "execute_result"
    }
   ],
   "source": [
    "users_data.age.mode()\n",
    "\n",
    "# the mode is not the same as mean and median, so can not assume normal distribution. Variable is positively skewed."
   ]
  },
  {
   "cell_type": "markdown",
   "id": "08a28190",
   "metadata": {},
   "source": [
    "### Feature Selection"
   ]
  },
  {
   "cell_type": "code",
   "execution_count": 14,
   "id": "60c97db6",
   "metadata": {},
   "outputs": [],
   "source": [
    "# drop the date time column, as requires further processing\n",
    "\n",
    "users_data.drop(['date_joined'], axis = 1, inplace = True)"
   ]
  },
  {
   "cell_type": "code",
   "execution_count": 15,
   "id": "e6919844",
   "metadata": {},
   "outputs": [
    {
     "data": {
      "text/plain": [
       "['user_id',\n",
       " 'number_transactions',\n",
       " 'total_amount_usd',\n",
       " 'age',\n",
       " 'job',\n",
       " 'marital',\n",
       " 'education',\n",
       " 'default',\n",
       " 'housing',\n",
       " 'loan',\n",
       " 'contact',\n",
       " 'duration',\n",
       " 'campaign',\n",
       " 'pdays',\n",
       " 'previous',\n",
       " 'poutcome',\n",
       " 'term_deposit',\n",
       " 'device']"
      ]
     },
     "execution_count": 15,
     "metadata": {},
     "output_type": "execute_result"
    }
   ],
   "source": [
    "# check if dropped\n",
    "\n",
    "list(users_data)"
   ]
  },
  {
   "cell_type": "code",
   "execution_count": 16,
   "id": "374de1bc",
   "metadata": {},
   "outputs": [
    {
     "data": {
      "text/plain": [
       "['user_id', 'job', 'marital', 'education', 'contact', 'poutcome', 'device']"
      ]
     },
     "execution_count": 16,
     "metadata": {},
     "output_type": "execute_result"
    }
   ],
   "source": [
    "# drop all categorical cols\n",
    "# identify categorical columns\n",
    "\n",
    "categorical_cols = list(users_data.select_dtypes(['object']).columns)\n",
    "categorical_cols"
   ]
  },
  {
   "cell_type": "code",
   "execution_count": 17,
   "id": "de8b2eb0",
   "metadata": {},
   "outputs": [],
   "source": [
    "# drop categorical functions\n",
    "\n",
    "users_data.drop(categorical_cols, axis = 1, inplace = True)"
   ]
  },
  {
   "cell_type": "code",
   "execution_count": 18,
   "id": "13e45fc5",
   "metadata": {},
   "outputs": [
    {
     "data": {
      "text/plain": [
       "['number_transactions',\n",
       " 'total_amount_usd',\n",
       " 'age',\n",
       " 'default',\n",
       " 'housing',\n",
       " 'loan',\n",
       " 'duration',\n",
       " 'campaign',\n",
       " 'pdays',\n",
       " 'previous',\n",
       " 'term_deposit']"
      ]
     },
     "execution_count": 18,
     "metadata": {},
     "output_type": "execute_result"
    }
   ],
   "source": [
    "# check if dropped\n",
    "\n",
    "list(users_data)"
   ]
  },
  {
   "cell_type": "markdown",
   "id": "512698f5",
   "metadata": {},
   "source": [
    "### Handling missing data"
   ]
  },
  {
   "cell_type": "code",
   "execution_count": 19,
   "id": "2e58fe4a",
   "metadata": {},
   "outputs": [
    {
     "data": {
      "text/plain": [
       "number_transactions    9999\n",
       "total_amount_usd       9999\n",
       "age                       0\n",
       "default                   0\n",
       "housing                   0\n",
       "loan                      0\n",
       "duration                  0\n",
       "campaign                  0\n",
       "pdays                     0\n",
       "previous                  0\n",
       "term_deposit              0\n",
       "dtype: int64"
      ]
     },
     "execution_count": 19,
     "metadata": {},
     "output_type": "execute_result"
    }
   ],
   "source": [
    "# identify missing values\n",
    "\n",
    "users_data.isnull().sum()"
   ]
  },
  {
   "cell_type": "code",
   "execution_count": 20,
   "id": "4bc654f1",
   "metadata": {},
   "outputs": [],
   "source": [
    "# fill na with 0\n",
    "\n",
    "users_data.number_transactions.fillna(0, inplace = True)\n",
    "users_data.total_amount_usd.fillna(0, inplace = True)\n"
   ]
  },
  {
   "cell_type": "code",
   "execution_count": 21,
   "id": "b0bf8ae5",
   "metadata": {},
   "outputs": [
    {
     "data": {
      "text/plain": [
       "number_transactions    0\n",
       "total_amount_usd       0\n",
       "age                    0\n",
       "default                0\n",
       "housing                0\n",
       "loan                   0\n",
       "duration               0\n",
       "campaign               0\n",
       "pdays                  0\n",
       "previous               0\n",
       "term_deposit           0\n",
       "dtype: int64"
      ]
     },
     "execution_count": 21,
     "metadata": {},
     "output_type": "execute_result"
    }
   ],
   "source": [
    "# check if any missing values exist\n",
    "\n",
    "users_data.isnull().sum()"
   ]
  },
  {
   "cell_type": "markdown",
   "id": "59648c11",
   "metadata": {},
   "source": [
    "### Prepare data for ML "
   ]
  },
  {
   "cell_type": "code",
   "execution_count": 22,
   "id": "01507c00",
   "metadata": {},
   "outputs": [
    {
     "name": "stdout",
     "output_type": "stream",
     "text": [
      "<class 'pandas.core.frame.DataFrame'>\n",
      "Int64Index: 45209 entries, 0 to 45215\n",
      "Data columns (total 11 columns):\n",
      " #   Column               Non-Null Count  Dtype  \n",
      "---  ------               --------------  -----  \n",
      " 0   number_transactions  45209 non-null  float64\n",
      " 1   total_amount_usd     45209 non-null  float64\n",
      " 2   age                  45209 non-null  int64  \n",
      " 3   default              45209 non-null  bool   \n",
      " 4   housing              45209 non-null  bool   \n",
      " 5   loan                 45209 non-null  bool   \n",
      " 6   duration             45209 non-null  int64  \n",
      " 7   campaign             45209 non-null  int64  \n",
      " 8   pdays                45209 non-null  int64  \n",
      " 9   previous             45209 non-null  int64  \n",
      " 10  term_deposit         45209 non-null  bool   \n",
      "dtypes: bool(4), float64(2), int64(5)\n",
      "memory usage: 2.9 MB\n"
     ]
    }
   ],
   "source": [
    "# check to see if any categorical or date time data exists\n",
    "\n",
    "users_data.info()"
   ]
  },
  {
   "cell_type": "code",
   "execution_count": 23,
   "id": "41234f33",
   "metadata": {},
   "outputs": [],
   "source": [
    "# step 1. define our X and y\n",
    "\n",
    "target = users_data.total_amount_usd\n",
    "features = users_data.drop(['total_amount_usd'], axis = 1)"
   ]
  },
  {
   "cell_type": "code",
   "execution_count": 24,
   "id": "54029982",
   "metadata": {},
   "outputs": [
    {
     "data": {
      "image/png": "[encoded data removed]",
      "text/plain": [
       "<Figure size 432x288 with 1 Axes>"
      ]
     },
     "metadata": {
      "needs_background": "light"
     },
     "output_type": "display_data"
    }
   ],
   "source": [
    "target.hist()\n",
    "plt.title(\"Distribution of Target\");"
   ]
  },
  {
   "cell_type": "code",
   "execution_count": 25,
   "id": "4025f38f",
   "metadata": {},
   "outputs": [],
   "source": [
    "# split into test and training data\n",
    "# we will pick this up next week...\n",
    "\n",
    "from sklearn.model_selection import train_test_split\n",
    "\n",
    "X_train, X_test, y_train, y_test = train_test_split(\n",
    "                                                features, \n",
    "                                                target,\n",
    "                                                test_size = 0.3, \n",
    "                                                random_state = 0)"
   ]
  }
 ],
 "metadata": {
  "kernelspec": {
   "display_name": "Python 3",
   "language": "python",
   "name": "python3"
  },
  "language_info": {
   "codemirror_mode": {
    "name": "ipython",
    "version": 3
   },
   "file_extension": ".py",
   "mimetype": "text/x-python",
   "name": "python",
   "nbconvert_exporter": "python",
   "pygments_lexer": "ipython3",
   "version": "3.8.10"
  }
 },
 "nbformat": 4,
 "nbformat_minor": 5
}
